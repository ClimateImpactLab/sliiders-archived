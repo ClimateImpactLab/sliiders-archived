{
 "cells": [
  {
   "cell_type": "markdown",
   "metadata": {},
   "source": [
    "# Prepare LocalizeSL corefiles for Octave processing"
   ]
  },
  {
   "cell_type": "markdown",
   "metadata": {},
   "source": [
    "Choose corefiles from LocalizeSL/IFILES to use (see readme immediately in that directory for more details on the different corefiles)"
   ]
  },
  {
   "cell_type": "code",
   "execution_count": 1,
   "metadata": {},
   "outputs": [],
   "source": [
    "from pathlib import Path\n",
    "\n",
    "import requests\n",
    "\n",
    "from sliiders.settings import DIR_IFILES_RAW, LOCALIZESL_COREFILES, LOCALIZESL_REV\n",
    "\n",
    "DIR_IFILES_RAW.mkdir(parents=True, exist_ok=True)"
   ]
  },
  {
   "cell_type": "code",
   "execution_count": 3,
   "metadata": {},
   "outputs": [],
   "source": [
    "for corefile_name in LOCALIZESL_COREFILES:\n",
    "    url = (\n",
    "        f\"https://github.com/bobkopp/LocalizeSL/raw/{LOCALIZESL_REV}/IFILES/\"\n",
    "        f\"{corefile_name}.mat\"\n",
    "    )\n",
    "\n",
    "    filename = Path(url).name\n",
    "    path_out = DIR_IFILES_RAW / filename\n",
    "\n",
    "    pathstr = str(path_out)\n",
    "\n",
    "    r = requests.get(url)\n",
    "    path_out.write_bytes(r.content)"
   ]
  }
 ],
 "metadata": {
  "kernelspec": {
   "display_name": "Python 3 (ipykernel)",
   "language": "python",
   "name": "python3"
  },
  "language_info": {
   "codemirror_mode": {
    "name": "ipython",
    "version": 3
   },
   "file_extension": ".py",
   "mimetype": "text/x-python",
   "name": "python",
   "nbconvert_exporter": "python",
   "pygments_lexer": "ipython3",
   "version": "3.8.12"
  },
  "widgets": {
   "application/vnd.jupyter.widget-state+json": {
    "state": {},
    "version_major": 2,
    "version_minor": 0
   }
  }
 },
 "nbformat": 4,
 "nbformat_minor": 4
}
