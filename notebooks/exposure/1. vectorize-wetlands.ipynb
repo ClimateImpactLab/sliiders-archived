{
 "cells": [
  {
   "cell_type": "markdown",
   "id": "a5a2b329-7283-4e28-bafb-c60698866336",
   "metadata": {},
   "source": [
    "# Combine wetlands from wetlands and mangroves datasets into single shapefile"
   ]
  },
  {
   "cell_type": "code",
   "execution_count": null,
   "id": "0f7fe3a3-32d9-4d8b-bef8-dd6a3d863622",
   "metadata": {},
   "outputs": [],
   "source": [
    "import subprocess\n",
    "import warnings\n",
    "\n",
    "import geopandas as gpd\n",
    "import numpy as np\n",
    "import pandas as pd\n",
    "import pygeos\n",
    "import xarray as xr\n",
    "from rhg_compute_tools import kubernetes as rhgk\n",
    "\n",
    "from sliiders import settings as sset\n",
    "\n",
    "warnings.filterwarnings(\"ignore\", message=\".*initial implementation of Parquet.*\")\n",
    "\n",
    "\n",
    "PATH_GLOBCOVER_NC = sset.PATH_GLOBCOVER_2009.parent / (\n",
    "    sset.PATH_GLOBCOVER_2009.stem + \".nc\"\n",
    ")\n",
    "PATH_GLOBCOVER_SHP = sset.PATH_GLOBCOVER_2009.parent / (\n",
    "    sset.PATH_GLOBCOVER_2009.stem + \".shp\"\n",
    ")"
   ]
  },
  {
   "cell_type": "markdown",
   "id": "0c5f49ce-57b8-4023-9654-553d34a3efde",
   "metadata": {},
   "source": [
    "## 1. Get wetland cover from `GLOBCOVER` as `.nc`"
   ]
  },
  {
   "cell_type": "code",
   "execution_count": null,
   "id": "1c96a5fa-05a1-4fc2-998f-2b3ee3b4133d",
   "metadata": {},
   "outputs": [],
   "source": [
    "client, cluster = rhgk.get_micro_cluster()\n",
    "\n",
    "cluster.scale(8)\n",
    "cluster"
   ]
  },
  {
   "cell_type": "code",
   "execution_count": null,
   "id": "2375d146-3eda-4ffb-86a0-a5f2dad7638f",
   "metadata": {},
   "outputs": [],
   "source": [
    "da = xr.open_rasterio(sset.PATH_GLOBCOVER_2009, chunks={\"x\": 32400, \"y\": 27900})"
   ]
  },
  {
   "cell_type": "code",
   "execution_count": null,
   "id": "7b86684e-1b9f-4c95-92c7-73c97e31deb0",
   "metadata": {},
   "outputs": [],
   "source": [
    "da = da.persist()"
   ]
  },
  {
   "cell_type": "code",
   "execution_count": null,
   "id": "59e98b1b-aa41-4cce-9848-a16fc5a86540",
   "metadata": {},
   "outputs": [],
   "source": [
    "da = da.squeeze(\"band\").drop(\"band\")"
   ]
  },
  {
   "cell_type": "code",
   "execution_count": null,
   "id": "627b033f-6152-4c81-902b-1d6f6837689c",
   "metadata": {},
   "outputs": [],
   "source": [
    "da = da.isin([160, 170, 180]).persist()"
   ]
  },
  {
   "cell_type": "code",
   "execution_count": null,
   "id": "be81f6f8-6f32-4130-a7ba-a639dac9e8cc",
   "metadata": {},
   "outputs": [],
   "source": [
    "da = da.to_dataset(name=\"wetlands\")"
   ]
  },
  {
   "cell_type": "code",
   "execution_count": null,
   "id": "ea6a0f3f-32ad-4312-8344-9f8cb72d8800",
   "metadata": {},
   "outputs": [],
   "source": [
    "da = da.compute()"
   ]
  },
  {
   "cell_type": "code",
   "execution_count": null,
   "id": "d95a75ac-2ac1-424d-b3c0-96e655d10d73",
   "metadata": {},
   "outputs": [],
   "source": [
    "da.to_netcdf(PATH_GLOBCOVER_NC)"
   ]
  },
  {
   "cell_type": "code",
   "execution_count": null,
   "id": "483792a6-1025-4027-98f5-0bf2ae9dfc6a",
   "metadata": {},
   "outputs": [],
   "source": [
    "client.close()\n",
    "cluster.close()"
   ]
  },
  {
   "cell_type": "markdown",
   "id": "72278bb5-64ec-4db8-aea3-66a642c1e77a",
   "metadata": {},
   "source": [
    "## 2. Vectorize\n",
    "### Run `gdal_polygonize.py` in shell"
   ]
  },
  {
   "cell_type": "code",
   "execution_count": null,
   "id": "1e3396e0-2046-464a-af5a-7b352b36e539",
   "metadata": {},
   "outputs": [],
   "source": [
    "cmd = f\"gdal_polygonize.py {str(PATH_GLOBCOVER_NC)} {str(PATH_GLOBCOVER_SHP)}\"\n",
    "\n",
    "sp = subprocess.Popen(cmd, shell=True)\n",
    "rc = sp.wait()\n",
    "\n",
    "print(sp)"
   ]
  },
  {
   "cell_type": "markdown",
   "id": "0cb8dc3b-542b-4625-bdf7-d36b6cc03e6e",
   "metadata": {},
   "source": [
    "## 3. Clean up shapefile"
   ]
  },
  {
   "cell_type": "code",
   "execution_count": null,
   "id": "df08716c-21ad-4753-8ba9-7a2852b1009e",
   "metadata": {},
   "outputs": [],
   "source": [
    "gdf = gpd.read_file(PATH_GLOBCOVER_SHP)"
   ]
  },
  {
   "cell_type": "code",
   "execution_count": null,
   "id": "e398a721-99c6-43a5-960c-21ee3465dc1b",
   "metadata": {},
   "outputs": [],
   "source": [
    "gdf = gdf[gdf[\"DN\"] == 1].drop(columns=[\"DN\"])\n",
    "gdf = gdf.explode().reset_index(drop=True)"
   ]
  },
  {
   "cell_type": "code",
   "execution_count": null,
   "id": "c287dc36-b34d-488c-a54c-72fc447fd3c3",
   "metadata": {},
   "outputs": [],
   "source": [
    "gdf.to_file(PATH_GLOBCOVER_SHP)"
   ]
  },
  {
   "cell_type": "markdown",
   "id": "27ffb99e-5f35-4cc3-884b-41bee68b5ac7",
   "metadata": {},
   "source": [
    "## 4. Combine with mangroves"
   ]
  },
  {
   "cell_type": "code",
   "execution_count": null,
   "id": "328f8af0-f3e7-4030-80b1-a905544fb7ec",
   "metadata": {},
   "outputs": [],
   "source": [
    "globcover_mask = gpd.read_file(PATH_GLOBCOVER_SHP)"
   ]
  },
  {
   "cell_type": "code",
   "execution_count": null,
   "id": "29339179-1b73-41ec-ac91-2c7bc0162d58",
   "metadata": {},
   "outputs": [],
   "source": [
    "mangroves = gpd.read_file(sset.PATH_GLOBAL_MANGROVES)"
   ]
  },
  {
   "cell_type": "code",
   "execution_count": null,
   "id": "778e9038-725b-4a10-8612-eca89f4c7a09",
   "metadata": {},
   "outputs": [],
   "source": [
    "globcover_mask[\"geometry\"] = pygeos.to_shapely(\n",
    "    pygeos.make_valid(pygeos.from_shapely(globcover_mask[\"geometry\"]))\n",
    ")"
   ]
  },
  {
   "cell_type": "code",
   "execution_count": null,
   "id": "eb1862d9-55c8-4d54-a3d9-2920856698ea",
   "metadata": {},
   "outputs": [],
   "source": [
    "combined = gpd.sjoin(globcover_mask, mangroves, how=\"left\")"
   ]
  },
  {
   "cell_type": "code",
   "execution_count": null,
   "id": "97d71975-6308-4c10-883c-a4df8128a2e8",
   "metadata": {},
   "outputs": [],
   "source": [
    "mangroves = mangroves.reset_index(drop=False)"
   ]
  },
  {
   "cell_type": "code",
   "execution_count": null,
   "id": "ad696a47-aa48-4057-ab74-4375f6753438",
   "metadata": {},
   "outputs": [],
   "source": [
    "mangroves[\"in_combined\"] = mangroves[\"index\"].isin(combined[\"index_right\"].unique())"
   ]
  },
  {
   "cell_type": "code",
   "execution_count": null,
   "id": "c8a8e7d5-e4a9-48fe-a60a-f2953f336d28",
   "metadata": {},
   "outputs": [],
   "source": [
    "globcover_only = combined[combined[\"index_right\"].isnull()].copy()\n",
    "combined = combined[combined[\"index_right\"].notnull()].copy()\n",
    "\n",
    "combined = combined.reset_index(drop=True)"
   ]
  },
  {
   "cell_type": "code",
   "execution_count": null,
   "id": "bf8e39a3-2ea5-4c43-85db-89dcd0429a65",
   "metadata": {},
   "outputs": [],
   "source": [
    "combined[\"index_right\"] = combined[\"index_right\"].astype(int)"
   ]
  },
  {
   "cell_type": "code",
   "execution_count": null,
   "id": "de6cad78-4671-4ecd-a9e8-a631d04c5ae8",
   "metadata": {},
   "outputs": [],
   "source": [
    "combined[\"geometry_right\"] = gpd.GeoSeries(\n",
    "    np.take(mangroves[\"geometry\"].to_numpy(), combined[\"index_right\"].to_numpy())\n",
    ")"
   ]
  },
  {
   "cell_type": "code",
   "execution_count": null,
   "id": "19010a01-c54d-42bc-8410-2e8d1202a682",
   "metadata": {},
   "outputs": [],
   "source": [
    "combined = combined.set_geometry(\"geometry_right\")"
   ]
  },
  {
   "cell_type": "code",
   "execution_count": null,
   "id": "d6640f34-4beb-49e9-b5e0-3b25651ddf6a",
   "metadata": {},
   "outputs": [],
   "source": [
    "combined = combined.dissolve(\"FID\").reset_index(drop=False)"
   ]
  },
  {
   "cell_type": "code",
   "execution_count": null,
   "id": "8f37b290-5556-4e19-928c-2093ffd5e0fd",
   "metadata": {},
   "outputs": [],
   "source": [
    "combined[\"geometry\"] = combined[\"geometry\"].difference(combined[\"geometry_right\"])"
   ]
  },
  {
   "cell_type": "code",
   "execution_count": null,
   "id": "3eb10b51-e7a0-4bb2-9e1a-ee242ed4d1a4",
   "metadata": {},
   "outputs": [],
   "source": [
    "combined = combined.set_geometry(\"geometry\")"
   ]
  },
  {
   "cell_type": "code",
   "execution_count": null,
   "id": "6ea52f0d-8d05-4733-aff6-a6df428e3a92",
   "metadata": {},
   "outputs": [],
   "source": [
    "combined = pd.concat([combined, mangroves, globcover_only], ignore_index=True)"
   ]
  },
  {
   "cell_type": "code",
   "execution_count": null,
   "id": "61e24048-b516-4721-b04a-e07737e6c8bc",
   "metadata": {},
   "outputs": [],
   "source": [
    "combined = combined[[\"geometry\"]].copy()"
   ]
  },
  {
   "cell_type": "code",
   "execution_count": null,
   "id": "24f52be2-46d1-4850-b666-a0e14f2e76c8",
   "metadata": {},
   "outputs": [],
   "source": [
    "combined.iloc[:20].plot()"
   ]
  },
  {
   "cell_type": "code",
   "execution_count": null,
   "id": "0520bb8b-c229-46ce-abe2-30f5920656ec",
   "metadata": {},
   "outputs": [],
   "source": [
    "combined = combined.explode().reset_index(drop=True)"
   ]
  },
  {
   "cell_type": "code",
   "execution_count": null,
   "id": "6f949b9e-a537-4126-b740-ebcc0213ca37",
   "metadata": {},
   "outputs": [],
   "source": [
    "combined = combined[combined.geometry.area > 0].copy()"
   ]
  },
  {
   "cell_type": "code",
   "execution_count": null,
   "id": "66bc8acb-32e5-4624-a053-95243a33680d",
   "metadata": {},
   "outputs": [],
   "source": [
    "combined.to_file(sset.PATH_WETLANDS_INT)"
   ]
  }
 ],
 "metadata": {
  "kernelspec": {
   "display_name": "Python 3 (ipykernel)",
   "language": "python",
   "name": "python3"
  },
  "language_info": {
   "codemirror_mode": {
    "name": "ipython",
    "version": 3
   },
   "file_extension": ".py",
   "mimetype": "text/x-python",
   "name": "python",
   "nbconvert_exporter": "python",
   "pygments_lexer": "ipython3",
   "version": "3.8.12"
  },
  "widgets": {
   "application/vnd.jupyter.widget-state+json": {
    "state": {},
    "version_major": 2,
    "version_minor": 0
   }
  }
 },
 "nbformat": 4,
 "nbformat_minor": 5
}
