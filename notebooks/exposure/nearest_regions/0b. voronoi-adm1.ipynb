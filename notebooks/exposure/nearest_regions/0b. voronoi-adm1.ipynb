{
 "cells": [
  {
   "cell_type": "markdown",
   "id": "9abd5ec4-84a6-4d45-bd73-538a5668fb51",
   "metadata": {},
   "source": [
    "# Generate global Voronoi shapes for `adm1` regions\n",
    "- Here, `adm1` includes `adm0` for which there are no `adm1` regions"
   ]
  },
  {
   "cell_type": "markdown",
   "id": "62a828c1-173e-403a-8747-73299a67397f",
   "metadata": {},
   "source": [
    "### Todo:\n",
    "- comment heavily on Voronoi-original-shape logic"
   ]
  },
  {
   "cell_type": "markdown",
   "id": "b95eefde-d1c7-4f03-bf4c-d37ab58c6343",
   "metadata": {},
   "source": [
    "INPUTS\n",
    "- `sset.PATH_GADM_ADM1`\n",
    "\n",
    "OUTPUTS\n",
    "- `sset.PATH_GADM_ADM0_VORONOI`\n",
    "- `sset.PATH_GADM_ADM1_VORONOI`"
   ]
  },
  {
   "cell_type": "code",
   "execution_count": null,
   "id": "464d4cf2-ccfe-422c-8464-71ce85700645",
   "metadata": {},
   "outputs": [],
   "source": [
    "import geopandas as gpd\n",
    "\n",
    "from sliiders import settings as sset\n",
    "from sliiders import spatial\n",
    "\n",
    "spatial.filter_spatial_warnings()"
   ]
  },
  {
   "cell_type": "code",
   "execution_count": null,
   "id": "b092cbfd-ed45-46ac-8163-0d148094ac43",
   "metadata": {},
   "outputs": [],
   "source": [
    "full_regions = gpd.read_parquet(sset.PATH_GADM_ADM1)"
   ]
  },
  {
   "cell_type": "code",
   "execution_count": null,
   "id": "d635c883-1a52-4a7a-899a-f4eb013ecb80",
   "metadata": {},
   "outputs": [],
   "source": [
    "out = spatial.get_voronoi_regions(full_regions)"
   ]
  },
  {
   "cell_type": "markdown",
   "id": "1685bcf3-fc13-4960-bb50-a2c991f6222d",
   "metadata": {},
   "source": [
    "### Save `adm1` and `adm0` files"
   ]
  },
  {
   "cell_type": "code",
   "execution_count": null,
   "id": "12cca794-11e7-484c-b8b7-b8d4cdfa758d",
   "metadata": {},
   "outputs": [],
   "source": [
    "out[\"ISO\"] = out[\"UID\"].str.split(\".\").str[0]\n",
    "out.to_parquet(sset.PATH_GADM_ADM1_VORONOI, index=False)"
   ]
  },
  {
   "cell_type": "code",
   "execution_count": null,
   "id": "644fc1e2-c9ce-4245-a637-ce734079e2cc",
   "metadata": {},
   "outputs": [],
   "source": [
    "adm0 = out.dissolve(\"ISO\", as_index=False).drop(columns=[\"UID\"])\n",
    "adm0.to_parquet(sset.PATH_GADM_ADM0_VORONOI, index=False)"
   ]
  }
 ],
 "metadata": {
  "kernelspec": {
   "display_name": "Python 3 (ipykernel)",
   "language": "python",
   "name": "python3"
  },
  "language_info": {
   "codemirror_mode": {
    "name": "ipython",
    "version": 3
   },
   "file_extension": ".py",
   "mimetype": "text/x-python",
   "name": "python",
   "nbconvert_exporter": "python",
   "pygments_lexer": "ipython3",
   "version": "3.9.10"
  },
  "widgets": {
   "application/vnd.jupyter.widget-state+json": {
    "state": {},
    "version_major": 2,
    "version_minor": 0
   }
  }
 },
 "nbformat": 4,
 "nbformat_minor": 5
}
