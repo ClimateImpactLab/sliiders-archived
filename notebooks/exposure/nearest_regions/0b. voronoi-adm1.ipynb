{
 "cells": [
  {
   "cell_type": "markdown",
   "id": "9abd5ec4-84a6-4d45-bd73-538a5668fb51",
   "metadata": {},
   "source": [
    "# Generate global Voronoi shapes for `adm1` regions\n",
    "- Here, `adm1` includes `adm0` for which there are no `adm1` regions"
   ]
  },
  {
   "cell_type": "markdown",
   "id": "62a828c1-173e-403a-8747-73299a67397f",
   "metadata": {},
   "source": [
    "### Todo:\n",
    "- comment heavily on Voronoi-original-shape logic"
   ]
  },
  {
   "cell_type": "markdown",
   "id": "b95eefde-d1c7-4f03-bf4c-d37ab58c6343",
   "metadata": {},
   "source": [
    "INPUTS\n",
    "- `sset.PATH_GADM_ADM1`\n",
    "\n",
    "OUTPUTS\n",
    "- `sset.PATH_GADM_ADM0_VORONOI`\n",
    "- `sset.PATH_GADM_ADM1_VORONOI`"
   ]
  },
  {
   "cell_type": "code",
   "execution_count": 1,
   "id": "464d4cf2-ccfe-422c-8464-71ce85700645",
   "metadata": {},
   "outputs": [],
   "source": [
    "import geopandas as gpd\n",
    "import numpy as np\n",
    "import pandas as pd\n",
    "import pygeos\n",
    "from shapely.geometry import Polygon\n",
    "\n",
    "from sliiders import spatial as pv\n",
    "from sliiders import settings as sset\n",
    "\n",
    "pv.filter_spatial_warnings()"
   ]
  },
  {
   "cell_type": "code",
   "execution_count": null,
   "id": "961ddbc4-8561-4b5c-8e1c-6c9a95b0f337",
   "metadata": {},
   "outputs": [],
   "source": [
    "full_regions = gpd.read_parquet(sset.PATH_GADM_ADM1)\n",
    "\n",
    "region_polys = full_regions.explode(index_parts=False)"
   ]
  },
  {
   "cell_type": "code",
   "execution_count": null,
   "id": "d5e12b2a-a3ab-4787-aaf0-2a7526b601f1",
   "metadata": {},
   "outputs": [],
   "source": [
    "# This has been tested with XYZ coordinates so cannot guarantee performance on more complex shapefiles\n",
    "assert (\n",
    "    pygeos.count_coordinates(pygeos.from_shapely(region_polys[\"geometry\"]))\n",
    "    < sset.MAX_VORONOI_COMPLEXITY\n",
    ")"
   ]
  },
  {
   "cell_type": "code",
   "execution_count": null,
   "id": "cd44fda3-7403-4884-a059-a96fa8a98991",
   "metadata": {},
   "outputs": [],
   "source": [
    "gridded_gdf, all_oc = pv.grid_gdf(region_polys)\n",
    "\n",
    "pts_df = pv.polys_to_vor_pts(region_polys, all_oc)"
   ]
  },
  {
   "cell_type": "code",
   "execution_count": null,
   "id": "76303042-7f96-4ab3-ad2d-48d637b0df21",
   "metadata": {},
   "outputs": [],
   "source": [
    "vor_gdf = pv.get_spherical_voronoi_gdf(pts_df)\n",
    "\n",
    "vor_gdf.plot()"
   ]
  },
  {
   "cell_type": "code",
   "execution_count": null,
   "id": "798d836f-a16d-4b74-967f-d0e7b050ac07",
   "metadata": {},
   "outputs": [],
   "source": [
    "vor_shapes = pygeos.from_shapely(vor_gdf[\"geometry\"])\n",
    "all_gridded = pygeos.from_shapely(gridded_gdf[\"geometry\"])\n",
    "\n",
    "tree = pygeos.STRtree(all_gridded)\n",
    "\n",
    "vor_ix, existing = tree.query_bulk(vor_shapes, \"intersects\")\n",
    "\n",
    "gridded_uid = np.take(gridded_gdf[\"UID\"].to_numpy(), existing)\n",
    "vor_uid = np.take(vor_gdf[\"UID\"].to_numpy(), vor_ix)"
   ]
  },
  {
   "cell_type": "code",
   "execution_count": null,
   "id": "5a40874f-1083-4479-89e7-959f09e17ffa",
   "metadata": {},
   "outputs": [],
   "source": [
    "vor_gdf[\"calculated\"] = pv.remove_already_attributed_land_from_vor(\n",
    "    existing, vor_shapes, vor_ix, gridded_uid, vor_uid, all_gridded\n",
    ")\n",
    "\n",
    "vor_gdf[\"calculated\"].plot()"
   ]
  },
  {
   "cell_type": "code",
   "execution_count": null,
   "id": "22bc6f22-9fce-4891-bc9f-3ab15f6040f5",
   "metadata": {},
   "outputs": [],
   "source": [
    "vor_gdf = vor_gdf.drop(columns=[\"geometry\"]).rename(columns={\"calculated\": \"geometry\"})\n",
    "\n",
    "full_regions = pd.merge(\n",
    "    full_regions,\n",
    "    vor_gdf.rename(columns={\"geometry\": \"calculated\"}),\n",
    "    left_on=\"UID\",\n",
    "    right_on=\"UID\",\n",
    "    how=\"left\",\n",
    ")\n",
    "\n",
    "full_regions[\"calculated\"] = full_regions[\"calculated\"].fillna(Polygon())\n",
    "\n",
    "full_regions.head()"
   ]
  },
  {
   "cell_type": "code",
   "execution_count": null,
   "id": "f5bf9866-c888-426d-bf71-0c1f9ceca770",
   "metadata": {},
   "outputs": [],
   "source": [
    "full_regions[\"combined\"] = full_regions[\"geometry\"].union(full_regions[\"calculated\"])\n",
    "\n",
    "full_regions[\"combined\"].plot(figsize=(20, 20))"
   ]
  },
  {
   "cell_type": "code",
   "execution_count": null,
   "id": "ad310bac-1f3d-4285-a152-792589084027",
   "metadata": {},
   "outputs": [],
   "source": [
    "out = full_regions[full_regions[\"UID\"].notnull()][[\"UID\", \"combined\"]].rename(\n",
    "    columns={\"combined\": \"geometry\"}\n",
    ")\n",
    "out = gpd.GeoDataFrame(out)\n",
    "\n",
    "out[\"geometry\"] = out[\"geometry\"].apply(pv.grab_polygons)\n",
    "out[\"geometry\"] = out[\"geometry\"].apply(pv.strip_line_interiors)\n",
    "\n",
    "out.plot()"
   ]
  },
  {
   "cell_type": "code",
   "execution_count": null,
   "id": "17fe9957-f697-4f86-955f-74d93d5eef47",
   "metadata": {},
   "outputs": [],
   "source": [
    "out = pv.fill_in_gaps(out)"
   ]
  },
  {
   "cell_type": "markdown",
   "id": "1685bcf3-fc13-4960-bb50-a2c991f6222d",
   "metadata": {},
   "source": [
    "### Save `adm1` and `adm0` files"
   ]
  },
  {
   "cell_type": "code",
   "execution_count": 2,
   "id": "64a36b8d-c84f-4a86-855e-c56f98c2b99b",
   "metadata": {},
   "outputs": [],
   "source": [
    "out = gpd.read_parquet(sset.PATH_GADM_ADM1_VORONOI)"
   ]
  },
  {
   "cell_type": "code",
   "execution_count": 4,
   "id": "12cca794-11e7-484c-b8b7-b8d4cdfa758d",
   "metadata": {},
   "outputs": [],
   "source": [
    "out[\"ISO\"] = out[\"UID\"].str.split(\".\").str[0]\n",
    "out.to_parquet(sset.PATH_GADM_ADM1_VORONOI, index=False)"
   ]
  },
  {
   "cell_type": "code",
   "execution_count": null,
   "id": "644fc1e2-c9ce-4245-a637-ce734079e2cc",
   "metadata": {},
   "outputs": [],
   "source": [
    "adm0 = out.dissolve(\"ISO\", as_index=False).drop(columns=[\"UID\"])\n",
    "adm0.to_parquet(sset.PATH_GADM_ADM0_VORONOI, index=False)"
   ]
  }
 ],
 "metadata": {
  "kernelspec": {
   "display_name": "Python 3 (ipykernel)",
   "language": "python",
   "name": "python3"
  },
  "language_info": {
   "codemirror_mode": {
    "name": "ipython",
    "version": 3
   },
   "file_extension": ".py",
   "mimetype": "text/x-python",
   "name": "python",
   "nbconvert_exporter": "python",
   "pygments_lexer": "ipython3",
   "version": "3.8.12"
  },
  "widgets": {
   "application/vnd.jupyter.widget-state+json": {
    "state": {},
    "version_major": 2,
    "version_minor": 0
   }
  }
 },
 "nbformat": 4,
 "nbformat_minor": 5
}
