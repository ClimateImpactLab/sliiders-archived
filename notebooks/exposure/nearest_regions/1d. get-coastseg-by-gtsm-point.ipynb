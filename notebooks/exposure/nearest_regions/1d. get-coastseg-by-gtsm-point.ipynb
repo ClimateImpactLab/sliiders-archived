{
 "cells": [
  {
   "cell_type": "markdown",
   "id": "ffd9c8b7-5ee9-4e5e-a108-e73d863bd953",
   "metadata": {},
   "source": [
    "INPUTS\n",
    "- `sset.PATH_CIAM_COASTLINES_BY_ISO`\n",
    "- `sset.PATH_CIAM_SITES_VORONOI_BY_ISO`\n",
    "\n",
    "OUTPUTS\n",
    "- `sset.PATH_CIAM_COASTLINES_BY_CIAM_SITE`"
   ]
  },
  {
   "cell_type": "code",
   "execution_count": null,
   "id": "5b1f1ba8-f328-45b9-bb21-22f9f761580d",
   "metadata": {
    "tags": []
   },
   "outputs": [],
   "source": [
    "from sliiders import settings as sset\n",
    "from sliiders import spatial\n",
    "\n",
    "spatial.filter_spatial_warnings()"
   ]
  },
  {
   "cell_type": "code",
   "execution_count": null,
   "id": "e37848e1-ab83-41c8-b36f-6e67960ee9d5",
   "metadata": {},
   "outputs": [],
   "source": [
    "coastal_segs = spatial.get_coastal_segments_by_ciam_site(\n",
    "    sset.PATH_CIAM_SITES_VORONOI_BY_ISO,\n",
    "    sset.PATH_CIAM_COASTLINES_BY_ISO\n",
    ")"
   ]
  },
  {
   "cell_type": "markdown",
   "id": "63b16659-5900-47a3-9f4f-566e90c2b5db",
   "metadata": {},
   "source": [
    "### Save"
   ]
  },
  {
   "cell_type": "code",
   "execution_count": null,
   "id": "0c227f88-4241-4fc4-aad9-23a6c674ebed",
   "metadata": {},
   "outputs": [],
   "source": [
    "coastal_segs.to_parquet(sset.PATH_CIAM_COASTLINES_BY_CIAM_SITE, index=False)"
   ]
  }
 ],
 "metadata": {
  "kernelspec": {
   "display_name": "Python 3 (ipykernel)",
   "language": "python",
   "name": "python3"
  },
  "language_info": {
   "codemirror_mode": {
    "name": "ipython",
    "version": 3
   },
   "file_extension": ".py",
   "mimetype": "text/x-python",
   "name": "python",
   "nbconvert_exporter": "python",
   "pygments_lexer": "ipython3",
   "version": "3.9.10"
  },
  "widgets": {
   "application/vnd.jupyter.widget-state+json": {
    "state": {},
    "version_major": 2,
    "version_minor": 0
   }
  }
 },
 "nbformat": 4,
 "nbformat_minor": 5
}
