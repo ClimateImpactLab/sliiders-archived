{
 "cells": [
  {
   "cell_type": "markdown",
   "id": "c5c06289-3320-4c56-b757-ccf4fcd0d9d8",
   "metadata": {},
   "source": [
    "INPUTS\n",
    "- `sset.PATH_CIAM_COASTLINES_BY_CIAM_SITE`\n",
    "- `sset.PATH_GADM_ADM1_VORONOI`\n",
    "\n",
    "OUTPUTS\n",
    "- `sset.PATH_CIAM_POLYS`\n",
    "- `sset.PATH_CIAM_ADM1_VORONOI_INTERSECTIONS`\n",
    "- `sset.PATH_CIAM_ADM1_VORONOI_INTERSECTIONS_SHP`"
   ]
  },
  {
   "cell_type": "code",
   "execution_count": null,
   "id": "045ea9d9-dab6-4d75-b541-e2abad23402a",
   "metadata": {},
   "outputs": [],
   "source": [
    "from sliiders import settings as sset\n",
    "from sliiders import spatial\n",
    "\n",
    "spatial.filter_spatial_warnings()"
   ]
  },
  {
   "cell_type": "code",
   "execution_count": null,
   "id": "5866204b-1983-4424-9aff-f9eb396184b9",
   "metadata": {},
   "outputs": [],
   "source": [
    "all_overlays, ciam_polys = spatial.generate_voronoi_from_segments(\n",
    "    sset.PATH_CIAM_COASTLINES_BY_CIAM_SITE,\n",
    "    sset.PATH_GADM_ADM1_VORONOI,\n",
    "    \"UID\",\n",
    "    \"seg_adm\",\n",
    "    \"adm1\",\n",
    ")"
   ]
  },
  {
   "cell_type": "code",
   "execution_count": null,
   "id": "853cc9a4-4cef-4411-bd37-79fd6e5218ef",
   "metadata": {},
   "outputs": [],
   "source": [
    "all_overlays.plot()"
   ]
  },
  {
   "cell_type": "code",
   "execution_count": null,
   "id": "10e2ac2f-ec6f-470a-a9a5-54c97cff4a07",
   "metadata": {},
   "outputs": [],
   "source": [
    "ciam_polys.plot()"
   ]
  },
  {
   "cell_type": "code",
   "execution_count": null,
   "id": "5e387109-3241-42a3-963f-3a4f676c16c7",
   "metadata": {},
   "outputs": [],
   "source": [
    "sset.PATH_CIAM_ADM1_VORONOI_INTERSECTIONS.parent.mkdir(exist_ok=False)\n",
    "\n",
    "all_overlays.to_parquet(sset.PATH_CIAM_ADM1_VORONOI_INTERSECTIONS, index=False)\n",
    "all_overlays.to_file(sset.PATH_CIAM_ADM1_VORONOI_INTERSECTIONS_SHP)\n",
    "\n",
    "ciam_polys.to_parquet(sset.PATH_CIAM_POLYS, index=False)"
   ]
  }
 ],
 "metadata": {
  "kernelspec": {
   "display_name": "Python 3 (ipykernel)",
   "language": "python",
   "name": "python3"
  },
  "language_info": {
   "codemirror_mode": {
    "name": "ipython",
    "version": 3
   },
   "file_extension": ".py",
   "mimetype": "text/x-python",
   "name": "python",
   "nbconvert_exporter": "python",
   "pygments_lexer": "ipython3",
   "version": "3.9.10"
  },
  "widgets": {
   "application/vnd.jupyter.widget-state+json": {
    "state": {},
    "version_major": 2,
    "version_minor": 0
   }
  }
 },
 "nbformat": 4,
 "nbformat_minor": 5
}
