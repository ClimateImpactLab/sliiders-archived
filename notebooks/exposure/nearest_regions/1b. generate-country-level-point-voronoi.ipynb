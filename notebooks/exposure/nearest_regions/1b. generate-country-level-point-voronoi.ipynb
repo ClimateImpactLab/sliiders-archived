{
 "cells": [
  {
   "cell_type": "markdown",
   "id": "7333e73a-da8f-4001-9115-eaf68a1f6a4a",
   "metadata": {},
   "source": [
    "INPUTS\n",
    "- `sset.PATH_CIAM_SITES_WITHISO`\n",
    "\n",
    "OUTPUTS\n",
    "- `sset.PATH_CIAM_SITES_VORONOI_BY_ISO`"
   ]
  },
  {
   "cell_type": "code",
   "execution_count": 1,
   "id": "1c8d52f2-c198-46e8-b93a-d4ab42348c4b",
   "metadata": {},
   "outputs": [],
   "source": [
    "import geopandas as gpd\n",
    "import numpy as np\n",
    "import pandas as pd\n",
    "from shapely.geometry import box\n",
    "\n",
    "from sliiders import spatial as pv\n",
    "from sliiders import settings as sset\n",
    "\n",
    "pv.filter_spatial_warnings()"
   ]
  },
  {
   "cell_type": "code",
   "execution_count": 2,
   "id": "fc811a29-1638-447e-87d2-175734be5d65",
   "metadata": {},
   "outputs": [],
   "source": [
    "stations = gpd.read_parquet(sset.PATH_CIAM_SITES_WITHISO)\n",
    "\n",
    "# Rename columns for compatibility with Voronoi functions\n",
    "stations = stations.rename(columns={\"lat\": \"y\", \"lon\": \"x\", \"station_id\": \"UID\"})"
   ]
  },
  {
   "cell_type": "markdown",
   "id": "673db3a7-60bf-4a7e-a71e-2507a3b31cc9",
   "metadata": {},
   "source": [
    "Make sure none of the stations with too few points to calculate SphericalVoronoi are anywhere near the poles, so we can introduce the poles as extra points"
   ]
  },
  {
   "cell_type": "code",
   "execution_count": 3,
   "id": "c75b515d-f760-4199-8a09-227f5268258b",
   "metadata": {},
   "outputs": [],
   "source": [
    "iso_count = pd.DataFrame(stations.groupby(\"ISO\")[\"ISO\"].count()).rename(\n",
    "    columns={\"ISO\": \"count\"}\n",
    ")\n",
    "stations = stations.join(iso_count, on=\"ISO\")\n",
    "\n",
    "assert stations[stations[\"count\"] <= 3][\"y\"].max() < 60\n",
    "assert stations[stations[\"count\"] <= 3][\"y\"].min() > -60"
   ]
  },
  {
   "cell_type": "markdown",
   "id": "0cbdec7f-e6ab-4305-b84e-23bac10e9b1d",
   "metadata": {},
   "source": [
    "### Define single-country Voronoi function"
   ]
  },
  {
   "cell_type": "code",
   "execution_count": 4,
   "id": "a9be381a-60df-428e-85aa-38d0ac0c9f1c",
   "metadata": {},
   "outputs": [],
   "source": [
    "def append_extra_pts(sites):\n",
    "    \"\"\"Define three extra points at the pole farthest from any station\"\"\"\n",
    "    ymax = sites[\"y\"].max()\n",
    "    ymin = sites[\"y\"].min()\n",
    "    nsign = -1 if np.abs(ymax) > np.abs(ymin) else 1\n",
    "\n",
    "    extra_pts = pd.DataFrame(\n",
    "        {\n",
    "            \"UID\": [\"placeholder1\", \"placeholder2\", \"placeholder3\"],\n",
    "            \"y\": [90 * nsign, 89 * nsign, 89 * nsign],\n",
    "            \"x\": [0, 0, 180],\n",
    "        }\n",
    "    )\n",
    "\n",
    "    return pd.concat([iso_stations, extra_pts])\n",
    "\n",
    "\n",
    "def get_voronoi_from_sites(sites):\n",
    "    \"\"\"Get the Voronoi diagram corresponding to the stations defined by `iso_stations`\"\"\"\n",
    "    if sites.shape[0] == 1:\n",
    "        vor_gdf = sites[[\"UID\", \"geometry\"]].copy()\n",
    "        vor_gdf[\"geometry\"] = box(-180, -90, 180, 90)\n",
    "    else:\n",
    "        if sites.shape[0] <= 3:\n",
    "            sites = append_extra_pts(sites)\n",
    "        vor_gdf = pv.get_spherical_voronoi_gdf(sites, show_bar=False)\n",
    "\n",
    "    return vor_gdf"
   ]
  },
  {
   "cell_type": "markdown",
   "id": "73de3885-82ec-447b-93a1-b9ecffcad5d6",
   "metadata": {},
   "source": [
    "### Iterate through each country, add each Voronoi gdf to `vors`"
   ]
  },
  {
   "cell_type": "code",
   "execution_count": 5,
   "id": "9e244060-4651-4123-9881-c271a1f9143a",
   "metadata": {},
   "outputs": [
    {
     "name": "stdout",
     "output_type": "stream",
     "text": [
      "ABW AGO AIA ALA ALB ARE ARG ASM ATF ATG AUS BEL BEN BES BGD BGR BHR BHS BIH BLM BLZ BMU BRA BRB BRN BVT CAN CCK CHL CHN CIV CMR COD COG COK COL COM CPV CRI CUB CUW CXR CYM CYP DEU DJI DMA DNK DOM DZA ECU EGY ERI ESH ESP EST FIN FJI FLK FRA FRO FSM GAB GBR GEO GGY GHA GIB GIN GLP GMB GNB GNQ GRC GRD GRL GTM GUF GUM GUY HKG HMD HND HRV HTI IDN IMN IND IOT IRL IRN IRQ ISL ISR ITA JAM JEY JOR JPN KEN KHM KIR KNA KOR KWT LBN LBR LBY LCA LKA LTU LVA MAF MAR MCO MDG MDV MEX MHL MLT MMR MNE MNP MOZ MRT MSR MTQ MUS MYS MYT NAM NCL NFK NGA NIC NIU NLD NOR NRU NZL OMN PAK PAN PCN PER PHL PLW PNG POL PRI PRK PRT PSE PYF QAT REU ROU RUS SAU SDN SEN SGP SGS SHN SJM SLB SLE SLV SOM SPM STP SUR SVN SWE SXM SYC SYR TCA TGO THA TKL TLS TON TTO TUN TUR TUV TWN TZA UKR UMI URY USA VCT VEN VGB VIR VNM VUT WLF WSM XAD XCL XNC XSP YEM ZAF "
     ]
    }
   ],
   "source": [
    "all_isos = stations[\"ISO\"].unique()\n",
    "\n",
    "all_isos.sort()\n",
    "\n",
    "vors = []\n",
    "for iso in all_isos:\n",
    "    print(iso, end=\" \")\n",
    "    iso_stations = stations[stations[\"ISO\"] == iso].copy()\n",
    "    vors.append(get_voronoi_from_sites(iso_stations))"
   ]
  },
  {
   "cell_type": "markdown",
   "id": "66affb85-0a83-45f8-a2ce-1f1f9f5478b2",
   "metadata": {},
   "source": [
    "### Combine all Voronoi diagrams into one GeoDataFrame (results overlap)"
   ]
  },
  {
   "cell_type": "code",
   "execution_count": 6,
   "id": "0301d265-9416-43cc-9e94-4c9a2fcd426f",
   "metadata": {},
   "outputs": [],
   "source": [
    "vor_gdf = pd.concat(vors, ignore_index=True)"
   ]
  },
  {
   "cell_type": "markdown",
   "id": "d0c3fcc9-2daa-4959-b187-4e91dbb7bb0e",
   "metadata": {},
   "source": [
    "#### Retrieve ISO from station ID"
   ]
  },
  {
   "cell_type": "code",
   "execution_count": 7,
   "id": "ba428c48-7679-4068-84b5-58a9e9ce6505",
   "metadata": {},
   "outputs": [],
   "source": [
    "vor_gdf = vor_gdf.join(stations[[\"UID\", \"ISO\"]].set_index(\"UID\"), on=\"UID\")"
   ]
  },
  {
   "cell_type": "code",
   "execution_count": 8,
   "id": "a62999f4-0e4d-428a-bf83-e3e57f3c3625",
   "metadata": {},
   "outputs": [],
   "source": [
    "vor_gdf = vor_gdf.rename(columns={\"UID\": \"station_id\"})"
   ]
  },
  {
   "cell_type": "markdown",
   "id": "812a7a7c-643d-4451-b5aa-982794bac9aa",
   "metadata": {},
   "source": [
    "#### Check that ISOs match"
   ]
  },
  {
   "cell_type": "code",
   "execution_count": 9,
   "id": "91636e5b-fc47-4194-9fce-72ea89684697",
   "metadata": {},
   "outputs": [],
   "source": [
    "assert set(vor_gdf.loc[vor_gdf[\"ISO\"].isnull(), \"station_id\"].unique()) - set(\n",
    "    [\"placeholder1\", \"placeholder2\", \"placeholder3\"]\n",
    ") == set([])"
   ]
  },
  {
   "cell_type": "code",
   "execution_count": 10,
   "id": "553131ee-de9c-43e0-bda0-000bc7e59fb7",
   "metadata": {},
   "outputs": [],
   "source": [
    "vor_gdf = vor_gdf[vor_gdf[\"ISO\"].notnull()].copy()"
   ]
  },
  {
   "cell_type": "code",
   "execution_count": 11,
   "id": "8a853e07-3182-4f46-a20f-3f6c1942a4ce",
   "metadata": {},
   "outputs": [],
   "source": [
    "vor_gdf[\"geometry\"] = vor_gdf[\"geometry\"].apply(pv.grab_polygons)"
   ]
  },
  {
   "cell_type": "code",
   "execution_count": 12,
   "id": "59c37322-77e1-4925-bdef-2e077f65376b",
   "metadata": {},
   "outputs": [],
   "source": [
    "vor_gdf.to_parquet(sset.PATH_CIAM_SITES_VORONOI_BY_ISO, index=False)"
   ]
  }
 ],
 "metadata": {
  "kernelspec": {
   "display_name": "Python 3 (ipykernel)",
   "language": "python",
   "name": "python3"
  },
  "language_info": {
   "codemirror_mode": {
    "name": "ipython",
    "version": 3
   },
   "file_extension": ".py",
   "mimetype": "text/x-python",
   "name": "python",
   "nbconvert_exporter": "python",
   "pygments_lexer": "ipython3",
   "version": "3.8.12"
  },
  "widgets": {
   "application/vnd.jupyter.widget-state+json": {
    "state": {},
    "version_major": 2,
    "version_minor": 0
   }
  }
 },
 "nbformat": 4,
 "nbformat_minor": 5
}
