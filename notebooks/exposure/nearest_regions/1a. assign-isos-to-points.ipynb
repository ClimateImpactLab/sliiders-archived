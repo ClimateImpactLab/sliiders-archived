{
 "cells": [
  {
   "cell_type": "markdown",
   "id": "1d24dbc8-532c-4d6e-b4b9-26da7410a5e1",
   "metadata": {},
   "source": [
    "# Assign ISO to GTSM / CIAM points\n",
    "- assign based on country Voronoi\n",
    "- countries are defined by impact regions"
   ]
  },
  {
   "cell_type": "markdown",
   "id": "4ad305fa-40d0-4406-a3d0-c57f1cb0cc2f",
   "metadata": {},
   "source": [
    "INPUTS\n",
    "- `sset.PATH_CIAM_SITES`\n",
    "- `sset.PATH_GADM_ADM0_VORONOI`\n",
    "\n",
    "OUTPUTS\n",
    "- `sset.PATH_CIAM_SITES_WITHISO`"
   ]
  },
  {
   "cell_type": "code",
   "execution_count": 1,
   "id": "ff364100-50f0-43ee-98c6-17eab827d38a",
   "metadata": {},
   "outputs": [],
   "source": [
    "import geopandas as gpd\n",
    "from sliiders import settings as sset\n",
    "\n",
    "import warnings\n",
    "\n",
    "warnings.filterwarnings(\"ignore\", message=\".*initial implementation of Parquet.*\")"
   ]
  },
  {
   "cell_type": "code",
   "execution_count": 2,
   "id": "ad54fd85-2e2b-429e-a11e-9f246cb9ce2e",
   "metadata": {},
   "outputs": [],
   "source": [
    "countries = gpd.read_parquet(sset.PATH_GADM_ADM0_VORONOI).set_crs(epsg=4326)"
   ]
  },
  {
   "cell_type": "code",
   "execution_count": 3,
   "id": "9afbb215-2125-4a23-ab0d-13e0356aa640",
   "metadata": {},
   "outputs": [],
   "source": [
    "stations_wo_country = gpd.read_file(sset.PATH_CIAM_SITES)"
   ]
  },
  {
   "cell_type": "code",
   "execution_count": 4,
   "id": "6f016cf1-eee4-4277-94b1-326be1c3cfb0",
   "metadata": {},
   "outputs": [
    {
     "data": {
      "text/plain": [
       "9592"
      ]
     },
     "execution_count": 4,
     "metadata": {},
     "output_type": "execute_result"
    }
   ],
   "source": [
    "stations = gpd.sjoin(stations_wo_country, countries, how=\"left\", predicate=\"within\")\n",
    "\n",
    "stations.shape[0]"
   ]
  },
  {
   "cell_type": "markdown",
   "id": "7b79bd04-f5be-4e33-a972-c95fb389d050",
   "metadata": {},
   "source": [
    "#### Check that match is one-to-one"
   ]
  },
  {
   "cell_type": "markdown",
   "id": "a08b22e1-c4c3-4b26-bc85-16d7c8abdaff",
   "metadata": {},
   "source": [
    "Check there is no more than one match for each station"
   ]
  },
  {
   "cell_type": "code",
   "execution_count": 5,
   "id": "953d81e4-f147-4272-be1c-642950080737",
   "metadata": {},
   "outputs": [],
   "source": [
    "assert stations.shape[0] == stations_wo_country.shape[0]"
   ]
  },
  {
   "cell_type": "markdown",
   "id": "e6f67075-6c4a-4527-a745-c309f40a8e47",
   "metadata": {},
   "source": [
    "Check there is at least one match for each station"
   ]
  },
  {
   "cell_type": "code",
   "execution_count": 6,
   "id": "90b5df8b-c0bd-4f75-8c74-3bc75ea7fede",
   "metadata": {},
   "outputs": [],
   "source": [
    "assert stations[\"ISO\"].isnull().sum() == 0"
   ]
  },
  {
   "cell_type": "markdown",
   "id": "d4350af2-df9b-40a9-9e81-3dc9479068cf",
   "metadata": {},
   "source": [
    "#### Clean and save"
   ]
  },
  {
   "cell_type": "code",
   "execution_count": 7,
   "id": "78801a05-d99f-49da-82f6-6ba7b766dc38",
   "metadata": {},
   "outputs": [],
   "source": [
    "stations = stations.drop(columns=[\"index_right\"])"
   ]
  },
  {
   "cell_type": "code",
   "execution_count": 8,
   "id": "456bc005-a207-4595-a2c0-418aaa377156",
   "metadata": {},
   "outputs": [],
   "source": [
    "sset.PATH_CIAM_SITES_WITHISO.parent.mkdir(exist_ok=True)\n",
    "\n",
    "stations[[\"station_id\", \"lat\", \"lon\", \"geometry\", \"ISO\"]].to_parquet(\n",
    "    sset.PATH_CIAM_SITES_WITHISO, index=False\n",
    ")"
   ]
  }
 ],
 "metadata": {
  "kernelspec": {
   "display_name": "Python 3 (ipykernel)",
   "language": "python",
   "name": "python3"
  },
  "language_info": {
   "codemirror_mode": {
    "name": "ipython",
    "version": 3
   },
   "file_extension": ".py",
   "mimetype": "text/x-python",
   "name": "python",
   "nbconvert_exporter": "python",
   "pygments_lexer": "ipython3",
   "version": "3.8.12"
  },
  "widgets": {
   "application/vnd.jupyter.widget-state+json": {
    "state": {},
    "version_major": 2,
    "version_minor": 0
   }
  }
 },
 "nbformat": 4,
 "nbformat_minor": 5
}
