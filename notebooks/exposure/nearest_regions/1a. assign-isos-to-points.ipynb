{
 "cells": [
  {
   "cell_type": "markdown",
   "id": "1d24dbc8-532c-4d6e-b4b9-26da7410a5e1",
   "metadata": {},
   "source": [
    "# Assign ISO to GTSM / CIAM points\n",
    "- assign based on country Voronoi\n",
    "- countries are defined by impact regions"
   ]
  },
  {
   "cell_type": "markdown",
   "id": "4ad305fa-40d0-4406-a3d0-c57f1cb0cc2f",
   "metadata": {},
   "source": [
    "INPUTS\n",
    "- `sset.PATH_CIAM_SITES`\n",
    "- `sset.PATH_GADM_ADM0_VORONOI`\n",
    "\n",
    "OUTPUTS\n",
    "- `sset.PATH_CIAM_SITES_WITHISO`"
   ]
  },
  {
   "cell_type": "code",
   "execution_count": null,
   "id": "ff364100-50f0-43ee-98c6-17eab827d38a",
   "metadata": {},
   "outputs": [],
   "source": [
    "import geopandas as gpd\n",
    "\n",
    "from sliiders import settings as sset\n",
    "from sliiders import spatial\n",
    "\n",
    "spatial.filter_spatial_warnings()"
   ]
  },
  {
   "cell_type": "code",
   "execution_count": null,
   "id": "ad54fd85-2e2b-429e-a11e-9f246cb9ce2e",
   "metadata": {},
   "outputs": [],
   "source": [
    "countries = gpd.read_parquet(sset.PATH_GADM_ADM0_VORONOI).set_crs(epsg=4326)"
   ]
  },
  {
   "cell_type": "code",
   "execution_count": null,
   "id": "b2307559-a298-43d5-b1a8-43bfaca043ec",
   "metadata": {},
   "outputs": [],
   "source": [
    "stations = spatial.match_stations_to_countries(countries)"
   ]
  },
  {
   "cell_type": "code",
   "execution_count": null,
   "id": "456bc005-a207-4595-a2c0-418aaa377156",
   "metadata": {},
   "outputs": [],
   "source": [
    "sset.PATH_CIAM_SITES_WITHISO.parent.mkdir(exist_ok=True)\n",
    "\n",
    "stations.to_parquet(sset.PATH_CIAM_SITES_WITHISO, index=False)"
   ]
  }
 ],
 "metadata": {
  "kernelspec": {
   "display_name": "Python 3 (ipykernel)",
   "language": "python",
   "name": "python3"
  },
  "language_info": {
   "codemirror_mode": {
    "name": "ipython",
    "version": 3
   },
   "file_extension": ".py",
   "mimetype": "text/x-python",
   "name": "python",
   "nbconvert_exporter": "python",
   "pygments_lexer": "ipython3",
   "version": "3.9.10"
  },
  "widgets": {
   "application/vnd.jupyter.widget-state+json": {
    "state": {},
    "version_major": 2,
    "version_minor": 0
   }
  }
 },
 "nbformat": 4,
 "nbformat_minor": 5
}
