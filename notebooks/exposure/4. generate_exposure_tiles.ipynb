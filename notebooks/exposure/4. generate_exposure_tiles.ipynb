{
 "cells": [
  {
   "cell_type": "markdown",
   "metadata": {},
   "source": [
    "# Combine data layers"
   ]
  },
  {
   "cell_type": "markdown",
   "metadata": {},
   "source": [
    "1. Get elevation relative to sea level\n",
    "2. Match to nearest country, impact region, protection zone (e.g. levees)\n",
    "3. Uniformly distribute exposure over all surface area > 0 elevation within a 30\" pixel\n",
    "4. Aggregate both surface area and exposure up to adm1 X coastal segment X protection zone X wetland flag X .1-meter elevation bin"
   ]
  },
  {
   "cell_type": "code",
   "execution_count": null,
   "metadata": {},
   "outputs": [],
   "source": [
    "import warnings\n",
    "from types import SimpleNamespace\n",
    "\n",
    "from pathlib import Path\n",
    "import dask.distributed as dd\n",
    "import geopandas as gpd\n",
    "import numpy as np\n",
    "import pandas as pd\n",
    "import regionmask\n",
    "import rhg_compute_tools.gcs as rhgcs\n",
    "import rhg_compute_tools.kubernetes as rhgk\n",
    "import rhg_compute_tools.utils as rhgu\n",
    "import xarray as xr\n",
    "from shapely.geometry import box\n",
    "\n",
    "from sliiders import settings as sset\n",
    "from sliiders import spatial as spatial\n",
    "\n",
    "spatial.filter_spatial_warnings()\n",
    "\n",
    "\n",
    "@rhgu.block_globals\n",
    "def load_exposure(bbox, sset):\n",
    "    \"\"\"Get asset value and population within the bounds defined by `bbox`\"\"\"\n",
    "    llon, llat, ulon, ulat = bbox.bounds\n",
    "\n",
    "    # Get corners of `bbox` by their indices\n",
    "    lx_ix, ux_ix = spatial.grid_val_to_ix(\n",
    "        np.array([llon, ulon]),\n",
    "        sset.LITPOP_GRID_WIDTH,\n",
    "    )\n",
    "\n",
    "    ly_ix, uy_ix = spatial.grid_val_to_ix(\n",
    "        np.array([llat, ulat]),\n",
    "        sset.LITPOP_GRID_WIDTH,\n",
    "    )\n",
    "\n",
    "    # Define filters for reading parquet (saves computation and memory)\n",
    "    parquet_filters = [\n",
    "        [\n",
    "            (\"x_ix\", \">=\", lx_ix),\n",
    "            (\"x_ix\", \"<\", ux_ix),\n",
    "            (\"y_ix\", \">=\", ly_ix),\n",
    "            (\"y_ix\", \"<\", uy_ix),\n",
    "        ]\n",
    "    ]\n",
    "\n",
    "    exp_filters = [parquet_filters[0] + [(\"value\", \">\", 0)]]\n",
    "    pop_filters = [parquet_filters[0] + [(\"population\", \">\", 0)]]\n",
    "\n",
    "    # asset value\n",
    "    exp = pd.read_parquet(\n",
    "        sset.PATH_EXPOSURE_BLENDED,\n",
    "        columns=[\"value\", \"x_ix\", \"y_ix\"],\n",
    "        filters=exp_filters,\n",
    "    )\n",
    "\n",
    "    pop_landscan = pd.read_parquet(\n",
    "        sset.PATH_LANDSCAN_INT,\n",
    "        columns=[\"population\", \"x_ix\", \"y_ix\"],\n",
    "        filters=pop_filters,\n",
    "    ).rename(columns={\"population\": \"pop_landscan\"})\n",
    "\n",
    "    exp = pd.merge(\n",
    "        exp,\n",
    "        pop_landscan,\n",
    "        how=\"outer\",\n",
    "        left_on=[\"x_ix\", \"y_ix\"],\n",
    "        right_on=[\"x_ix\", \"y_ix\"],\n",
    "    )\n",
    "\n",
    "    exp[\"value\"] = exp[\"value\"].fillna(0)\n",
    "    exp[\"pop_landscan\"] = exp[\"pop_landscan\"].fillna(0)\n",
    "\n",
    "    return exp\n",
    "\n",
    "\n",
    "@rhgu.block_globals\n",
    "def get_bbox(tile_name):\n",
    "    \"\"\"\n",
    "    Return bounding box from tile name in the string format \"VXXHYYY\" representing the southwestern corner of a 1-degree tile,\n",
    "    where \"V\" is \"N\" (north) or \"S\" (south), \"H\" is \"E\" (east) or \"W\" (west), \"XX\" is a two-digit zero-padded number indicating\n",
    "    the number of degrees north or south from 0,0, and \"YYY\" is a three-digit zero-padded number indicating the number of degrees\n",
    "    east or west from 0,0.\n",
    "    \"\"\"\n",
    "    lat_term, lon_term = tile_name[:3], tile_name[3:]\n",
    "\n",
    "    lat_direction, lat_value = lat_term[0], int(lat_term[1:])\n",
    "    lon_direction, lon_value = lon_term[0], int(lon_term[1:])\n",
    "\n",
    "    lat_sign = 1 if lat_direction == \"N\" else -1\n",
    "    lon_sign = 1 if lon_direction == \"E\" else -1\n",
    "\n",
    "    llat = lat_sign * lat_value\n",
    "    llon = lon_sign * lon_value\n",
    "\n",
    "    ulat = llat + 1\n",
    "    ulon = llon + 1\n",
    "\n",
    "    return box(llon, llat, ulon, ulat)\n",
    "\n",
    "\n",
    "@rhgu.block_globals\n",
    "def get_partial_covering_matches(elev_tile, bbox, sset, gdf, id_name=None):\n",
    "    \"\"\"\n",
    "    Get shapes in `gdf` that overlap with `bbox`, as flattened array corresponding\n",
    "    to the indices of `elev_tile`\n",
    "\n",
    "    If `id_name` is None, returns flag indicating there is some match\n",
    "    Else, returns ID of the match, or -1 if there's no match\n",
    "    \"\"\"\n",
    "    gdf = gdf[gdf[\"geometry\"].intersects(bbox)].copy()\n",
    "\n",
    "    gdf[\"geometry\"] = gdf[\"geometry\"].intersection(bbox)\n",
    "    gdf = gdf[gdf[\"geometry\"].area > 0].copy()\n",
    "\n",
    "    if len(gdf) == 0:\n",
    "        res = np.zeros(elev_tile.size, dtype=int)\n",
    "        if id_name is None:\n",
    "            return res\n",
    "        return res - 1\n",
    "\n",
    "    gdf = gdf.reset_index(drop=True)\n",
    "\n",
    "    regions = regionmask.from_geopandas(gdf, names=id_name, name=\"regions\")\n",
    "\n",
    "    mask = regions.mask(elev_tile.x.values, elev_tile.y.values)\n",
    "\n",
    "    if id_name is None:\n",
    "        mask = ~np.isnan(mask)\n",
    "\n",
    "    mask_df = mask.astype(bool if id_name is None else int)\n",
    "\n",
    "    mask_df = mask_df.to_pandas().stack().reset_index().rename(columns={0: \"region_id\"})\n",
    "\n",
    "    if id_name is None:\n",
    "        return mask_df[\"region_id\"].to_numpy()\n",
    "\n",
    "    mask_df.loc[mask_df[\"region_id\"] < 0, \"region_id\"] = len(regions.names)\n",
    "\n",
    "    region_matches = np.take(\n",
    "        np.array(regions.names + [-1]), np.array(mask_df[\"region_id\"])\n",
    "    )\n",
    "\n",
    "    return region_matches\n",
    "\n",
    "\n",
    "@rhgu.block_globals\n",
    "def get_protected_area_matches(elev_tile, bbox, sset):\n",
    "    \"\"\"\n",
    "    Get IDs of protected areas in `bbox`, returning a flattened array\n",
    "    corresponding to the flattened indices of `elev_tile`\n",
    "    \"\"\"\n",
    "    protected_areas = gpd.read_parquet(sset.PATH_GLOBAL_PROTECTED_AREAS)\n",
    "\n",
    "    return get_partial_covering_matches(\n",
    "        elev_tile, bbox, sset, protected_areas, id_name=\"protection_zone_id\"\n",
    "    )\n",
    "\n",
    "\n",
    "@rhgu.block_globals\n",
    "def get_wetland_matches(elev_tile, bbox, sset):\n",
    "    \"\"\"\n",
    "    Get flag indicating existence of wetlands in `bbox`, returning a flattened array\n",
    "    corresponding to the flattened indices of `elev_tile`\n",
    "    \"\"\"\n",
    "    wetlands = gpd.read_file(sset.PATH_WETLANDS_INT, bbox=(bbox.bounds))\n",
    "\n",
    "    return get_partial_covering_matches(elev_tile, bbox, sset, wetlands)\n",
    "\n",
    "\n",
    "@rhgu.block_globals\n",
    "def get_vor_matches(\n",
    "    elev_tile, bbox, sset, regions_df, id_name, out_name, ISO=None, assert_filled=True\n",
    "):\n",
    "    regions = regionmask.from_geopandas(regions_df, names=id_name, name=out_name)\n",
    "\n",
    "    mask = regions.mask(elev_tile.x.values, elev_tile.y.values, wrap_lon=False)\n",
    "\n",
    "    # if there are pixels without shapes, buffer shapes\n",
    "    assert mask.isnull().sum().item() == 0\n",
    "    mask_df = (\n",
    "        mask.astype(int)\n",
    "        .to_pandas()\n",
    "        .stack()\n",
    "        .reset_index()\n",
    "        .rename(columns={0: \"region_ix\"})\n",
    "    )\n",
    "\n",
    "    if assert_filled:\n",
    "        assert (mask_df[\"region_ix\"] < 0).sum() == 0\n",
    "    else:\n",
    "        mask_df.loc[mask_df[\"region_ix\"] < 0, \"region_ix\"] = len(regions.names)\n",
    "\n",
    "    mask_df[out_name] = np.take(\n",
    "        np.array(regions.names + [\"\"]), np.array(mask_df[\"region_ix\"])\n",
    "    )\n",
    "\n",
    "    return mask_df[out_name]\n",
    "\n",
    "\n",
    "@rhgu.block_globals\n",
    "def get_seg_adm(elev_tile, bbox, sset):\n",
    "    seg_adm = gpd.read_file(\n",
    "        sset.PATH_CIAM_ADM1_VORONOI_INTERSECTIONS_SHP,\n",
    "        bbox=box(*bbox.buffer(0.1).bounds),\n",
    "    )\n",
    "\n",
    "    return get_vor_matches(elev_tile, bbox, sset, seg_adm, \"seg_adm\", \"seg_adm\", None)\n",
    "\n",
    "\n",
    "@rhgu.block_globals\n",
    "def get_empty_exp_grid(elev_tile, this_exp, sset):\n",
    "    mg = np.meshgrid(elev_tile.x.values, elev_tile.y.values)\n",
    "\n",
    "    df = pd.DataFrame({\"lat\": mg[1].flatten(), \"lon\": mg[0].flatten()})\n",
    "\n",
    "    df[\"x_ix\"] = spatial.grid_val_to_ix(df[\"lon\"], sset.LITPOP_GRID_WIDTH)\n",
    "    df[\"y_ix\"] = spatial.grid_val_to_ix(df[\"lat\"], sset.LITPOP_GRID_WIDTH)\n",
    "\n",
    "    out_types = {\n",
    "        \"lat\": np.float32,\n",
    "        \"lon\": np.float32,\n",
    "        \"x_ix\": np.int16,\n",
    "        \"y_ix\": np.int16,\n",
    "    }\n",
    "\n",
    "    df = df.astype({k: v for k, v in out_types.items() if k in df.columns})\n",
    "\n",
    "    return df\n",
    "\n",
    "\n",
    "@rhgu.block_globals\n",
    "def match_elev_pixels_to_shapes(elev_tile, this_exp, bbox, sset):\n",
    "\n",
    "    out_df = get_empty_exp_grid(elev_tile, this_exp, sset)\n",
    "\n",
    "    out_df[\"seg_adm\"] = get_seg_adm(elev_tile, bbox, sset)\n",
    "    out_df[\"seg_adm\"] = out_df[\"seg_adm\"].astype(\"category\")\n",
    "\n",
    "    out_df[\"protection_zone\"] = get_protected_area_matches(elev_tile, bbox, sset)\n",
    "    out_df[\"protection_zone\"] = out_df[\"protection_zone\"].astype(\"category\")\n",
    "\n",
    "    out_df[\"wetland_flag\"] = get_wetland_matches(elev_tile, bbox, sset)\n",
    "    out_df[\"wetland_flag\"] = out_df[\"wetland_flag\"].astype(bool)\n",
    "\n",
    "    return out_df\n",
    "\n",
    "\n",
    "@rhgu.block_globals\n",
    "def get_cell_size_km(da, bbox):\n",
    "    # grid cell area is determined by latitude\n",
    "    tile_size_km = np.cos(np.deg2rad(bbox.centroid.y)) * (spatial.LAT_TO_M / 1000) ** 2\n",
    "    cell_size_km = tile_size_km / da.size\n",
    "\n",
    "    return cell_size_km\n",
    "\n",
    "\n",
    "@rhgu.block_globals\n",
    "def get_valid_points_df(\n",
    "    elev_tile,\n",
    "    bbox,\n",
    "    all_points,\n",
    "    sset,\n",
    "):\n",
    "    elev_array = elev_tile.values.flatten()\n",
    "\n",
    "    all_points[\"z_ix\"] = spatial.grid_val_to_ix(\n",
    "        elev_array, sset.EXPOSURE_BIN_WIDTH_V, map_nans=0\n",
    "    )\n",
    "\n",
    "    all_points[\"valid\"] = (~np.isnan(elev_array)) & (\n",
    "        (all_points[\"z_ix\"] >= 0) | (all_points[\"protection_zone\"] != -1)\n",
    "    )\n",
    "\n",
    "    all_points[\"area_km\"] = get_cell_size_km(elev_tile, bbox)\n",
    "\n",
    "    out_types = {\n",
    "        \"x_ix\": np.int16,\n",
    "        \"y_ix\": np.int16,\n",
    "        \"z_ix\": np.int32,\n",
    "        \"seg_adm\": \"category\",\n",
    "        \"protection_zone\": \"category\",\n",
    "        \"wetland_flag\": bool,\n",
    "        \"area_km\": np.float32,\n",
    "    }\n",
    "\n",
    "    # compress\n",
    "    all_points = all_points.astype(\n",
    "        {k: v for k, v in out_types.items() if k in all_points.columns}\n",
    "    )\n",
    "\n",
    "    poselev_pts = (\n",
    "        all_points[all_points[\"valid\"]].drop(columns=[\"valid\"]).reset_index(drop=True)\n",
    "    )\n",
    "\n",
    "    negelev_pts = (\n",
    "        all_points[(~all_points[\"valid\"]) & (all_points[\"wetland_flag\"])]\n",
    "        .drop(columns=[\"valid\"])\n",
    "        .reset_index(drop=True)\n",
    "    )\n",
    "\n",
    "    return poselev_pts, negelev_pts\n",
    "\n",
    "\n",
    "@rhgu.block_globals\n",
    "def get_closest_valid_exp_tiles(\n",
    "    missing_exp_tiles, valid_exp_tiles, max_batch_comparisons=int(2e7)\n",
    "):\n",
    "\n",
    "    if len(valid_exp_tiles) == 0:\n",
    "        return None\n",
    "\n",
    "    src_locs = missing_exp_tiles[[\"lon\", \"lat\"]].to_numpy()\n",
    "    dst_locs = valid_exp_tiles[[\"lon\", \"lat\"]].to_numpy()\n",
    "\n",
    "    total_comparisons = len(src_locs) * len(dst_locs)\n",
    "\n",
    "    closest_ix = np.zeros(len(src_locs), dtype=int) - 1\n",
    "\n",
    "    num_batches = int(total_comparisons / max_batch_comparisons) + 1\n",
    "    batch_size_src = int(len(src_locs) / num_batches)\n",
    "\n",
    "    for batch in range(num_batches):\n",
    "        batch_start = batch * batch_size_src\n",
    "        batch_end = min((batch + 1) * batch_size_src, len(src_locs))\n",
    "        closest_ix_batch = spatial.dist_matrix(\n",
    "            src_locs[batch_start:batch_end, 0],\n",
    "            src_locs[batch_start:batch_end, 1],\n",
    "            dst_locs[:, 0],\n",
    "            dst_locs[:, 1],\n",
    "        ).argmin(axis=1)\n",
    "\n",
    "        closest_ix[batch_start:batch_end] = closest_ix_batch\n",
    "\n",
    "    missing_exp_tiles[\"closest_ix\"] = closest_ix\n",
    "\n",
    "    missing_exp_tiles[\"valid_x_ix\"] = np.take(\n",
    "        valid_exp_tiles[\"x_ix\"].to_numpy(),\n",
    "        missing_exp_tiles[\"closest_ix\"].to_numpy(),\n",
    "    )\n",
    "    missing_exp_tiles[\"valid_y_ix\"] = np.take(\n",
    "        valid_exp_tiles[\"y_ix\"].to_numpy(),\n",
    "        missing_exp_tiles[\"closest_ix\"].to_numpy(),\n",
    "    )\n",
    "\n",
    "    return missing_exp_tiles[[\"x_ix\", \"y_ix\", \"valid_x_ix\", \"valid_y_ix\"]]\n",
    "\n",
    "\n",
    "@rhgu.block_globals\n",
    "def get_agg_fields():\n",
    "    \"\"\"Get fields to aggregate over\"\"\"\n",
    "    return [\n",
    "        \"z_ix\",\n",
    "        \"seg_adm\",\n",
    "        \"protection_zone\",\n",
    "    ]\n",
    "\n",
    "\n",
    "@rhgu.block_globals\n",
    "def write_empty_csv(out_path):\n",
    "    # write CSV placeholder to indicate this tile has been processed, but doesn't have exposure\n",
    "    pd.DataFrame().to_csv(out_path, index=False)\n",
    "    return out_path\n",
    "\n",
    "\n",
    "@rhgu.block_globals\n",
    "def get_tile_out_path(tile_name, sset):\n",
    "    \"\"\"Get output path from the coastalDEM input path\"\"\"\n",
    "    return sset.DIR_EXPOSURE_BINNED_TMP_TILES / f\"{tile_name}.csv\"\n",
    "\n",
    "\n",
    "@rhgu.block_globals\n",
    "def get_exp_noland_out_path(tile_name, sset):\n",
    "    \"\"\"Get output path for exposure that couldn't be matched to land within its 1-degree elevation tile\"\"\"\n",
    "    return sset.DIR_EXPOSURE_BINNED_TMP_TILES_NOLAND / f\"{tile_name}.csv\"\n",
    "\n",
    "\n",
    "@rhgu.block_globals\n",
    "def get_seg_area_out_path(tile_name, sset):\n",
    "    \"\"\"Get output path for segment areas\"\"\"\n",
    "    return sset.DIR_EXPOSURE_BINNED_TMP_TILES_SEGMENT_AREA / f\"{tile_name}.csv\"\n",
    "\n",
    "\n",
    "@rhgu.block_globals\n",
    "def merge_exposure_to_highres_grid(this_exp, out, sset):\n",
    "    agg_fields = get_agg_fields()\n",
    "\n",
    "    ix_merge = pd.merge(\n",
    "        this_exp[[\"x_ix\", \"y_ix\"]],\n",
    "        out[[\"x_ix\", \"y_ix\", \"seg_adm\"]].drop_duplicates(),\n",
    "        left_on=[\"x_ix\", \"y_ix\"],\n",
    "        right_on=[\"x_ix\", \"y_ix\"],\n",
    "        how=\"left\",\n",
    "    )\n",
    "\n",
    "    missing_exp_tiles = ix_merge[ix_merge[\"seg_adm\"].isnull()].drop(columns=[\"seg_adm\"])\n",
    "    valid_exp_tiles = ix_merge[ix_merge[\"seg_adm\"].notnull()].drop(columns=[\"seg_adm\"])\n",
    "\n",
    "    if valid_exp_tiles.shape[0] == 0:\n",
    "        valid_exp_tiles = out[[\"x_ix\", \"y_ix\"]].drop_duplicates()\n",
    "\n",
    "    missing_exp_tiles[\"lon\"] = spatial.grid_ix_to_val(\n",
    "        missing_exp_tiles[\"x_ix\"], sset.LITPOP_GRID_WIDTH\n",
    "    )\n",
    "    missing_exp_tiles[\"lat\"] = spatial.grid_ix_to_val(\n",
    "        missing_exp_tiles[\"y_ix\"], sset.LITPOP_GRID_WIDTH\n",
    "    )\n",
    "\n",
    "    valid_exp_tiles[\"lon\"] = spatial.grid_ix_to_val(\n",
    "        valid_exp_tiles[\"x_ix\"], sset.LITPOP_GRID_WIDTH\n",
    "    )\n",
    "    valid_exp_tiles[\"lat\"] = spatial.grid_ix_to_val(\n",
    "        valid_exp_tiles[\"y_ix\"], sset.LITPOP_GRID_WIDTH\n",
    "    )\n",
    "\n",
    "    exp_ix_mappings = (\n",
    "        get_closest_valid_exp_tiles(missing_exp_tiles, valid_exp_tiles)\n",
    "        if missing_exp_tiles.shape[0] > 0\n",
    "        else None\n",
    "    )\n",
    "\n",
    "    if exp_ix_mappings is not None:\n",
    "        this_exp = pd.merge(\n",
    "            this_exp,\n",
    "            exp_ix_mappings,\n",
    "            left_on=[\"x_ix\", \"y_ix\"],\n",
    "            right_on=[\"x_ix\", \"y_ix\"],\n",
    "            how=\"left\",\n",
    "        )\n",
    "\n",
    "        this_exp[\"x_ix\"] = this_exp[\"valid_x_ix\"].fillna(this_exp[\"x_ix\"]).astype(int)\n",
    "        this_exp[\"y_ix\"] = this_exp[\"valid_y_ix\"].fillna(this_exp[\"y_ix\"]).astype(int)\n",
    "\n",
    "        this_exp = (\n",
    "            this_exp.groupby([\"x_ix\", \"y_ix\"])[[\"value\", \"pop_landscan\"]]\n",
    "            .sum()\n",
    "            .reset_index(drop=False)\n",
    "        )\n",
    "\n",
    "    exp_tile_areas = (\n",
    "        out.groupby([\"x_ix\", \"y_ix\"])[[\"area_km\"]]\n",
    "        .sum()\n",
    "        .rename(columns={\"area_km\": \"tile_area_km\"})\n",
    "    )\n",
    "\n",
    "    out = out.join(exp_tile_areas, on=[\"x_ix\", \"y_ix\"])\n",
    "\n",
    "    out = pd.merge(\n",
    "        out,\n",
    "        this_exp,\n",
    "        how=\"left\",\n",
    "        left_on=[\"x_ix\", \"y_ix\"],\n",
    "        right_on=[\"x_ix\", \"y_ix\"],\n",
    "    ).reset_index(drop=True)\n",
    "\n",
    "    out = out.drop(columns=[\"x_ix\", \"y_ix\"])\n",
    "\n",
    "    out[\"value\"] = out[\"value\"] * out[\"area_km\"] / out[\"tile_area_km\"]\n",
    "    out[\"pop_landscan\"] = out[\"pop_landscan\"] * out[\"area_km\"] / out[\"tile_area_km\"]\n",
    "\n",
    "    out = out.drop(columns=[\"tile_area_km\"])\n",
    "\n",
    "    out[\"value\"] = out[\"value\"].fillna(0)\n",
    "    out[\"pop_landscan\"] = out[\"pop_landscan\"].fillna(0)\n",
    "\n",
    "    assert out.notnull().all().all()\n",
    "\n",
    "    out = out.drop(columns=[\"lon\", \"lat\"])\n",
    "\n",
    "    out = out.groupby(agg_fields, observed=True).sum().reset_index()\n",
    "\n",
    "    # make sure no exposure was dropped or added from the original exposure within tile (within some margin of float error)\n",
    "    # include very low sums for 0 / 0 division (areas where there is no exposure, but we calculate anyway for diva areas)\n",
    "    assert (\n",
    "        this_exp[\"value\"].sum() < 0.00001\n",
    "        or np.abs(this_exp[\"value\"].sum() / out[\"value\"].sum() - 1) < 0.00001\n",
    "    )\n",
    "\n",
    "    return out\n",
    "\n",
    "\n",
    "@rhgu.block_globals\n",
    "def get_granular_grid(bbox, grid_width=3601, cap=1):\n",
    "    size = 1 / grid_width\n",
    "\n",
    "    llon, llat, ulon, ulat = bbox.bounds\n",
    "\n",
    "    lons_small = np.arange(llon + (size / 2), ulon, size)\n",
    "    lats_small = np.flip(np.arange(llat + (size / 2), ulat, size))\n",
    "\n",
    "    xx, yy = [i.flatten() for i in np.meshgrid(lons_small, lats_small)]\n",
    "\n",
    "    granular_grid = pd.DataFrame(\n",
    "        {\"y\": yy, \"x\": xx, \"v\": cap * np.ones(grid_width**2)}\n",
    "    ).set_index([\"y\", \"x\"])\n",
    "    granular_grid = granular_grid.to_xarray().v\n",
    "\n",
    "    return granular_grid\n",
    "\n",
    "\n",
    "@rhgu.block_globals\n",
    "def process_tile(\n",
    "    tile_name,\n",
    "    sset,\n",
    "    calc_elev=True,\n",
    "    calc_exp=True,\n",
    "):\n",
    "    warnings.filterwarnings(\"ignore\", message=\"Geometry is in a geographic CRS\")\n",
    "    warnings.filterwarnings(\"ignore\", message=\"CRS mismatch between the CRS\")\n",
    "    warnings.filterwarnings(\n",
    "        \"ignore\", message=\"Sequential read of iterator was interrupted\"\n",
    "    )\n",
    "\n",
    "    out_path = get_tile_out_path(tile_name, sset)\n",
    "    bbox = get_bbox(tile_name)\n",
    "\n",
    "    this_exp = load_exposure(bbox, sset) if calc_exp else None\n",
    "\n",
    "    # Set the \"higher than coastal\" value. This makes groupby calls faster and reduces\n",
    "    # memory footprint.\n",
    "    CAP = sset.HIGHEST_WITHELEV_EXPOSURE_METERS + 1\n",
    "\n",
    "    if calc_elev:\n",
    "        elev_tile = (\n",
    "            xr.open_rasterio(sset.DIR_MSS / f\"{tile_name}.tif\")\n",
    "            .squeeze(\"band\")\n",
    "            .drop(\"band\")\n",
    "        )\n",
    "        # Bundle higher-than-coastal elevation values into one to simplify later data processing\n",
    "        elev_tile = xr.where(elev_tile > CAP, CAP, elev_tile)\n",
    "    else:\n",
    "        elev_tile = get_granular_grid(bbox, cap=CAP)\n",
    "\n",
    "    # match tile points with countries, impact regions, protection zones\n",
    "    out = match_elev_pixels_to_shapes(elev_tile, this_exp, bbox, sset)\n",
    "\n",
    "    # get points on land, assign impact regions and countries at exposure grid level\n",
    "    out, negelev_pts = get_valid_points_df(elev_tile, bbox, out, sset)\n",
    "\n",
    "    # if calc_elev:\n",
    "    seg_areas = out.groupby(\n",
    "        [\"seg_adm\", \"protection_zone\", \"wetland_flag\", \"z_ix\"],\n",
    "        as_index=False,\n",
    "        observed=True,\n",
    "    )[\"area_km\"].sum()\n",
    "\n",
    "    negelev_areas = negelev_pts.groupby(\n",
    "        [\"seg_adm\", \"protection_zone\", \"wetland_flag\"],\n",
    "        as_index=False,\n",
    "        observed=True,\n",
    "    )[\"area_km\"].sum()\n",
    "    negelev_areas[\"z_ix\"] = -1\n",
    "\n",
    "    seg_areas = pd.concat([seg_areas, negelev_areas], ignore_index=True)\n",
    "\n",
    "    seg_areas = seg_areas[\n",
    "        (seg_areas[\"z_ix\"] <= 200) & (seg_areas[\"protection_zone\"] == -1)\n",
    "    ]\n",
    "\n",
    "    seg_out_path = get_seg_area_out_path(tile_name, sset)\n",
    "    seg_areas.to_csv(seg_out_path, index=False)\n",
    "    if not calc_exp:\n",
    "        return seg_out_path\n",
    "\n",
    "    if out.shape[0] == 0:\n",
    "        if calc_exp:\n",
    "            this_exp.to_csv(get_exp_noland_out_path(tile_name, sset), index=False)\n",
    "        return write_empty_csv(out_path)\n",
    "\n",
    "    out = (\n",
    "        out[~out[\"wetland_flag\"]].drop(columns=[\"wetland_flag\"]).reset_index(drop=True)\n",
    "    )\n",
    "\n",
    "    out = merge_exposure_to_highres_grid(this_exp, out, sset)\n",
    "\n",
    "    out.to_csv(out_path, index=False)\n",
    "\n",
    "    return out_path"
   ]
  },
  {
   "cell_type": "markdown",
   "metadata": {},
   "source": [
    "#### Copy CIAM seg shapefiles if they haven't been updated for this version of the exposure grid"
   ]
  },
  {
   "cell_type": "code",
   "execution_count": null,
   "metadata": {},
   "outputs": [],
   "source": [
    "def get_maj_min(vers_name):\n",
    "    major, minor = vers_name.split(\".\")\n",
    "    return int(major), int(minor)\n",
    "\n",
    "\n",
    "exp_vers_maj, exp_vers_min = get_maj_min(sset.EXPOSURE_BINNED_VERS[1:])\n",
    "\n",
    "dir_shp = sset.DIR_CIAM_VORONOI.parent\n",
    "\n",
    "existing_vers = [get_maj_min(p.name[1:]) for p in list(dir_shp.glob(\"v*.*\"))]\n",
    "\n",
    "existing_vers.sort(key=lambda s: s[1])\n",
    "existing_vers.sort(key=lambda f: f[0])\n",
    "\n",
    "latest_vers_maj, latest_vers_min = existing_vers[-1]\n",
    "\n",
    "if (exp_vers_maj, exp_vers_min) not in existing_vers:\n",
    "\n",
    "    src_dir = dir_shp / (\"v\" + str(latest_vers_maj) + \".\" + str(latest_vers_min))\n",
    "    dst_dir = dir_shp / (\"v\" + str(exp_vers_maj) + \".\" + str(exp_vers_min))\n",
    "\n",
    "    rhgcs.cp(src_dir, dst_dir, flags=[\"r\"])"
   ]
  },
  {
   "cell_type": "markdown",
   "metadata": {},
   "source": [
    "#### Prepare output directories"
   ]
  },
  {
   "cell_type": "code",
   "execution_count": null,
   "metadata": {},
   "outputs": [],
   "source": [
    "sset.DIR_EXPOSURE_BINNED.mkdir(exist_ok=True)\n",
    "\n",
    "sset.DIR_EXPOSURE_BINNED_TMP.mkdir(exist_ok=True)\n",
    "\n",
    "sset.DIR_EXPOSURE_BINNED_TMP_TILES.mkdir(exist_ok=True)\n",
    "sset.DIR_EXPOSURE_BINNED_TMP_TILES_NOLAND.mkdir(exist_ok=True)\n",
    "sset.DIR_EXPOSURE_BINNED_TMP_TILES_SEGMENT_AREA.mkdir(exist_ok=True)"
   ]
  },
  {
   "cell_type": "markdown",
   "metadata": {},
   "source": [
    "#### Get list of tiles to process"
   ]
  },
  {
   "cell_type": "code",
   "execution_count": null,
   "metadata": {},
   "outputs": [],
   "source": [
    "tile_meta_path = sset.PATH_EXPOSURE_TILE_LIST\n",
    "\n",
    "tile_meta = pd.read_parquet(tile_meta_path)\n",
    "\n",
    "tile_groups = tile_meta.groupby(\"PROCESSING_SET\")[\"tile_name\"].unique().to_dict()"
   ]
  },
  {
   "cell_type": "code",
   "execution_count": null,
   "metadata": {},
   "outputs": [],
   "source": [
    "all_tiles = np.concatenate(list(tile_groups.values()))\n",
    "\n",
    "finished_tiles = [t[:-4][:7] for t in rhgcs.ls(sset.DIR_EXPOSURE_BINNED_TMP_TILES)]\n",
    "finished_segs = [\n",
    "    t[:-4][:7] for t in rhgcs.ls(sset.DIR_EXPOSURE_BINNED_TMP_TILES_SEGMENT_AREA)\n",
    "]\n",
    "\n",
    "remaining_tiles = [\n",
    "    t for t in all_tiles if (t not in finished_tiles and t not in finished_segs)\n",
    "]\n",
    "\n",
    "print(len(remaining_tiles))"
   ]
  },
  {
   "cell_type": "code",
   "execution_count": null,
   "metadata": {},
   "outputs": [],
   "source": [
    "client, cluster = rhgk.get_standard_cluster()"
   ]
  },
  {
   "cell_type": "code",
   "execution_count": null,
   "metadata": {},
   "outputs": [],
   "source": [
    "nworkers = 200\n",
    "cluster.scale(nworkers)\n",
    "cluster"
   ]
  },
  {
   "cell_type": "code",
   "execution_count": null,
   "metadata": {},
   "outputs": [],
   "source": [
    "import os\n",
    "import zipfile\n",
    "from pathlib import Path\n",
    "\n",
    "from sliiders import __file__\n",
    "\n",
    "sliiders_dir = Path(__file__).parent\n",
    "zipf = zipfile.ZipFile(\"sliiders.zip\", \"w\", zipfile.ZIP_DEFLATED)\n",
    "for root, dirs, files in os.walk(sliiders_dir):\n",
    "    for file in files:\n",
    "        zipf.write(\n",
    "            os.path.join(root, file),\n",
    "            os.path.relpath(os.path.join(root, file), os.path.join(sliiders_dir, \"..\")),\n",
    "        )\n",
    "zipf.close()\n",
    "client.upload_file(\"sliiders.zip\")"
   ]
  },
  {
   "cell_type": "markdown",
   "metadata": {
    "tags": []
   },
   "source": [
    "# Without elevation\n",
    "\n",
    "Note: when running the below three cells, one occasionally may run into the Dask cluster being stuck on making a progress. We find that this occurrence is not tile-specific. In such cases, we advise the user to follow these steps:\n",
    "\n",
    "\n",
    "1. Close the current Dask cluster and client by running `client.restart(); cluster.scale(0); client.close(); cluster.close()`\n",
    "2. Once the Dask cluster and client have successfully closed, restart the notebook kernel.\n",
    "3. Run all of the codes up to this section, and the cell directly below. Make sure that the Dask cluster is successfully running.\n",
    "4. Since we only need to remaining tiles that has not been processed, run (in via `client.map`) `process_tile` on these remaining ones. This can be done by running the below cells again, since the already-processed tiles would not be included in `remaining_tiles` anymore."
   ]
  },
  {
   "cell_type": "code",
   "execution_count": null,
   "metadata": {},
   "outputs": [],
   "source": [
    "withoutelev_tiles = np.array(\n",
    "    [t for t in tile_groups[\"WITHOUTELEV\"] if t in remaining_tiles]\n",
    ")\n",
    "\n",
    "withoutelev_tiles.shape[0]"
   ]
  },
  {
   "cell_type": "code",
   "execution_count": null,
   "metadata": {},
   "outputs": [],
   "source": [
    "withoutelev_futures = client.map(\n",
    "    process_tile, withoutelev_tiles, sset=sset, calc_elev=False\n",
    ")"
   ]
  },
  {
   "cell_type": "code",
   "execution_count": null,
   "metadata": {},
   "outputs": [],
   "source": [
    "dd.progress(withoutelev_futures)"
   ]
  },
  {
   "cell_type": "markdown",
   "metadata": {},
   "source": [
    "# With elevation\n",
    "\n",
    "Note: similar to the without elevation cases, there could be cases in which Dask becomes stuck on making a progress. In such cases, we advise the user to follow similar steps to those explained above (but without having to re-run the steps involving without elevation workflow (i.e., after restarting the notebook, run all except the three cells under **Without elevation**, and work on the remaining tiles)."
   ]
  },
  {
   "cell_type": "markdown",
   "metadata": {},
   "source": [
    "### With Exposure"
   ]
  },
  {
   "cell_type": "code",
   "execution_count": null,
   "metadata": {},
   "outputs": [],
   "source": [
    "withelev_tiles = np.array([t for t in tile_groups[\"WITHELEV\"] if t in remaining_tiles])\n",
    "\n",
    "withelev_tiles.shape[0]"
   ]
  },
  {
   "cell_type": "code",
   "execution_count": null,
   "metadata": {},
   "outputs": [],
   "source": [
    "withelev_futures = client.map(\n",
    "    process_tile,\n",
    "    withelev_tiles,\n",
    "    sset=sset,\n",
    ")"
   ]
  },
  {
   "cell_type": "code",
   "execution_count": null,
   "metadata": {},
   "outputs": [],
   "source": [
    "dd.progress(withelev_futures)"
   ]
  },
  {
   "cell_type": "markdown",
   "metadata": {},
   "source": [
    "#### No exposure (CIAM)"
   ]
  },
  {
   "cell_type": "code",
   "execution_count": null,
   "metadata": {},
   "outputs": [],
   "source": [
    "ciam_tiles = np.array([t for t in tile_groups[\"CIAM\"] if t in remaining_tiles])\n",
    "ciam_tiles.shape[0]"
   ]
  },
  {
   "cell_type": "code",
   "execution_count": null,
   "metadata": {},
   "outputs": [],
   "source": [
    "ciam_futures = client.map(\n",
    "    process_tile,\n",
    "    ciam_tiles,\n",
    "    sset=sset,\n",
    "    calc_exp=False,\n",
    ")"
   ]
  },
  {
   "cell_type": "code",
   "execution_count": null,
   "metadata": {},
   "outputs": [],
   "source": [
    "dd.progress(ciam_futures)"
   ]
  },
  {
   "cell_type": "markdown",
   "metadata": {},
   "source": [
    "## Shutdown workers"
   ]
  },
  {
   "cell_type": "code",
   "execution_count": null,
   "metadata": {},
   "outputs": [],
   "source": [
    "client.close()\n",
    "cluster.close()"
   ]
  }
 ],
 "metadata": {
  "kernelspec": {
   "display_name": "Python 3 (ipykernel)",
   "language": "python",
   "name": "python3"
  },
  "language_info": {
   "codemirror_mode": {
    "name": "ipython",
    "version": 3
   },
   "file_extension": ".py",
   "mimetype": "text/x-python",
   "name": "python",
   "nbconvert_exporter": "python",
   "pygments_lexer": "ipython3",
   "version": "3.9.10"
  },
  "widgets": {
   "application/vnd.jupyter.widget-state+json": {
    "state": {
     "008ae97b46014938917aec4b1cabbedf": {
      "model_module": "@jupyter-widgets/controls",
      "model_module_version": "1.5.0",
      "model_name": "HBoxModel",
      "state": {
       "children": [
        "IPY_MODEL_db6d2a56d21f4c2c8ffee8a64c14f960",
        "IPY_MODEL_9ae31fb51d7c41508cbd2d6a782411b7"
       ],
       "layout": "IPY_MODEL_92bd6b7c28454b7f803048bde93e5aa1"
      }
     },
     "00b3575076294ed08c808f4c1608003d": {
      "model_module": "@jupyter-widgets/base",
      "model_module_version": "1.2.0",
      "model_name": "LayoutModel",
      "state": {}
     },
     "0293ec3566d04777b3fb8bcc2336adc3": {
      "model_module": "@jupyter-widgets/controls",
      "model_module_version": "1.5.0",
      "model_name": "DescriptionStyleModel",
      "state": {
       "description_width": ""
      }
     },
     "04f6c12729844b12909fc64194b5f198": {
      "model_module": "@jupyter-widgets/controls",
      "model_module_version": "1.5.0",
      "model_name": "VBoxModel",
      "state": {
       "children": [
        "IPY_MODEL_d2496114f0d54e0ca942af963e8da8c8"
       ],
       "layout": "IPY_MODEL_3f9ddf53df81455ebdc1e0bcb0a6e750"
      }
     },
     "07a38a1bcc4144c2921d31f91e5f6e13": {
      "model_module": "@jupyter-widgets/controls",
      "model_module_version": "1.5.0",
      "model_name": "HBoxModel",
      "state": {
       "children": [
        "IPY_MODEL_f3022b3f8b804f8f985905abc0375a37",
        "IPY_MODEL_bf25ba25920041a1ad4735be1973dc84"
       ],
       "layout": "IPY_MODEL_623b65f0df924b6789cceb59741fcb56"
      }
     },
     "0db8a539b3a74615ba169629dcd6cecb": {
      "model_module": "@jupyter-widgets/controls",
      "model_module_version": "1.5.0",
      "model_name": "HBoxModel",
      "state": {
       "children": [
        "IPY_MODEL_6b352f38e6804d5398c51cb8f9ab2f21",
        "IPY_MODEL_66ced9ea70af42cd82ca00b2fc5a04fb",
        "IPY_MODEL_ba939fecf6ec4b639bbaae6e8165a98f"
       ],
       "layout": "IPY_MODEL_4496fee0da8643648de7b3f4daf69391"
      }
     },
     "11dfc5ae3a5f4a1e97cc27131710aa53": {
      "model_module": "@jupyter-widgets/controls",
      "model_module_version": "1.5.0",
      "model_name": "DescriptionStyleModel",
      "state": {
       "description_width": ""
      }
     },
     "1441282cd9ca42c19da72c19f894367b": {
      "model_module": "@jupyter-widgets/base",
      "model_module_version": "1.2.0",
      "model_name": "LayoutModel",
      "state": {}
     },
     "14b3b494b8ca408784b53db820880478": {
      "model_module": "@jupyter-widgets/controls",
      "model_module_version": "1.5.0",
      "model_name": "ProgressStyleModel",
      "state": {
       "description_width": ""
      }
     },
     "1895b4a076a84855a8cc0955381a0eb7": {
      "model_module": "@jupyter-widgets/controls",
      "model_module_version": "1.5.0",
      "model_name": "HTMLModel",
      "state": {
       "layout": "IPY_MODEL_f6de7b9d370b4e4a86ae667cf3a3bc4c",
       "style": "IPY_MODEL_6b91dd8724fd4a618cf0d3a94b664321",
       "value": "<h2>GatewayCluster</h2>"
      }
     },
     "1c695770307b4789b28c9d7fe716c40d": {
      "model_module": "@jupyter-widgets/base",
      "model_module_version": "1.2.0",
      "model_name": "LayoutModel",
      "state": {}
     },
     "1c85c0253ce94fc79ad0804b1129b6e7": {
      "model_module": "@jupyter-widgets/controls",
      "model_module_version": "1.5.0",
      "model_name": "FloatProgressModel",
      "state": {
       "bar_style": "success",
       "layout": "IPY_MODEL_a09e5a2ad1c948a3b1fd1d90defaeb3a",
       "max": 1,
       "style": "IPY_MODEL_3673a5f397c3464ebabe6cdfe968192f",
       "value": 1
      }
     },
     "2061aa01695f466eab794bc10eff9ce4": {
      "model_module": "@jupyter-widgets/base",
      "model_module_version": "1.2.0",
      "model_name": "LayoutModel",
      "state": {
       "min_width": "500px"
      }
     },
     "28d5f79e29c8456d9f6a35537b4872ef": {
      "model_module": "@jupyter-widgets/controls",
      "model_module_version": "1.5.0",
      "model_name": "DescriptionStyleModel",
      "state": {
       "description_width": ""
      }
     },
     "294590e835d34dfa9abaddf04058e6a3": {
      "model_module": "@jupyter-widgets/base",
      "model_module_version": "1.2.0",
      "model_name": "LayoutModel",
      "state": {}
     },
     "2967221dfe4d4a91a12c8fcffe730560": {
      "model_module": "@jupyter-widgets/controls",
      "model_module_version": "1.5.0",
      "model_name": "ButtonStyleModel",
      "state": {}
     },
     "306bc5a020bd46a2bcfb7a6cc3ba97cc": {
      "model_module": "@jupyter-widgets/base",
      "model_module_version": "1.2.0",
      "model_name": "LayoutModel",
      "state": {}
     },
     "3160a7bc02b6445abeb337a8c85bcd9d": {
      "model_module": "@jupyter-widgets/controls",
      "model_module_version": "1.5.0",
      "model_name": "DescriptionStyleModel",
      "state": {
       "description_width": ""
      }
     },
     "31cc3b6945504654b4697e469b6f5bdb": {
      "model_module": "@jupyter-widgets/controls",
      "model_module_version": "1.5.0",
      "model_name": "HBoxModel",
      "state": {
       "children": [
        "IPY_MODEL_89d6409e695f406e9d11b9c46d630d31",
        "IPY_MODEL_1c85c0253ce94fc79ad0804b1129b6e7",
        "IPY_MODEL_e1fd9ab64c634577aa23472883c39dd3"
       ],
       "layout": "IPY_MODEL_f0ed5538feac4de098aca1af95bd6724"
      }
     },
     "3673a5f397c3464ebabe6cdfe968192f": {
      "model_module": "@jupyter-widgets/controls",
      "model_module_version": "1.5.0",
      "model_name": "ProgressStyleModel",
      "state": {
       "description_width": ""
      }
     },
     "370884862056456c8a028e1c4f314517": {
      "model_module": "@jupyter-widgets/base",
      "model_module_version": "1.2.0",
      "model_name": "LayoutModel",
      "state": {}
     },
     "38c89f03fa8a4b3c85e9bfb27c3e549f": {
      "model_module": "@jupyter-widgets/controls",
      "model_module_version": "1.5.0",
      "model_name": "HTMLModel",
      "state": {
       "layout": "IPY_MODEL_370884862056456c8a028e1c4f314517",
       "style": "IPY_MODEL_bd4672e2f0c849649d0d40a6387d326d",
       "value": "<p><b>Name: </b>compute-rhg.64be60121d974f69be6c913df2b2d4e3</p>"
      }
     },
     "3979ea0c636041e09166041c474fe90f": {
      "model_module": "@jupyter-widgets/base",
      "model_module_version": "1.2.0",
      "model_name": "LayoutModel",
      "state": {}
     },
     "3f9ddf53df81455ebdc1e0bcb0a6e750": {
      "model_module": "@jupyter-widgets/base",
      "model_module_version": "1.2.0",
      "model_name": "LayoutModel",
      "state": {}
     },
     "40b76e5b330c44139220fd49c8332935": {
      "model_module": "@jupyter-widgets/controls",
      "model_module_version": "1.5.0",
      "model_name": "VBoxModel",
      "state": {
       "children": [
        "IPY_MODEL_b275fa153cd247b8bfe1c14454bdf14f"
       ],
       "layout": "IPY_MODEL_dcac79afb29c45abb814f3903776c590"
      }
     },
     "40fa81be4b2248ad9b698f3b31c58a54": {
      "model_module": "@jupyter-widgets/controls",
      "model_module_version": "1.5.0",
      "model_name": "HTMLModel",
      "state": {
       "layout": "IPY_MODEL_e891b43a845e46919e95553f6eba7abc",
       "style": "IPY_MODEL_28d5f79e29c8456d9f6a35537b4872ef",
       "value": "<div style=\"padding: 0px 10px 5px 10px\"><b>Finished:</b>  3min 10.5s</div>"
      }
     },
     "43fb2adc28aa48f0bee3c66103e9e892": {
      "model_module": "@jupyter-widgets/base",
      "model_module_version": "1.2.0",
      "model_name": "LayoutModel",
      "state": {}
     },
     "4496fee0da8643648de7b3f4daf69391": {
      "model_module": "@jupyter-widgets/base",
      "model_module_version": "1.2.0",
      "model_name": "LayoutModel",
      "state": {}
     },
     "44c6952d1d8d4208ae853edd095f4165": {
      "model_module": "@jupyter-widgets/controls",
      "model_module_version": "1.5.0",
      "model_name": "DescriptionStyleModel",
      "state": {
       "description_width": ""
      }
     },
     "45d1ab68efb04e04a2502624debdf7c9": {
      "model_module": "@jupyter-widgets/controls",
      "model_module_version": "1.5.0",
      "model_name": "VBoxModel",
      "state": {
       "children": [
        "IPY_MODEL_31cc3b6945504654b4697e469b6f5bdb"
       ],
       "layout": "IPY_MODEL_00b3575076294ed08c808f4c1608003d"
      }
     },
     "4f1c45072b044320b56bd6a59c8e8500": {
      "model_module": "@jupyter-widgets/controls",
      "model_module_version": "1.5.0",
      "model_name": "HTMLModel",
      "state": {
       "layout": "IPY_MODEL_db49addadc6d4da9bda2fa0b5c47f05b",
       "style": "IPY_MODEL_98fa10f5be994716a8c274c679eb879b",
       "value": "<div style=\"padding: 0px 10px 0px 10px; text-align:left; word-wrap: break-word;\">process_tile</div>"
      }
     },
     "520cd68d9dc74764aef1485685eccd4a": {
      "model_module": "@jupyter-widgets/base",
      "model_module_version": "1.2.0",
      "model_name": "LayoutModel",
      "state": {}
     },
     "56edda353ca94a889a04002935ce04cb": {
      "model_module": "@jupyter-widgets/controls",
      "model_module_version": "1.5.0",
      "model_name": "HTMLModel",
      "state": {
       "layout": "IPY_MODEL_d1a8bb1d3f4a4a1795937e287f23d617",
       "style": "IPY_MODEL_3160a7bc02b6445abeb337a8c85bcd9d",
       "value": "<div style=\"padding: 0px 10px 5px 10px\"><b>Finished:</b> 25min 31.8s</div>"
      }
     },
     "5c48b686afa547cbb26b4402a4f01f0c": {
      "model_module": "@jupyter-widgets/controls",
      "model_module_version": "1.5.0",
      "model_name": "DescriptionStyleModel",
      "state": {
       "description_width": ""
      }
     },
     "611e7558a4e24c9ba3e6b7a7aa69e88f": {
      "model_module": "@jupyter-widgets/base",
      "model_module_version": "1.2.0",
      "model_name": "LayoutModel",
      "state": {}
     },
     "623b65f0df924b6789cceb59741fcb56": {
      "model_module": "@jupyter-widgets/base",
      "model_module_version": "1.2.0",
      "model_name": "LayoutModel",
      "state": {}
     },
     "66ced9ea70af42cd82ca00b2fc5a04fb": {
      "model_module": "@jupyter-widgets/controls",
      "model_module_version": "1.5.0",
      "model_name": "IntTextModel",
      "state": {
       "description": "Maximum",
       "layout": "IPY_MODEL_78dece446d7c4b7aa0bae97ce9154f73",
       "step": 1,
       "style": "IPY_MODEL_5c48b686afa547cbb26b4402a4f01f0c"
      }
     },
     "6b352f38e6804d5398c51cb8f9ab2f21": {
      "model_module": "@jupyter-widgets/controls",
      "model_module_version": "1.5.0",
      "model_name": "IntTextModel",
      "state": {
       "description": "Minimum",
       "layout": "IPY_MODEL_78dece446d7c4b7aa0bae97ce9154f73",
       "step": 1,
       "style": "IPY_MODEL_850f311f791c4acb8d1c9042c7dc33be"
      }
     },
     "6b8fede0d357478fb20bb84f9cb57061": {
      "model_module": "@jupyter-widgets/base",
      "model_module_version": "1.2.0",
      "model_name": "LayoutModel",
      "state": {}
     },
     "6b91dd8724fd4a618cf0d3a94b664321": {
      "model_module": "@jupyter-widgets/controls",
      "model_module_version": "1.5.0",
      "model_name": "DescriptionStyleModel",
      "state": {
       "description_width": ""
      }
     },
     "78dece446d7c4b7aa0bae97ce9154f73": {
      "model_module": "@jupyter-widgets/base",
      "model_module_version": "1.2.0",
      "model_name": "LayoutModel",
      "state": {
       "width": "150px"
      }
     },
     "7f00d2bd869d48bfbe687f46c91ca306": {
      "model_module": "@jupyter-widgets/controls",
      "model_module_version": "1.5.0",
      "model_name": "HTMLModel",
      "state": {
       "layout": "IPY_MODEL_a85fcb21a68d44dfb50031d03205d587",
       "style": "IPY_MODEL_11dfc5ae3a5f4a1e97cc27131710aa53",
       "value": "<div style=\"padding: 0px 10px 0px 10px; text-align:left; word-wrap: break-word;\">process_tile</div>"
      }
     },
     "808d5c4294bd444b95531dd67c5647b8": {
      "model_module": "@jupyter-widgets/controls",
      "model_module_version": "1.5.0",
      "model_name": "DescriptionStyleModel",
      "state": {
       "description_width": ""
      }
     },
     "82efbad946374cfe9bb970c7a66a1ef9": {
      "model_module": "@jupyter-widgets/controls",
      "model_module_version": "1.5.0",
      "model_name": "HTMLModel",
      "state": {
       "layout": "IPY_MODEL_520cd68d9dc74764aef1485685eccd4a",
       "style": "IPY_MODEL_8e6bf0d16ed745f1b47026c4814c8aa0",
       "value": "<div style=\"padding: 0px 10px 0px 10px; text-align: right\">145 / 145</div>"
      }
     },
     "850f311f791c4acb8d1c9042c7dc33be": {
      "model_module": "@jupyter-widgets/controls",
      "model_module_version": "1.5.0",
      "model_name": "DescriptionStyleModel",
      "state": {
       "description_width": ""
      }
     },
     "8697a94dfe2d491aa543a0f3db7c5e0b": {
      "model_module": "@jupyter-widgets/controls",
      "model_module_version": "1.5.0",
      "model_name": "DescriptionStyleModel",
      "state": {
       "description_width": ""
      }
     },
     "89d6409e695f406e9d11b9c46d630d31": {
      "model_module": "@jupyter-widgets/controls",
      "model_module_version": "1.5.0",
      "model_name": "HTMLModel",
      "state": {
       "layout": "IPY_MODEL_1441282cd9ca42c19da72c19f894367b",
       "style": "IPY_MODEL_e8d780dbeb654330827ae41dc203674e",
       "value": "<div style=\"padding: 0px 10px 0px 10px; text-align: right\">3626 / 3626</div>"
      }
     },
     "8aaaad98aeaa4a3ab76f8ea025dab2a6": {
      "model_module": "@jupyter-widgets/controls",
      "model_module_version": "1.5.0",
      "model_name": "VBoxModel",
      "state": {
       "children": [
        "IPY_MODEL_40fa81be4b2248ad9b698f3b31c58a54",
        "IPY_MODEL_04f6c12729844b12909fc64194b5f198"
       ],
       "layout": "IPY_MODEL_accf5800d550481fb82ca7051726bb72"
      }
     },
     "8e6bf0d16ed745f1b47026c4814c8aa0": {
      "model_module": "@jupyter-widgets/controls",
      "model_module_version": "1.5.0",
      "model_name": "DescriptionStyleModel",
      "state": {
       "description_width": ""
      }
     },
     "92bd6b7c28454b7f803048bde93e5aa1": {
      "model_module": "@jupyter-widgets/base",
      "model_module_version": "1.2.0",
      "model_name": "LayoutModel",
      "state": {}
     },
     "98fa10f5be994716a8c274c679eb879b": {
      "model_module": "@jupyter-widgets/controls",
      "model_module_version": "1.5.0",
      "model_name": "DescriptionStyleModel",
      "state": {
       "description_width": ""
      }
     },
     "9ae31fb51d7c41508cbd2d6a782411b7": {
      "model_module": "@jupyter-widgets/controls",
      "model_module_version": "1.5.0",
      "model_name": "ButtonModel",
      "state": {
       "description": "Scale",
       "layout": "IPY_MODEL_78dece446d7c4b7aa0bae97ce9154f73",
       "style": "IPY_MODEL_f983ff5ba8f24460968caecf8989ebeb"
      }
     },
     "9d56d180954e488189be6222c8168835": {
      "model_module": "@jupyter-widgets/controls",
      "model_module_version": "1.5.0",
      "model_name": "HTMLModel",
      "state": {
       "layout": "IPY_MODEL_306bc5a020bd46a2bcfb7a6cc3ba97cc",
       "style": "IPY_MODEL_808d5c4294bd444b95531dd67c5647b8",
       "value": "<div style=\"padding: 0px 10px 5px 10px\"><b>Finished:</b>  8min 25.6s</div>"
      }
     },
     "a09e5a2ad1c948a3b1fd1d90defaeb3a": {
      "model_module": "@jupyter-widgets/base",
      "model_module_version": "1.2.0",
      "model_name": "LayoutModel",
      "state": {}
     },
     "a85fcb21a68d44dfb50031d03205d587": {
      "model_module": "@jupyter-widgets/base",
      "model_module_version": "1.2.0",
      "model_name": "LayoutModel",
      "state": {}
     },
     "a8ee1de93e49477f8fd3b02a49456662": {
      "model_module": "@jupyter-widgets/controls",
      "model_module_version": "1.5.0",
      "model_name": "DescriptionStyleModel",
      "state": {
       "description_width": ""
      }
     },
     "ac112d5fdcbd4baaa436bd0d8dcc1c75": {
      "model_module": "@jupyter-widgets/base",
      "model_module_version": "1.2.0",
      "model_name": "LayoutModel",
      "state": {
       "min_width": "150px"
      }
     },
     "accf5800d550481fb82ca7051726bb72": {
      "model_module": "@jupyter-widgets/base",
      "model_module_version": "1.2.0",
      "model_name": "LayoutModel",
      "state": {}
     },
     "b275fa153cd247b8bfe1c14454bdf14f": {
      "model_module": "@jupyter-widgets/controls",
      "model_module_version": "1.5.0",
      "model_name": "HBoxModel",
      "state": {
       "children": [
        "IPY_MODEL_b2a7e40b6f1d4b3ba282f2dc05390a24",
        "IPY_MODEL_e7b00a466ba24b9194f35b74915fb5cd",
        "IPY_MODEL_4f1c45072b044320b56bd6a59c8e8500"
       ],
       "layout": "IPY_MODEL_294590e835d34dfa9abaddf04058e6a3"
      }
     },
     "b2a7e40b6f1d4b3ba282f2dc05390a24": {
      "model_module": "@jupyter-widgets/controls",
      "model_module_version": "1.5.0",
      "model_name": "HTMLModel",
      "state": {
       "layout": "IPY_MODEL_dbf656c606c44495a17b4a2d1baba028",
       "style": "IPY_MODEL_0293ec3566d04777b3fb8bcc2336adc3",
       "value": "<div style=\"padding: 0px 10px 0px 10px; text-align: right\">7164 / 7164</div>"
      }
     },
     "b413c6296e7f4237a8a0a75cd5be1711": {
      "model_module": "@jupyter-widgets/controls",
      "model_module_version": "1.5.0",
      "model_name": "VBoxModel",
      "state": {
       "children": [
        "IPY_MODEL_9d56d180954e488189be6222c8168835",
        "IPY_MODEL_45d1ab68efb04e04a2502624debdf7c9"
       ],
       "layout": "IPY_MODEL_1c695770307b4789b28c9d7fe716c40d"
      }
     },
     "ba939fecf6ec4b639bbaae6e8165a98f": {
      "model_module": "@jupyter-widgets/controls",
      "model_module_version": "1.5.0",
      "model_name": "ButtonModel",
      "state": {
       "description": "Adapt",
       "layout": "IPY_MODEL_78dece446d7c4b7aa0bae97ce9154f73",
       "style": "IPY_MODEL_2967221dfe4d4a91a12c8fcffe730560"
      }
     },
     "bd4672e2f0c849649d0d40a6387d326d": {
      "model_module": "@jupyter-widgets/controls",
      "model_module_version": "1.5.0",
      "model_name": "DescriptionStyleModel",
      "state": {
       "description_width": ""
      }
     },
     "bf25ba25920041a1ad4735be1973dc84": {
      "model_module": "@jupyter-widgets/controls",
      "model_module_version": "1.5.0",
      "model_name": "AccordionModel",
      "state": {
       "_titles": {
        "0": "Manual Scaling",
        "1": "Adaptive Scaling"
       },
       "children": [
        "IPY_MODEL_008ae97b46014938917aec4b1cabbedf",
        "IPY_MODEL_0db8a539b3a74615ba169629dcd6cecb"
       ],
       "layout": "IPY_MODEL_2061aa01695f466eab794bc10eff9ce4",
       "selected_index": null
      }
     },
     "c5b9e2884856486798d9f628d2a66d52": {
      "model_module": "@jupyter-widgets/controls",
      "model_module_version": "1.5.0",
      "model_name": "ProgressStyleModel",
      "state": {
       "description_width": ""
      }
     },
     "d1a8bb1d3f4a4a1795937e287f23d617": {
      "model_module": "@jupyter-widgets/base",
      "model_module_version": "1.2.0",
      "model_name": "LayoutModel",
      "state": {}
     },
     "d2496114f0d54e0ca942af963e8da8c8": {
      "model_module": "@jupyter-widgets/controls",
      "model_module_version": "1.5.0",
      "model_name": "HBoxModel",
      "state": {
       "children": [
        "IPY_MODEL_82efbad946374cfe9bb970c7a66a1ef9",
        "IPY_MODEL_dd64329131894fec95119d5fbb923f73",
        "IPY_MODEL_7f00d2bd869d48bfbe687f46c91ca306"
       ],
       "layout": "IPY_MODEL_feea2ac33d6d40ae88538fe88cf24898"
      }
     },
     "d6890fe270e449f4acd91c39403723c7": {
      "model_module": "@jupyter-widgets/controls",
      "model_module_version": "1.5.0",
      "model_name": "HTMLModel",
      "state": {
       "layout": "IPY_MODEL_6b8fede0d357478fb20bb84f9cb57061",
       "style": "IPY_MODEL_44c6952d1d8d4208ae853edd095f4165",
       "value": "<p><b>Dashboard: </b><a href=\"/services/dask-gateway/clusters/compute-rhg.64be60121d974f69be6c913df2b2d4e3/status\" target=\"_blank\">/services/dask-gateway/clusters/compute-rhg.64be60121d974f69be6c913df2b2d4e3/status</a></p>\n"
      }
     },
     "d91f2e3affb843b59f6aff9b92c9b11e": {
      "model_module": "@jupyter-widgets/base",
      "model_module_version": "1.2.0",
      "model_name": "LayoutModel",
      "state": {}
     },
     "db49addadc6d4da9bda2fa0b5c47f05b": {
      "model_module": "@jupyter-widgets/base",
      "model_module_version": "1.2.0",
      "model_name": "LayoutModel",
      "state": {}
     },
     "db6d2a56d21f4c2c8ffee8a64c14f960": {
      "model_module": "@jupyter-widgets/controls",
      "model_module_version": "1.5.0",
      "model_name": "IntTextModel",
      "state": {
       "description": "Workers",
       "layout": "IPY_MODEL_78dece446d7c4b7aa0bae97ce9154f73",
       "step": 1,
       "style": "IPY_MODEL_a8ee1de93e49477f8fd3b02a49456662"
      }
     },
     "dbf656c606c44495a17b4a2d1baba028": {
      "model_module": "@jupyter-widgets/base",
      "model_module_version": "1.2.0",
      "model_name": "LayoutModel",
      "state": {}
     },
     "dcac79afb29c45abb814f3903776c590": {
      "model_module": "@jupyter-widgets/base",
      "model_module_version": "1.2.0",
      "model_name": "LayoutModel",
      "state": {}
     },
     "dd64329131894fec95119d5fbb923f73": {
      "model_module": "@jupyter-widgets/controls",
      "model_module_version": "1.5.0",
      "model_name": "FloatProgressModel",
      "state": {
       "bar_style": "success",
       "layout": "IPY_MODEL_611e7558a4e24c9ba3e6b7a7aa69e88f",
       "max": 1,
       "style": "IPY_MODEL_14b3b494b8ca408784b53db820880478",
       "value": 1
      }
     },
     "deb84ee3abdb4649828f39861e0182fc": {
      "model_module": "@jupyter-widgets/controls",
      "model_module_version": "1.5.0",
      "model_name": "VBoxModel",
      "state": {
       "children": [
        "IPY_MODEL_56edda353ca94a889a04002935ce04cb",
        "IPY_MODEL_40b76e5b330c44139220fd49c8332935"
       ],
       "layout": "IPY_MODEL_d91f2e3affb843b59f6aff9b92c9b11e"
      }
     },
     "e1fd9ab64c634577aa23472883c39dd3": {
      "model_module": "@jupyter-widgets/controls",
      "model_module_version": "1.5.0",
      "model_name": "HTMLModel",
      "state": {
       "layout": "IPY_MODEL_e2589373dbfa46ac8665f4bc80826b2f",
       "style": "IPY_MODEL_e34f1dcfc0f84e149d5a4f97375fddf8",
       "value": "<div style=\"padding: 0px 10px 0px 10px; text-align:left; word-wrap: break-word;\">process_tile</div>"
      }
     },
     "e2589373dbfa46ac8665f4bc80826b2f": {
      "model_module": "@jupyter-widgets/base",
      "model_module_version": "1.2.0",
      "model_name": "LayoutModel",
      "state": {}
     },
     "e34f1dcfc0f84e149d5a4f97375fddf8": {
      "model_module": "@jupyter-widgets/controls",
      "model_module_version": "1.5.0",
      "model_name": "DescriptionStyleModel",
      "state": {
       "description_width": ""
      }
     },
     "e7b00a466ba24b9194f35b74915fb5cd": {
      "model_module": "@jupyter-widgets/controls",
      "model_module_version": "1.5.0",
      "model_name": "FloatProgressModel",
      "state": {
       "bar_style": "success",
       "layout": "IPY_MODEL_3979ea0c636041e09166041c474fe90f",
       "max": 1,
       "style": "IPY_MODEL_c5b9e2884856486798d9f628d2a66d52",
       "value": 1
      }
     },
     "e891b43a845e46919e95553f6eba7abc": {
      "model_module": "@jupyter-widgets/base",
      "model_module_version": "1.2.0",
      "model_name": "LayoutModel",
      "state": {}
     },
     "e8d780dbeb654330827ae41dc203674e": {
      "model_module": "@jupyter-widgets/controls",
      "model_module_version": "1.5.0",
      "model_name": "DescriptionStyleModel",
      "state": {
       "description_width": ""
      }
     },
     "f0ed5538feac4de098aca1af95bd6724": {
      "model_module": "@jupyter-widgets/base",
      "model_module_version": "1.2.0",
      "model_name": "LayoutModel",
      "state": {}
     },
     "f3022b3f8b804f8f985905abc0375a37": {
      "model_module": "@jupyter-widgets/controls",
      "model_module_version": "1.5.0",
      "model_name": "HTMLModel",
      "state": {
       "layout": "IPY_MODEL_ac112d5fdcbd4baaa436bd0d8dcc1c75",
       "style": "IPY_MODEL_8697a94dfe2d491aa543a0f3db7c5e0b",
       "value": "\n<div>\n<style scoped>\n    .dataframe tbody tr th:only-of-type {\n        vertical-align: middle;\n    }\n\n    .dataframe tbody tr th {\n        vertical-align: top;\n    }\n\n    .dataframe thead th {\n        text-align: right;\n    }\n</style>\n<table style=\"text-align: right;\">\n    <tr><th>Workers</th> <td>200</td></tr>\n    <tr><th>Cores</th> <td>200</td></tr>\n    <tr><th>Memory</th> <td>2.20 TiB</td></tr>\n</table>\n</div>\n"
      }
     },
     "f5408f8c65344666adcd94e8776027ab": {
      "model_module": "@jupyter-widgets/controls",
      "model_module_version": "1.5.0",
      "model_name": "VBoxModel",
      "state": {
       "children": [
        "IPY_MODEL_1895b4a076a84855a8cc0955381a0eb7",
        "IPY_MODEL_07a38a1bcc4144c2921d31f91e5f6e13",
        "IPY_MODEL_38c89f03fa8a4b3c85e9bfb27c3e549f",
        "IPY_MODEL_d6890fe270e449f4acd91c39403723c7"
       ],
       "layout": "IPY_MODEL_43fb2adc28aa48f0bee3c66103e9e892"
      }
     },
     "f6de7b9d370b4e4a86ae667cf3a3bc4c": {
      "model_module": "@jupyter-widgets/base",
      "model_module_version": "1.2.0",
      "model_name": "LayoutModel",
      "state": {}
     },
     "f983ff5ba8f24460968caecf8989ebeb": {
      "model_module": "@jupyter-widgets/controls",
      "model_module_version": "1.5.0",
      "model_name": "ButtonStyleModel",
      "state": {}
     },
     "feea2ac33d6d40ae88538fe88cf24898": {
      "model_module": "@jupyter-widgets/base",
      "model_module_version": "1.2.0",
      "model_name": "LayoutModel",
      "state": {}
     }
    },
    "version_major": 2,
    "version_minor": 0
   }
  }
 },
 "nbformat": 4,
 "nbformat_minor": 4
}
