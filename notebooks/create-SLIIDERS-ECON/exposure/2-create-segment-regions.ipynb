{
 "cells": [
  {
   "cell_type": "markdown",
   "id": "735b7444-8a68-4f6e-987c-c045a53b64c6",
   "metadata": {
    "tags": []
   },
   "source": [
    "# Generate set of administrative regions to use in exposure grid\n",
    "- The idea here is to get a globally comprehensive set of administrative boundaries at the `adm1` level or higher if the `adm1` level is not available\n",
    "- Use `adm1` if available and `adm0` if not"
   ]
  },
  {
   "cell_type": "code",
   "execution_count": 1,
   "id": "6e027b29-8979-440c-affa-b55d30ddd87a",
   "metadata": {},
   "outputs": [],
   "source": [
    "%load_ext autoreload\n",
    "%autoreload 2"
   ]
  },
  {
   "cell_type": "code",
   "execution_count": 2,
   "id": "f26ced68",
   "metadata": {},
   "outputs": [
    {
     "name": "stderr",
     "output_type": "stream",
     "text": [
      "/srv/conda/envs/notebook/lib/python3.9/site-packages/dask_gateway/client.py:21: FutureWarning: format_bytes is deprecated and will be removed in a future release. Please use dask.utils.format_bytes instead.\n",
      "  from distributed.utils import LoopRunner, format_bytes\n"
     ]
    }
   ],
   "source": [
    "import warnings\n",
    "\n",
    "import geopandas as gpd\n",
    "import pandas as pd\n",
    "from shapely.errors import ShapelyDeprecationWarning\n",
    "\n",
    "from sliiders import settings as sset\n",
    "from sliiders import spatial"
   ]
  },
  {
   "cell_type": "markdown",
   "id": "5ad804d0-523e-4086-a147-926e4a74147a",
   "metadata": {},
   "source": [
    "#### Read full `adm0` and `adm1` sets"
   ]
  },
  {
   "cell_type": "code",
   "execution_count": 3,
   "id": "10b69ed5-7c8f-4d87-9151-036c300d673f",
   "metadata": {},
   "outputs": [],
   "source": [
    "adm0 = (\n",
    "    gpd.read_file(sset.PATH_GADM, layer=\"level0\")[[\"GID_0\", \"geometry\"]]\n",
    "    .set_crs(epsg=4326)\n",
    "    .set_index(\"GID_0\")\n",
    "    .geometry\n",
    ")\n",
    "adm1 = (\n",
    "    gpd.read_file(sset.PATH_GADM, layer=\"level1\")[[\"GID_0\", \"GID_1\", \"geometry\"]]\n",
    "    .set_crs(epsg=4326)\n",
    "    .set_index(\"GID_1\")\n",
    ")"
   ]
  },
  {
   "cell_type": "markdown",
   "id": "8aa26393-836c-47fd-9b0d-a91ae0ffc839",
   "metadata": {
    "tags": []
   },
   "source": [
    "#### Exclude non-territory ISOs\n",
    "- `ATA`: Antarctica\n",
    "- `XCA`: Caspian Sea"
   ]
  },
  {
   "cell_type": "code",
   "execution_count": 4,
   "id": "ebcc3561-631d-4648-b0c5-eaf6cc583b02",
   "metadata": {},
   "outputs": [
    {
     "data": {
      "text/plain": [
       "['ATA', 'XCA']"
      ]
     },
     "execution_count": 4,
     "metadata": {},
     "output_type": "execute_result"
    }
   ],
   "source": [
    "sset.EXCLUDED_ISOS"
   ]
  },
  {
   "cell_type": "code",
   "execution_count": 5,
   "id": "4840ab34-0646-4a2b-95fe-738df65e980f",
   "metadata": {},
   "outputs": [],
   "source": [
    "# Filter out excluded ISOs\n",
    "adm0 = adm0[~adm0.index.isin(sset.EXCLUDED_ISOS)]\n",
    "adm1 = adm1[~adm1[\"GID_0\"].isin(sset.EXCLUDED_ISOS)]"
   ]
  },
  {
   "cell_type": "markdown",
   "id": "b0354db1-e44f-4619-8fd9-648aa20dc0da",
   "metadata": {},
   "source": [
    "#### Select only countries in `adm0` that do not appear in the `adm1` set, to be included as intermediate `adm1` regions"
   ]
  },
  {
   "cell_type": "code",
   "execution_count": 6,
   "id": "43c4eb7a-d569-4096-bda2-915b147a5c04",
   "metadata": {},
   "outputs": [],
   "source": [
    "adm0_as_adm1 = adm0.drop(adm1.GID_0.unique())"
   ]
  },
  {
   "cell_type": "markdown",
   "id": "36e4a88b-ec4c-43d7-bd77-294b7008c816",
   "metadata": {},
   "source": [
    "#### Concatenate all `adm1` regions"
   ]
  },
  {
   "cell_type": "code",
   "execution_count": 7,
   "id": "d5a6c1a0-404f-4d9b-90a6-fa472953b040",
   "metadata": {},
   "outputs": [],
   "source": [
    "full = pd.concat([adm0_as_adm1.to_frame(), adm1]).geometry.to_frame()\n",
    "full[\"ISO\"] = full.index.str.split(\".\").str[0]\n",
    "full.index.name = \"adm1\"\n",
    "assert full.index.is_unique\n",
    "seg_centroids = gpd.read_file(sset.PATH_SEG_CENTROIDS).set_index(\"station_id\").geometry\n",
    "coastlines = gpd.read_file(sset.PATH_CIAM_COASTLINES).set_index(\"line_id\").geometry\n",
    "overlay_name = \"seg_adm\""
   ]
  },
  {
   "cell_type": "code",
   "execution_count": null,
   "id": "f603158c-54e5-4e2d-82c6-0676ba8b7064",
   "metadata": {
    "tags": []
   },
   "outputs": [
    {
     "name": "stdout",
     "output_type": "stream",
     "text": [
      "Generating global Voronoi shapes for regions...\n"
     ]
    },
    {
     "data": {
      "application/vnd.jupyter.widget-view+json": {
       "model_id": "f1a62c9cd4b24cc78e1200a8edee661d",
       "version_major": 2,
       "version_minor": 0
      },
      "text/plain": [
       "  0%|          | 0/169 [00:00<?, ?it/s]"
      ]
     },
     "metadata": {},
     "output_type": "display_data"
    },
    {
     "data": {
      "application/vnd.jupyter.widget-view+json": {
       "model_id": "6692b69601494dfdbc454816b288bb60",
       "version_major": 2,
       "version_minor": 0
      },
      "text/plain": [
       "  0%|          | 0/5 [00:00<?, ?it/s]"
      ]
     },
     "metadata": {},
     "output_type": "display_data"
    },
    {
     "data": {
      "application/vnd.jupyter.widget-view+json": {
       "model_id": "27ce045c6eea4fa0b608dd42a7116273",
       "version_major": 2,
       "version_minor": 0
      },
      "text/plain": [
       "  0%|          | 0/5 [00:00<?, ?it/s]"
      ]
     },
     "metadata": {},
     "output_type": "display_data"
    },
    {
     "name": "stderr",
     "output_type": "stream",
     "text": [
      "/srv/conda/envs/notebook/lib/python3.9/site-packages/pygeos/predicates.py:764: RuntimeWarning: invalid value encountered in intersects\n",
      "  return lib.intersects(a, b, **kwargs)\n"
     ]
    },
    {
     "data": {
      "application/vnd.jupyter.widget-view+json": {
       "model_id": "d50040562b46410ebf7fc4f78c98069a",
       "version_major": 2,
       "version_minor": 0
      },
      "text/plain": [
       "  0%|          | 0/8 [00:00<?, ?it/s]"
      ]
     },
     "metadata": {},
     "output_type": "display_data"
    },
    {
     "name": "stdout",
     "output_type": "stream",
     "text": [
      "Assigning countries to segment centroids...\n",
      "Generating within-country Voronoi shapes for segment centroids...\n",
      "AIA Generating country-level coastlines...\n"
     ]
    },
    {
     "name": "stderr",
     "output_type": "stream",
     "text": [
      "/srv/conda/envs/notebook/lib/python3.9/site-packages/pygeos/set_operations.py:129: RuntimeWarning: invalid value encountered in intersection\n",
      "  return lib.intersection(a, b, **kwargs)\n"
     ]
    },
    {
     "name": "stdout",
     "output_type": "stream",
     "text": [
      "Assigning segments to each centroid point...\n",
      "Creating segment X region Voronoi shapes...\n",
      "AIA "
     ]
    }
   ],
   "source": [
    "with warnings.catch_warnings():\n",
    "    warnings.filterwarnings(\"ignore\", category=ShapelyDeprecationWarning)\n",
    "    all_overlays, ciam_polys = spatial.create_overlay_voronois(\n",
    "        full, seg_centroids, coastlines, overlay_name, plot=True\n",
    "    )"
   ]
  },
  {
   "cell_type": "code",
   "execution_count": null,
   "id": "31b77d44-3a31-42a6-a67b-4d869765c73f",
   "metadata": {},
   "outputs": [],
   "source": [
    "sset.PATH_CIAM_ADM1_VORONOI_INTERSECTIONS.parent.mkdir(exist_ok=False)\n",
    "\n",
    "all_overlays.to_parquet(sset.PATH_CIAM_ADM1_VORONOI_INTERSECTIONS, index=False)\n",
    "all_overlays.to_file(sset.PATH_CIAM_ADM1_VORONOI_INTERSECTIONS_SHP)\n",
    "\n",
    "ciam_polys.to_parquet(sset.PATH_CIAM_POLYS, index=False)"
   ]
  }
 ],
 "metadata": {
  "kernelspec": {
   "display_name": "Python 3 (ipykernel)",
   "language": "python",
   "name": "python3"
  },
  "language_info": {
   "codemirror_mode": {
    "name": "ipython",
    "version": 3
   },
   "file_extension": ".py",
   "mimetype": "text/x-python",
   "name": "python",
   "nbconvert_exporter": "python",
   "pygments_lexer": "ipython3",
   "version": "3.9.10"
  },
  "widgets": {
   "application/vnd.jupyter.widget-state+json": {
    "state": {
     "006967bdebf040a2aacbc6657691ecde": {
      "model_module": "@jupyter-widgets/controls",
      "model_module_version": "1.5.0",
      "model_name": "ProgressStyleModel",
      "state": {
       "description_width": ""
      }
     },
     "0077a529785c49ad8bdd3e50d6b5fafd": {
      "model_module": "@jupyter-widgets/base",
      "model_module_version": "1.2.0",
      "model_name": "LayoutModel",
      "state": {}
     },
     "00b994acfcfc4f64a2a54d5f38eeb171": {
      "model_module": "@jupyter-widgets/controls",
      "model_module_version": "1.5.0",
      "model_name": "HTMLModel",
      "state": {
       "layout": "IPY_MODEL_024bd61ee9864cd08bd68b841c9710c0",
       "style": "IPY_MODEL_3b5bda0cd7a44967950a1ae074cb6b53",
       "value": " 5/5 [00:00&lt;00:00, 260.57it/s]"
      }
     },
     "0127016f850f4ef88a46f70c73cddd82": {
      "model_module": "@jupyter-widgets/controls",
      "model_module_version": "1.5.0",
      "model_name": "DescriptionStyleModel",
      "state": {
       "description_width": ""
      }
     },
     "0190c9c6c5da41679fba4ece7adc3d84": {
      "model_module": "@jupyter-widgets/controls",
      "model_module_version": "1.5.0",
      "model_name": "ProgressStyleModel",
      "state": {
       "description_width": ""
      }
     },
     "019c1715f51640529016178abe05d47e": {
      "model_module": "@jupyter-widgets/base",
      "model_module_version": "1.2.0",
      "model_name": "LayoutModel",
      "state": {}
     },
     "01d1d713fef24ebc90aef8d368f6e84a": {
      "model_module": "@jupyter-widgets/controls",
      "model_module_version": "1.5.0",
      "model_name": "HTMLModel",
      "state": {
       "layout": "IPY_MODEL_f141cda1d2464e308d70f4ab59bef370",
       "style": "IPY_MODEL_5c42a5d944e142b8aabccb82f3790d54",
       "value": " 5/5 [00:00&lt;00:00, 256.47it/s]"
      }
     },
     "02290a33721d47668778e00f985568e8": {
      "model_module": "@jupyter-widgets/base",
      "model_module_version": "1.2.0",
      "model_name": "LayoutModel",
      "state": {}
     },
     "02386d9b9c654f5a812da96416df2976": {
      "model_module": "@jupyter-widgets/base",
      "model_module_version": "1.2.0",
      "model_name": "LayoutModel",
      "state": {}
     },
     "0242b3cf451d407ba6ec54b93ed013a5": {
      "model_module": "@jupyter-widgets/base",
      "model_module_version": "1.2.0",
      "model_name": "LayoutModel",
      "state": {}
     },
     "024bd61ee9864cd08bd68b841c9710c0": {
      "model_module": "@jupyter-widgets/base",
      "model_module_version": "1.2.0",
      "model_name": "LayoutModel",
      "state": {}
     },
     "02a35b7c3abb48d5b12196d3db891b24": {
      "model_module": "@jupyter-widgets/base",
      "model_module_version": "1.2.0",
      "model_name": "LayoutModel",
      "state": {}
     },
     "02b0b39d765f46c59f169543d962aee8": {
      "model_module": "@jupyter-widgets/controls",
      "model_module_version": "1.5.0",
      "model_name": "FloatProgressModel",
      "state": {
       "bar_style": "success",
       "layout": "IPY_MODEL_67640381fca646e3a40cc498fa1d5778",
       "max": 169,
       "style": "IPY_MODEL_31c80f1f84524c789468ca53796ca9d0",
       "value": 169
      }
     },
     "03e52ba8882b49d7bbcad42ecd5e590b": {
      "model_module": "@jupyter-widgets/controls",
      "model_module_version": "1.5.0",
      "model_name": "FloatProgressModel",
      "state": {
       "bar_style": "success",
       "layout": "IPY_MODEL_37d84c0714404a9b8e393ab6acc742df",
       "max": 169,
       "style": "IPY_MODEL_a9ccce4e5a5a4f92bba07916d4213469",
       "value": 169
      }
     },
     "03f173daf2204a0495ccc5a9ff2c4e04": {
      "model_module": "@jupyter-widgets/controls",
      "model_module_version": "1.5.0",
      "model_name": "ProgressStyleModel",
      "state": {
       "description_width": ""
      }
     },
     "050305bfb07645688be9b48d2efe1add": {
      "model_module": "@jupyter-widgets/controls",
      "model_module_version": "1.5.0",
      "model_name": "HTMLModel",
      "state": {
       "layout": "IPY_MODEL_353aa116f36f470ba09a6f00595b2ded",
       "style": "IPY_MODEL_11f4f98f45204b68beb97b8b0ab6460e",
       "value": "100%"
      }
     },
     "052e229ed13e4374ba861eb08f2b6884": {
      "model_module": "@jupyter-widgets/base",
      "model_module_version": "1.2.0",
      "model_name": "LayoutModel",
      "state": {}
     },
     "061a76214b404c1183944cc1356a70bb": {
      "model_module": "@jupyter-widgets/controls",
      "model_module_version": "1.5.0",
      "model_name": "DescriptionStyleModel",
      "state": {
       "description_width": ""
      }
     },
     "0759165bb3934c3e90e1877d14ef8d3e": {
      "model_module": "@jupyter-widgets/controls",
      "model_module_version": "1.5.0",
      "model_name": "HTMLModel",
      "state": {
       "layout": "IPY_MODEL_233503088f584e57a876fc78e95a3c0b",
       "style": "IPY_MODEL_8adcda32261f47d9ac7611a05ba4687c",
       "value": " 1/1 [00:00&lt;00:00, 11.43it/s]"
      }
     },
     "076775cff52c4c77bd1b09ead4d5df75": {
      "model_module": "@jupyter-widgets/controls",
      "model_module_version": "1.5.0",
      "model_name": "ProgressStyleModel",
      "state": {
       "description_width": ""
      }
     },
     "076bf196d27c4d0b84027b905e4ae6d0": {
      "model_module": "@jupyter-widgets/controls",
      "model_module_version": "1.5.0",
      "model_name": "HTMLModel",
      "state": {
       "layout": "IPY_MODEL_6149d18b9cbf4cd3aa90c046a383d07f",
       "style": "IPY_MODEL_b3718d3ed16e468d9e147f8ba3ee3c2f",
       "value": "100%"
      }
     },
     "0aeefdd0e9f74dafbfe2738d044e7cc8": {
      "model_module": "@jupyter-widgets/controls",
      "model_module_version": "1.5.0",
      "model_name": "HBoxModel",
      "state": {
       "children": [
        "IPY_MODEL_a861a9b4a3ee4557988c162832284597",
        "IPY_MODEL_39b420bc315849fa87d7c957d294f43c",
        "IPY_MODEL_cf96a9b268434b8da772cef92b6d0618"
       ],
       "layout": "IPY_MODEL_3dc2f4d8519e45ce97da4f509348c0b3"
      }
     },
     "0b0fdcb6c6964a3eba11cb5269624b4c": {
      "model_module": "@jupyter-widgets/controls",
      "model_module_version": "1.5.0",
      "model_name": "DescriptionStyleModel",
      "state": {
       "description_width": ""
      }
     },
     "0b20a3c52ff344bea47f353dac480637": {
      "model_module": "@jupyter-widgets/controls",
      "model_module_version": "1.5.0",
      "model_name": "DescriptionStyleModel",
      "state": {
       "description_width": ""
      }
     },
     "0b682d4421714b948e2b7424addf6b16": {
      "model_module": "@jupyter-widgets/base",
      "model_module_version": "1.2.0",
      "model_name": "LayoutModel",
      "state": {}
     },
     "0be293d1e6cd439598da2508b08ae87f": {
      "model_module": "@jupyter-widgets/controls",
      "model_module_version": "1.5.0",
      "model_name": "HTMLModel",
      "state": {
       "layout": "IPY_MODEL_7dd6b07539524d8bb5789c6499d87f3b",
       "style": "IPY_MODEL_0b20a3c52ff344bea47f353dac480637",
       "value": " 5/5 [00:00&lt;00:00, 266.49it/s]"
      }
     },
     "0c1b998732fd4f2ab69e22b90860ea73": {
      "model_module": "@jupyter-widgets/controls",
      "model_module_version": "1.5.0",
      "model_name": "DescriptionStyleModel",
      "state": {
       "description_width": ""
      }
     },
     "0ca35e250dac4a3eac936d1599d7665f": {
      "model_module": "@jupyter-widgets/controls",
      "model_module_version": "1.5.0",
      "model_name": "DescriptionStyleModel",
      "state": {
       "description_width": ""
      }
     },
     "0d82982b1c98433f808b1b09aacf948e": {
      "model_module": "@jupyter-widgets/controls",
      "model_module_version": "1.5.0",
      "model_name": "HTMLModel",
      "state": {
       "layout": "IPY_MODEL_7133669864d3465187812abea3152235",
       "style": "IPY_MODEL_0e41f88935d74084a768980191ac42e7",
       "value": "100%"
      }
     },
     "0dc4d6f8cbd94635b511b21d9ef62357": {
      "model_module": "@jupyter-widgets/base",
      "model_module_version": "1.2.0",
      "model_name": "LayoutModel",
      "state": {}
     },
     "0e41f88935d74084a768980191ac42e7": {
      "model_module": "@jupyter-widgets/controls",
      "model_module_version": "1.5.0",
      "model_name": "DescriptionStyleModel",
      "state": {
       "description_width": ""
      }
     },
     "0e69caba28384e3eb1ce963f0463dfb1": {
      "model_module": "@jupyter-widgets/controls",
      "model_module_version": "1.5.0",
      "model_name": "FloatProgressModel",
      "state": {
       "bar_style": "success",
       "layout": "IPY_MODEL_ac8f28a2b6424b4f8e075050a3aed66e",
       "max": 169,
       "style": "IPY_MODEL_607f4cdce99047ce8f73f866d617e17e",
       "value": 169
      }
     },
     "0f2f8fb77f984cb8ad83e57d58c8b758": {
      "model_module": "@jupyter-widgets/controls",
      "model_module_version": "1.5.0",
      "model_name": "DescriptionStyleModel",
      "state": {
       "description_width": ""
      }
     },
     "0f983360117c4e2d8f53cf42b541bfc3": {
      "model_module": "@jupyter-widgets/controls",
      "model_module_version": "1.5.0",
      "model_name": "FloatProgressModel",
      "state": {
       "bar_style": "success",
       "layout": "IPY_MODEL_ebe1ad0089e94903ac4a68e7d0eadcf7",
       "max": 8,
       "style": "IPY_MODEL_1f4b819c0d1d4f0b9840cf7974557174",
       "value": 8
      }
     },
     "10380e142c8642ea905f976ecd8565d9": {
      "model_module": "@jupyter-widgets/controls",
      "model_module_version": "1.5.0",
      "model_name": "HTMLModel",
      "state": {
       "layout": "IPY_MODEL_1b534a0123a141b6b8352662f4d7b4ba",
       "style": "IPY_MODEL_fb5b393b91164b81b560e8196c5efa11",
       "value": "100%"
      }
     },
     "11f4f98f45204b68beb97b8b0ab6460e": {
      "model_module": "@jupyter-widgets/controls",
      "model_module_version": "1.5.0",
      "model_name": "DescriptionStyleModel",
      "state": {
       "description_width": ""
      }
     },
     "13636b556ef842bbb0f331b75ffab9ee": {
      "model_module": "@jupyter-widgets/controls",
      "model_module_version": "1.5.0",
      "model_name": "DescriptionStyleModel",
      "state": {
       "description_width": ""
      }
     },
     "139435f294b34978abdd84c886dfd87a": {
      "model_module": "@jupyter-widgets/controls",
      "model_module_version": "1.5.0",
      "model_name": "ProgressStyleModel",
      "state": {
       "description_width": ""
      }
     },
     "142022f08d684e3ca43a5519d43827da": {
      "model_module": "@jupyter-widgets/controls",
      "model_module_version": "1.5.0",
      "model_name": "DescriptionStyleModel",
      "state": {
       "description_width": ""
      }
     },
     "145a1bcc817d440ea57cd8e0abec76d2": {
      "model_module": "@jupyter-widgets/controls",
      "model_module_version": "1.5.0",
      "model_name": "DescriptionStyleModel",
      "state": {
       "description_width": ""
      }
     },
     "147d1fa663894b0abc0c7a75aedbebb8": {
      "model_module": "@jupyter-widgets/base",
      "model_module_version": "1.2.0",
      "model_name": "LayoutModel",
      "state": {}
     },
     "14b57974eb2c4e35bac7d77c5d159870": {
      "model_module": "@jupyter-widgets/base",
      "model_module_version": "1.2.0",
      "model_name": "LayoutModel",
      "state": {}
     },
     "14e2ec3dd7894727898ad9885bef8eb9": {
      "model_module": "@jupyter-widgets/controls",
      "model_module_version": "1.5.0",
      "model_name": "HTMLModel",
      "state": {
       "layout": "IPY_MODEL_147d1fa663894b0abc0c7a75aedbebb8",
       "style": "IPY_MODEL_dc636b3870c741b482ed003f2d6deb86",
       "value": " 169/169 [00:01&lt;00:00, 128.25it/s]"
      }
     },
     "14f33dae480f4d879ec9abd4234afa1f": {
      "model_module": "@jupyter-widgets/base",
      "model_module_version": "1.2.0",
      "model_name": "LayoutModel",
      "state": {}
     },
     "1528109e1d1d472c8db7d2e3339fc9f6": {
      "model_module": "@jupyter-widgets/base",
      "model_module_version": "1.2.0",
      "model_name": "LayoutModel",
      "state": {}
     },
     "15709e3181254ed38355f58ad2295cda": {
      "model_module": "@jupyter-widgets/base",
      "model_module_version": "1.2.0",
      "model_name": "LayoutModel",
      "state": {}
     },
     "164bbe58b8df4f9cb771f2a51fa899f7": {
      "model_module": "@jupyter-widgets/controls",
      "model_module_version": "1.5.0",
      "model_name": "HTMLModel",
      "state": {
       "layout": "IPY_MODEL_91116f9ae8324f288e2c0c3285cf5136",
       "style": "IPY_MODEL_9ba0332897814cb3915212d8824cf699",
       "value": "100%"
      }
     },
     "179cf0ec0eb14fdb99588bb280694371": {
      "model_module": "@jupyter-widgets/base",
      "model_module_version": "1.2.0",
      "model_name": "LayoutModel",
      "state": {}
     },
     "1838f210e3e748ec9dbe5ff1b6038a72": {
      "model_module": "@jupyter-widgets/controls",
      "model_module_version": "1.5.0",
      "model_name": "HTMLModel",
      "state": {
       "layout": "IPY_MODEL_0dc4d6f8cbd94635b511b21d9ef62357",
       "style": "IPY_MODEL_415d69edeb1d474faaae9a086e7973cf",
       "value": "100%"
      }
     },
     "1888233132564f69b4d7163765a67113": {
      "model_module": "@jupyter-widgets/controls",
      "model_module_version": "1.5.0",
      "model_name": "HBoxModel",
      "state": {
       "children": [
        "IPY_MODEL_686423fd00bd4c97a7fcd21855104891",
        "IPY_MODEL_c39525f04fa548a88cd5527eea47f8f3",
        "IPY_MODEL_515244f0aedc4bef97a37a46859a485f"
       ],
       "layout": "IPY_MODEL_d18af58dc6ef49eca06cfa91b3b2de72"
      }
     },
     "190d35963c8145b589df2e6fd48c5a1e": {
      "model_module": "@jupyter-widgets/controls",
      "model_module_version": "1.5.0",
      "model_name": "HTMLModel",
      "state": {
       "layout": "IPY_MODEL_aa9fd656278d4eaaabc567d8b438306b",
       "style": "IPY_MODEL_5bb9540d5859462bbe49771337742690",
       "value": " 5/5 [00:07&lt;00:00,  7.40s/it]"
      }
     },
     "195f2e36683c421495b476251d22f110": {
      "model_module": "@jupyter-widgets/controls",
      "model_module_version": "1.5.0",
      "model_name": "FloatProgressModel",
      "state": {
       "bar_style": "success",
       "layout": "IPY_MODEL_3c7805464bf84c54ad6a3d524a80999f",
       "max": 5,
       "style": "IPY_MODEL_a0a7d0913871497387ac7b40ea953c16",
       "value": 5
      }
     },
     "1ad6ee0e1c7b4d1ba0af988d92452ce4": {
      "model_module": "@jupyter-widgets/controls",
      "model_module_version": "1.5.0",
      "model_name": "HTMLModel",
      "state": {
       "layout": "IPY_MODEL_4697dc82605c475493a0d4946ac11b5e",
       "style": "IPY_MODEL_1e50f419a14f4e988266486f206304bc",
       "value": "100%"
      }
     },
     "1b534a0123a141b6b8352662f4d7b4ba": {
      "model_module": "@jupyter-widgets/base",
      "model_module_version": "1.2.0",
      "model_name": "LayoutModel",
      "state": {}
     },
     "1ca50966cc504aaa9b12d6edf5e8c094": {
      "model_module": "@jupyter-widgets/controls",
      "model_module_version": "1.5.0",
      "model_name": "DescriptionStyleModel",
      "state": {
       "description_width": ""
      }
     },
     "1cf9813bb82d442887c4dbdc565f6d14": {
      "model_module": "@jupyter-widgets/base",
      "model_module_version": "1.2.0",
      "model_name": "LayoutModel",
      "state": {}
     },
     "1d179c95dde84053b2cb85170a63d58e": {
      "model_module": "@jupyter-widgets/controls",
      "model_module_version": "1.5.0",
      "model_name": "ProgressStyleModel",
      "state": {
       "description_width": ""
      }
     },
     "1e40e72532b14aaeb07cc2ebb5c73c88": {
      "model_module": "@jupyter-widgets/controls",
      "model_module_version": "1.5.0",
      "model_name": "FloatProgressModel",
      "state": {
       "bar_style": "success",
       "layout": "IPY_MODEL_fa956f186f9142a1966bce065be22576",
       "max": 8,
       "style": "IPY_MODEL_cf5c21682f21443093eea978449fd6e0",
       "value": 8
      }
     },
     "1e50f419a14f4e988266486f206304bc": {
      "model_module": "@jupyter-widgets/controls",
      "model_module_version": "1.5.0",
      "model_name": "DescriptionStyleModel",
      "state": {
       "description_width": ""
      }
     },
     "1e59fda431224e58916cdb3aff6ba17a": {
      "model_module": "@jupyter-widgets/controls",
      "model_module_version": "1.5.0",
      "model_name": "DescriptionStyleModel",
      "state": {
       "description_width": ""
      }
     },
     "1e8b586612ec4e99b312f6f5b89be7fe": {
      "model_module": "@jupyter-widgets/controls",
      "model_module_version": "1.5.0",
      "model_name": "FloatProgressModel",
      "state": {
       "bar_style": "success",
       "layout": "IPY_MODEL_ed522760d91c4f6f8f102c58ab2a5238",
       "max": 5,
       "style": "IPY_MODEL_03f173daf2204a0495ccc5a9ff2c4e04",
       "value": 5
      }
     },
     "1e8cf07c44074f6c8057f3beea8ecd11": {
      "model_module": "@jupyter-widgets/controls",
      "model_module_version": "1.5.0",
      "model_name": "HBoxModel",
      "state": {
       "children": [
        "IPY_MODEL_c35475acfee94afb948a247d74cb95fa",
        "IPY_MODEL_df653bc22c30490c9969b22fde7c5612",
        "IPY_MODEL_43acc81cacb34e3c86919c400043760a"
       ],
       "layout": "IPY_MODEL_644a5613a6a04471848ae8411cb76801"
      }
     },
     "1eca4f2602ae4282b4a5d07e4faa6988": {
      "model_module": "@jupyter-widgets/controls",
      "model_module_version": "1.5.0",
      "model_name": "DescriptionStyleModel",
      "state": {
       "description_width": ""
      }
     },
     "1efad534d1d447e18e65ac7e69522897": {
      "model_module": "@jupyter-widgets/base",
      "model_module_version": "1.2.0",
      "model_name": "LayoutModel",
      "state": {}
     },
     "1f4b819c0d1d4f0b9840cf7974557174": {
      "model_module": "@jupyter-widgets/controls",
      "model_module_version": "1.5.0",
      "model_name": "ProgressStyleModel",
      "state": {
       "description_width": ""
      }
     },
     "21f004c2700d4b95996bfca63f81c52c": {
      "model_module": "@jupyter-widgets/controls",
      "model_module_version": "1.5.0",
      "model_name": "HBoxModel",
      "state": {
       "children": [
        "IPY_MODEL_076bf196d27c4d0b84027b905e4ae6d0",
        "IPY_MODEL_ab0887717dca4b9cb296f3f39c6af0fe",
        "IPY_MODEL_aa7a5caaa24c4f52a05ee95ca6fcc148"
       ],
       "layout": "IPY_MODEL_84fd4115983340e28526016766646c04"
      }
     },
     "2290c8bf5ddb4868a530b2e3939a3987": {
      "model_module": "@jupyter-widgets/base",
      "model_module_version": "1.2.0",
      "model_name": "LayoutModel",
      "state": {}
     },
     "22c25f63729641e6b24c619e61399684": {
      "model_module": "@jupyter-widgets/base",
      "model_module_version": "1.2.0",
      "model_name": "LayoutModel",
      "state": {}
     },
     "2320dc1acc764c75bc1557b90654cbe9": {
      "model_module": "@jupyter-widgets/controls",
      "model_module_version": "1.5.0",
      "model_name": "HTMLModel",
      "state": {
       "layout": "IPY_MODEL_b69a3bc049724a6d807842cee18b338d",
       "style": "IPY_MODEL_0f2f8fb77f984cb8ad83e57d58c8b758",
       "value": "100%"
      }
     },
     "233503088f584e57a876fc78e95a3c0b": {
      "model_module": "@jupyter-widgets/base",
      "model_module_version": "1.2.0",
      "model_name": "LayoutModel",
      "state": {}
     },
     "234276b09942439a8a95b1858f4bc7a8": {
      "model_module": "@jupyter-widgets/controls",
      "model_module_version": "1.5.0",
      "model_name": "DescriptionStyleModel",
      "state": {
       "description_width": ""
      }
     },
     "2380147dbafa4e06a2e00325fab6e8bb": {
      "model_module": "@jupyter-widgets/controls",
      "model_module_version": "1.5.0",
      "model_name": "ProgressStyleModel",
      "state": {
       "description_width": ""
      }
     },
     "2437bcacdb704c11ac51e5a1aaa14e5b": {
      "model_module": "@jupyter-widgets/controls",
      "model_module_version": "1.5.0",
      "model_name": "HTMLModel",
      "state": {
       "layout": "IPY_MODEL_8491330a218c4f258f2c66b1173585a0",
       "style": "IPY_MODEL_9c83758fee434afdad811baf267b1ec4",
       "value": "100%"
      }
     },
     "25613d2906e54780b96a657c67873000": {
      "model_module": "@jupyter-widgets/controls",
      "model_module_version": "1.5.0",
      "model_name": "ProgressStyleModel",
      "state": {
       "description_width": ""
      }
     },
     "256eaca5f51e4ded94a6bf3a9542a601": {
      "model_module": "@jupyter-widgets/controls",
      "model_module_version": "1.5.0",
      "model_name": "HTMLModel",
      "state": {
       "layout": "IPY_MODEL_02386d9b9c654f5a812da96416df2976",
       "style": "IPY_MODEL_4e87922747ea47f6a82468fb1498a4ee",
       "value": "100%"
      }
     },
     "27ce045c6eea4fa0b608dd42a7116273": {
      "model_module": "@jupyter-widgets/controls",
      "model_module_version": "1.5.0",
      "model_name": "HBoxModel",
      "state": {
       "children": [
        "IPY_MODEL_dfdbe92728c747d48ccc505f2561db0a",
        "IPY_MODEL_bee901ad7186484590844f6ba7fef73e",
        "IPY_MODEL_7c95a847da694f0282914fd325494a54"
       ],
       "layout": "IPY_MODEL_e7e9b2a971d346ba81a8833557316bf9"
      }
     },
     "2aa3dd3d5d0e4dba9af86ccccc01aaf4": {
      "model_module": "@jupyter-widgets/controls",
      "model_module_version": "1.5.0",
      "model_name": "DescriptionStyleModel",
      "state": {
       "description_width": ""
      }
     },
     "2aedf4df28434cb9a6653beaba2f10fc": {
      "model_module": "@jupyter-widgets/controls",
      "model_module_version": "1.5.0",
      "model_name": "DescriptionStyleModel",
      "state": {
       "description_width": ""
      }
     },
     "2b726d0d264d41ae99036cdbf7531107": {
      "model_module": "@jupyter-widgets/controls",
      "model_module_version": "1.5.0",
      "model_name": "DescriptionStyleModel",
      "state": {
       "description_width": ""
      }
     },
     "2d136296d69a4a5dad793183108451e8": {
      "model_module": "@jupyter-widgets/controls",
      "model_module_version": "1.5.0",
      "model_name": "DescriptionStyleModel",
      "state": {
       "description_width": ""
      }
     },
     "2dbd8c936c4d44e0a38b6306fd57c8e0": {
      "model_module": "@jupyter-widgets/controls",
      "model_module_version": "1.5.0",
      "model_name": "HBoxModel",
      "state": {
       "children": [
        "IPY_MODEL_f3f77ed82922498986770a077ab3aa88",
        "IPY_MODEL_03e52ba8882b49d7bbcad42ecd5e590b",
        "IPY_MODEL_62bf7548f780452ca7a23b5a6860736e"
       ],
       "layout": "IPY_MODEL_93ab6b30af784ab582e2f996702cbd52"
      }
     },
     "307486c318ba4d7bbe424f126e1cd210": {
      "model_module": "@jupyter-widgets/base",
      "model_module_version": "1.2.0",
      "model_name": "LayoutModel",
      "state": {}
     },
     "30caf091438444f38b5f79e631f52fe8": {
      "model_module": "@jupyter-widgets/controls",
      "model_module_version": "1.5.0",
      "model_name": "HTMLModel",
      "state": {
       "layout": "IPY_MODEL_f3cbf1549ade4bb4befc16af9f4c0f93",
       "style": "IPY_MODEL_3469c308847e43e49af734ba9b7cf494",
       "value": " 5/5 [00:00&lt;00:00, 229.33it/s]"
      }
     },
     "30f1e21fa15f4c1ba7e91b258bd0e5aa": {
      "model_module": "@jupyter-widgets/base",
      "model_module_version": "1.2.0",
      "model_name": "LayoutModel",
      "state": {}
     },
     "31a6e3e8d32b4e7bbd1139e74dde7095": {
      "model_module": "@jupyter-widgets/base",
      "model_module_version": "1.2.0",
      "model_name": "LayoutModel",
      "state": {}
     },
     "31c80f1f84524c789468ca53796ca9d0": {
      "model_module": "@jupyter-widgets/controls",
      "model_module_version": "1.5.0",
      "model_name": "ProgressStyleModel",
      "state": {
       "description_width": ""
      }
     },
     "3299e9e1819c446392c1d2c98103c3cc": {
      "model_module": "@jupyter-widgets/base",
      "model_module_version": "1.2.0",
      "model_name": "LayoutModel",
      "state": {}
     },
     "345b8f9c894940169b2fae18599b0f0d": {
      "model_module": "@jupyter-widgets/base",
      "model_module_version": "1.2.0",
      "model_name": "LayoutModel",
      "state": {}
     },
     "3469c308847e43e49af734ba9b7cf494": {
      "model_module": "@jupyter-widgets/controls",
      "model_module_version": "1.5.0",
      "model_name": "DescriptionStyleModel",
      "state": {
       "description_width": ""
      }
     },
     "350cef9319c84794827db2336f1ad05e": {
      "model_module": "@jupyter-widgets/controls",
      "model_module_version": "1.5.0",
      "model_name": "HTMLModel",
      "state": {
       "layout": "IPY_MODEL_dbed2a314ce04c8caf9e911166c1ac45",
       "style": "IPY_MODEL_ef078ec8282541648989976b85c3c485",
       "value": " 8/8 [00:00&lt;00:00, 13.48it/s]"
      }
     },
     "353aa116f36f470ba09a6f00595b2ded": {
      "model_module": "@jupyter-widgets/base",
      "model_module_version": "1.2.0",
      "model_name": "LayoutModel",
      "state": {}
     },
     "35c6c646fdf848c3abab9d9caf905d63": {
      "model_module": "@jupyter-widgets/base",
      "model_module_version": "1.2.0",
      "model_name": "LayoutModel",
      "state": {}
     },
     "3768811364c94152b9662f780f8f16b4": {
      "model_module": "@jupyter-widgets/controls",
      "model_module_version": "1.5.0",
      "model_name": "HTMLModel",
      "state": {
       "layout": "IPY_MODEL_83ad7cce958b41a7965fd59b7c8e605f",
       "style": "IPY_MODEL_0127016f850f4ef88a46f70c73cddd82",
       "value": " 5/5 [00:12&lt;00:00, 12.06s/it]"
      }
     },
     "37d84c0714404a9b8e393ab6acc742df": {
      "model_module": "@jupyter-widgets/base",
      "model_module_version": "1.2.0",
      "model_name": "LayoutModel",
      "state": {}
     },
     "38883157c4ce46b99044077960d0fd2d": {
      "model_module": "@jupyter-widgets/controls",
      "model_module_version": "1.5.0",
      "model_name": "HTMLModel",
      "state": {
       "layout": "IPY_MODEL_bfa50a40eadb4ed8ab18d736409fb325",
       "style": "IPY_MODEL_2aedf4df28434cb9a6653beaba2f10fc",
       "value": " 169/169 [00:01&lt;00:00, 169.90it/s]"
      }
     },
     "39060b45defc420ca299bec55011d099": {
      "model_module": "@jupyter-widgets/controls",
      "model_module_version": "1.5.0",
      "model_name": "HBoxModel",
      "state": {
       "children": [
        "IPY_MODEL_71fdd2549bde4e8d8e58a2113b9857a2",
        "IPY_MODEL_6710878ced9f4b9288e8e1990df933da",
        "IPY_MODEL_14e2ec3dd7894727898ad9885bef8eb9"
       ],
       "layout": "IPY_MODEL_6cdd133353054b1b8f432422876a10b2"
      }
     },
     "398e5e58078244328ff0d93cbfbb98b7": {
      "model_module": "@jupyter-widgets/controls",
      "model_module_version": "1.5.0",
      "model_name": "FloatProgressModel",
      "state": {
       "bar_style": "success",
       "layout": "IPY_MODEL_9b893f49db6e4a38a3dadf56843a9ec6",
       "max": 5,
       "style": "IPY_MODEL_e7858388e4a14bb6b6a17bcd889aaee1",
       "value": 5
      }
     },
     "39b420bc315849fa87d7c957d294f43c": {
      "model_module": "@jupyter-widgets/controls",
      "model_module_version": "1.5.0",
      "model_name": "FloatProgressModel",
      "state": {
       "bar_style": "success",
       "layout": "IPY_MODEL_a84c0d749d7243ac833ed19de8c4497c",
       "max": 169,
       "style": "IPY_MODEL_5d32d89b5f5c4b24a8226c85fd41fe61",
       "value": 169
      }
     },
     "39b88aee2d474665a56da3d3941aa639": {
      "model_module": "@jupyter-widgets/controls",
      "model_module_version": "1.5.0",
      "model_name": "FloatProgressModel",
      "state": {
       "bar_style": "success",
       "layout": "IPY_MODEL_019c1715f51640529016178abe05d47e",
       "max": 169,
       "style": "IPY_MODEL_944abd27192347d5b2fd93e4968f81c5",
       "value": 169
      }
     },
     "3a4524a592594bfa8f7be9f6a2a5e7d5": {
      "model_module": "@jupyter-widgets/base",
      "model_module_version": "1.2.0",
      "model_name": "LayoutModel",
      "state": {}
     },
     "3b51967a909e4915a31d822fc9707d1c": {
      "model_module": "@jupyter-widgets/base",
      "model_module_version": "1.2.0",
      "model_name": "LayoutModel",
      "state": {}
     },
     "3b5bda0cd7a44967950a1ae074cb6b53": {
      "model_module": "@jupyter-widgets/controls",
      "model_module_version": "1.5.0",
      "model_name": "DescriptionStyleModel",
      "state": {
       "description_width": ""
      }
     },
     "3c126c27d4ee4b9dacd490ca9a18eb8c": {
      "model_module": "@jupyter-widgets/controls",
      "model_module_version": "1.5.0",
      "model_name": "FloatProgressModel",
      "state": {
       "bar_style": "success",
       "layout": "IPY_MODEL_7aecf657c5564c5fbf84838140dab741",
       "max": 5,
       "style": "IPY_MODEL_fe8fee560cac4a08b39a65aae4cff476",
       "value": 5
      }
     },
     "3c3fb99d85ac48518177d0178aefb72a": {
      "model_module": "@jupyter-widgets/controls",
      "model_module_version": "1.5.0",
      "model_name": "HBoxModel",
      "state": {
       "children": [
        "IPY_MODEL_9d98892b7c1b4d02a65da011f86833e0",
        "IPY_MODEL_195f2e36683c421495b476251d22f110",
        "IPY_MODEL_a26e47a734b049aeaaa9e6f99387d4c5"
       ],
       "layout": "IPY_MODEL_ce91556ae61148bab5c9d961fd590996"
      }
     },
     "3c7805464bf84c54ad6a3d524a80999f": {
      "model_module": "@jupyter-widgets/base",
      "model_module_version": "1.2.0",
      "model_name": "LayoutModel",
      "state": {}
     },
     "3d630aebf0fe493f86245f628c892b77": {
      "model_module": "@jupyter-widgets/controls",
      "model_module_version": "1.5.0",
      "model_name": "HTMLModel",
      "state": {
       "layout": "IPY_MODEL_5630acfa95be4d3a9379923b69e159a0",
       "style": "IPY_MODEL_a830a0f15b7f4ed4a6212db797b3be2d",
       "value": " 8/8 [00:00&lt;00:00, 17.96it/s]"
      }
     },
     "3dc2f4d8519e45ce97da4f509348c0b3": {
      "model_module": "@jupyter-widgets/base",
      "model_module_version": "1.2.0",
      "model_name": "LayoutModel",
      "state": {}
     },
     "3ebaea97fa0e4d50a9215d9e9fd3c97b": {
      "model_module": "@jupyter-widgets/base",
      "model_module_version": "1.2.0",
      "model_name": "LayoutModel",
      "state": {}
     },
     "3edfcccb902749968204498ee73c70d3": {
      "model_module": "@jupyter-widgets/controls",
      "model_module_version": "1.5.0",
      "model_name": "HTMLModel",
      "state": {
       "layout": "IPY_MODEL_79fc05bb77cd4517ac3b2f69d3ee8ce5",
       "style": "IPY_MODEL_81245bff30bb49c39ff77e5579acd233",
       "value": " 8/8 [00:00&lt;00:00, 17.99it/s]"
      }
     },
     "3fe6c52f63a646e397580acd2c16f99d": {
      "model_module": "@jupyter-widgets/controls",
      "model_module_version": "1.5.0",
      "model_name": "DescriptionStyleModel",
      "state": {
       "description_width": ""
      }
     },
     "3ffae8fe0a4e465580f42941ba25a904": {
      "model_module": "@jupyter-widgets/base",
      "model_module_version": "1.2.0",
      "model_name": "LayoutModel",
      "state": {}
     },
     "415d69edeb1d474faaae9a086e7973cf": {
      "model_module": "@jupyter-widgets/controls",
      "model_module_version": "1.5.0",
      "model_name": "DescriptionStyleModel",
      "state": {
       "description_width": ""
      }
     },
     "41b32d67143f4865b069ecd39eb0dc40": {
      "model_module": "@jupyter-widgets/controls",
      "model_module_version": "1.5.0",
      "model_name": "HTMLModel",
      "state": {
       "layout": "IPY_MODEL_307486c318ba4d7bbe424f126e1cd210",
       "style": "IPY_MODEL_0b0fdcb6c6964a3eba11cb5269624b4c",
       "value": "100%"
      }
     },
     "43acc81cacb34e3c86919c400043760a": {
      "model_module": "@jupyter-widgets/controls",
      "model_module_version": "1.5.0",
      "model_name": "HTMLModel",
      "state": {
       "layout": "IPY_MODEL_4983d46117d444879820c880367a8495",
       "style": "IPY_MODEL_8aafb8b846874224b466e3e16b0e01c2",
       "value": " 8/8 [00:00&lt;00:00, 18.15it/s]"
      }
     },
     "44ceec55023240f299fda887420ac459": {
      "model_module": "@jupyter-widgets/base",
      "model_module_version": "1.2.0",
      "model_name": "LayoutModel",
      "state": {}
     },
     "458575eed59947089c857aed892974a3": {
      "model_module": "@jupyter-widgets/controls",
      "model_module_version": "1.5.0",
      "model_name": "HTMLModel",
      "state": {
       "layout": "IPY_MODEL_6fd071b2199142889ac15e4196b7d6c5",
       "style": "IPY_MODEL_95005cca8a4748628aa958becfce9c68",
       "value": " 5/5 [00:08&lt;00:00,  8.15s/it]"
      }
     },
     "4610006c178d4000b403c8ce2148efae": {
      "model_module": "@jupyter-widgets/controls",
      "model_module_version": "1.5.0",
      "model_name": "ProgressStyleModel",
      "state": {
       "description_width": ""
      }
     },
     "46909147af9b40b9bc2d1468b19c11db": {
      "model_module": "@jupyter-widgets/controls",
      "model_module_version": "1.5.0",
      "model_name": "HTMLModel",
      "state": {
       "layout": "IPY_MODEL_789e1a69984d42578c056de66f06c91d",
       "style": "IPY_MODEL_8c4db6e8f17449e689b3b664cb2ce84f",
       "value": " 8/8 [00:00&lt;00:00, 18.40it/s]"
      }
     },
     "4697dc82605c475493a0d4946ac11b5e": {
      "model_module": "@jupyter-widgets/base",
      "model_module_version": "1.2.0",
      "model_name": "LayoutModel",
      "state": {}
     },
     "48bccdffa0d4474aa4e9100436f106e6": {
      "model_module": "@jupyter-widgets/controls",
      "model_module_version": "1.5.0",
      "model_name": "HBoxModel",
      "state": {
       "children": [
        "IPY_MODEL_92021b92f230474ea88191904306932c",
        "IPY_MODEL_5df8e24d7a994433ae4cc3bff991f983",
        "IPY_MODEL_ba1d6fde4189424e8eb902151b18072d"
       ],
       "layout": "IPY_MODEL_d594213c42ae42f1bdd9a9d9e7fabfd3"
      }
     },
     "4983d46117d444879820c880367a8495": {
      "model_module": "@jupyter-widgets/base",
      "model_module_version": "1.2.0",
      "model_name": "LayoutModel",
      "state": {}
     },
     "49c76252127542f782c23e984c42de07": {
      "model_module": "@jupyter-widgets/base",
      "model_module_version": "1.2.0",
      "model_name": "LayoutModel",
      "state": {}
     },
     "4abb484f71084a5fbd9bd5e1dd675d8c": {
      "model_module": "@jupyter-widgets/controls",
      "model_module_version": "1.5.0",
      "model_name": "FloatProgressModel",
      "state": {
       "bar_style": "success",
       "layout": "IPY_MODEL_3b51967a909e4915a31d822fc9707d1c",
       "max": 5,
       "style": "IPY_MODEL_d7f2b91eb2cb4e998b1ff77a4b0d20b9",
       "value": 5
      }
     },
     "4af45f13cbbd4288ada2cfaaae815b7a": {
      "model_module": "@jupyter-widgets/controls",
      "model_module_version": "1.5.0",
      "model_name": "HBoxModel",
      "state": {
       "children": [
        "IPY_MODEL_abcfe42ae32348c3964d8f3abef1d756",
        "IPY_MODEL_4b1c30438a87491e9e01b5d6cb9a2a63",
        "IPY_MODEL_83f353a8127c4e0eb9824ce450ec97a9"
       ],
       "layout": "IPY_MODEL_98cc3ad1d2434d539ec1d32483f7954e"
      }
     },
     "4b1c30438a87491e9e01b5d6cb9a2a63": {
      "model_module": "@jupyter-widgets/controls",
      "model_module_version": "1.5.0",
      "model_name": "FloatProgressModel",
      "state": {
       "bar_style": "success",
       "layout": "IPY_MODEL_15709e3181254ed38355f58ad2295cda",
       "max": 8,
       "style": "IPY_MODEL_4610006c178d4000b403c8ce2148efae",
       "value": 8
      }
     },
     "4bb00499dd084e0b98e0fcb97fa8fe9f": {
      "model_module": "@jupyter-widgets/base",
      "model_module_version": "1.2.0",
      "model_name": "LayoutModel",
      "state": {}
     },
     "4dea87bcf5954bc4a6a0cddb7b5142d8": {
      "model_module": "@jupyter-widgets/base",
      "model_module_version": "1.2.0",
      "model_name": "LayoutModel",
      "state": {}
     },
     "4e87922747ea47f6a82468fb1498a4ee": {
      "model_module": "@jupyter-widgets/controls",
      "model_module_version": "1.5.0",
      "model_name": "DescriptionStyleModel",
      "state": {
       "description_width": ""
      }
     },
     "515244f0aedc4bef97a37a46859a485f": {
      "model_module": "@jupyter-widgets/controls",
      "model_module_version": "1.5.0",
      "model_name": "HTMLModel",
      "state": {
       "layout": "IPY_MODEL_14b57974eb2c4e35bac7d77c5d159870",
       "style": "IPY_MODEL_142022f08d684e3ca43a5519d43827da",
       "value": " 5/5 [00:07&lt;00:00,  7.78s/it]"
      }
     },
     "5158add2e5844e499c184c72758a6669": {
      "model_module": "@jupyter-widgets/controls",
      "model_module_version": "1.5.0",
      "model_name": "HBoxModel",
      "state": {
       "children": [
        "IPY_MODEL_e09057e432914c1591fce715d68ccf1c",
        "IPY_MODEL_9184321f7399434280076a63adc957fe",
        "IPY_MODEL_eb9c55342d594ae2b15bc3273036f295"
       ],
       "layout": "IPY_MODEL_7dc9f168c5d64331a10cb65e7ffcbb4f"
      }
     },
     "51da966e8aea4c6fb3e635741c1d6f19": {
      "model_module": "@jupyter-widgets/controls",
      "model_module_version": "1.5.0",
      "model_name": "DescriptionStyleModel",
      "state": {
       "description_width": ""
      }
     },
     "52de80d16ab040d7a50e3fa75e9ba7da": {
      "model_module": "@jupyter-widgets/base",
      "model_module_version": "1.2.0",
      "model_name": "LayoutModel",
      "state": {}
     },
     "5381bcddad4d444ba1dc0747a9d04b82": {
      "model_module": "@jupyter-widgets/base",
      "model_module_version": "1.2.0",
      "model_name": "LayoutModel",
      "state": {}
     },
     "54cbf4a1f0c24e6b921f7becc2b93ae2": {
      "model_module": "@jupyter-widgets/base",
      "model_module_version": "1.2.0",
      "model_name": "LayoutModel",
      "state": {}
     },
     "54e73d732c164897a66fd901e7c2411f": {
      "model_module": "@jupyter-widgets/controls",
      "model_module_version": "1.5.0",
      "model_name": "HTMLModel",
      "state": {
       "layout": "IPY_MODEL_2290c8bf5ddb4868a530b2e3939a3987",
       "style": "IPY_MODEL_af7bcef6f4314240b96811fdf499cb52",
       "value": "100%"
      }
     },
     "5630acfa95be4d3a9379923b69e159a0": {
      "model_module": "@jupyter-widgets/base",
      "model_module_version": "1.2.0",
      "model_name": "LayoutModel",
      "state": {}
     },
     "5706c19deec94a6da3f6852245799632": {
      "model_module": "@jupyter-widgets/base",
      "model_module_version": "1.2.0",
      "model_name": "LayoutModel",
      "state": {}
     },
     "59732ff061b74a31bb88f2a55dbe69f0": {
      "model_module": "@jupyter-widgets/controls",
      "model_module_version": "1.5.0",
      "model_name": "DescriptionStyleModel",
      "state": {
       "description_width": ""
      }
     },
     "5a39f3c4d8c84fa2aeaeb73d4f95383f": {
      "model_module": "@jupyter-widgets/controls",
      "model_module_version": "1.5.0",
      "model_name": "HBoxModel",
      "state": {
       "children": [
        "IPY_MODEL_2320dc1acc764c75bc1557b90654cbe9",
        "IPY_MODEL_64ca7b63ba054590ac02b2d630e4d3c5",
        "IPY_MODEL_a30bf3d6e3904652b5549fea4cb3d8c9"
       ],
       "layout": "IPY_MODEL_0b682d4421714b948e2b7424addf6b16"
      }
     },
     "5a77a327cd0c453aa629e38968326c2b": {
      "model_module": "@jupyter-widgets/controls",
      "model_module_version": "1.5.0",
      "model_name": "DescriptionStyleModel",
      "state": {
       "description_width": ""
      }
     },
     "5ae2d29efead4bcf89823abad76ec5ac": {
      "model_module": "@jupyter-widgets/controls",
      "model_module_version": "1.5.0",
      "model_name": "ProgressStyleModel",
      "state": {
       "description_width": ""
      }
     },
     "5b49c268c341415c90d7bbd8915f5fd0": {
      "model_module": "@jupyter-widgets/controls",
      "model_module_version": "1.5.0",
      "model_name": "HTMLModel",
      "state": {
       "layout": "IPY_MODEL_6583de6192ca474483b0d5a454752d4f",
       "style": "IPY_MODEL_13636b556ef842bbb0f331b75ffab9ee",
       "value": "100%"
      }
     },
     "5bb9540d5859462bbe49771337742690": {
      "model_module": "@jupyter-widgets/controls",
      "model_module_version": "1.5.0",
      "model_name": "DescriptionStyleModel",
      "state": {
       "description_width": ""
      }
     },
     "5c42a5d944e142b8aabccb82f3790d54": {
      "model_module": "@jupyter-widgets/controls",
      "model_module_version": "1.5.0",
      "model_name": "DescriptionStyleModel",
      "state": {
       "description_width": ""
      }
     },
     "5d32d89b5f5c4b24a8226c85fd41fe61": {
      "model_module": "@jupyter-widgets/controls",
      "model_module_version": "1.5.0",
      "model_name": "ProgressStyleModel",
      "state": {
       "description_width": ""
      }
     },
     "5da0c938600d49efb20103a30fabf669": {
      "model_module": "@jupyter-widgets/controls",
      "model_module_version": "1.5.0",
      "model_name": "FloatProgressModel",
      "state": {
       "bar_style": "success",
       "layout": "IPY_MODEL_afcbed5cada14df296c5588bcd662029",
       "max": 5,
       "style": "IPY_MODEL_cbf2240c9f4d496498195e3ee010a994",
       "value": 5
      }
     },
     "5df8e24d7a994433ae4cc3bff991f983": {
      "model_module": "@jupyter-widgets/controls",
      "model_module_version": "1.5.0",
      "model_name": "FloatProgressModel",
      "state": {
       "bar_style": "success",
       "layout": "IPY_MODEL_81d6edbf98464a80baf74610889cbed7",
       "max": 8,
       "style": "IPY_MODEL_dbcb2ec924ff435d871a7500cd6bc06f",
       "value": 8
      }
     },
     "5e75c83db1ce4d9e8d0ab92069aa4fab": {
      "model_module": "@jupyter-widgets/controls",
      "model_module_version": "1.5.0",
      "model_name": "ProgressStyleModel",
      "state": {
       "description_width": ""
      }
     },
     "5f449c5b191247f59c51766228ba96c9": {
      "model_module": "@jupyter-widgets/controls",
      "model_module_version": "1.5.0",
      "model_name": "FloatProgressModel",
      "state": {
       "bar_style": "success",
       "layout": "IPY_MODEL_3299e9e1819c446392c1d2c98103c3cc",
       "max": 1,
       "style": "IPY_MODEL_076775cff52c4c77bd1b09ead4d5df75",
       "value": 1
      }
     },
     "607f4cdce99047ce8f73f866d617e17e": {
      "model_module": "@jupyter-widgets/controls",
      "model_module_version": "1.5.0",
      "model_name": "ProgressStyleModel",
      "state": {
       "description_width": ""
      }
     },
     "61456e4ecad04c939fd8851b04f10eae": {
      "model_module": "@jupyter-widgets/base",
      "model_module_version": "1.2.0",
      "model_name": "LayoutModel",
      "state": {}
     },
     "6149d18b9cbf4cd3aa90c046a383d07f": {
      "model_module": "@jupyter-widgets/base",
      "model_module_version": "1.2.0",
      "model_name": "LayoutModel",
      "state": {}
     },
     "62bf7548f780452ca7a23b5a6860736e": {
      "model_module": "@jupyter-widgets/controls",
      "model_module_version": "1.5.0",
      "model_name": "HTMLModel",
      "state": {
       "layout": "IPY_MODEL_7562d1ca33b848f49d1992de9110042d",
       "style": "IPY_MODEL_c579897b10644d7d87e1605c3c35c224",
       "value": " 169/169 [00:01&lt;00:00, 173.78it/s]"
      }
     },
     "6312d1fa218f4349b5e5c6464af14929": {
      "model_module": "@jupyter-widgets/controls",
      "model_module_version": "1.5.0",
      "model_name": "HTMLModel",
      "state": {
       "layout": "IPY_MODEL_345b8f9c894940169b2fae18599b0f0d",
       "style": "IPY_MODEL_deb38a7dc6b142ea966624c6ba4e92f5",
       "value": " 169/169 [00:01&lt;00:00, 169.71it/s]"
      }
     },
     "644a5613a6a04471848ae8411cb76801": {
      "model_module": "@jupyter-widgets/base",
      "model_module_version": "1.2.0",
      "model_name": "LayoutModel",
      "state": {}
     },
     "64ca7b63ba054590ac02b2d630e4d3c5": {
      "model_module": "@jupyter-widgets/controls",
      "model_module_version": "1.5.0",
      "model_name": "FloatProgressModel",
      "state": {
       "bar_style": "success",
       "layout": "IPY_MODEL_9c9ecf9ed2424bde8ef6cd8039501b5f",
       "max": 5,
       "style": "IPY_MODEL_5e75c83db1ce4d9e8d0ab92069aa4fab",
       "value": 5
      }
     },
     "64dc008588a0495f89bdc0da0d6da620": {
      "model_module": "@jupyter-widgets/controls",
      "model_module_version": "1.5.0",
      "model_name": "DescriptionStyleModel",
      "state": {
       "description_width": ""
      }
     },
     "6583de6192ca474483b0d5a454752d4f": {
      "model_module": "@jupyter-widgets/base",
      "model_module_version": "1.2.0",
      "model_name": "LayoutModel",
      "state": {}
     },
     "6692b69601494dfdbc454816b288bb60": {
      "model_module": "@jupyter-widgets/controls",
      "model_module_version": "1.5.0",
      "model_name": "HBoxModel",
      "state": {
       "children": [
        "IPY_MODEL_0d82982b1c98433f808b1b09aacf948e",
        "IPY_MODEL_398e5e58078244328ff0d93cbfbb98b7",
        "IPY_MODEL_71b551a3916042a5bbe3bcce78f984ad"
       ],
       "layout": "IPY_MODEL_1efad534d1d447e18e65ac7e69522897"
      }
     },
     "66a137598d3a4f308ec0fd9911e23192": {
      "model_module": "@jupyter-widgets/base",
      "model_module_version": "1.2.0",
      "model_name": "LayoutModel",
      "state": {}
     },
     "6710878ced9f4b9288e8e1990df933da": {
      "model_module": "@jupyter-widgets/controls",
      "model_module_version": "1.5.0",
      "model_name": "FloatProgressModel",
      "state": {
       "bar_style": "success",
       "layout": "IPY_MODEL_f255eb2b9d87422c9b3cde193d09bd14",
       "max": 169,
       "style": "IPY_MODEL_139435f294b34978abdd84c886dfd87a",
       "value": 169
      }
     },
     "67640381fca646e3a40cc498fa1d5778": {
      "model_module": "@jupyter-widgets/base",
      "model_module_version": "1.2.0",
      "model_name": "LayoutModel",
      "state": {}
     },
     "686423fd00bd4c97a7fcd21855104891": {
      "model_module": "@jupyter-widgets/controls",
      "model_module_version": "1.5.0",
      "model_name": "HTMLModel",
      "state": {
       "layout": "IPY_MODEL_aa556e5f62164129a3f46da4f5b001ce",
       "style": "IPY_MODEL_59732ff061b74a31bb88f2a55dbe69f0",
       "value": "100%"
      }
     },
     "6a734e14718e40d58e4bec827e0798df": {
      "model_module": "@jupyter-widgets/base",
      "model_module_version": "1.2.0",
      "model_name": "LayoutModel",
      "state": {}
     },
     "6c03926a488e48e29fbeb197f5c1c5e8": {
      "model_module": "@jupyter-widgets/controls",
      "model_module_version": "1.5.0",
      "model_name": "DescriptionStyleModel",
      "state": {
       "description_width": ""
      }
     },
     "6cdd133353054b1b8f432422876a10b2": {
      "model_module": "@jupyter-widgets/base",
      "model_module_version": "1.2.0",
      "model_name": "LayoutModel",
      "state": {}
     },
     "6e9caca78aa640bf93627552fa8ad948": {
      "model_module": "@jupyter-widgets/controls",
      "model_module_version": "1.5.0",
      "model_name": "ProgressStyleModel",
      "state": {
       "description_width": ""
      }
     },
     "6f0a4e14631d4dc3899f9ec7044d7a16": {
      "model_module": "@jupyter-widgets/controls",
      "model_module_version": "1.5.0",
      "model_name": "HBoxModel",
      "state": {
       "children": [
        "IPY_MODEL_050305bfb07645688be9b48d2efe1add",
        "IPY_MODEL_0e69caba28384e3eb1ce963f0463dfb1",
        "IPY_MODEL_38883157c4ce46b99044077960d0fd2d"
       ],
       "layout": "IPY_MODEL_52de80d16ab040d7a50e3fa75e9ba7da"
      }
     },
     "6fd071b2199142889ac15e4196b7d6c5": {
      "model_module": "@jupyter-widgets/base",
      "model_module_version": "1.2.0",
      "model_name": "LayoutModel",
      "state": {}
     },
     "7133669864d3465187812abea3152235": {
      "model_module": "@jupyter-widgets/base",
      "model_module_version": "1.2.0",
      "model_name": "LayoutModel",
      "state": {}
     },
     "71b551a3916042a5bbe3bcce78f984ad": {
      "model_module": "@jupyter-widgets/controls",
      "model_module_version": "1.5.0",
      "model_name": "HTMLModel",
      "state": {
       "layout": "IPY_MODEL_ea550da5236a4f25a4e7e9bfaf7b649d",
       "style": "IPY_MODEL_2d136296d69a4a5dad793183108451e8",
       "value": " 5/5 [00:08&lt;00:00,  8.65s/it]"
      }
     },
     "71fdd2549bde4e8d8e58a2113b9857a2": {
      "model_module": "@jupyter-widgets/controls",
      "model_module_version": "1.5.0",
      "model_name": "HTMLModel",
      "state": {
       "layout": "IPY_MODEL_0077a529785c49ad8bdd3e50d6b5fafd",
       "style": "IPY_MODEL_7ed746601724478eac4baa98c0968e4a",
       "value": "100%"
      }
     },
     "7562d1ca33b848f49d1992de9110042d": {
      "model_module": "@jupyter-widgets/base",
      "model_module_version": "1.2.0",
      "model_name": "LayoutModel",
      "state": {}
     },
     "756a14182ad04d1caba4f51b4da12655": {
      "model_module": "@jupyter-widgets/base",
      "model_module_version": "1.2.0",
      "model_name": "LayoutModel",
      "state": {}
     },
     "75a485225b55487886d15e51a97013ee": {
      "model_module": "@jupyter-widgets/base",
      "model_module_version": "1.2.0",
      "model_name": "LayoutModel",
      "state": {}
     },
     "76f6ace6b09b42448c73d4f0fcd07838": {
      "model_module": "@jupyter-widgets/controls",
      "model_module_version": "1.5.0",
      "model_name": "FloatProgressModel",
      "state": {
       "bar_style": "success",
       "layout": "IPY_MODEL_fa64aca754e5476eb0ad199b05640f68",
       "max": 5,
       "style": "IPY_MODEL_5ae2d29efead4bcf89823abad76ec5ac",
       "value": 5
      }
     },
     "789e1a69984d42578c056de66f06c91d": {
      "model_module": "@jupyter-widgets/base",
      "model_module_version": "1.2.0",
      "model_name": "LayoutModel",
      "state": {}
     },
     "79fc05bb77cd4517ac3b2f69d3ee8ce5": {
      "model_module": "@jupyter-widgets/base",
      "model_module_version": "1.2.0",
      "model_name": "LayoutModel",
      "state": {}
     },
     "7aecf657c5564c5fbf84838140dab741": {
      "model_module": "@jupyter-widgets/base",
      "model_module_version": "1.2.0",
      "model_name": "LayoutModel",
      "state": {}
     },
     "7b3837227ea84c11aa3f08d7d463d9fd": {
      "model_module": "@jupyter-widgets/controls",
      "model_module_version": "1.5.0",
      "model_name": "HTMLModel",
      "state": {
       "layout": "IPY_MODEL_96efd5122b764c0088cb918600926e2d",
       "style": "IPY_MODEL_234276b09942439a8a95b1858f4bc7a8",
       "value": " 169/169 [00:01&lt;00:00, 172.48it/s]"
      }
     },
     "7c95a847da694f0282914fd325494a54": {
      "model_module": "@jupyter-widgets/controls",
      "model_module_version": "1.5.0",
      "model_name": "HTMLModel",
      "state": {
       "layout": "IPY_MODEL_54cbf4a1f0c24e6b921f7becc2b93ae2",
       "style": "IPY_MODEL_0ca35e250dac4a3eac936d1599d7665f",
       "value": " 5/5 [00:00&lt;00:00, 263.54it/s]"
      }
     },
     "7dc9f168c5d64331a10cb65e7ffcbb4f": {
      "model_module": "@jupyter-widgets/base",
      "model_module_version": "1.2.0",
      "model_name": "LayoutModel",
      "state": {}
     },
     "7dd6b07539524d8bb5789c6499d87f3b": {
      "model_module": "@jupyter-widgets/base",
      "model_module_version": "1.2.0",
      "model_name": "LayoutModel",
      "state": {}
     },
     "7ec15246897949ea84552efabdfa066b": {
      "model_module": "@jupyter-widgets/controls",
      "model_module_version": "1.5.0",
      "model_name": "HBoxModel",
      "state": {
       "children": [
        "IPY_MODEL_41b32d67143f4865b069ecd39eb0dc40",
        "IPY_MODEL_1e40e72532b14aaeb07cc2ebb5c73c88",
        "IPY_MODEL_350cef9319c84794827db2336f1ad05e"
       ],
       "layout": "IPY_MODEL_b0356659dc07462f9a02fe075e4e16d8"
      }
     },
     "7ed746601724478eac4baa98c0968e4a": {
      "model_module": "@jupyter-widgets/controls",
      "model_module_version": "1.5.0",
      "model_name": "DescriptionStyleModel",
      "state": {
       "description_width": ""
      }
     },
     "7f246a55f3db43d086fc4a9c6337bb71": {
      "model_module": "@jupyter-widgets/controls",
      "model_module_version": "1.5.0",
      "model_name": "DescriptionStyleModel",
      "state": {
       "description_width": ""
      }
     },
     "7f4119e3c32e44aaa8fd999070cd1c3c": {
      "model_module": "@jupyter-widgets/controls",
      "model_module_version": "1.5.0",
      "model_name": "HBoxModel",
      "state": {
       "children": [
        "IPY_MODEL_10380e142c8642ea905f976ecd8565d9",
        "IPY_MODEL_1e8b586612ec4e99b312f6f5b89be7fe",
        "IPY_MODEL_190d35963c8145b589df2e6fd48c5a1e"
       ],
       "layout": "IPY_MODEL_31a6e3e8d32b4e7bbd1139e74dde7095"
      }
     },
     "7fd509b44dc04566a2f9ddae5821b5a2": {
      "model_module": "@jupyter-widgets/base",
      "model_module_version": "1.2.0",
      "model_name": "LayoutModel",
      "state": {}
     },
     "8068d19a0a8b48ae8e9a6831e36f749b": {
      "model_module": "@jupyter-widgets/controls",
      "model_module_version": "1.5.0",
      "model_name": "HBoxModel",
      "state": {
       "children": [
        "IPY_MODEL_5b49c268c341415c90d7bbd8915f5fd0",
        "IPY_MODEL_ec4859b3d90f4387b6574c23850d7063",
        "IPY_MODEL_458575eed59947089c857aed892974a3"
       ],
       "layout": "IPY_MODEL_49c76252127542f782c23e984c42de07"
      }
     },
     "806ac7667342441aa41a406038875c74": {
      "model_module": "@jupyter-widgets/controls",
      "model_module_version": "1.5.0",
      "model_name": "HTMLModel",
      "state": {
       "layout": "IPY_MODEL_cfeea96568ff4584bdeb312f827ac637",
       "style": "IPY_MODEL_ef2e5c53afbc4feea26b10512942ea69",
       "value": " 8/8 [00:00&lt;00:00, 19.55it/s]"
      }
     },
     "81245bff30bb49c39ff77e5579acd233": {
      "model_module": "@jupyter-widgets/controls",
      "model_module_version": "1.5.0",
      "model_name": "DescriptionStyleModel",
      "state": {
       "description_width": ""
      }
     },
     "81d6edbf98464a80baf74610889cbed7": {
      "model_module": "@jupyter-widgets/base",
      "model_module_version": "1.2.0",
      "model_name": "LayoutModel",
      "state": {}
     },
     "825d65822e4a4e518a45471d2ee6549c": {
      "model_module": "@jupyter-widgets/controls",
      "model_module_version": "1.5.0",
      "model_name": "HTMLModel",
      "state": {
       "layout": "IPY_MODEL_c2617c91bfcd4904ba14b2576461c4c0",
       "style": "IPY_MODEL_8b10202686ce4c8c8811bca7485a6716",
       "value": " 5/5 [00:08&lt;00:00,  8.18s/it]"
      }
     },
     "82fe185eac784af5a4e4730e79ea3096": {
      "model_module": "@jupyter-widgets/controls",
      "model_module_version": "1.5.0",
      "model_name": "FloatProgressModel",
      "state": {
       "bar_style": "success",
       "layout": "IPY_MODEL_22c25f63729641e6b24c619e61399684",
       "max": 5,
       "style": "IPY_MODEL_d7c578647a3d4ba1809a93fc6846c828",
       "value": 5
      }
     },
     "8303a670407a40be99ac5600d78b09ec": {
      "model_module": "@jupyter-widgets/base",
      "model_module_version": "1.2.0",
      "model_name": "LayoutModel",
      "state": {}
     },
     "83ad7cce958b41a7965fd59b7c8e605f": {
      "model_module": "@jupyter-widgets/base",
      "model_module_version": "1.2.0",
      "model_name": "LayoutModel",
      "state": {}
     },
     "83f353a8127c4e0eb9824ce450ec97a9": {
      "model_module": "@jupyter-widgets/controls",
      "model_module_version": "1.5.0",
      "model_name": "HTMLModel",
      "state": {
       "layout": "IPY_MODEL_9368df01ac0e417a957f6c856b47fc7a",
       "style": "IPY_MODEL_b3dc94365ab847779867c209b0aa2939",
       "value": " 8/8 [00:00&lt;00:00, 18.66it/s]"
      }
     },
     "8429e267d26a4b9d9025f4433e4c2022": {
      "model_module": "@jupyter-widgets/controls",
      "model_module_version": "1.5.0",
      "model_name": "DescriptionStyleModel",
      "state": {
       "description_width": ""
      }
     },
     "8491330a218c4f258f2c66b1173585a0": {
      "model_module": "@jupyter-widgets/base",
      "model_module_version": "1.2.0",
      "model_name": "LayoutModel",
      "state": {}
     },
     "84fd4115983340e28526016766646c04": {
      "model_module": "@jupyter-widgets/base",
      "model_module_version": "1.2.0",
      "model_name": "LayoutModel",
      "state": {}
     },
     "86493105634748afbdf4e67383e87be7": {
      "model_module": "@jupyter-widgets/base",
      "model_module_version": "1.2.0",
      "model_name": "LayoutModel",
      "state": {}
     },
     "878d1baed99d47f39fc0772974352c09": {
      "model_module": "@jupyter-widgets/base",
      "model_module_version": "1.2.0",
      "model_name": "LayoutModel",
      "state": {}
     },
     "896b310c1f6f4ce38f676eede6e5d0b1": {
      "model_module": "@jupyter-widgets/controls",
      "model_module_version": "1.5.0",
      "model_name": "ProgressStyleModel",
      "state": {
       "description_width": ""
      }
     },
     "8aabac6a0b23409a9985936f85c4b48e": {
      "model_module": "@jupyter-widgets/controls",
      "model_module_version": "1.5.0",
      "model_name": "FloatProgressModel",
      "state": {
       "bar_style": "success",
       "layout": "IPY_MODEL_75a485225b55487886d15e51a97013ee",
       "max": 5,
       "style": "IPY_MODEL_b2abd401dc8c4c88a876324a5c35fba6",
       "value": 5
      }
     },
     "8aafb8b846874224b466e3e16b0e01c2": {
      "model_module": "@jupyter-widgets/controls",
      "model_module_version": "1.5.0",
      "model_name": "DescriptionStyleModel",
      "state": {
       "description_width": ""
      }
     },
     "8adcda32261f47d9ac7611a05ba4687c": {
      "model_module": "@jupyter-widgets/controls",
      "model_module_version": "1.5.0",
      "model_name": "DescriptionStyleModel",
      "state": {
       "description_width": ""
      }
     },
     "8b10202686ce4c8c8811bca7485a6716": {
      "model_module": "@jupyter-widgets/controls",
      "model_module_version": "1.5.0",
      "model_name": "DescriptionStyleModel",
      "state": {
       "description_width": ""
      }
     },
     "8bbac399b8894c24aacf087c1fefb1db": {
      "model_module": "@jupyter-widgets/controls",
      "model_module_version": "1.5.0",
      "model_name": "DescriptionStyleModel",
      "state": {
       "description_width": ""
      }
     },
     "8c4db6e8f17449e689b3b664cb2ce84f": {
      "model_module": "@jupyter-widgets/controls",
      "model_module_version": "1.5.0",
      "model_name": "DescriptionStyleModel",
      "state": {
       "description_width": ""
      }
     },
     "8cf2230300c84cddba33e187523aa8ed": {
      "model_module": "@jupyter-widgets/base",
      "model_module_version": "1.2.0",
      "model_name": "LayoutModel",
      "state": {}
     },
     "8fbf76ddf1bd42e285c325e7241d0faa": {
      "model_module": "@jupyter-widgets/base",
      "model_module_version": "1.2.0",
      "model_name": "LayoutModel",
      "state": {}
     },
     "8fd1ab653dfd4477b8dd2630f40fdd71": {
      "model_module": "@jupyter-widgets/controls",
      "model_module_version": "1.5.0",
      "model_name": "ProgressStyleModel",
      "state": {
       "description_width": ""
      }
     },
     "90090b0d7bce4e4badc94f9718949f1b": {
      "model_module": "@jupyter-widgets/base",
      "model_module_version": "1.2.0",
      "model_name": "LayoutModel",
      "state": {}
     },
     "91116f9ae8324f288e2c0c3285cf5136": {
      "model_module": "@jupyter-widgets/base",
      "model_module_version": "1.2.0",
      "model_name": "LayoutModel",
      "state": {}
     },
     "9184321f7399434280076a63adc957fe": {
      "model_module": "@jupyter-widgets/controls",
      "model_module_version": "1.5.0",
      "model_name": "FloatProgressModel",
      "state": {
       "bar_style": "success",
       "layout": "IPY_MODEL_94648a4ef90c4533a5caf14e855b0ed0",
       "max": 169,
       "style": "IPY_MODEL_2380147dbafa4e06a2e00325fab6e8bb",
       "value": 169
      }
     },
     "92021b92f230474ea88191904306932c": {
      "model_module": "@jupyter-widgets/controls",
      "model_module_version": "1.5.0",
      "model_name": "HTMLModel",
      "state": {
       "layout": "IPY_MODEL_61456e4ecad04c939fd8851b04f10eae",
       "style": "IPY_MODEL_2aa3dd3d5d0e4dba9af86ccccc01aaf4",
       "value": "100%"
      }
     },
     "9254db0f6c2f42a3b0d11d9d4761ee7b": {
      "model_module": "@jupyter-widgets/base",
      "model_module_version": "1.2.0",
      "model_name": "LayoutModel",
      "state": {}
     },
     "926f7609f87244a3a17d5637f56b8e58": {
      "model_module": "@jupyter-widgets/controls",
      "model_module_version": "1.5.0",
      "model_name": "FloatProgressModel",
      "state": {
       "bar_style": "success",
       "layout": "IPY_MODEL_4dea87bcf5954bc4a6a0cddb7b5142d8",
       "max": 8,
       "style": "IPY_MODEL_25613d2906e54780b96a657c67873000",
       "value": 8
      }
     },
     "92d2674bf97846539ec5a23b55d09cf2": {
      "model_module": "@jupyter-widgets/controls",
      "model_module_version": "1.5.0",
      "model_name": "HBoxModel",
      "state": {
       "children": [
        "IPY_MODEL_cdc8bc5a2ada41f29f9bf3b7f652944e",
        "IPY_MODEL_e25f5dc45b8e49bbbf7fae4c114ddb3a",
        "IPY_MODEL_9db9a93b93cb414d8711b80cb3377edf"
       ],
       "layout": "IPY_MODEL_c9e1514861fb4ca2b16678983d8fb333"
      }
     },
     "931088e147474224a694f87c8fa4df37": {
      "model_module": "@jupyter-widgets/base",
      "model_module_version": "1.2.0",
      "model_name": "LayoutModel",
      "state": {}
     },
     "9368df01ac0e417a957f6c856b47fc7a": {
      "model_module": "@jupyter-widgets/base",
      "model_module_version": "1.2.0",
      "model_name": "LayoutModel",
      "state": {}
     },
     "93ab6b30af784ab582e2f996702cbd52": {
      "model_module": "@jupyter-widgets/base",
      "model_module_version": "1.2.0",
      "model_name": "LayoutModel",
      "state": {}
     },
     "93f6cd0a30ac4119a63c3bf1fdb49baa": {
      "model_module": "@jupyter-widgets/controls",
      "model_module_version": "1.5.0",
      "model_name": "DescriptionStyleModel",
      "state": {
       "description_width": ""
      }
     },
     "944abd27192347d5b2fd93e4968f81c5": {
      "model_module": "@jupyter-widgets/controls",
      "model_module_version": "1.5.0",
      "model_name": "ProgressStyleModel",
      "state": {
       "description_width": ""
      }
     },
     "94648a4ef90c4533a5caf14e855b0ed0": {
      "model_module": "@jupyter-widgets/base",
      "model_module_version": "1.2.0",
      "model_name": "LayoutModel",
      "state": {}
     },
     "95005cca8a4748628aa958becfce9c68": {
      "model_module": "@jupyter-widgets/controls",
      "model_module_version": "1.5.0",
      "model_name": "DescriptionStyleModel",
      "state": {
       "description_width": ""
      }
     },
     "96efd5122b764c0088cb918600926e2d": {
      "model_module": "@jupyter-widgets/base",
      "model_module_version": "1.2.0",
      "model_name": "LayoutModel",
      "state": {}
     },
     "97fb1e1cc2c648d4bfc084833e781786": {
      "model_module": "@jupyter-widgets/controls",
      "model_module_version": "1.5.0",
      "model_name": "ProgressStyleModel",
      "state": {
       "description_width": ""
      }
     },
     "98221c036f0d4efc98a85043b3098bc1": {
      "model_module": "@jupyter-widgets/controls",
      "model_module_version": "1.5.0",
      "model_name": "HTMLModel",
      "state": {
       "layout": "IPY_MODEL_052e229ed13e4374ba861eb08f2b6884",
       "style": "IPY_MODEL_1e59fda431224e58916cdb3aff6ba17a",
       "value": "100%"
      }
     },
     "98cc3ad1d2434d539ec1d32483f7954e": {
      "model_module": "@jupyter-widgets/base",
      "model_module_version": "1.2.0",
      "model_name": "LayoutModel",
      "state": {}
     },
     "99ffc1c3cf6c4c6ea0c915729aa10bab": {
      "model_module": "@jupyter-widgets/controls",
      "model_module_version": "1.5.0",
      "model_name": "FloatProgressModel",
      "state": {
       "bar_style": "success",
       "layout": "IPY_MODEL_9254db0f6c2f42a3b0d11d9d4761ee7b",
       "max": 5,
       "style": "IPY_MODEL_0190c9c6c5da41679fba4ece7adc3d84",
       "value": 5
      }
     },
     "9b893f49db6e4a38a3dadf56843a9ec6": {
      "model_module": "@jupyter-widgets/base",
      "model_module_version": "1.2.0",
      "model_name": "LayoutModel",
      "state": {}
     },
     "9ba0332897814cb3915212d8824cf699": {
      "model_module": "@jupyter-widgets/controls",
      "model_module_version": "1.5.0",
      "model_name": "DescriptionStyleModel",
      "state": {
       "description_width": ""
      }
     },
     "9c61a9bf0f8640c29aa56d4b9f835388": {
      "model_module": "@jupyter-widgets/controls",
      "model_module_version": "1.5.0",
      "model_name": "HBoxModel",
      "state": {
       "children": [
        "IPY_MODEL_ab5d72e51e914c43b23fd8db87719604",
        "IPY_MODEL_39b88aee2d474665a56da3d3941aa639",
        "IPY_MODEL_6312d1fa218f4349b5e5c6464af14929"
       ],
       "layout": "IPY_MODEL_b841380cf36c4252a927b33271fa2ce9"
      }
     },
     "9c83758fee434afdad811baf267b1ec4": {
      "model_module": "@jupyter-widgets/controls",
      "model_module_version": "1.5.0",
      "model_name": "DescriptionStyleModel",
      "state": {
       "description_width": ""
      }
     },
     "9c9ecf9ed2424bde8ef6cd8039501b5f": {
      "model_module": "@jupyter-widgets/base",
      "model_module_version": "1.2.0",
      "model_name": "LayoutModel",
      "state": {}
     },
     "9d98892b7c1b4d02a65da011f86833e0": {
      "model_module": "@jupyter-widgets/controls",
      "model_module_version": "1.5.0",
      "model_name": "HTMLModel",
      "state": {
       "layout": "IPY_MODEL_b68125d0238946078e808897dcdbe942",
       "style": "IPY_MODEL_1ca50966cc504aaa9b12d6edf5e8c094",
       "value": "100%"
      }
     },
     "9db8bb9295344c049ed382b4930b746c": {
      "model_module": "@jupyter-widgets/base",
      "model_module_version": "1.2.0",
      "model_name": "LayoutModel",
      "state": {}
     },
     "9db9a93b93cb414d8711b80cb3377edf": {
      "model_module": "@jupyter-widgets/controls",
      "model_module_version": "1.5.0",
      "model_name": "HTMLModel",
      "state": {
       "layout": "IPY_MODEL_7fd509b44dc04566a2f9ddae5821b5a2",
       "style": "IPY_MODEL_8429e267d26a4b9d9025f4433e4c2022",
       "value": " 4/4 [00:00&lt;00:00, 25.68it/s]"
      }
     },
     "a0a7d0913871497387ac7b40ea953c16": {
      "model_module": "@jupyter-widgets/controls",
      "model_module_version": "1.5.0",
      "model_name": "ProgressStyleModel",
      "state": {
       "description_width": ""
      }
     },
     "a0db4ff91cb84b6faeb3df72c8005d8a": {
      "model_module": "@jupyter-widgets/base",
      "model_module_version": "1.2.0",
      "model_name": "LayoutModel",
      "state": {}
     },
     "a1212f2f53b642c99a6d5dff2a581642": {
      "model_module": "@jupyter-widgets/base",
      "model_module_version": "1.2.0",
      "model_name": "LayoutModel",
      "state": {}
     },
     "a1d0af2dd3b041c8a9fa4c09c44a47e0": {
      "model_module": "@jupyter-widgets/controls",
      "model_module_version": "1.5.0",
      "model_name": "HTMLModel",
      "state": {
       "layout": "IPY_MODEL_9db8bb9295344c049ed382b4930b746c",
       "style": "IPY_MODEL_beca8097153648eb89bcfd4f2fd9a952",
       "value": "100%"
      }
     },
     "a1e9d2dd3f9842fe883a1db20864a0d7": {
      "model_module": "@jupyter-widgets/base",
      "model_module_version": "1.2.0",
      "model_name": "LayoutModel",
      "state": {}
     },
     "a26e47a734b049aeaaa9e6f99387d4c5": {
      "model_module": "@jupyter-widgets/controls",
      "model_module_version": "1.5.0",
      "model_name": "HTMLModel",
      "state": {
       "layout": "IPY_MODEL_a1212f2f53b642c99a6d5dff2a581642",
       "style": "IPY_MODEL_d1ac46e65d344d89805337f9e95dd321",
       "value": " 5/5 [00:07&lt;00:00,  7.91s/it]"
      }
     },
     "a2b923e50605483dba0072465908377b": {
      "model_module": "@jupyter-widgets/controls",
      "model_module_version": "1.5.0",
      "model_name": "HBoxModel",
      "state": {
       "children": [
        "IPY_MODEL_ee557762d3ea4e598aea3f497150893c",
        "IPY_MODEL_76f6ace6b09b42448c73d4f0fcd07838",
        "IPY_MODEL_825d65822e4a4e518a45471d2ee6549c"
       ],
       "layout": "IPY_MODEL_cfc1c4f721084c0aaa6e84c688a82b07"
      }
     },
     "a2e2eb3e38904739a5e4964ca0423d9a": {
      "model_module": "@jupyter-widgets/base",
      "model_module_version": "1.2.0",
      "model_name": "LayoutModel",
      "state": {}
     },
     "a30bf3d6e3904652b5549fea4cb3d8c9": {
      "model_module": "@jupyter-widgets/controls",
      "model_module_version": "1.5.0",
      "model_name": "HTMLModel",
      "state": {
       "layout": "IPY_MODEL_b7f97506ea47447a80f9c3527a0aa546",
       "style": "IPY_MODEL_db69677977544bb58f165d40d198e0d8",
       "value": " 5/5 [00:00&lt;00:00, 251.60it/s]"
      }
     },
     "a4270e5a750541d4838a5091e28e677c": {
      "model_module": "@jupyter-widgets/controls",
      "model_module_version": "1.5.0",
      "model_name": "HTMLModel",
      "state": {
       "layout": "IPY_MODEL_5706c19deec94a6da3f6852245799632",
       "style": "IPY_MODEL_f21ed9ab6e3a404aa714fa9354b41809",
       "value": " 8/8 [00:00&lt;00:00, 14.18it/s]"
      }
     },
     "a613bd14f62841c9b5f77cc4671d327b": {
      "model_module": "@jupyter-widgets/base",
      "model_module_version": "1.2.0",
      "model_name": "LayoutModel",
      "state": {}
     },
     "a7a9cf8f5d6e4e9f93eca94ebb8342ba": {
      "model_module": "@jupyter-widgets/controls",
      "model_module_version": "1.5.0",
      "model_name": "DescriptionStyleModel",
      "state": {
       "description_width": ""
      }
     },
     "a7b145c31f6d4770b9e7d5fd3c8747a8": {
      "model_module": "@jupyter-widgets/base",
      "model_module_version": "1.2.0",
      "model_name": "LayoutModel",
      "state": {}
     },
     "a830a0f15b7f4ed4a6212db797b3be2d": {
      "model_module": "@jupyter-widgets/controls",
      "model_module_version": "1.5.0",
      "model_name": "DescriptionStyleModel",
      "state": {
       "description_width": ""
      }
     },
     "a84c0d749d7243ac833ed19de8c4497c": {
      "model_module": "@jupyter-widgets/base",
      "model_module_version": "1.2.0",
      "model_name": "LayoutModel",
      "state": {}
     },
     "a861a9b4a3ee4557988c162832284597": {
      "model_module": "@jupyter-widgets/controls",
      "model_module_version": "1.5.0",
      "model_name": "HTMLModel",
      "state": {
       "layout": "IPY_MODEL_1528109e1d1d472c8db7d2e3339fc9f6",
       "style": "IPY_MODEL_df44e50645734adc83eb3106877c8bd8",
       "value": "100%"
      }
     },
     "a9ccce4e5a5a4f92bba07916d4213469": {
      "model_module": "@jupyter-widgets/controls",
      "model_module_version": "1.5.0",
      "model_name": "ProgressStyleModel",
      "state": {
       "description_width": ""
      }
     },
     "aa556e5f62164129a3f46da4f5b001ce": {
      "model_module": "@jupyter-widgets/base",
      "model_module_version": "1.2.0",
      "model_name": "LayoutModel",
      "state": {}
     },
     "aa7a5caaa24c4f52a05ee95ca6fcc148": {
      "model_module": "@jupyter-widgets/controls",
      "model_module_version": "1.5.0",
      "model_name": "HTMLModel",
      "state": {
       "layout": "IPY_MODEL_86493105634748afbdf4e67383e87be7",
       "style": "IPY_MODEL_6c03926a488e48e29fbeb197f5c1c5e8",
       "value": " 5/5 [00:00&lt;00:00, 258.85it/s]"
      }
     },
     "aa9fd656278d4eaaabc567d8b438306b": {
      "model_module": "@jupyter-widgets/base",
      "model_module_version": "1.2.0",
      "model_name": "LayoutModel",
      "state": {}
     },
     "ab0887717dca4b9cb296f3f39c6af0fe": {
      "model_module": "@jupyter-widgets/controls",
      "model_module_version": "1.5.0",
      "model_name": "FloatProgressModel",
      "state": {
       "bar_style": "success",
       "layout": "IPY_MODEL_c7afd834fbfd4d468272e419924673a6",
       "max": 5,
       "style": "IPY_MODEL_97fb1e1cc2c648d4bfc084833e781786",
       "value": 5
      }
     },
     "ab5d72e51e914c43b23fd8db87719604": {
      "model_module": "@jupyter-widgets/controls",
      "model_module_version": "1.5.0",
      "model_name": "HTMLModel",
      "state": {
       "layout": "IPY_MODEL_ddc9d774ea1d4d419627f385f7b5d79f",
       "style": "IPY_MODEL_d878cd18aad446c9a721773378497c4f",
       "value": "100%"
      }
     },
     "abcfe42ae32348c3964d8f3abef1d756": {
      "model_module": "@jupyter-widgets/controls",
      "model_module_version": "1.5.0",
      "model_name": "HTMLModel",
      "state": {
       "layout": "IPY_MODEL_c894a277df734e3f82f3d2837b4591b9",
       "style": "IPY_MODEL_d455eca4a48b4f279844c9923e14b799",
       "value": "100%"
      }
     },
     "abec083fb3dc4cd58a377070bed83543": {
      "model_module": "@jupyter-widgets/controls",
      "model_module_version": "1.5.0",
      "model_name": "HBoxModel",
      "state": {
       "children": [
        "IPY_MODEL_256eaca5f51e4ded94a6bf3a9542a601",
        "IPY_MODEL_5f449c5b191247f59c51766228ba96c9",
        "IPY_MODEL_0759165bb3934c3e90e1877d14ef8d3e"
       ],
       "layout": "IPY_MODEL_df4947fdcd164a35985f5fd328191e69"
      }
     },
     "ac8f28a2b6424b4f8e075050a3aed66e": {
      "model_module": "@jupyter-widgets/base",
      "model_module_version": "1.2.0",
      "model_name": "LayoutModel",
      "state": {}
     },
     "ad59056295e64881a308f0757a6fa8b0": {
      "model_module": "@jupyter-widgets/controls",
      "model_module_version": "1.5.0",
      "model_name": "DescriptionStyleModel",
      "state": {
       "description_width": ""
      }
     },
     "af5944c911d44bd98a8092a9b9efc7dd": {
      "model_module": "@jupyter-widgets/controls",
      "model_module_version": "1.5.0",
      "model_name": "HTMLModel",
      "state": {
       "layout": "IPY_MODEL_02290a33721d47668778e00f985568e8",
       "style": "IPY_MODEL_bd938c7c9b0e49218bd021e2705a3ec9",
       "value": "100%"
      }
     },
     "af7bcef6f4314240b96811fdf499cb52": {
      "model_module": "@jupyter-widgets/controls",
      "model_module_version": "1.5.0",
      "model_name": "DescriptionStyleModel",
      "state": {
       "description_width": ""
      }
     },
     "afb7afab962840ff8a24ab67e5f02399": {
      "model_module": "@jupyter-widgets/controls",
      "model_module_version": "1.5.0",
      "model_name": "FloatProgressModel",
      "state": {
       "bar_style": "success",
       "layout": "IPY_MODEL_878d1baed99d47f39fc0772974352c09",
       "max": 8,
       "style": "IPY_MODEL_e75f06c76c814d0e93beb9ce3dacdbb3",
       "value": 8
      }
     },
     "afcbed5cada14df296c5588bcd662029": {
      "model_module": "@jupyter-widgets/base",
      "model_module_version": "1.2.0",
      "model_name": "LayoutModel",
      "state": {}
     },
     "b0356659dc07462f9a02fe075e4e16d8": {
      "model_module": "@jupyter-widgets/base",
      "model_module_version": "1.2.0",
      "model_name": "LayoutModel",
      "state": {}
     },
     "b0d87415d6704e87b96cae8c940cfcd4": {
      "model_module": "@jupyter-widgets/controls",
      "model_module_version": "1.5.0",
      "model_name": "HTMLModel",
      "state": {
       "layout": "IPY_MODEL_a7b145c31f6d4770b9e7d5fd3c8747a8",
       "style": "IPY_MODEL_5a77a327cd0c453aa629e38968326c2b",
       "value": "100%"
      }
     },
     "b14f5516b6184a6db913e446912506c7": {
      "model_module": "@jupyter-widgets/base",
      "model_module_version": "1.2.0",
      "model_name": "LayoutModel",
      "state": {}
     },
     "b2abd401dc8c4c88a876324a5c35fba6": {
      "model_module": "@jupyter-widgets/controls",
      "model_module_version": "1.5.0",
      "model_name": "ProgressStyleModel",
      "state": {
       "description_width": ""
      }
     },
     "b35bb43c89fc4b82b7502bd958c36f88": {
      "model_module": "@jupyter-widgets/controls",
      "model_module_version": "1.5.0",
      "model_name": "HBoxModel",
      "state": {
       "children": [
        "IPY_MODEL_ccec5abe3c594bd8b74118eee05fccbe",
        "IPY_MODEL_4abb484f71084a5fbd9bd5e1dd675d8c",
        "IPY_MODEL_30caf091438444f38b5f79e631f52fe8"
       ],
       "layout": "IPY_MODEL_d72a2cf95c2e4d8f9cf5665b30964755"
      }
     },
     "b3718d3ed16e468d9e147f8ba3ee3c2f": {
      "model_module": "@jupyter-widgets/controls",
      "model_module_version": "1.5.0",
      "model_name": "DescriptionStyleModel",
      "state": {
       "description_width": ""
      }
     },
     "b3ac0c3585a449f3938236c93ab6157c": {
      "model_module": "@jupyter-widgets/controls",
      "model_module_version": "1.5.0",
      "model_name": "HBoxModel",
      "state": {
       "children": [
        "IPY_MODEL_af5944c911d44bd98a8092a9b9efc7dd",
        "IPY_MODEL_99ffc1c3cf6c4c6ea0c915729aa10bab",
        "IPY_MODEL_3768811364c94152b9662f780f8f16b4"
       ],
       "layout": "IPY_MODEL_6a734e14718e40d58e4bec827e0798df"
      }
     },
     "b3dc94365ab847779867c209b0aa2939": {
      "model_module": "@jupyter-widgets/controls",
      "model_module_version": "1.5.0",
      "model_name": "DescriptionStyleModel",
      "state": {
       "description_width": ""
      }
     },
     "b4bfd0af375d4f91b678a57802898b24": {
      "model_module": "@jupyter-widgets/base",
      "model_module_version": "1.2.0",
      "model_name": "LayoutModel",
      "state": {}
     },
     "b5ac3d730827418b8076a143e22a7d9e": {
      "model_module": "@jupyter-widgets/controls",
      "model_module_version": "1.5.0",
      "model_name": "HBoxModel",
      "state": {
       "children": [
        "IPY_MODEL_c8e3c809a75f4f8c85d4e16cb5ac9a1c",
        "IPY_MODEL_be50d452ec614d979c4f78ad22332da6",
        "IPY_MODEL_a4270e5a750541d4838a5091e28e677c"
       ],
       "layout": "IPY_MODEL_4bb00499dd084e0b98e0fcb97fa8fe9f"
      }
     },
     "b68125d0238946078e808897dcdbe942": {
      "model_module": "@jupyter-widgets/base",
      "model_module_version": "1.2.0",
      "model_name": "LayoutModel",
      "state": {}
     },
     "b69a3bc049724a6d807842cee18b338d": {
      "model_module": "@jupyter-widgets/base",
      "model_module_version": "1.2.0",
      "model_name": "LayoutModel",
      "state": {}
     },
     "b732372e48f841e88782340139371099": {
      "model_module": "@jupyter-widgets/base",
      "model_module_version": "1.2.0",
      "model_name": "LayoutModel",
      "state": {}
     },
     "b76e1b2e6f1d448eaead31b2cba49eaa": {
      "model_module": "@jupyter-widgets/controls",
      "model_module_version": "1.5.0",
      "model_name": "HTMLModel",
      "state": {
       "layout": "IPY_MODEL_cd3c2e02b25a49d68cdceb2d3fb87d57",
       "style": "IPY_MODEL_bedc2ef06f3b43a19f723fa660d8e818",
       "value": "100%"
      }
     },
     "b7f97506ea47447a80f9c3527a0aa546": {
      "model_module": "@jupyter-widgets/base",
      "model_module_version": "1.2.0",
      "model_name": "LayoutModel",
      "state": {}
     },
     "b841380cf36c4252a927b33271fa2ce9": {
      "model_module": "@jupyter-widgets/base",
      "model_module_version": "1.2.0",
      "model_name": "LayoutModel",
      "state": {}
     },
     "ba1d6fde4189424e8eb902151b18072d": {
      "model_module": "@jupyter-widgets/controls",
      "model_module_version": "1.5.0",
      "model_name": "HTMLModel",
      "state": {
       "layout": "IPY_MODEL_ccffa36e359a4e73a7b6e9b3a70a4c2e",
       "style": "IPY_MODEL_ff51a4151a5c4e4687e7abc83386905a",
       "value": " 8/8 [00:00&lt;00:00, 17.63it/s]"
      }
     },
     "bb7ccd23307a45c19516d398220326f7": {
      "model_module": "@jupyter-widgets/controls",
      "model_module_version": "1.5.0",
      "model_name": "HBoxModel",
      "state": {
       "children": [
        "IPY_MODEL_ce8640c69c504b29b4d3eb641443828a",
        "IPY_MODEL_82fe185eac784af5a4e4730e79ea3096",
        "IPY_MODEL_01d1d713fef24ebc90aef8d368f6e84a"
       ],
       "layout": "IPY_MODEL_a2e2eb3e38904739a5e4964ca0423d9a"
      }
     },
     "bcb1cf23424046d0b0cab067486a4337": {
      "model_module": "@jupyter-widgets/controls",
      "model_module_version": "1.5.0",
      "model_name": "HBoxModel",
      "state": {
       "children": [
        "IPY_MODEL_b0d87415d6704e87b96cae8c940cfcd4",
        "IPY_MODEL_f53c73f82f1e4bfd8eb7fbfaba5626cc",
        "IPY_MODEL_806ac7667342441aa41a406038875c74"
       ],
       "layout": "IPY_MODEL_0242b3cf451d407ba6ec54b93ed013a5"
      }
     },
     "bcf842239e854607bfa7f4aeb37e483e": {
      "model_module": "@jupyter-widgets/controls",
      "model_module_version": "1.5.0",
      "model_name": "HBoxModel",
      "state": {
       "children": [
        "IPY_MODEL_a1d0af2dd3b041c8a9fa4c09c44a47e0",
        "IPY_MODEL_926f7609f87244a3a17d5637f56b8e58",
        "IPY_MODEL_3edfcccb902749968204498ee73c70d3"
       ],
       "layout": "IPY_MODEL_14f33dae480f4d879ec9abd4234afa1f"
      }
     },
     "bd938c7c9b0e49218bd021e2705a3ec9": {
      "model_module": "@jupyter-widgets/controls",
      "model_module_version": "1.5.0",
      "model_name": "DescriptionStyleModel",
      "state": {
       "description_width": ""
      }
     },
     "bdb6cd82aa1e4294b2ab94ccbf347377": {
      "model_module": "@jupyter-widgets/controls",
      "model_module_version": "1.5.0",
      "model_name": "ProgressStyleModel",
      "state": {
       "description_width": ""
      }
     },
     "be50d452ec614d979c4f78ad22332da6": {
      "model_module": "@jupyter-widgets/controls",
      "model_module_version": "1.5.0",
      "model_name": "FloatProgressModel",
      "state": {
       "bar_style": "success",
       "layout": "IPY_MODEL_cd1905a490d142c297332e0065be5504",
       "max": 8,
       "style": "IPY_MODEL_896b310c1f6f4ce38f676eede6e5d0b1",
       "value": 8
      }
     },
     "bead6bfb061c42cd91b4ae2a99678f67": {
      "model_module": "@jupyter-widgets/controls",
      "model_module_version": "1.5.0",
      "model_name": "DescriptionStyleModel",
      "state": {
       "description_width": ""
      }
     },
     "beca8097153648eb89bcfd4f2fd9a952": {
      "model_module": "@jupyter-widgets/controls",
      "model_module_version": "1.5.0",
      "model_name": "DescriptionStyleModel",
      "state": {
       "description_width": ""
      }
     },
     "bedc2ef06f3b43a19f723fa660d8e818": {
      "model_module": "@jupyter-widgets/controls",
      "model_module_version": "1.5.0",
      "model_name": "DescriptionStyleModel",
      "state": {
       "description_width": ""
      }
     },
     "bee901ad7186484590844f6ba7fef73e": {
      "model_module": "@jupyter-widgets/controls",
      "model_module_version": "1.5.0",
      "model_name": "FloatProgressModel",
      "state": {
       "bar_style": "success",
       "layout": "IPY_MODEL_02a35b7c3abb48d5b12196d3db891b24",
       "max": 5,
       "style": "IPY_MODEL_bdb6cd82aa1e4294b2ab94ccbf347377",
       "value": 5
      }
     },
     "bfa50a40eadb4ed8ab18d736409fb325": {
      "model_module": "@jupyter-widgets/base",
      "model_module_version": "1.2.0",
      "model_name": "LayoutModel",
      "state": {}
     },
     "c2617c91bfcd4904ba14b2576461c4c0": {
      "model_module": "@jupyter-widgets/base",
      "model_module_version": "1.2.0",
      "model_name": "LayoutModel",
      "state": {}
     },
     "c35475acfee94afb948a247d74cb95fa": {
      "model_module": "@jupyter-widgets/controls",
      "model_module_version": "1.5.0",
      "model_name": "HTMLModel",
      "state": {
       "layout": "IPY_MODEL_ec1237c9bb514d1aa59d28f5c7c3b2a4",
       "style": "IPY_MODEL_061a76214b404c1183944cc1356a70bb",
       "value": "100%"
      }
     },
     "c39525f04fa548a88cd5527eea47f8f3": {
      "model_module": "@jupyter-widgets/controls",
      "model_module_version": "1.5.0",
      "model_name": "FloatProgressModel",
      "state": {
       "bar_style": "success",
       "layout": "IPY_MODEL_ea002386d03b4c3597efd0722c9c3144",
       "max": 5,
       "style": "IPY_MODEL_e9f86b5168b04db59d8ee8c2e7d6bede",
       "value": 5
      }
     },
     "c3eaa343787445409728a71f5ce9ed5c": {
      "model_module": "@jupyter-widgets/controls",
      "model_module_version": "1.5.0",
      "model_name": "HTMLModel",
      "state": {
       "layout": "IPY_MODEL_90090b0d7bce4e4badc94f9718949f1b",
       "style": "IPY_MODEL_2b726d0d264d41ae99036cdbf7531107",
       "value": " 5/5 [00:07&lt;00:00,  7.42s/it]"
      }
     },
     "c42e49ab71fd495f89d57f74ff702587": {
      "model_module": "@jupyter-widgets/base",
      "model_module_version": "1.2.0",
      "model_name": "LayoutModel",
      "state": {}
     },
     "c494b1f2420a42e6988031b12d5d7d8f": {
      "model_module": "@jupyter-widgets/base",
      "model_module_version": "1.2.0",
      "model_name": "LayoutModel",
      "state": {}
     },
     "c579897b10644d7d87e1605c3c35c224": {
      "model_module": "@jupyter-widgets/controls",
      "model_module_version": "1.5.0",
      "model_name": "DescriptionStyleModel",
      "state": {
       "description_width": ""
      }
     },
     "c5e3c03fb7f14a44b8304b04fb57f960": {
      "model_module": "@jupyter-widgets/controls",
      "model_module_version": "1.5.0",
      "model_name": "ProgressStyleModel",
      "state": {
       "description_width": ""
      }
     },
     "c7afd834fbfd4d468272e419924673a6": {
      "model_module": "@jupyter-widgets/base",
      "model_module_version": "1.2.0",
      "model_name": "LayoutModel",
      "state": {}
     },
     "c894a277df734e3f82f3d2837b4591b9": {
      "model_module": "@jupyter-widgets/base",
      "model_module_version": "1.2.0",
      "model_name": "LayoutModel",
      "state": {}
     },
     "c8aabe57858b42979da5456fdaa9069f": {
      "model_module": "@jupyter-widgets/controls",
      "model_module_version": "1.5.0",
      "model_name": "HTMLModel",
      "state": {
       "layout": "IPY_MODEL_44ceec55023240f299fda887420ac459",
       "style": "IPY_MODEL_d9bf289bcddc4914a3e90fc917eabca3",
       "value": " 5/5 [00:00&lt;00:00, 264.84it/s]"
      }
     },
     "c8e3c809a75f4f8c85d4e16cb5ac9a1c": {
      "model_module": "@jupyter-widgets/controls",
      "model_module_version": "1.5.0",
      "model_name": "HTMLModel",
      "state": {
       "layout": "IPY_MODEL_a0db4ff91cb84b6faeb3df72c8005d8a",
       "style": "IPY_MODEL_ad59056295e64881a308f0757a6fa8b0",
       "value": "100%"
      }
     },
     "c9e1514861fb4ca2b16678983d8fb333": {
      "model_module": "@jupyter-widgets/base",
      "model_module_version": "1.2.0",
      "model_name": "LayoutModel",
      "state": {}
     },
     "cbf2240c9f4d496498195e3ee010a994": {
      "model_module": "@jupyter-widgets/controls",
      "model_module_version": "1.5.0",
      "model_name": "ProgressStyleModel",
      "state": {
       "description_width": ""
      }
     },
     "ccec5abe3c594bd8b74118eee05fccbe": {
      "model_module": "@jupyter-widgets/controls",
      "model_module_version": "1.5.0",
      "model_name": "HTMLModel",
      "state": {
       "layout": "IPY_MODEL_8cf2230300c84cddba33e187523aa8ed",
       "style": "IPY_MODEL_bead6bfb061c42cd91b4ae2a99678f67",
       "value": "100%"
      }
     },
     "ccffa36e359a4e73a7b6e9b3a70a4c2e": {
      "model_module": "@jupyter-widgets/base",
      "model_module_version": "1.2.0",
      "model_name": "LayoutModel",
      "state": {}
     },
     "cd1905a490d142c297332e0065be5504": {
      "model_module": "@jupyter-widgets/base",
      "model_module_version": "1.2.0",
      "model_name": "LayoutModel",
      "state": {}
     },
     "cd3c2e02b25a49d68cdceb2d3fb87d57": {
      "model_module": "@jupyter-widgets/base",
      "model_module_version": "1.2.0",
      "model_name": "LayoutModel",
      "state": {}
     },
     "cdc8bc5a2ada41f29f9bf3b7f652944e": {
      "model_module": "@jupyter-widgets/controls",
      "model_module_version": "1.5.0",
      "model_name": "HTMLModel",
      "state": {
       "layout": "IPY_MODEL_66a137598d3a4f308ec0fd9911e23192",
       "style": "IPY_MODEL_1eca4f2602ae4282b4a5d07e4faa6988",
       "value": "100%"
      }
     },
     "ce1084c86b544d41ab113e5c30831472": {
      "model_module": "@jupyter-widgets/controls",
      "model_module_version": "1.5.0",
      "model_name": "HTMLModel",
      "state": {
       "layout": "IPY_MODEL_a613bd14f62841c9b5f77cc4671d327b",
       "style": "IPY_MODEL_8bbac399b8894c24aacf087c1fefb1db",
       "value": "100%"
      }
     },
     "ce8640c69c504b29b4d3eb641443828a": {
      "model_module": "@jupyter-widgets/controls",
      "model_module_version": "1.5.0",
      "model_name": "HTMLModel",
      "state": {
       "layout": "IPY_MODEL_b4bfd0af375d4f91b678a57802898b24",
       "style": "IPY_MODEL_0c1b998732fd4f2ab69e22b90860ea73",
       "value": "100%"
      }
     },
     "ce91556ae61148bab5c9d961fd590996": {
      "model_module": "@jupyter-widgets/base",
      "model_module_version": "1.2.0",
      "model_name": "LayoutModel",
      "state": {}
     },
     "cf5c21682f21443093eea978449fd6e0": {
      "model_module": "@jupyter-widgets/controls",
      "model_module_version": "1.5.0",
      "model_name": "ProgressStyleModel",
      "state": {
       "description_width": ""
      }
     },
     "cf96a9b268434b8da772cef92b6d0618": {
      "model_module": "@jupyter-widgets/controls",
      "model_module_version": "1.5.0",
      "model_name": "HTMLModel",
      "state": {
       "layout": "IPY_MODEL_f47e84809e6d432ea961afa45f033417",
       "style": "IPY_MODEL_7f246a55f3db43d086fc4a9c6337bb71",
       "value": " 169/169 [00:01&lt;00:00, 170.63it/s]"
      }
     },
     "cfc1c4f721084c0aaa6e84c688a82b07": {
      "model_module": "@jupyter-widgets/base",
      "model_module_version": "1.2.0",
      "model_name": "LayoutModel",
      "state": {}
     },
     "cfeea96568ff4584bdeb312f827ac637": {
      "model_module": "@jupyter-widgets/base",
      "model_module_version": "1.2.0",
      "model_name": "LayoutModel",
      "state": {}
     },
     "d18af58dc6ef49eca06cfa91b3b2de72": {
      "model_module": "@jupyter-widgets/base",
      "model_module_version": "1.2.0",
      "model_name": "LayoutModel",
      "state": {}
     },
     "d1ac46e65d344d89805337f9e95dd321": {
      "model_module": "@jupyter-widgets/controls",
      "model_module_version": "1.5.0",
      "model_name": "DescriptionStyleModel",
      "state": {
       "description_width": ""
      }
     },
     "d38374df05fc490fb4691d9cc918bf02": {
      "model_module": "@jupyter-widgets/controls",
      "model_module_version": "1.5.0",
      "model_name": "FloatProgressModel",
      "state": {
       "bar_style": "success",
       "layout": "IPY_MODEL_8fbf76ddf1bd42e285c325e7241d0faa",
       "max": 169,
       "style": "IPY_MODEL_006967bdebf040a2aacbc6657691ecde",
       "value": 169
      }
     },
     "d455eca4a48b4f279844c9923e14b799": {
      "model_module": "@jupyter-widgets/controls",
      "model_module_version": "1.5.0",
      "model_name": "DescriptionStyleModel",
      "state": {
       "description_width": ""
      }
     },
     "d50040562b46410ebf7fc4f78c98069a": {
      "model_module": "@jupyter-widgets/controls",
      "model_module_version": "1.5.0",
      "model_name": "HBoxModel",
      "state": {
       "children": [
        "IPY_MODEL_b76e1b2e6f1d448eaead31b2cba49eaa",
        "IPY_MODEL_0f983360117c4e2d8f53cf42b541bfc3",
        "IPY_MODEL_3d630aebf0fe493f86245f628c892b77"
       ],
       "layout": "IPY_MODEL_179cf0ec0eb14fdb99588bb280694371"
      }
     },
     "d560dc709a194d89ad0971c5b35e987c": {
      "model_module": "@jupyter-widgets/controls",
      "model_module_version": "1.5.0",
      "model_name": "FloatProgressModel",
      "state": {
       "bar_style": "success",
       "layout": "IPY_MODEL_c494b1f2420a42e6988031b12d5d7d8f",
       "max": 5,
       "style": "IPY_MODEL_8fd1ab653dfd4477b8dd2630f40fdd71",
       "value": 5
      }
     },
     "d594213c42ae42f1bdd9a9d9e7fabfd3": {
      "model_module": "@jupyter-widgets/base",
      "model_module_version": "1.2.0",
      "model_name": "LayoutModel",
      "state": {}
     },
     "d72a2cf95c2e4d8f9cf5665b30964755": {
      "model_module": "@jupyter-widgets/base",
      "model_module_version": "1.2.0",
      "model_name": "LayoutModel",
      "state": {}
     },
     "d7a5d30faac746f9865616fedc85994e": {
      "model_module": "@jupyter-widgets/controls",
      "model_module_version": "1.5.0",
      "model_name": "HBoxModel",
      "state": {
       "children": [
        "IPY_MODEL_1838f210e3e748ec9dbe5ff1b6038a72",
        "IPY_MODEL_5da0c938600d49efb20103a30fabf669",
        "IPY_MODEL_c3eaa343787445409728a71f5ce9ed5c"
       ],
       "layout": "IPY_MODEL_dbc24cb05d7d4355a720a78d40f8ee55"
      }
     },
     "d7c578647a3d4ba1809a93fc6846c828": {
      "model_module": "@jupyter-widgets/controls",
      "model_module_version": "1.5.0",
      "model_name": "ProgressStyleModel",
      "state": {
       "description_width": ""
      }
     },
     "d7f2b91eb2cb4e998b1ff77a4b0d20b9": {
      "model_module": "@jupyter-widgets/controls",
      "model_module_version": "1.5.0",
      "model_name": "ProgressStyleModel",
      "state": {
       "description_width": ""
      }
     },
     "d878cd18aad446c9a721773378497c4f": {
      "model_module": "@jupyter-widgets/controls",
      "model_module_version": "1.5.0",
      "model_name": "DescriptionStyleModel",
      "state": {
       "description_width": ""
      }
     },
     "d9bf289bcddc4914a3e90fc917eabca3": {
      "model_module": "@jupyter-widgets/controls",
      "model_module_version": "1.5.0",
      "model_name": "DescriptionStyleModel",
      "state": {
       "description_width": ""
      }
     },
     "db69677977544bb58f165d40d198e0d8": {
      "model_module": "@jupyter-widgets/controls",
      "model_module_version": "1.5.0",
      "model_name": "DescriptionStyleModel",
      "state": {
       "description_width": ""
      }
     },
     "db739da6946b455297cd1c432c10fb05": {
      "model_module": "@jupyter-widgets/controls",
      "model_module_version": "1.5.0",
      "model_name": "HBoxModel",
      "state": {
       "children": [
        "IPY_MODEL_2437bcacdb704c11ac51e5a1aaa14e5b",
        "IPY_MODEL_d38374df05fc490fb4691d9cc918bf02",
        "IPY_MODEL_7b3837227ea84c11aa3f08d7d463d9fd"
       ],
       "layout": "IPY_MODEL_3ffae8fe0a4e465580f42941ba25a904"
      }
     },
     "dbc24cb05d7d4355a720a78d40f8ee55": {
      "model_module": "@jupyter-widgets/base",
      "model_module_version": "1.2.0",
      "model_name": "LayoutModel",
      "state": {}
     },
     "dbcb2ec924ff435d871a7500cd6bc06f": {
      "model_module": "@jupyter-widgets/controls",
      "model_module_version": "1.5.0",
      "model_name": "ProgressStyleModel",
      "state": {
       "description_width": ""
      }
     },
     "dbed2a314ce04c8caf9e911166c1ac45": {
      "model_module": "@jupyter-widgets/base",
      "model_module_version": "1.2.0",
      "model_name": "LayoutModel",
      "state": {}
     },
     "dc636b3870c741b482ed003f2d6deb86": {
      "model_module": "@jupyter-widgets/controls",
      "model_module_version": "1.5.0",
      "model_name": "DescriptionStyleModel",
      "state": {
       "description_width": ""
      }
     },
     "dd47d6bb330142ed85cc344afefef92f": {
      "model_module": "@jupyter-widgets/controls",
      "model_module_version": "1.5.0",
      "model_name": "HTMLModel",
      "state": {
       "layout": "IPY_MODEL_3a4524a592594bfa8f7be9f6a2a5e7d5",
       "style": "IPY_MODEL_93f6cd0a30ac4119a63c3bf1fdb49baa",
       "value": " 169/169 [00:01&lt;00:00, 164.65it/s]"
      }
     },
     "ddc9d774ea1d4d419627f385f7b5d79f": {
      "model_module": "@jupyter-widgets/base",
      "model_module_version": "1.2.0",
      "model_name": "LayoutModel",
      "state": {}
     },
     "deb38a7dc6b142ea966624c6ba4e92f5": {
      "model_module": "@jupyter-widgets/controls",
      "model_module_version": "1.5.0",
      "model_name": "DescriptionStyleModel",
      "state": {
       "description_width": ""
      }
     },
     "df44e50645734adc83eb3106877c8bd8": {
      "model_module": "@jupyter-widgets/controls",
      "model_module_version": "1.5.0",
      "model_name": "DescriptionStyleModel",
      "state": {
       "description_width": ""
      }
     },
     "df4947fdcd164a35985f5fd328191e69": {
      "model_module": "@jupyter-widgets/base",
      "model_module_version": "1.2.0",
      "model_name": "LayoutModel",
      "state": {}
     },
     "df653bc22c30490c9969b22fde7c5612": {
      "model_module": "@jupyter-widgets/controls",
      "model_module_version": "1.5.0",
      "model_name": "FloatProgressModel",
      "state": {
       "bar_style": "success",
       "layout": "IPY_MODEL_5381bcddad4d444ba1dc0747a9d04b82",
       "max": 8,
       "style": "IPY_MODEL_6e9caca78aa640bf93627552fa8ad948",
       "value": 8
      }
     },
     "dfdbe92728c747d48ccc505f2561db0a": {
      "model_module": "@jupyter-widgets/controls",
      "model_module_version": "1.5.0",
      "model_name": "HTMLModel",
      "state": {
       "layout": "IPY_MODEL_35c6c646fdf848c3abab9d9caf905d63",
       "style": "IPY_MODEL_145a1bcc817d440ea57cd8e0abec76d2",
       "value": "100%"
      }
     },
     "e09057e432914c1591fce715d68ccf1c": {
      "model_module": "@jupyter-widgets/controls",
      "model_module_version": "1.5.0",
      "model_name": "HTMLModel",
      "state": {
       "layout": "IPY_MODEL_1cf9813bb82d442887c4dbdc565f6d14",
       "style": "IPY_MODEL_a7a9cf8f5d6e4e9f93eca94ebb8342ba",
       "value": "100%"
      }
     },
     "e25f5dc45b8e49bbbf7fae4c114ddb3a": {
      "model_module": "@jupyter-widgets/controls",
      "model_module_version": "1.5.0",
      "model_name": "FloatProgressModel",
      "state": {
       "bar_style": "success",
       "layout": "IPY_MODEL_3ebaea97fa0e4d50a9215d9e9fd3c97b",
       "max": 4,
       "style": "IPY_MODEL_1d179c95dde84053b2cb85170a63d58e",
       "value": 4
      }
     },
     "e695e4e9a0284de3a454a631ddf42852": {
      "model_module": "@jupyter-widgets/controls",
      "model_module_version": "1.5.0",
      "model_name": "HBoxModel",
      "state": {
       "children": [
        "IPY_MODEL_1ad6ee0e1c7b4d1ba0af988d92452ce4",
        "IPY_MODEL_3c126c27d4ee4b9dacd490ca9a18eb8c",
        "IPY_MODEL_0be293d1e6cd439598da2508b08ae87f"
       ],
       "layout": "IPY_MODEL_c42e49ab71fd495f89d57f74ff702587"
      }
     },
     "e75f06c76c814d0e93beb9ce3dacdbb3": {
      "model_module": "@jupyter-widgets/controls",
      "model_module_version": "1.5.0",
      "model_name": "ProgressStyleModel",
      "state": {
       "description_width": ""
      }
     },
     "e7858388e4a14bb6b6a17bcd889aaee1": {
      "model_module": "@jupyter-widgets/controls",
      "model_module_version": "1.5.0",
      "model_name": "ProgressStyleModel",
      "state": {
       "description_width": ""
      }
     },
     "e7e9b2a971d346ba81a8833557316bf9": {
      "model_module": "@jupyter-widgets/base",
      "model_module_version": "1.2.0",
      "model_name": "LayoutModel",
      "state": {}
     },
     "e973f79e4ade413988fbe376758c341c": {
      "model_module": "@jupyter-widgets/controls",
      "model_module_version": "1.5.0",
      "model_name": "HBoxModel",
      "state": {
       "children": [
        "IPY_MODEL_54e73d732c164897a66fd901e7c2411f",
        "IPY_MODEL_8aabac6a0b23409a9985936f85c4b48e",
        "IPY_MODEL_c8aabe57858b42979da5456fdaa9069f"
       ],
       "layout": "IPY_MODEL_b14f5516b6184a6db913e446912506c7"
      }
     },
     "e9f86b5168b04db59d8ee8c2e7d6bede": {
      "model_module": "@jupyter-widgets/controls",
      "model_module_version": "1.5.0",
      "model_name": "ProgressStyleModel",
      "state": {
       "description_width": ""
      }
     },
     "ea002386d03b4c3597efd0722c9c3144": {
      "model_module": "@jupyter-widgets/base",
      "model_module_version": "1.2.0",
      "model_name": "LayoutModel",
      "state": {}
     },
     "ea550da5236a4f25a4e7e9bfaf7b649d": {
      "model_module": "@jupyter-widgets/base",
      "model_module_version": "1.2.0",
      "model_name": "LayoutModel",
      "state": {}
     },
     "eb9c55342d594ae2b15bc3273036f295": {
      "model_module": "@jupyter-widgets/controls",
      "model_module_version": "1.5.0",
      "model_name": "HTMLModel",
      "state": {
       "layout": "IPY_MODEL_756a14182ad04d1caba4f51b4da12655",
       "style": "IPY_MODEL_51da966e8aea4c6fb3e635741c1d6f19",
       "value": " 169/169 [00:01&lt;00:00, 152.19it/s]"
      }
     },
     "ebe1ad0089e94903ac4a68e7d0eadcf7": {
      "model_module": "@jupyter-widgets/base",
      "model_module_version": "1.2.0",
      "model_name": "LayoutModel",
      "state": {}
     },
     "ec1237c9bb514d1aa59d28f5c7c3b2a4": {
      "model_module": "@jupyter-widgets/base",
      "model_module_version": "1.2.0",
      "model_name": "LayoutModel",
      "state": {}
     },
     "ec4859b3d90f4387b6574c23850d7063": {
      "model_module": "@jupyter-widgets/controls",
      "model_module_version": "1.5.0",
      "model_name": "FloatProgressModel",
      "state": {
       "bar_style": "success",
       "layout": "IPY_MODEL_b732372e48f841e88782340139371099",
       "max": 5,
       "style": "IPY_MODEL_c5e3c03fb7f14a44b8304b04fb57f960",
       "value": 5
      }
     },
     "ed522760d91c4f6f8f102c58ab2a5238": {
      "model_module": "@jupyter-widgets/base",
      "model_module_version": "1.2.0",
      "model_name": "LayoutModel",
      "state": {}
     },
     "ee02d58e3e70493290b124e7b8fd23a5": {
      "model_module": "@jupyter-widgets/base",
      "model_module_version": "1.2.0",
      "model_name": "LayoutModel",
      "state": {}
     },
     "ee557762d3ea4e598aea3f497150893c": {
      "model_module": "@jupyter-widgets/controls",
      "model_module_version": "1.5.0",
      "model_name": "HTMLModel",
      "state": {
       "layout": "IPY_MODEL_ee02d58e3e70493290b124e7b8fd23a5",
       "style": "IPY_MODEL_3fe6c52f63a646e397580acd2c16f99d",
       "value": "100%"
      }
     },
     "ef078ec8282541648989976b85c3c485": {
      "model_module": "@jupyter-widgets/controls",
      "model_module_version": "1.5.0",
      "model_name": "DescriptionStyleModel",
      "state": {
       "description_width": ""
      }
     },
     "ef2e5c53afbc4feea26b10512942ea69": {
      "model_module": "@jupyter-widgets/controls",
      "model_module_version": "1.5.0",
      "model_name": "DescriptionStyleModel",
      "state": {
       "description_width": ""
      }
     },
     "ef538e2ea3524b5c8ec9831cb27f7e59": {
      "model_module": "@jupyter-widgets/base",
      "model_module_version": "1.2.0",
      "model_name": "LayoutModel",
      "state": {}
     },
     "f141cda1d2464e308d70f4ab59bef370": {
      "model_module": "@jupyter-widgets/base",
      "model_module_version": "1.2.0",
      "model_name": "LayoutModel",
      "state": {}
     },
     "f1a62c9cd4b24cc78e1200a8edee661d": {
      "model_module": "@jupyter-widgets/controls",
      "model_module_version": "1.5.0",
      "model_name": "HBoxModel",
      "state": {
       "children": [
        "IPY_MODEL_164bbe58b8df4f9cb771f2a51fa899f7",
        "IPY_MODEL_02b0b39d765f46c59f169543d962aee8",
        "IPY_MODEL_dd47d6bb330142ed85cc344afefef92f"
       ],
       "layout": "IPY_MODEL_8303a670407a40be99ac5600d78b09ec"
      }
     },
     "f21ed9ab6e3a404aa714fa9354b41809": {
      "model_module": "@jupyter-widgets/controls",
      "model_module_version": "1.5.0",
      "model_name": "DescriptionStyleModel",
      "state": {
       "description_width": ""
      }
     },
     "f255eb2b9d87422c9b3cde193d09bd14": {
      "model_module": "@jupyter-widgets/base",
      "model_module_version": "1.2.0",
      "model_name": "LayoutModel",
      "state": {}
     },
     "f2fcd6b40d9c4e97b2527c3f708bf28f": {
      "model_module": "@jupyter-widgets/controls",
      "model_module_version": "1.5.0",
      "model_name": "ProgressStyleModel",
      "state": {
       "description_width": ""
      }
     },
     "f3cbf1549ade4bb4befc16af9f4c0f93": {
      "model_module": "@jupyter-widgets/base",
      "model_module_version": "1.2.0",
      "model_name": "LayoutModel",
      "state": {}
     },
     "f3f77ed82922498986770a077ab3aa88": {
      "model_module": "@jupyter-widgets/controls",
      "model_module_version": "1.5.0",
      "model_name": "HTMLModel",
      "state": {
       "layout": "IPY_MODEL_ef538e2ea3524b5c8ec9831cb27f7e59",
       "style": "IPY_MODEL_64dc008588a0495f89bdc0da0d6da620",
       "value": "100%"
      }
     },
     "f47e84809e6d432ea961afa45f033417": {
      "model_module": "@jupyter-widgets/base",
      "model_module_version": "1.2.0",
      "model_name": "LayoutModel",
      "state": {}
     },
     "f53c73f82f1e4bfd8eb7fbfaba5626cc": {
      "model_module": "@jupyter-widgets/controls",
      "model_module_version": "1.5.0",
      "model_name": "FloatProgressModel",
      "state": {
       "bar_style": "success",
       "layout": "IPY_MODEL_931088e147474224a694f87c8fa4df37",
       "max": 8,
       "style": "IPY_MODEL_f2fcd6b40d9c4e97b2527c3f708bf28f",
       "value": 8
      }
     },
     "fa64aca754e5476eb0ad199b05640f68": {
      "model_module": "@jupyter-widgets/base",
      "model_module_version": "1.2.0",
      "model_name": "LayoutModel",
      "state": {}
     },
     "fa956f186f9142a1966bce065be22576": {
      "model_module": "@jupyter-widgets/base",
      "model_module_version": "1.2.0",
      "model_name": "LayoutModel",
      "state": {}
     },
     "fb5b393b91164b81b560e8196c5efa11": {
      "model_module": "@jupyter-widgets/controls",
      "model_module_version": "1.5.0",
      "model_name": "DescriptionStyleModel",
      "state": {
       "description_width": ""
      }
     },
     "fd6ac0f66cb841c9b8b68d2bd775c2ce": {
      "model_module": "@jupyter-widgets/controls",
      "model_module_version": "1.5.0",
      "model_name": "HBoxModel",
      "state": {
       "children": [
        "IPY_MODEL_98221c036f0d4efc98a85043b3098bc1",
        "IPY_MODEL_afb7afab962840ff8a24ab67e5f02399",
        "IPY_MODEL_46909147af9b40b9bc2d1468b19c11db"
       ],
       "layout": "IPY_MODEL_30f1e21fa15f4c1ba7e91b258bd0e5aa"
      }
     },
     "fe8fee560cac4a08b39a65aae4cff476": {
      "model_module": "@jupyter-widgets/controls",
      "model_module_version": "1.5.0",
      "model_name": "ProgressStyleModel",
      "state": {
       "description_width": ""
      }
     },
     "ff51a4151a5c4e4687e7abc83386905a": {
      "model_module": "@jupyter-widgets/controls",
      "model_module_version": "1.5.0",
      "model_name": "DescriptionStyleModel",
      "state": {
       "description_width": ""
      }
     },
     "ffc57a437cc6491e95be470cfb3e0159": {
      "model_module": "@jupyter-widgets/controls",
      "model_module_version": "1.5.0",
      "model_name": "HBoxModel",
      "state": {
       "children": [
        "IPY_MODEL_ce1084c86b544d41ab113e5c30831472",
        "IPY_MODEL_d560dc709a194d89ad0971c5b35e987c",
        "IPY_MODEL_00b994acfcfc4f64a2a54d5f38eeb171"
       ],
       "layout": "IPY_MODEL_a1e9d2dd3f9842fe883a1db20864a0d7"
      }
     }
    },
    "version_major": 2,
    "version_minor": 0
   }
  }
 },
 "nbformat": 4,
 "nbformat_minor": 5
}
