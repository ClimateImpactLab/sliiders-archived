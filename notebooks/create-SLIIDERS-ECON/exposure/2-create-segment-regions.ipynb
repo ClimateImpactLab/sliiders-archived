{
 "cells": [
  {
   "cell_type": "markdown",
   "id": "735b7444-8a68-4f6e-987c-c045a53b64c6",
   "metadata": {
    "tags": []
   },
   "source": [
    "# Generate set of administrative regions to use in exposure grid\n",
    "- The idea here is to get a globally comprehensive set of administrative boundaries at the `adm1` level or higher if the `adm1` level is not available\n",
    "- Use `adm1` if available and `adm0` if not"
   ]
  },
  {
   "cell_type": "code",
   "execution_count": 1,
   "id": "f26ced68",
   "metadata": {},
   "outputs": [],
   "source": [
    "import geopandas as gpd\n",
    "import pandas as pd\n",
    "from sliiders import settings as sset"
   ]
  },
  {
   "cell_type": "markdown",
   "id": "5ad804d0-523e-4086-a147-926e4a74147a",
   "metadata": {},
   "source": [
    "#### Read full `adm0` and `adm1` sets"
   ]
  },
  {
   "cell_type": "code",
   "execution_count": null,
   "id": "10b69ed5-7c8f-4d87-9151-036c300d673f",
   "metadata": {},
   "outputs": [],
   "source": [
    "adm0 = gpd.read_file(sset.PATH_GADM, layer=\"level0\").set_crs(epsg=4326)\n",
    "adm1 = gpd.read_file(sset.PATH_GADM, layer=\"level1\").set_crs(epsg=4326)\n",
    "\n",
    "# Select columns\n",
    "adm0 = adm0[[\"GID_0\", \"geometry\"]].copy()\n",
    "adm1 = adm1[[\"GID_0\", \"GID_1\", \"geometry\"]].copy()"
   ]
  },
  {
   "cell_type": "markdown",
   "id": "8aa26393-836c-47fd-9b0d-a91ae0ffc839",
   "metadata": {
    "tags": []
   },
   "source": [
    "#### Exclude non-territory ISOs\n",
    "- `ATA`: Antarctica\n",
    "- `XCA`: Caspian Sea"
   ]
  },
  {
   "cell_type": "code",
   "execution_count": 4,
   "id": "ebcc3561-631d-4648-b0c5-eaf6cc583b02",
   "metadata": {},
   "outputs": [
    {
     "data": {
      "text/plain": [
       "['ATA', 'XCA']"
      ]
     },
     "execution_count": 4,
     "metadata": {},
     "output_type": "execute_result"
    }
   ],
   "source": [
    "sset.EXCLUDED_ISOS"
   ]
  },
  {
   "cell_type": "code",
   "execution_count": null,
   "id": "4840ab34-0646-4a2b-95fe-738df65e980f",
   "metadata": {},
   "outputs": [],
   "source": [
    "# Filter out excluded ISOs\n",
    "adm0 = adm0[~adm0[\"GID_0\"].isin(sset.EXCLUDED_ISOS)].copy()\n",
    "adm1 = adm1[~adm1[\"GID_0\"].isin(sset.EXCLUDED_ISOS)].copy()"
   ]
  },
  {
   "cell_type": "markdown",
   "id": "b0354db1-e44f-4619-8fd9-648aa20dc0da",
   "metadata": {},
   "source": [
    "#### Select only countries in `adm0` that do not appear in the `adm1` set, to be included as intermediate `adm1` regions"
   ]
  },
  {
   "cell_type": "code",
   "execution_count": null,
   "id": "43c4eb7a-d569-4096-bda2-915b147a5c04",
   "metadata": {},
   "outputs": [],
   "source": [
    "adm0_as_adm1 = adm0[~adm0[\"GID_0\"].isin(adm1[\"GID_0\"].unique())].copy()"
   ]
  },
  {
   "cell_type": "markdown",
   "id": "36e4a88b-ec4c-43d7-bd77-294b7008c816",
   "metadata": {},
   "source": [
    "#### Concatenate all `adm1` regions"
   ]
  },
  {
   "cell_type": "code",
   "execution_count": null,
   "id": "2b63641a-76ef-4d14-a0e3-55d57b71b83f",
   "metadata": {},
   "outputs": [],
   "source": [
    "full = pd.concat([adm0_as_adm1, adm1], ignore_index=True)"
   ]
  },
  {
   "cell_type": "markdown",
   "id": "4008f34c-0b3e-42d1-b335-5ec0127de09d",
   "metadata": {},
   "source": [
    "#### Assign a comprehensive set of unique IDs\n",
    "- `GID_1` (`adm1`) for actual `adm1` regions\n",
    "- `adm0` ID for `adm0_as_adm1` regions"
   ]
  },
  {
   "cell_type": "code",
   "execution_count": null,
   "id": "b3882622-5be6-4696-a9e3-8e61006ec09f",
   "metadata": {},
   "outputs": [],
   "source": [
    "full[\"UID\"] = full[\"GID_1\"].fillna(full[\"GID_0\"])"
   ]
  },
  {
   "cell_type": "markdown",
   "id": "f64893bc-6708-49f7-87b9-632c24263e0f",
   "metadata": {},
   "source": [
    "## Generate global Voronoi shapes for `adm1` regions\n",
    "- Here, `adm1` includes `adm0` for which there are no `adm1` regions"
   ]
  },
  {
   "cell_type": "code",
   "execution_count": null,
   "id": "11486ad7-5b1e-4233-b67c-821c7f0810ce",
   "metadata": {},
   "outputs": [],
   "source": [
    "adm1 = spatial.get_voronoi_regions(full)\n",
    "adm1[\"ISO\"] = adm1[\"UID\"].str.split(\".\").str[0]\n",
    "countries = adm1.dissolve(\"ISO\", as_index=False).drop(columns=[\"UID\"])"
   ]
  },
  {
   "cell_type": "markdown",
   "id": "55464973-fd20-4f16-b5a9-c9696ed0d22a",
   "metadata": {},
   "source": [
    "## Assign ISO to GTSM / CIAM points\n",
    "- assign based on country Voronoi\n",
    "- countries are defined by impact regions"
   ]
  },
  {
   "cell_type": "code",
   "execution_count": null,
   "id": "bea3c8ed-e0e0-423b-aa71-d1422895da73",
   "metadata": {},
   "outputs": [],
   "source": [
    "stations = spatial.match_stations_to_countries(countries, sset.PATH_SEG_CENTROIDS)"
   ]
  },
  {
   "cell_type": "markdown",
   "id": "ecdfc6cd-c110-4185-ae12-a0ab47148fc2",
   "metadata": {},
   "source": [
    "## Generate ISO-level point-voronoi from CIAM points"
   ]
  },
  {
   "cell_type": "code",
   "execution_count": null,
   "id": "d3c6f9dc-ab74-44de-9aed-ce3a3b20dc48",
   "metadata": {},
   "outputs": [],
   "source": [
    "vor_gdf = spatial.get_stations_by_iso_voronoi(stations)"
   ]
  },
  {
   "cell_type": "markdown",
   "id": "127c96c1-04f2-43f4-ba40-e8a69e677002",
   "metadata": {},
   "source": [
    "## Get CIAM coastline by country"
   ]
  },
  {
   "cell_type": "code",
   "execution_count": null,
   "id": "5fab94c7-845a-48b9-b611-3aab5db43505",
   "metadata": {},
   "outputs": [],
   "source": [
    "coastlines = spatial.get_coastlines_by_iso(\n",
    "    gpd.read_file(sset.PATH_CIAM_COASTLINES), adm1\n",
    ")"
   ]
  },
  {
   "cell_type": "markdown",
   "id": "10664855-e13d-4ad5-a72a-6281a2f338f0",
   "metadata": {},
   "source": [
    "## Get coast-seg-by-CIAM point"
   ]
  },
  {
   "cell_type": "code",
   "execution_count": null,
   "id": "d4eca187-b799-4fad-adef-751b9f52f8f2",
   "metadata": {},
   "outputs": [],
   "source": [
    "coastal_segs = spatial.get_coastal_segments_by_ciam_site(vor_gdf, coastlines)"
   ]
  },
  {
   "cell_type": "markdown",
   "id": "e9aa4610-e5bd-4b09-9bf7-ed923b816648",
   "metadata": {},
   "source": [
    "## Overlap coastline vor with adm1 vor to get spatially comprehensive seg_adm1."
   ]
  },
  {
   "cell_type": "code",
   "execution_count": null,
   "id": "86bd81be-cec8-4bba-9ae4-565896c6dd5e",
   "metadata": {},
   "outputs": [],
   "source": [
    "with warnings.catch_warnings():\n",
    "    warnings.filterwarnings(\"ignore\", category=ShapelyDeprecationWarning)\n",
    "    all_overlays, ciam_polys = spatial.generate_voronoi_from_segments(\n",
    "        coastal_segs,\n",
    "        adm1,\n",
    "        \"UID\",\n",
    "        \"seg_adm\",\n",
    "        \"adm1\",\n",
    "    )"
   ]
  },
  {
   "cell_type": "code",
   "execution_count": null,
   "id": "31b77d44-3a31-42a6-a67b-4d869765c73f",
   "metadata": {},
   "outputs": [],
   "source": [
    "sset.PATH_CIAM_ADM1_VORONOI_INTERSECTIONS.parent.mkdir(exist_ok=False)\n",
    "\n",
    "all_overlays.to_parquet(sset.PATH_CIAM_ADM1_VORONOI_INTERSECTIONS, index=False)\n",
    "all_overlays.to_file(sset.PATH_CIAM_ADM1_VORONOI_INTERSECTIONS_SHP)\n",
    "\n",
    "ciam_polys.to_parquet(sset.PATH_CIAM_POLYS, index=False)"
   ]
  }
 ],
 "metadata": {
  "kernelspec": {
   "display_name": "Python 3 (ipykernel)",
   "language": "python",
   "name": "python3"
  },
  "language_info": {
   "codemirror_mode": {
    "name": "ipython",
    "version": 3
   },
   "file_extension": ".py",
   "mimetype": "text/x-python",
   "name": "python",
   "nbconvert_exporter": "python",
   "pygments_lexer": "ipython3",
   "version": "3.9.10"
  },
  "widgets": {
   "application/vnd.jupyter.widget-state+json": {
    "state": {},
    "version_major": 2,
    "version_minor": 0
   }
  }
 },
 "nbformat": 4,
 "nbformat_minor": 5
}
