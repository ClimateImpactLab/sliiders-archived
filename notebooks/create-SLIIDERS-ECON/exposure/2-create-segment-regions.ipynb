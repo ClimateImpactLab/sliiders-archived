{
 "cells": [
  {
   "cell_type": "markdown",
   "id": "735b7444-8a68-4f6e-987c-c045a53b64c6",
   "metadata": {
    "tags": []
   },
   "source": [
    "# Generate set of administrative regions to use in exposure grid\n",
    "- The idea here is to get a globally comprehensive set of administrative boundaries at the `adm1` level or higher if the `adm1` level is not available\n",
    "- Use `adm1` if available and `adm0` if not"
   ]
  },
  {
   "cell_type": "code",
   "execution_count": 1,
   "id": "6e027b29-8979-440c-affa-b55d30ddd87a",
   "metadata": {},
   "outputs": [],
   "source": [
    "%load_ext autoreload\n",
    "%autoreload 2"
   ]
  },
  {
   "cell_type": "code",
   "execution_count": 2,
   "id": "f26ced68",
   "metadata": {},
   "outputs": [
    {
     "name": "stderr",
     "output_type": "stream",
     "text": [
      "/srv/conda/envs/notebook/lib/python3.9/site-packages/dask_gateway/client.py:21: FutureWarning: format_bytes is deprecated and will be removed in a future release. Please use dask.utils.format_bytes instead.\n",
      "  from distributed.utils import LoopRunner, format_bytes\n"
     ]
    }
   ],
   "source": [
    "import warnings\n",
    "\n",
    "import geopandas as gpd\n",
    "import pandas as pd\n",
    "from shapely.errors import ShapelyDeprecationWarning\n",
    "\n",
    "from sliiders import settings as sset\n",
    "from sliiders import spatial"
   ]
  },
  {
   "cell_type": "markdown",
   "id": "5ad804d0-523e-4086-a147-926e4a74147a",
   "metadata": {},
   "source": [
    "#### Read full `adm0` and `adm1` sets"
   ]
  },
  {
   "cell_type": "code",
   "execution_count": 3,
   "id": "10b69ed5-7c8f-4d87-9151-036c300d673f",
   "metadata": {},
   "outputs": [],
   "source": [
    "adm0 = (\n",
    "    gpd.read_file(sset.PATH_GADM, layer=\"level0\")[[\"GID_0\", \"geometry\"]]\n",
    "    .set_crs(epsg=4326)\n",
    "    .set_index(\"GID_0\")\n",
    "    .geometry\n",
    ")\n",
    "adm1 = (\n",
    "    gpd.read_file(sset.PATH_GADM, layer=\"level1\")[[\"GID_0\", \"GID_1\", \"geometry\"]]\n",
    "    .set_crs(epsg=4326)\n",
    "    .set_index(\"GID_1\")\n",
    ")"
   ]
  },
  {
   "cell_type": "markdown",
   "id": "8aa26393-836c-47fd-9b0d-a91ae0ffc839",
   "metadata": {
    "tags": []
   },
   "source": [
    "#### Exclude non-territory ISOs\n",
    "- `ATA`: Antarctica\n",
    "- `XCA`: Caspian Sea"
   ]
  },
  {
   "cell_type": "code",
   "execution_count": 4,
   "id": "ebcc3561-631d-4648-b0c5-eaf6cc583b02",
   "metadata": {},
   "outputs": [
    {
     "data": {
      "text/plain": [
       "['ATA', 'XCA']"
      ]
     },
     "execution_count": 4,
     "metadata": {},
     "output_type": "execute_result"
    }
   ],
   "source": [
    "sset.EXCLUDED_ISOS"
   ]
  },
  {
   "cell_type": "code",
   "execution_count": 5,
   "id": "4840ab34-0646-4a2b-95fe-738df65e980f",
   "metadata": {},
   "outputs": [],
   "source": [
    "# Filter out excluded ISOs\n",
    "adm0 = adm0[~adm0.index.isin(sset.EXCLUDED_ISOS)]\n",
    "adm1 = adm1[~adm1[\"GID_0\"].isin(sset.EXCLUDED_ISOS)]"
   ]
  },
  {
   "cell_type": "markdown",
   "id": "b0354db1-e44f-4619-8fd9-648aa20dc0da",
   "metadata": {},
   "source": [
    "#### Select only countries in `adm0` that do not appear in the `adm1` set, to be included as intermediate `adm1` regions"
   ]
  },
  {
   "cell_type": "code",
   "execution_count": 6,
   "id": "43c4eb7a-d569-4096-bda2-915b147a5c04",
   "metadata": {},
   "outputs": [],
   "source": [
    "adm0_as_adm1 = adm0.drop(adm1.GID_0.unique())"
   ]
  },
  {
   "cell_type": "markdown",
   "id": "36e4a88b-ec4c-43d7-bd77-294b7008c816",
   "metadata": {},
   "source": [
    "#### Concatenate all `adm1` regions"
   ]
  },
  {
   "cell_type": "code",
   "execution_count": 7,
   "id": "d5a6c1a0-404f-4d9b-90a6-fa472953b040",
   "metadata": {},
   "outputs": [],
   "source": [
    "full = pd.concat([adm0_as_adm1.to_frame(), adm1]).geometry.to_frame()\n",
    "full[\"ISO\"] = full.index.str.split(\".\").str[0]\n",
    "full.index.name = \"adm1\"\n",
    "assert full.index.is_unique\n",
    "seg_centroids = gpd.read_file(sset.PATH_SEG_CENTROIDS).set_index(\"station_id\").geometry\n",
    "coastlines = gpd.read_file(sset.PATH_CIAM_COASTLINES).set_index(\"line_id\").geometry\n",
    "overlay_name = \"seg_adm\""
   ]
  },
  {
   "cell_type": "code",
   "execution_count": 13,
   "id": "45dafc0e-3da3-4e7e-ba9c-cc12cb8c9da2",
   "metadata": {},
   "outputs": [
    {
     "data": {
      "text/plain": [
       "station_id\n",
       "id_coast_glob_eur_00001       POINT (24.08936 34.82666)\n",
       "id_coast_glob_eur_00002       POINT (24.08936 34.87061)\n",
       "id_coast_glob_eur_00008       POINT (12.57568 35.50049)\n",
       "id_coast_glob_eur_00009       POINT (12.61963 35.50049)\n",
       "id_coast_glob_eur_00167       POINT (23.32764 35.83740)\n",
       "                                       ...             \n",
       "id_coast_glob_99011        POINT (-128.32974 -24.38661)\n",
       "id_coast_glob_99012          POINT (115.80228 10.73177)\n",
       "id_coast_glob_99013         POINT (-171.19264 -9.34152)\n",
       "id_coast_glob_99014          POINT (166.64951 19.28119)\n",
       "id_coast_glob_99015          POINT (-63.01482 18.03886)\n",
       "Name: geometry, Length: 9592, dtype: geometry"
      ]
     },
     "execution_count": 13,
     "metadata": {},
     "output_type": "execute_result"
    }
   ],
   "source": [
    "seg_centroids"
   ]
  },
  {
   "cell_type": "code",
   "execution_count": 11,
   "id": "aad8f46b-8d98-48db-bb5d-77732c9a3c1a",
   "metadata": {},
   "outputs": [
    {
     "ename": "ValueError",
     "evalue": "y attribute access only provided for Point geometries",
     "output_type": "error",
     "traceback": [
      "\u001b[0;31m---------------------------------------------------------------------------\u001b[0m",
      "\u001b[0;31mValueError\u001b[0m                                Traceback (most recent call last)",
      "Input \u001b[0;32mIn [11]\u001b[0m, in \u001b[0;36m<cell line: 1>\u001b[0;34m()\u001b[0m\n\u001b[0;32m----> 1\u001b[0m \u001b[43mspatial\u001b[49m\u001b[38;5;241;43m.\u001b[39;49m\u001b[43mappend_extra_pts\u001b[49m\u001b[43m(\u001b[49m\u001b[43mfull\u001b[49m\u001b[38;5;241;43m.\u001b[39;49m\u001b[43mhead\u001b[49m\u001b[43m(\u001b[49m\u001b[43m)\u001b[49m\u001b[43m)\u001b[49m\n",
      "File \u001b[0;32m~/sliiders/sliiders/spatial.py:1659\u001b[0m, in \u001b[0;36mappend_extra_pts\u001b[0;34m(sites)\u001b[0m\n\u001b[1;32m   1644\u001b[0m \u001b[38;5;28;01mdef\u001b[39;00m \u001b[38;5;21mappend_extra_pts\u001b[39m(sites):\n\u001b[1;32m   1645\u001b[0m     \u001b[38;5;124;03m\"\"\"Define three extra points at the pole farthest from any point in `sites`\u001b[39;00m\n\u001b[1;32m   1646\u001b[0m \u001b[38;5;124;03m    These can be necessary for compataibility with `SphericalVoronoi` when the\u001b[39;00m\n\u001b[1;32m   1647\u001b[0m \u001b[38;5;124;03m    number of original sites is less than four.\u001b[39;00m\n\u001b[0;32m   (...)\u001b[0m\n\u001b[1;32m   1657\u001b[0m \u001b[38;5;124;03m        Same as input, but with extra points near one of the poles included.\u001b[39;00m\n\u001b[1;32m   1658\u001b[0m \u001b[38;5;124;03m    \"\"\"\u001b[39;00m\n\u001b[0;32m-> 1659\u001b[0m     y \u001b[38;5;241m=\u001b[39m \u001b[43msites\u001b[49m\u001b[38;5;241;43m.\u001b[39;49m\u001b[43mgeometry\u001b[49m\u001b[38;5;241;43m.\u001b[39;49m\u001b[43my\u001b[49m\n\u001b[1;32m   1660\u001b[0m     nsign \u001b[38;5;241m=\u001b[39m \u001b[38;5;241m-\u001b[39m\u001b[38;5;241m1\u001b[39m \u001b[38;5;28;01mif\u001b[39;00m np\u001b[38;5;241m.\u001b[39mabs(y\u001b[38;5;241m.\u001b[39mmax()) \u001b[38;5;241m>\u001b[39m np\u001b[38;5;241m.\u001b[39mabs(y\u001b[38;5;241m.\u001b[39mmin()) \u001b[38;5;28;01melse\u001b[39;00m \u001b[38;5;241m1\u001b[39m\n\u001b[1;32m   1662\u001b[0m     out \u001b[38;5;241m=\u001b[39m sites\u001b[38;5;241m.\u001b[39miloc[[\u001b[38;5;241m0\u001b[39m, \u001b[38;5;241m0\u001b[39m, \u001b[38;5;241m0\u001b[39m]]\n",
      "File \u001b[0;32m/srv/conda/envs/notebook/lib/python3.9/site-packages/geopandas/geoseries.py:290\u001b[0m, in \u001b[0;36mGeoSeries.y\u001b[0;34m(self)\u001b[0m\n\u001b[1;32m    264\u001b[0m \u001b[38;5;129m@property\u001b[39m\n\u001b[1;32m    265\u001b[0m \u001b[38;5;28;01mdef\u001b[39;00m \u001b[38;5;21my\u001b[39m(\u001b[38;5;28mself\u001b[39m):\n\u001b[1;32m    266\u001b[0m     \u001b[38;5;124;03m\"\"\"Return the y location of point geometries in a GeoSeries\u001b[39;00m\n\u001b[1;32m    267\u001b[0m \n\u001b[1;32m    268\u001b[0m \u001b[38;5;124;03m    Returns\u001b[39;00m\n\u001b[0;32m   (...)\u001b[0m\n\u001b[1;32m    288\u001b[0m \n\u001b[1;32m    289\u001b[0m \u001b[38;5;124;03m    \"\"\"\u001b[39;00m\n\u001b[0;32m--> 290\u001b[0m     \u001b[38;5;28;01mreturn\u001b[39;00m \u001b[43m_delegate_property\u001b[49m\u001b[43m(\u001b[49m\u001b[38;5;124;43m\"\u001b[39;49m\u001b[38;5;124;43my\u001b[39;49m\u001b[38;5;124;43m\"\u001b[39;49m\u001b[43m,\u001b[49m\u001b[43m \u001b[49m\u001b[38;5;28;43mself\u001b[39;49m\u001b[43m)\u001b[49m\n",
      "File \u001b[0;32m/srv/conda/envs/notebook/lib/python3.9/site-packages/geopandas/base.py:66\u001b[0m, in \u001b[0;36m_delegate_property\u001b[0;34m(op, this)\u001b[0m\n\u001b[1;32m     63\u001b[0m \u001b[38;5;28;01mdef\u001b[39;00m \u001b[38;5;21m_delegate_property\u001b[39m(op, this):\n\u001b[1;32m     64\u001b[0m     \u001b[38;5;66;03m# type: (str, GeoSeries) -> GeoSeries/Series\u001b[39;00m\n\u001b[1;32m     65\u001b[0m     a_this \u001b[38;5;241m=\u001b[39m GeometryArray(this\u001b[38;5;241m.\u001b[39mgeometry\u001b[38;5;241m.\u001b[39mvalues)\n\u001b[0;32m---> 66\u001b[0m     data \u001b[38;5;241m=\u001b[39m \u001b[38;5;28;43mgetattr\u001b[39;49m\u001b[43m(\u001b[49m\u001b[43ma_this\u001b[49m\u001b[43m,\u001b[49m\u001b[43m \u001b[49m\u001b[43mop\u001b[49m\u001b[43m)\u001b[49m\n\u001b[1;32m     67\u001b[0m     \u001b[38;5;28;01mif\u001b[39;00m \u001b[38;5;28misinstance\u001b[39m(data, GeometryArray):\n\u001b[1;32m     68\u001b[0m         \u001b[38;5;28;01mfrom\u001b[39;00m \u001b[38;5;21;01m.\u001b[39;00m\u001b[38;5;21;01mgeoseries\u001b[39;00m \u001b[38;5;28;01mimport\u001b[39;00m GeoSeries\n",
      "File \u001b[0;32m/srv/conda/envs/notebook/lib/python3.9/site-packages/geopandas/array.py:894\u001b[0m, in \u001b[0;36mGeometryArray.y\u001b[0;34m(self)\u001b[0m\n\u001b[1;32m    892\u001b[0m \u001b[38;5;28;01melse\u001b[39;00m:\n\u001b[1;32m    893\u001b[0m     message \u001b[38;5;241m=\u001b[39m \u001b[38;5;124m\"\u001b[39m\u001b[38;5;124my attribute access only provided for Point geometries\u001b[39m\u001b[38;5;124m\"\u001b[39m\n\u001b[0;32m--> 894\u001b[0m     \u001b[38;5;28;01mraise\u001b[39;00m \u001b[38;5;167;01mValueError\u001b[39;00m(message)\n",
      "\u001b[0;31mValueError\u001b[0m: y attribute access only provided for Point geometries"
     ]
    }
   ],
   "source": [
    "spatial.append_extra_pts(full.head())"
   ]
  },
  {
   "cell_type": "code",
   "execution_count": 8,
   "id": "f603158c-54e5-4e2d-82c6-0676ba8b7064",
   "metadata": {
    "tags": []
   },
   "outputs": [
    {
     "name": "stdout",
     "output_type": "stream",
     "text": [
      "Generating global Voronoi shapes for regions...\n"
     ]
    },
    {
     "data": {
      "application/vnd.jupyter.widget-view+json": {
       "model_id": "695823aaa5734f5189d63b8a89f01a86",
       "version_major": 2,
       "version_minor": 0
      },
      "text/plain": [
       "  0%|          | 0/362 [00:00<?, ?it/s]"
      ]
     },
     "metadata": {},
     "output_type": "display_data"
    },
    {
     "data": {
      "application/vnd.jupyter.widget-view+json": {
       "model_id": "72ec2ed41cd04e34b00ff4884ab8ea8d",
       "version_major": 2,
       "version_minor": 0
      },
      "text/plain": [
       "  0%|          | 0/1812 [00:00<?, ?it/s]"
      ]
     },
     "metadata": {},
     "output_type": "display_data"
    },
    {
     "data": {
      "application/vnd.jupyter.widget-view+json": {
       "model_id": "9f25a965bb5c46e48898199ffbd86232",
       "version_major": 2,
       "version_minor": 0
      },
      "text/plain": [
       "  0%|          | 0/1812 [00:00<?, ?it/s]"
      ]
     },
     "metadata": {},
     "output_type": "display_data"
    },
    {
     "data": {
      "application/vnd.jupyter.widget-view+json": {
       "model_id": "37b6be282b934035ab4e8b735dda2db0",
       "version_major": 2,
       "version_minor": 0
      },
      "text/plain": [
       "  0%|          | 0/8 [00:00<?, ?it/s]"
      ]
     },
     "metadata": {},
     "output_type": "display_data"
    },
    {
     "name": "stdout",
     "output_type": "stream",
     "text": [
      "Assigning countries to segment centroids...\n",
      "Generating within-country Voronoi shapes for segment centroids...\n",
      "ABW AGO AIA ALA ALB ARE ARG ASM ATF ATG AUS BEL "
     ]
    },
    {
     "ename": "AttributeError",
     "evalue": "'GeoDataFrame' object has no attribute 'y'",
     "output_type": "error",
     "traceback": [
      "\u001b[0;31m---------------------------------------------------------------------------\u001b[0m",
      "\u001b[0;31mAttributeError\u001b[0m                            Traceback (most recent call last)",
      "Input \u001b[0;32mIn [8]\u001b[0m, in \u001b[0;36m<cell line: 1>\u001b[0;34m()\u001b[0m\n\u001b[1;32m      1\u001b[0m \u001b[38;5;28;01mwith\u001b[39;00m warnings\u001b[38;5;241m.\u001b[39mcatch_warnings():\n\u001b[1;32m      2\u001b[0m     warnings\u001b[38;5;241m.\u001b[39mfilterwarnings(\u001b[38;5;124m\"\u001b[39m\u001b[38;5;124mignore\u001b[39m\u001b[38;5;124m\"\u001b[39m, category\u001b[38;5;241m=\u001b[39mShapelyDeprecationWarning)\n\u001b[0;32m----> 3\u001b[0m     all_overlays, ciam_polys \u001b[38;5;241m=\u001b[39m \u001b[43mspatial\u001b[49m\u001b[38;5;241;43m.\u001b[39;49m\u001b[43mcreate_overlay_voronois\u001b[49m\u001b[43m(\u001b[49m\n\u001b[1;32m      4\u001b[0m \u001b[43m        \u001b[49m\u001b[43mfull\u001b[49m\u001b[43m,\u001b[49m\u001b[43m \u001b[49m\u001b[43mseg_centroids\u001b[49m\u001b[43m,\u001b[49m\u001b[43m \u001b[49m\u001b[43mcoastlines\u001b[49m\u001b[43m,\u001b[49m\u001b[43m \u001b[49m\u001b[43moverlay_name\u001b[49m\u001b[43m,\u001b[49m\u001b[43m \u001b[49m\u001b[43mplot\u001b[49m\u001b[38;5;241;43m=\u001b[39;49m\u001b[38;5;28;43;01mTrue\u001b[39;49;00m\n\u001b[1;32m      5\u001b[0m \u001b[43m    \u001b[49m\u001b[43m)\u001b[49m\n",
      "File \u001b[0;32m~/sliiders/sliiders/spatial.py:2564\u001b[0m, in \u001b[0;36mcreate_overlay_voronois\u001b[0;34m(regions, seg_centroids, coastlines, overlay_name, plot)\u001b[0m\n\u001b[1;32m   2562\u001b[0m \u001b[38;5;66;03m# Generate ISO-level point-voronoi from CIAM points\u001b[39;00m\n\u001b[1;32m   2563\u001b[0m \u001b[38;5;28mprint\u001b[39m(\u001b[38;5;124m\"\u001b[39m\u001b[38;5;124mGenerating within-country Voronoi shapes for segment centroids...\u001b[39m\u001b[38;5;124m\"\u001b[39m)\n\u001b[0;32m-> 2564\u001b[0m vor_gdf \u001b[38;5;241m=\u001b[39m \u001b[43mget_stations_by_iso_voronoi\u001b[49m\u001b[43m(\u001b[49m\u001b[43mstations\u001b[49m\u001b[43m)\u001b[49m\n\u001b[1;32m   2566\u001b[0m \u001b[38;5;66;03m# Get coastline by country\u001b[39;00m\n\u001b[1;32m   2567\u001b[0m \u001b[38;5;28mprint\u001b[39m(\u001b[38;5;124m\"\u001b[39m\u001b[38;5;124mGenerating country-level coastlines...\u001b[39m\u001b[38;5;124m\"\u001b[39m)\n",
      "File \u001b[0;32m~/sliiders/sliiders/spatial.py:1742\u001b[0m, in \u001b[0;36mget_stations_by_iso_voronoi\u001b[0;34m(stations)\u001b[0m\n\u001b[1;32m   1740\u001b[0m     \u001b[38;5;28mprint\u001b[39m(iso, end\u001b[38;5;241m=\u001b[39m\u001b[38;5;124m\"\u001b[39m\u001b[38;5;124m \u001b[39m\u001b[38;5;124m\"\u001b[39m)\n\u001b[1;32m   1741\u001b[0m     iso_stations \u001b[38;5;241m=\u001b[39m stations[stations[\u001b[38;5;124m\"\u001b[39m\u001b[38;5;124mISO\u001b[39m\u001b[38;5;124m\"\u001b[39m] \u001b[38;5;241m==\u001b[39m iso]\u001b[38;5;241m.\u001b[39mcopy()\n\u001b[0;32m-> 1742\u001b[0m     vors\u001b[38;5;241m.\u001b[39mappend(\u001b[43mget_voronoi_from_sites\u001b[49m\u001b[43m(\u001b[49m\u001b[43miso_stations\u001b[49m\u001b[43m)\u001b[49m)\n\u001b[1;32m   1744\u001b[0m \u001b[38;5;66;03m# Combine all Voronoi diagrams into one GeoDataFrame (results overlap)\u001b[39;00m\n\u001b[1;32m   1745\u001b[0m vor_gdf \u001b[38;5;241m=\u001b[39m pd\u001b[38;5;241m.\u001b[39mconcat(vors)\n",
      "File \u001b[0;32m~/sliiders/sliiders/spatial.py:1696\u001b[0m, in \u001b[0;36mget_voronoi_from_sites\u001b[0;34m(sites)\u001b[0m\n\u001b[1;32m   1694\u001b[0m \u001b[38;5;28;01melse\u001b[39;00m:\n\u001b[1;32m   1695\u001b[0m     \u001b[38;5;28;01mif\u001b[39;00m sites\u001b[38;5;241m.\u001b[39mshape[\u001b[38;5;241m0\u001b[39m] \u001b[38;5;241m<\u001b[39m\u001b[38;5;241m=\u001b[39m \u001b[38;5;241m3\u001b[39m:\n\u001b[0;32m-> 1696\u001b[0m         sites \u001b[38;5;241m=\u001b[39m \u001b[43mappend_extra_pts\u001b[49m\u001b[43m(\u001b[49m\u001b[43msites\u001b[49m\u001b[43m)\u001b[49m\n\u001b[1;32m   1697\u001b[0m     vor_gser \u001b[38;5;241m=\u001b[39m get_spherical_voronoi_gser(sites\u001b[38;5;241m.\u001b[39mgeometry, show_bar\u001b[38;5;241m=\u001b[39m\u001b[38;5;28;01mFalse\u001b[39;00m)\n\u001b[1;32m   1698\u001b[0m     out \u001b[38;5;241m=\u001b[39m gpd\u001b[38;5;241m.\u001b[39mGeoDataFrame(\n\u001b[1;32m   1699\u001b[0m         sites\u001b[38;5;241m.\u001b[39mdrop(columns\u001b[38;5;241m=\u001b[39m\u001b[38;5;124m\"\u001b[39m\u001b[38;5;124mgeometry\u001b[39m\u001b[38;5;124m\"\u001b[39m, errors\u001b[38;5;241m=\u001b[39m\u001b[38;5;124m\"\u001b[39m\u001b[38;5;124mignore\u001b[39m\u001b[38;5;124m\"\u001b[39m)\u001b[38;5;241m.\u001b[39mjoin(vor_gser),\n\u001b[1;32m   1700\u001b[0m         crs\u001b[38;5;241m=\u001b[39msites\u001b[38;5;241m.\u001b[39mcrs,\n\u001b[1;32m   1701\u001b[0m     )\n",
      "File \u001b[0;32m~/sliiders/sliiders/spatial.py:1659\u001b[0m, in \u001b[0;36mappend_extra_pts\u001b[0;34m(sites)\u001b[0m\n\u001b[1;32m   1644\u001b[0m \u001b[38;5;28;01mdef\u001b[39;00m \u001b[38;5;21mappend_extra_pts\u001b[39m(sites):\n\u001b[1;32m   1645\u001b[0m     \u001b[38;5;124;03m\"\"\"Define three extra points at the pole farthest from any point in `sites`\u001b[39;00m\n\u001b[1;32m   1646\u001b[0m \u001b[38;5;124;03m    These can be necessary for compataibility with `SphericalVoronoi` when the\u001b[39;00m\n\u001b[1;32m   1647\u001b[0m \u001b[38;5;124;03m    number of original sites is less than four.\u001b[39;00m\n\u001b[0;32m   (...)\u001b[0m\n\u001b[1;32m   1657\u001b[0m \u001b[38;5;124;03m        Same as input, but with extra points near one of the poles included.\u001b[39;00m\n\u001b[1;32m   1658\u001b[0m \u001b[38;5;124;03m    \"\"\"\u001b[39;00m\n\u001b[0;32m-> 1659\u001b[0m     ymax \u001b[38;5;241m=\u001b[39m \u001b[43msites\u001b[49m\u001b[38;5;241;43m.\u001b[39;49m\u001b[43my\u001b[49m\u001b[38;5;241m.\u001b[39mmax()\n\u001b[1;32m   1660\u001b[0m     ymin \u001b[38;5;241m=\u001b[39m sites\u001b[38;5;241m.\u001b[39my\u001b[38;5;241m.\u001b[39mmin()\n\u001b[1;32m   1661\u001b[0m     nsign \u001b[38;5;241m=\u001b[39m \u001b[38;5;241m-\u001b[39m\u001b[38;5;241m1\u001b[39m \u001b[38;5;28;01mif\u001b[39;00m np\u001b[38;5;241m.\u001b[39mabs(ymax) \u001b[38;5;241m>\u001b[39m np\u001b[38;5;241m.\u001b[39mabs(ymin) \u001b[38;5;28;01melse\u001b[39;00m \u001b[38;5;241m1\u001b[39m\n",
      "File \u001b[0;32m/srv/conda/envs/notebook/lib/python3.9/site-packages/pandas/core/generic.py:5583\u001b[0m, in \u001b[0;36mNDFrame.__getattr__\u001b[0;34m(self, name)\u001b[0m\n\u001b[1;32m   5576\u001b[0m \u001b[38;5;28;01mif\u001b[39;00m (\n\u001b[1;32m   5577\u001b[0m     name \u001b[38;5;129;01mnot\u001b[39;00m \u001b[38;5;129;01min\u001b[39;00m \u001b[38;5;28mself\u001b[39m\u001b[38;5;241m.\u001b[39m_internal_names_set\n\u001b[1;32m   5578\u001b[0m     \u001b[38;5;129;01mand\u001b[39;00m name \u001b[38;5;129;01mnot\u001b[39;00m \u001b[38;5;129;01min\u001b[39;00m \u001b[38;5;28mself\u001b[39m\u001b[38;5;241m.\u001b[39m_metadata\n\u001b[1;32m   5579\u001b[0m     \u001b[38;5;129;01mand\u001b[39;00m name \u001b[38;5;129;01mnot\u001b[39;00m \u001b[38;5;129;01min\u001b[39;00m \u001b[38;5;28mself\u001b[39m\u001b[38;5;241m.\u001b[39m_accessors\n\u001b[1;32m   5580\u001b[0m     \u001b[38;5;129;01mand\u001b[39;00m \u001b[38;5;28mself\u001b[39m\u001b[38;5;241m.\u001b[39m_info_axis\u001b[38;5;241m.\u001b[39m_can_hold_identifiers_and_holds_name(name)\n\u001b[1;32m   5581\u001b[0m ):\n\u001b[1;32m   5582\u001b[0m     \u001b[38;5;28;01mreturn\u001b[39;00m \u001b[38;5;28mself\u001b[39m[name]\n\u001b[0;32m-> 5583\u001b[0m \u001b[38;5;28;01mreturn\u001b[39;00m \u001b[38;5;28;43mobject\u001b[39;49m\u001b[38;5;241;43m.\u001b[39;49m\u001b[38;5;21;43m__getattribute__\u001b[39;49m\u001b[43m(\u001b[49m\u001b[38;5;28;43mself\u001b[39;49m\u001b[43m,\u001b[49m\u001b[43m \u001b[49m\u001b[43mname\u001b[49m\u001b[43m)\u001b[49m\n",
      "\u001b[0;31mAttributeError\u001b[0m: 'GeoDataFrame' object has no attribute 'y'"
     ]
    }
   ],
   "source": [
    "with warnings.catch_warnings():\n",
    "    warnings.filterwarnings(\"ignore\", category=ShapelyDeprecationWarning)\n",
    "    all_overlays, ciam_polys = spatial.create_overlay_voronois(\n",
    "        full, seg_centroids, coastlines, overlay_name, plot=True\n",
    "    )"
   ]
  },
  {
   "cell_type": "code",
   "execution_count": null,
   "id": "31b77d44-3a31-42a6-a67b-4d869765c73f",
   "metadata": {},
   "outputs": [],
   "source": [
    "sset.PATH_CIAM_ADM1_VORONOI_INTERSECTIONS.parent.mkdir(exist_ok=False)\n",
    "\n",
    "all_overlays.to_parquet(sset.PATH_CIAM_ADM1_VORONOI_INTERSECTIONS, index=False)\n",
    "all_overlays.to_file(sset.PATH_CIAM_ADM1_VORONOI_INTERSECTIONS_SHP)\n",
    "\n",
    "ciam_polys.to_parquet(sset.PATH_CIAM_POLYS, index=False)"
   ]
  }
 ],
 "metadata": {
  "kernelspec": {
   "display_name": "Python 3 (ipykernel)",
   "language": "python",
   "name": "python3"
  },
  "language_info": {
   "codemirror_mode": {
    "name": "ipython",
    "version": 3
   },
   "file_extension": ".py",
   "mimetype": "text/x-python",
   "name": "python",
   "nbconvert_exporter": "python",
   "pygments_lexer": "ipython3",
   "version": "3.9.10"
  },
  "widgets": {
   "application/vnd.jupyter.widget-state+json": {
    "state": {
     "1501a52639d54ab0a7011c7bf08537f7": {
      "model_module": "@jupyter-widgets/controls",
      "model_module_version": "1.5.0",
      "model_name": "FloatProgressModel",
      "state": {
       "bar_style": "success",
       "layout": "IPY_MODEL_7f689e0c8eed4d2f9219157024881a6c",
       "max": 1812,
       "style": "IPY_MODEL_4543ae59526a456b8593d3999a1cb743",
       "value": 1812
      }
     },
     "1603fd4c700f4f289f3b0b84479e10e1": {
      "model_module": "@jupyter-widgets/base",
      "model_module_version": "1.2.0",
      "model_name": "LayoutModel",
      "state": {}
     },
     "2951b973f9734c6ca59a8ee1bbb29cbb": {
      "model_module": "@jupyter-widgets/controls",
      "model_module_version": "1.5.0",
      "model_name": "DescriptionStyleModel",
      "state": {
       "description_width": ""
      }
     },
     "2d8bf6abc554451a81aa4c0d7813e547": {
      "model_module": "@jupyter-widgets/controls",
      "model_module_version": "1.5.0",
      "model_name": "DescriptionStyleModel",
      "state": {
       "description_width": ""
      }
     },
     "354968560fae4767bd1bdbe33b33e97d": {
      "model_module": "@jupyter-widgets/controls",
      "model_module_version": "1.5.0",
      "model_name": "FloatProgressModel",
      "state": {
       "bar_style": "success",
       "layout": "IPY_MODEL_1603fd4c700f4f289f3b0b84479e10e1",
       "max": 362,
       "style": "IPY_MODEL_617d9050006d456bb14d356efd2541cd",
       "value": 362
      }
     },
     "37b6be282b934035ab4e8b735dda2db0": {
      "model_module": "@jupyter-widgets/controls",
      "model_module_version": "1.5.0",
      "model_name": "HBoxModel",
      "state": {
       "children": [
        "IPY_MODEL_df82ad634909461988dbf2ce44ee4307",
        "IPY_MODEL_413242444f3d43319613921f83e91b51",
        "IPY_MODEL_fc599920a40f4b1b8dc05cce2e92142c"
       ],
       "layout": "IPY_MODEL_7b4d90cfd3c4436db46a58df2ec5b537"
      }
     },
     "3af6a98e37624df5aab5d58089dd80cc": {
      "model_module": "@jupyter-widgets/controls",
      "model_module_version": "1.5.0",
      "model_name": "HTMLModel",
      "state": {
       "layout": "IPY_MODEL_c9a347d31ee04f86befe4eafd6dd489a",
       "style": "IPY_MODEL_5440d3df34dc4489946774874207ee7b",
       "value": "100%"
      }
     },
     "40649b852e3e4b10b637bc0dc373c80a": {
      "model_module": "@jupyter-widgets/base",
      "model_module_version": "1.2.0",
      "model_name": "LayoutModel",
      "state": {}
     },
     "413242444f3d43319613921f83e91b51": {
      "model_module": "@jupyter-widgets/controls",
      "model_module_version": "1.5.0",
      "model_name": "FloatProgressModel",
      "state": {
       "bar_style": "success",
       "layout": "IPY_MODEL_40649b852e3e4b10b637bc0dc373c80a",
       "max": 8,
       "style": "IPY_MODEL_953b881d15b44c30a882cdc93d7c7873",
       "value": 8
      }
     },
     "4543ae59526a456b8593d3999a1cb743": {
      "model_module": "@jupyter-widgets/controls",
      "model_module_version": "1.5.0",
      "model_name": "ProgressStyleModel",
      "state": {
       "description_width": ""
      }
     },
     "48608af2f3164f79a9c0c84565aa08fe": {
      "model_module": "@jupyter-widgets/base",
      "model_module_version": "1.2.0",
      "model_name": "LayoutModel",
      "state": {}
     },
     "4dbecdb5728e4aeba8e8d08c30282fe8": {
      "model_module": "@jupyter-widgets/controls",
      "model_module_version": "1.5.0",
      "model_name": "DescriptionStyleModel",
      "state": {
       "description_width": ""
      }
     },
     "4e7178efbc494da7b547e9badd53900c": {
      "model_module": "@jupyter-widgets/controls",
      "model_module_version": "1.5.0",
      "model_name": "DescriptionStyleModel",
      "state": {
       "description_width": ""
      }
     },
     "4f30fc07dc2c41c1b83358529956714f": {
      "model_module": "@jupyter-widgets/base",
      "model_module_version": "1.2.0",
      "model_name": "LayoutModel",
      "state": {}
     },
     "5440d3df34dc4489946774874207ee7b": {
      "model_module": "@jupyter-widgets/controls",
      "model_module_version": "1.5.0",
      "model_name": "DescriptionStyleModel",
      "state": {
       "description_width": ""
      }
     },
     "617d9050006d456bb14d356efd2541cd": {
      "model_module": "@jupyter-widgets/controls",
      "model_module_version": "1.5.0",
      "model_name": "ProgressStyleModel",
      "state": {
       "description_width": ""
      }
     },
     "695823aaa5734f5189d63b8a89f01a86": {
      "model_module": "@jupyter-widgets/controls",
      "model_module_version": "1.5.0",
      "model_name": "HBoxModel",
      "state": {
       "children": [
        "IPY_MODEL_b51e310be2be42a1b5fcf963cb5ed5b7",
        "IPY_MODEL_354968560fae4767bd1bdbe33b33e97d",
        "IPY_MODEL_87d1274a7a364ab993726cf94184efbb"
       ],
       "layout": "IPY_MODEL_c7d05df0ca534d2ebcd19e9e8dacb150"
      }
     },
     "6a0feab5a8db4d4aa9441d9b0157f101": {
      "model_module": "@jupyter-widgets/base",
      "model_module_version": "1.2.0",
      "model_name": "LayoutModel",
      "state": {}
     },
     "72ec2ed41cd04e34b00ff4884ab8ea8d": {
      "model_module": "@jupyter-widgets/controls",
      "model_module_version": "1.5.0",
      "model_name": "HBoxModel",
      "state": {
       "children": [
        "IPY_MODEL_f804841912ec4450bfd61486be1e0595",
        "IPY_MODEL_1501a52639d54ab0a7011c7bf08537f7",
        "IPY_MODEL_94d5e4f68be9480e812e240b6ab66f8e"
       ],
       "layout": "IPY_MODEL_7e00ba0e6ea147298c0a74b7eeafdf22"
      }
     },
     "7b4d90cfd3c4436db46a58df2ec5b537": {
      "model_module": "@jupyter-widgets/base",
      "model_module_version": "1.2.0",
      "model_name": "LayoutModel",
      "state": {}
     },
     "7b829cc3d78e405aaa5c5f121aae3eaa": {
      "model_module": "@jupyter-widgets/controls",
      "model_module_version": "1.5.0",
      "model_name": "DescriptionStyleModel",
      "state": {
       "description_width": ""
      }
     },
     "7e00ba0e6ea147298c0a74b7eeafdf22": {
      "model_module": "@jupyter-widgets/base",
      "model_module_version": "1.2.0",
      "model_name": "LayoutModel",
      "state": {}
     },
     "7f689e0c8eed4d2f9219157024881a6c": {
      "model_module": "@jupyter-widgets/base",
      "model_module_version": "1.2.0",
      "model_name": "LayoutModel",
      "state": {}
     },
     "87d1274a7a364ab993726cf94184efbb": {
      "model_module": "@jupyter-widgets/controls",
      "model_module_version": "1.5.0",
      "model_name": "HTMLModel",
      "state": {
       "layout": "IPY_MODEL_99f5d735a2464c45b5d6014e46be576f",
       "style": "IPY_MODEL_4e7178efbc494da7b547e9badd53900c",
       "value": " 362/362 [08:20&lt;00:00,  1.10it/s]"
      }
     },
     "893e29ca374a4f34921468651b8df896": {
      "model_module": "@jupyter-widgets/base",
      "model_module_version": "1.2.0",
      "model_name": "LayoutModel",
      "state": {}
     },
     "94d5e4f68be9480e812e240b6ab66f8e": {
      "model_module": "@jupyter-widgets/controls",
      "model_module_version": "1.5.0",
      "model_name": "HTMLModel",
      "state": {
       "layout": "IPY_MODEL_6a0feab5a8db4d4aa9441d9b0157f101",
       "style": "IPY_MODEL_4dbecdb5728e4aeba8e8d08c30282fe8",
       "value": " 1812/1812 [03:11&lt;00:00, 35.92it/s]"
      }
     },
     "953b881d15b44c30a882cdc93d7c7873": {
      "model_module": "@jupyter-widgets/controls",
      "model_module_version": "1.5.0",
      "model_name": "ProgressStyleModel",
      "state": {
       "description_width": ""
      }
     },
     "994d45b6ada045e18d9d727f29a03b3b": {
      "model_module": "@jupyter-widgets/base",
      "model_module_version": "1.2.0",
      "model_name": "LayoutModel",
      "state": {}
     },
     "99f5d735a2464c45b5d6014e46be576f": {
      "model_module": "@jupyter-widgets/base",
      "model_module_version": "1.2.0",
      "model_name": "LayoutModel",
      "state": {}
     },
     "9bdd781a3ab64bbc843879b386948012": {
      "model_module": "@jupyter-widgets/base",
      "model_module_version": "1.2.0",
      "model_name": "LayoutModel",
      "state": {}
     },
     "9dbae436beb94704ba09aac705f4ec6b": {
      "model_module": "@jupyter-widgets/controls",
      "model_module_version": "1.5.0",
      "model_name": "DescriptionStyleModel",
      "state": {
       "description_width": ""
      }
     },
     "9f25a965bb5c46e48898199ffbd86232": {
      "model_module": "@jupyter-widgets/controls",
      "model_module_version": "1.5.0",
      "model_name": "HBoxModel",
      "state": {
       "children": [
        "IPY_MODEL_3af6a98e37624df5aab5d58089dd80cc",
        "IPY_MODEL_eda4b2ce72e04a9380452e4db2da662f",
        "IPY_MODEL_a3d51d2f99d4470c9069753ebc537e14"
       ],
       "layout": "IPY_MODEL_9bdd781a3ab64bbc843879b386948012"
      }
     },
     "a3d51d2f99d4470c9069753ebc537e14": {
      "model_module": "@jupyter-widgets/controls",
      "model_module_version": "1.5.0",
      "model_name": "HTMLModel",
      "state": {
       "layout": "IPY_MODEL_994d45b6ada045e18d9d727f29a03b3b",
       "style": "IPY_MODEL_7b829cc3d78e405aaa5c5f121aae3eaa",
       "value": " 1812/1812 [01:08&lt;00:00, 29.43it/s]"
      }
     },
     "afbf64062fbc4c5f9209cadb61cae395": {
      "model_module": "@jupyter-widgets/base",
      "model_module_version": "1.2.0",
      "model_name": "LayoutModel",
      "state": {}
     },
     "b51e310be2be42a1b5fcf963cb5ed5b7": {
      "model_module": "@jupyter-widgets/controls",
      "model_module_version": "1.5.0",
      "model_name": "HTMLModel",
      "state": {
       "layout": "IPY_MODEL_48608af2f3164f79a9c0c84565aa08fe",
       "style": "IPY_MODEL_2951b973f9734c6ca59a8ee1bbb29cbb",
       "value": "100%"
      }
     },
     "be8032ebb03148049b1dbf002e327b0e": {
      "model_module": "@jupyter-widgets/controls",
      "model_module_version": "1.5.0",
      "model_name": "DescriptionStyleModel",
      "state": {
       "description_width": ""
      }
     },
     "c7d05df0ca534d2ebcd19e9e8dacb150": {
      "model_module": "@jupyter-widgets/base",
      "model_module_version": "1.2.0",
      "model_name": "LayoutModel",
      "state": {}
     },
     "c9a347d31ee04f86befe4eafd6dd489a": {
      "model_module": "@jupyter-widgets/base",
      "model_module_version": "1.2.0",
      "model_name": "LayoutModel",
      "state": {}
     },
     "df82ad634909461988dbf2ce44ee4307": {
      "model_module": "@jupyter-widgets/controls",
      "model_module_version": "1.5.0",
      "model_name": "HTMLModel",
      "state": {
       "layout": "IPY_MODEL_4f30fc07dc2c41c1b83358529956714f",
       "style": "IPY_MODEL_be8032ebb03148049b1dbf002e327b0e",
       "value": "100%"
      }
     },
     "eda4b2ce72e04a9380452e4db2da662f": {
      "model_module": "@jupyter-widgets/controls",
      "model_module_version": "1.5.0",
      "model_name": "FloatProgressModel",
      "state": {
       "bar_style": "success",
       "layout": "IPY_MODEL_fd7e7dbe63ff4122be102f215f583718",
       "max": 1812,
       "style": "IPY_MODEL_eebbd650ffae4e2c9b3e58c8eea27a23",
       "value": 1812
      }
     },
     "eebbd650ffae4e2c9b3e58c8eea27a23": {
      "model_module": "@jupyter-widgets/controls",
      "model_module_version": "1.5.0",
      "model_name": "ProgressStyleModel",
      "state": {
       "description_width": ""
      }
     },
     "f804841912ec4450bfd61486be1e0595": {
      "model_module": "@jupyter-widgets/controls",
      "model_module_version": "1.5.0",
      "model_name": "HTMLModel",
      "state": {
       "layout": "IPY_MODEL_893e29ca374a4f34921468651b8df896",
       "style": "IPY_MODEL_2d8bf6abc554451a81aa4c0d7813e547",
       "value": "100%"
      }
     },
     "fc599920a40f4b1b8dc05cce2e92142c": {
      "model_module": "@jupyter-widgets/controls",
      "model_module_version": "1.5.0",
      "model_name": "HTMLModel",
      "state": {
       "layout": "IPY_MODEL_afbf64062fbc4c5f9209cadb61cae395",
       "style": "IPY_MODEL_9dbae436beb94704ba09aac705f4ec6b",
       "value": " 8/8 [00:08&lt;00:00,  1.16s/it]"
      }
     },
     "fd7e7dbe63ff4122be102f215f583718": {
      "model_module": "@jupyter-widgets/base",
      "model_module_version": "1.2.0",
      "model_name": "LayoutModel",
      "state": {}
     }
    },
    "version_major": 2,
    "version_minor": 0
   }
  }
 },
 "nbformat": 4,
 "nbformat_minor": 5
}
