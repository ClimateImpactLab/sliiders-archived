{
 "cells": [
  {
   "cell_type": "markdown",
   "id": "5a16ad8e-333e-46b3-9e7f-b6698457add7",
   "metadata": {},
   "source": [
    "# Generate protected areas from various levee and hydrological data sources"
   ]
  },
  {
   "cell_type": "markdown",
   "id": "55a6f3c0-78d6-404e-9c20-d482e54b9afc",
   "metadata": {},
   "source": [
    "### Gather basins from HydroBASINS to find endorheic basins to include in \"protected areas\" dataset"
   ]
  },
  {
   "cell_type": "code",
   "execution_count": null,
   "id": "1642f3da-283c-4bd1-a6c0-454e44e64e8a",
   "metadata": {},
   "outputs": [],
   "source": [
    "import warnings\n",
    "\n",
    "import contextily as ctx\n",
    "import geopandas as gpd\n",
    "import pandas as pd\n",
    "from shapely.geometry import Polygon, box\n",
    "from tqdm.notebook import tqdm\n",
    "\n",
    "from sliiders import settings as sset\n",
    "from sliiders import spatial\n",
    "\n",
    "spatial.filter_spatial_warnings()"
   ]
  },
  {
   "cell_type": "code",
   "execution_count": null,
   "id": "795c2764-e952-4ff0-89a2-7dfc641efcf0",
   "metadata": {},
   "outputs": [],
   "source": [
    "all_basin_shapefiles = set((sset.DIR_HYDROBASINS_RAW.glob(\"hybas_*_lev00_v1c.shp\")))\n",
    "eu_basin_shapefile = sset.DIR_HYDROBASINS_RAW / \"hybas_eu_lev00_v1c.shp\"\n",
    "\n",
    "all_basin_shapefiles.remove(eu_basin_shapefile)"
   ]
  },
  {
   "cell_type": "code",
   "execution_count": null,
   "id": "21010e1f-884c-4f0d-81fb-dac94730f22c",
   "metadata": {},
   "outputs": [],
   "source": [
    "all_other_basins = pd.concat(\n",
    "    [gpd.read_file(basin_shapefile) for basin_shapefile in tqdm(all_basin_shapefiles)],\n",
    "    ignore_index=True,\n",
    ")"
   ]
  },
  {
   "cell_type": "code",
   "execution_count": null,
   "id": "8aef1e20-c8fe-4b8a-8bf6-23405757d948",
   "metadata": {},
   "outputs": [],
   "source": [
    "ocean_and_caspian = gpd.read_file(sset.PATH_NATURALEARTH_OCEAN)\n",
    "\n",
    "ocean_and_caspian = ocean_and_caspian.explode(index_parts=False)\n",
    "\n",
    "ocean_and_caspian[\"area\"] = ocean_and_caspian.area\n",
    "\n",
    "# Sort so that ocean is first, Caspian is second\n",
    "ocean_and_caspian = ocean_and_caspian.sort_values(\"area\", ascending=False)"
   ]
  },
  {
   "cell_type": "code",
   "execution_count": null,
   "id": "f5cd75f3-1a99-4da6-8fe4-ec9965c5a344",
   "metadata": {},
   "outputs": [],
   "source": [
    "ocean_shape = ocean_and_caspian.geometry.values[0]\n",
    "caspian_shape = ocean_and_caspian.geometry.values[1]"
   ]
  },
  {
   "cell_type": "code",
   "execution_count": null,
   "id": "45106d7b-4d62-4a9d-b122-fc772e86186e",
   "metadata": {},
   "outputs": [],
   "source": [
    "ocean_shape"
   ]
  },
  {
   "cell_type": "code",
   "execution_count": null,
   "id": "c14925b8-e41c-493a-86d5-ff9fa4b146f0",
   "metadata": {},
   "outputs": [],
   "source": [
    "caspian_shape"
   ]
  },
  {
   "cell_type": "code",
   "execution_count": null,
   "id": "3b078059-ace1-41c7-937d-0cbe89548c3a",
   "metadata": {},
   "outputs": [],
   "source": [
    "ocean_buffer = ocean_shape.buffer(sset.ENDORHEIC_BASIN_OCEAN_BUFFER).simplify(\n",
    "    tolerance=0.1\n",
    ")"
   ]
  },
  {
   "cell_type": "markdown",
   "id": "b661588d-de5e-4229-907b-82a85fe1a3a6",
   "metadata": {},
   "source": [
    "### Handle Caspian Sea as a special case since it is considered \"ocean\" by HydroBASINS"
   ]
  },
  {
   "cell_type": "code",
   "execution_count": null,
   "id": "40c70a80-1abd-496a-9fe5-39baad6ded1a",
   "metadata": {},
   "outputs": [],
   "source": [
    "eu_basins = gpd.read_file(eu_basin_shapefile)\n",
    "\n",
    "eu_basins[\"touches_caspian\"] = eu_basins[\"geometry\"].intersects(\n",
    "    box(*caspian_shape.bounds).buffer(0.5)\n",
    ")\n",
    "\n",
    "eu_basins[\"feeds_into_caspian\"] = eu_basins[\"touches_caspian\"].copy()\n",
    "\n",
    "prev_basin_count = 0\n",
    "while True:\n",
    "\n",
    "    feeds_into_caspian = set(eu_basins.loc[eu_basins[\"feeds_into_caspian\"], \"HYBAS_ID\"])\n",
    "\n",
    "    eu_basins[\"feeds_into_caspian\"] = (\n",
    "        (eu_basins[\"feeds_into_caspian\"])\n",
    "        | (eu_basins[\"NEXT_DOWN\"].isin(feeds_into_caspian))\n",
    "        | (eu_basins[\"NEXT_SINK\"].isin(feeds_into_caspian))\n",
    "        | (eu_basins[\"MAIN_BAS\"].isin(feeds_into_caspian))\n",
    "    )\n",
    "\n",
    "    this_basin_count = eu_basins[\"feeds_into_caspian\"].sum()\n",
    "    if this_basin_count == prev_basin_count:\n",
    "        break\n",
    "\n",
    "    prev_basin_count = this_basin_count"
   ]
  },
  {
   "cell_type": "code",
   "execution_count": null,
   "id": "d8f82508-a003-4ded-9932-6dc7522434ca",
   "metadata": {},
   "outputs": [],
   "source": [
    "eu_basins[eu_basins[\"feeds_into_caspian\"]].plot()"
   ]
  },
  {
   "cell_type": "code",
   "execution_count": null,
   "id": "8f38e19b-db3f-40ff-9493-58ac7e002e52",
   "metadata": {},
   "outputs": [],
   "source": [
    "eu_basins.loc[eu_basins[\"feeds_into_caspian\"], \"ENDO\"] = 1"
   ]
  },
  {
   "cell_type": "code",
   "execution_count": null,
   "id": "ee1b2c99-8653-48c5-be1f-ca117d6637d8",
   "metadata": {},
   "outputs": [],
   "source": [
    "all_basins = pd.concat([all_other_basins, eu_basins], ignore_index=True)"
   ]
  },
  {
   "cell_type": "markdown",
   "id": "e1d4f9a7-0b0e-49c7-9f3a-4332d0fc869f",
   "metadata": {},
   "source": [
    "### Apply narrow definition of \"endorheic\" by assuming all \"virtual\" connections e.g. groundwater are real connections"
   ]
  },
  {
   "cell_type": "code",
   "execution_count": null,
   "id": "af868b08-7636-4ed4-8d18-67db98b633a7",
   "metadata": {},
   "outputs": [],
   "source": [
    "all_basins[\"not_endorheic\"] = all_basins[\"ENDO\"] == 0\n",
    "\n",
    "prev_non_endorheic_ct = -1\n",
    "while True:\n",
    "    not_endorheic = set(all_basins.loc[all_basins[\"not_endorheic\"], \"HYBAS_ID\"])\n",
    "    all_basins[\"not_endorheic\"] = (\n",
    "        (all_basins[\"not_endorheic\"])\n",
    "        | (all_basins[\"NEXT_DOWN\"].isin(not_endorheic))\n",
    "        | (all_basins[\"NEXT_SINK\"].isin(not_endorheic))\n",
    "        | (all_basins[\"MAIN_BAS\"].isin(not_endorheic))\n",
    "    )\n",
    "    non_endorheic_ct = len(not_endorheic)\n",
    "\n",
    "    if non_endorheic_ct == prev_non_endorheic_ct:\n",
    "        break\n",
    "    prev_non_endorheic_ct = non_endorheic_ct"
   ]
  },
  {
   "cell_type": "code",
   "execution_count": null,
   "id": "4483cc1b-64d6-4230-ab00-046453a32d02",
   "metadata": {},
   "outputs": [],
   "source": [
    "all_endorheic_basins = all_basins.loc[~all_basins[\"not_endorheic\"]].copy()"
   ]
  },
  {
   "cell_type": "code",
   "execution_count": null,
   "id": "074029e5-6fae-40ed-8c3e-58708d32a26c",
   "metadata": {},
   "outputs": [],
   "source": [
    "ax = all_endorheic_basins.plot(figsize=(20, 20))\n",
    "ctx.add_basemap(ax, crs=\"EPSG:4327\")"
   ]
  },
  {
   "cell_type": "markdown",
   "id": "d10faf31-11af-4c22-aaf2-2ac36eb2a3c4",
   "metadata": {},
   "source": [
    "### Divide ocean shape into 1-degree tiles"
   ]
  },
  {
   "cell_type": "code",
   "execution_count": null,
   "id": "7f626fd9-e3e8-4569-aaab-f43fc9b4a052",
   "metadata": {},
   "outputs": [],
   "source": [
    "llats = range(-90, 91)\n",
    "llons = range(-180, 181)\n",
    "boxes = []\n",
    "llats_list = []\n",
    "llons_list = []\n",
    "for llat in llats:\n",
    "    for llon in llons:\n",
    "        llats_list.append(llat)\n",
    "        llons_list.append(llon)\n",
    "        boxes.append(\n",
    "            box(\n",
    "                llon,\n",
    "                llat,\n",
    "                llon + 1,\n",
    "                llat + 1,\n",
    "            )\n",
    "        )\n",
    "\n",
    "ocean_boxes_gdf = gpd.GeoDataFrame(\n",
    "    {\"llat\": llats_list, \"llon\": llons_list}, geometry=boxes, crs=\"EPSG:4326\"\n",
    ")"
   ]
  },
  {
   "cell_type": "code",
   "execution_count": null,
   "id": "ad4784dc-b067-4b8f-8aaa-669bd025e075",
   "metadata": {},
   "outputs": [],
   "source": [
    "ocean_boxes_gdf[\"ocean_box\"] = ocean_boxes_gdf[\"geometry\"].intersection(ocean_buffer)"
   ]
  },
  {
   "cell_type": "code",
   "execution_count": null,
   "id": "21b9a884-41c6-4ba9-9fea-246ee9d6ee0c",
   "metadata": {},
   "outputs": [],
   "source": [
    "ocean_boxes_gdf = ocean_boxes_gdf.drop(columns=\"geometry\").rename(\n",
    "    columns={\"ocean_box\": \"geometry\"}\n",
    ")"
   ]
  },
  {
   "cell_type": "code",
   "execution_count": null,
   "id": "1e08d48a-687c-4784-b35e-61dee6c55d26",
   "metadata": {},
   "outputs": [],
   "source": [
    "ocean_boxes_gdf = ocean_boxes_gdf[~ocean_boxes_gdf[\"geometry\"].is_empty]"
   ]
  },
  {
   "cell_type": "markdown",
   "id": "03a079b9-de30-4322-97e1-62cf99d31897",
   "metadata": {},
   "source": [
    "### Find all endorheic basins that intersect with the ocean buffer, label them \"not_endorheic\""
   ]
  },
  {
   "cell_type": "code",
   "execution_count": null,
   "id": "6c0f96c7-0f87-489d-8ea9-052a0289b474",
   "metadata": {},
   "outputs": [],
   "source": [
    "intersections = gpd.sjoin(\n",
    "    all_endorheic_basins, ocean_boxes_gdf, how=\"left\", op=\"intersects\"\n",
    ")"
   ]
  },
  {
   "cell_type": "code",
   "execution_count": null,
   "id": "71f67a6f-5621-47e4-8477-77fbce5da491",
   "metadata": {},
   "outputs": [],
   "source": [
    "no_ocean = set(\n",
    "    intersections[intersections[\"index_right\"].isnull()][\"HYBAS_ID\"].unique()\n",
    ")"
   ]
  },
  {
   "cell_type": "code",
   "execution_count": null,
   "id": "952dfb67-fe0c-4441-b28d-eaff7434fa43",
   "metadata": {},
   "outputs": [],
   "source": [
    "all_endorheic_basins[\"not_endorheic\"] = ~all_endorheic_basins[\"HYBAS_ID\"].isin(no_ocean)"
   ]
  },
  {
   "cell_type": "markdown",
   "id": "50049da5-4bc6-4d7c-a4ae-6db63cc716c0",
   "metadata": {},
   "source": [
    "### Once basins are labelled \"not_endorheic\" close to the ocean, we want basins flowing into those to be \"not_endorheic\" as well"
   ]
  },
  {
   "cell_type": "code",
   "execution_count": null,
   "id": "08c81528-1c09-4546-b937-6c2eda774aa7",
   "metadata": {},
   "outputs": [],
   "source": [
    "prev_non_endorheic_ct = -1\n",
    "while True:\n",
    "    not_endorheic = set(\n",
    "        all_endorheic_basins.loc[all_endorheic_basins[\"not_endorheic\"], \"HYBAS_ID\"]\n",
    "    )\n",
    "    all_endorheic_basins[\"not_endorheic\"] = (\n",
    "        (all_endorheic_basins[\"not_endorheic\"])\n",
    "        | (all_endorheic_basins[\"NEXT_DOWN\"].isin(not_endorheic))\n",
    "        | (all_endorheic_basins[\"NEXT_SINK\"].isin(not_endorheic))\n",
    "        | (all_endorheic_basins[\"MAIN_BAS\"].isin(not_endorheic))\n",
    "    )\n",
    "    non_endorheic_ct = len(not_endorheic)\n",
    "\n",
    "    if non_endorheic_ct == prev_non_endorheic_ct:\n",
    "        break\n",
    "    prev_non_endorheic_ct = non_endorheic_ct"
   ]
  },
  {
   "cell_type": "code",
   "execution_count": null,
   "id": "631bd9ca-c6f9-48f1-b765-91d928a57f43",
   "metadata": {},
   "outputs": [],
   "source": [
    "all_endorheic_basins = all_endorheic_basins[~all_endorheic_basins[\"not_endorheic\"]]"
   ]
  },
  {
   "cell_type": "code",
   "execution_count": null,
   "id": "9754aea2-d8b3-4402-a56c-05b3fd36ed13",
   "metadata": {},
   "outputs": [],
   "source": [
    "ax = all_endorheic_basins.plot(figsize=(20, 20))\n",
    "ctx.add_basemap(ax, crs=\"EPSG:4326\")"
   ]
  },
  {
   "cell_type": "code",
   "execution_count": null,
   "id": "0e87a877-95e8-483e-b208-99fd0fafa824",
   "metadata": {},
   "outputs": [],
   "source": [
    "endorheic_basins_dissolved = all_endorheic_basins.unary_union.geoms"
   ]
  },
  {
   "cell_type": "code",
   "execution_count": null,
   "id": "cc6d23fb-9df0-470f-8f82-a0c8c24db588",
   "metadata": {},
   "outputs": [],
   "source": [
    "combined_basins = gpd.GeoSeries(list(endorheic_basins_dissolved))\n",
    "combined_basins = gpd.GeoDataFrame(geometry=combined_basins)\n",
    "\n",
    "combined_basins[\"area\"] = combined_basins.geometry.area\n",
    "combined_basins = combined_basins.sort_values(\"area\", ascending=False)\n",
    "combined_basins = combined_basins[\n",
    "    combined_basins[\"area\"] > sset.MIN_BASIN_TILE_DEGREE_AREA\n",
    "].copy()"
   ]
  },
  {
   "cell_type": "markdown",
   "id": "8eac7436-1049-4185-97d3-0255042bfaef",
   "metadata": {},
   "source": [
    "### Label basins manually (check each basin manually)"
   ]
  },
  {
   "cell_type": "code",
   "execution_count": null,
   "id": "72c98d17-62f3-4a4e-8fe8-304fa7015e16",
   "metadata": {},
   "outputs": [],
   "source": [
    "ax = combined_basins.plot(figsize=(20, 20))\n",
    "ctx.add_basemap(ax, crs=\"EPSG:4326\")"
   ]
  },
  {
   "cell_type": "code",
   "execution_count": null,
   "id": "a028ba1d-a263-461e-a855-21edbade243a",
   "metadata": {},
   "outputs": [],
   "source": [
    "combined_basins[\"label\"] = [\n",
    "    \"eurasia_caspian\",\n",
    "    \"sahara_sahel\",\n",
    "    \"central_australia\",\n",
    "    \"arabian_peninsula_dead_sea\",\n",
    "    \"altiplano_and_argentina\",\n",
    "    \"southern_africa\",\n",
    "    \"great_lakes_and_horn_of_africa\",\n",
    "    \"great_basin\",\n",
    "]"
   ]
  },
  {
   "cell_type": "markdown",
   "id": "ea440528-8082-4381-807f-390c1d319fcb",
   "metadata": {},
   "source": [
    "### Fill Eurasian-Caspian basin with the Caspian itself"
   ]
  },
  {
   "cell_type": "code",
   "execution_count": null,
   "id": "4fb0f5d6-d00d-4dc8-92c1-4c58e1c8c159",
   "metadata": {},
   "outputs": [],
   "source": [
    "surrounding_caspian = combined_basins.loc[\n",
    "    combined_basins[\"label\"] == \"eurasia_caspian\", \"geometry\"\n",
    "].values[0]\n",
    "combined_basins.loc[\n",
    "    combined_basins[\"label\"] == \"eurasia_caspian\", \"geometry\"\n",
    "] = Polygon(surrounding_caspian.exterior)"
   ]
  },
  {
   "cell_type": "code",
   "execution_count": null,
   "id": "6265240d-4067-443e-bd51-814331437de4",
   "metadata": {},
   "outputs": [],
   "source": [
    "combined_basins = combined_basins.reset_index(drop=True).drop(columns=\"area\")"
   ]
  },
  {
   "cell_type": "code",
   "execution_count": null,
   "id": "be77caf7-9e4a-4498-a5a7-5ee51b788f30",
   "metadata": {},
   "outputs": [],
   "source": [
    "combined_basins.plot()"
   ]
  },
  {
   "cell_type": "code",
   "execution_count": null,
   "id": "8f918a16-bcb2-44a6-b517-82b2e2f4f907",
   "metadata": {},
   "outputs": [],
   "source": [
    "sset.PATH_MANUAL_PROTECTED_AREAS.parent.mkdir(exist_ok=True, parents=True)"
   ]
  },
  {
   "cell_type": "code",
   "execution_count": null,
   "id": "5654be15-111c-4450-9e18-4a81d5394974",
   "metadata": {},
   "outputs": [],
   "source": [
    "combined_basins.to_parquet(sset.PATH_MANUAL_PROTECTED_AREAS)"
   ]
  },
  {
   "cell_type": "code",
   "execution_count": null,
   "id": "d8fc7461-efe7-4958-9171-246117d83479",
   "metadata": {},
   "outputs": [],
   "source": [
    "combined_basins = gpd.read_parquet(sset.PATH_MANUAL_PROTECTED_AREAS)"
   ]
  },
  {
   "cell_type": "markdown",
   "id": "27ec19f6-fb7a-4366-8b19-87aa34abbe5b",
   "metadata": {},
   "source": [
    "## Combine protected areas for global processing\n",
    "- US National Levee Database (NLDB) and manual areas\n",
    "- Large global endorheic basins\n",
    "- Manual boxes"
   ]
  },
  {
   "cell_type": "code",
   "execution_count": null,
   "id": "74e5ef7e-a64d-4c3f-ae6e-2172d448a06e",
   "metadata": {},
   "outputs": [],
   "source": [
    "nldb_and_manual_areas = gpd.read_parquet(sset.PATH_US_MANUAL_PROTECTED_AREAS)"
   ]
  },
  {
   "cell_type": "markdown",
   "id": "fda0cdf8-c491-4efd-a97c-0503f0956517",
   "metadata": {},
   "source": [
    "Netherlands (assume all of the European Netherlands is protected)"
   ]
  },
  {
   "cell_type": "code",
   "execution_count": null,
   "id": "044b423d-9634-4fee-8639-a82bc0691055",
   "metadata": {},
   "outputs": [],
   "source": [
    "vor_shapes = gpd.read_parquet(sset.PATH_GADM_ADM0_VORONOI)\n",
    "protected_areas_nld = vor_shapes[vor_shapes[\"ISO\"] == \"NLD\"][[\"geometry\"]]"
   ]
  },
  {
   "cell_type": "markdown",
   "id": "4d6035bf-c212-4dfe-a86b-f4992882c8f3",
   "metadata": {},
   "source": [
    "Manual boxes (additional to those defined in `sset.PATH_US_MANUAL_PROTECTED_AREAS`"
   ]
  },
  {
   "cell_type": "code",
   "execution_count": null,
   "id": "f3011a0b-d436-4f15-bec3-15dc84c013f7",
   "metadata": {},
   "outputs": [],
   "source": [
    "manual_box_bounds = [\n",
    "    {\"label\": \"orinoco\", \"minx\": -70.0, \"miny\": 5.0, \"maxx\": -66.0, \"maxy\": 8.0},\n",
    "    {\"label\": \"heilongjiang\", \"minx\": 130.0, \"miny\": 45.0, \"maxx\": 136.0, \"maxy\": 48.0},\n",
    "    {\n",
    "        \"label\": \"southern_africa\",\n",
    "        \"minx\": 28.0,\n",
    "        \"miny\": -25.0,\n",
    "        \"maxx\": 33.0,\n",
    "        \"maxy\": -20.0,\n",
    "    },\n",
    "    {\n",
    "        \"label\": \"great_basin\",\n",
    "        \"minx\": -119.0,\n",
    "        \"miny\": 35.0,\n",
    "        \"maxx\": -115.0,\n",
    "        \"maxy\": 40.0,\n",
    "    },\n",
    "    {\n",
    "        \"label\": \"inner_australia\",\n",
    "        \"minx\": 135.0,\n",
    "        \"miny\": -32.0,\n",
    "        \"maxx\": 143.0,\n",
    "        \"maxy\": -25.0,\n",
    "    },\n",
    "    {\"label\": \"yakutsk\", \"minx\": 125.0, \"miny\": 62.0, \"maxx\": 130.0, \"maxy\": 67.0},\n",
    "    {\"label\": \"lake_baikal\", \"minx\": 102.0, \"miny\": 49.0, \"maxx\": 113.0, \"maxy\": 57.0},\n",
    "    {\"label\": \"great_lakes\", \"minx\": -95.0, \"miny\": 41.0, \"maxx\": -75.0, \"maxy\": 50.0},\n",
    "]\n",
    "\n",
    "box_countries = {\n",
    "    \"orinoco\": \"Colombia, Venezuela\",\n",
    "    \"heilongjiang\": \"China\",\n",
    "    \"southern_africa\": \"Botswana, South Africa, Zimbabwe\",\n",
    "    \"great_basin\": \"USA\",\n",
    "    \"inner_australia\": \"Australia\",\n",
    "    \"yakutsk\": \"Russia\",\n",
    "    \"lake_baikal\": \"Russia\",\n",
    "    \"great_lakes\": \"Canada, USA\",\n",
    "}\n",
    "\n",
    "manual_boxes = gpd.GeoDataFrame(manual_box_bounds)\n",
    "\n",
    "manual_boxes[\"geometry\"] = manual_boxes.apply(\n",
    "    lambda row: box(row[\"minx\"], row[\"miny\"], row[\"maxx\"], row[\"maxy\"]), axis=1\n",
    ")\n",
    "\n",
    "manual_boxes = manual_boxes.drop(columns=[\"minx\", \"miny\", \"maxx\", \"maxy\"])\n",
    "\n",
    "manual_boxes.plot()"
   ]
  },
  {
   "cell_type": "code",
   "execution_count": null,
   "id": "0a72ea14-a3d3-450d-954e-0e71586fffa6",
   "metadata": {},
   "outputs": [],
   "source": [
    "nldb_and_manual_areas[\"country\"] = \"USA\"\n",
    "\n",
    "protected_areas_nld[\"levee_segment_id\"] = -1\n",
    "protected_areas_nld[\"protection_group\"] = \"Netherlands\"\n",
    "protected_areas_nld[\"protection_type\"] = \"Netherlands\"\n",
    "protected_areas_nld[\"country\"] = \"NLD\"\n",
    "\n",
    "combined_basins[\"levee_segment_id\"] = -1\n",
    "combined_basins[\n",
    "    \"protection_group\"\n",
    "] = \"largest endorheic basin areas, with buffer from ocean\"\n",
    "combined_basins[\"protection_type\"] = \"endorheic basin\"\n",
    "combined_basins[\"country\"] = \"multiple\"\n",
    "\n",
    "manual_boxes[\"levee_segment_id\"] = -1\n",
    "manual_boxes[\"protection_group\"] = \"manual boxes\"\n",
    "manual_boxes[\"protection_type\"] = \"non-coastal\"\n",
    "manual_boxes[\"country\"] = manual_boxes[\"label\"].apply(lambda x: box_countries[x])"
   ]
  },
  {
   "cell_type": "code",
   "execution_count": null,
   "id": "0e12c4e5-11f0-439b-ab5c-3ff56b6c19d3",
   "metadata": {},
   "outputs": [],
   "source": [
    "protected_areas = (\n",
    "    pd.concat(\n",
    "        [\n",
    "            nldb_and_manual_areas,\n",
    "            protected_areas_nld,\n",
    "            combined_basins,\n",
    "            manual_boxes,\n",
    "        ],\n",
    "        ignore_index=True,\n",
    "    )\n",
    "    .reset_index(drop=False)\n",
    "    .rename(columns={\"index\": \"protection_zone_id\"})\n",
    ")"
   ]
  },
  {
   "cell_type": "code",
   "execution_count": null,
   "id": "fcacf25c-ffd4-430d-b762-e56cf2f2f3a2",
   "metadata": {},
   "outputs": [],
   "source": [
    "protected_areas.sample(5)"
   ]
  },
  {
   "cell_type": "code",
   "execution_count": null,
   "id": "5b796e0e-614f-4ff1-b29f-0c825b50d443",
   "metadata": {},
   "outputs": [],
   "source": [
    "# plot-checking the protected areas\n",
    "protected_areas.plot()"
   ]
  },
  {
   "cell_type": "markdown",
   "id": "f51062a6-3991-4d02-b7c6-4d0d03f94331",
   "metadata": {},
   "source": [
    "# Save combined areas"
   ]
  },
  {
   "cell_type": "code",
   "execution_count": null,
   "id": "d6b299af-af5a-40d0-a650-4fed516e095b",
   "metadata": {},
   "outputs": [],
   "source": [
    "protected_areas.to_parquet(sset.PATH_GLOBAL_PROTECTED_AREAS)"
   ]
  }
 ],
 "metadata": {
  "kernelspec": {
   "display_name": "Python 3 (ipykernel)",
   "language": "python",
   "name": "python3"
  },
  "language_info": {
   "codemirror_mode": {
    "name": "ipython",
    "version": 3
   },
   "file_extension": ".py",
   "mimetype": "text/x-python",
   "name": "python",
   "nbconvert_exporter": "python",
   "pygments_lexer": "ipython3",
   "version": "3.9.10"
  },
  "widgets": {
   "application/vnd.jupyter.widget-state+json": {
    "state": {},
    "version_major": 2,
    "version_minor": 0
   }
  }
 },
 "nbformat": 4,
 "nbformat_minor": 5
}
