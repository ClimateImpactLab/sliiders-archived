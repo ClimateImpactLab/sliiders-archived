{
 "cells": [
  {
   "cell_type": "markdown",
   "id": "7333e73a-da8f-4001-9115-eaf68a1f6a4a",
   "metadata": {},
   "source": [
    "INPUTS\n",
    "- `sset.PATH_CIAM_SITES_WITHISO`\n",
    "\n",
    "OUTPUTS\n",
    "- `sset.PATH_CIAM_SITES_VORONOI_BY_ISO`"
   ]
  },
  {
   "cell_type": "code",
   "execution_count": null,
   "id": "1c8d52f2-c198-46e8-b93a-d4ab42348c4b",
   "metadata": {},
   "outputs": [],
   "source": [
    "import geopandas as gpd\n",
    "\n",
    "from sliiders import settings as sset\n",
    "from sliiders import spatial\n",
    "\n",
    "spatial.filter_spatial_warnings()"
   ]
  },
  {
   "cell_type": "code",
   "execution_count": null,
   "id": "fc811a29-1638-447e-87d2-175734be5d65",
   "metadata": {},
   "outputs": [],
   "source": [
    "stations = gpd.read_parquet(sset.PATH_CIAM_SITES_WITHISO)"
   ]
  },
  {
   "cell_type": "code",
   "execution_count": null,
   "id": "0e48a454-d81d-4c2c-9b7b-d1aef59be315",
   "metadata": {},
   "outputs": [],
   "source": [
    "vor_gdf = spatial.get_stations_by_iso_voronoi(stations)"
   ]
  },
  {
   "cell_type": "code",
   "execution_count": null,
   "id": "59c37322-77e1-4925-bdef-2e077f65376b",
   "metadata": {},
   "outputs": [],
   "source": [
    "vor_gdf.to_parquet(sset.PATH_CIAM_SITES_VORONOI_BY_ISO, index=False)"
   ]
  }
 ],
 "metadata": {
  "kernelspec": {
   "display_name": "Python 3 (ipykernel)",
   "language": "python",
   "name": "python3"
  },
  "language_info": {
   "codemirror_mode": {
    "name": "ipython",
    "version": 3
   },
   "file_extension": ".py",
   "mimetype": "text/x-python",
   "name": "python",
   "nbconvert_exporter": "python",
   "pygments_lexer": "ipython3",
   "version": "3.9.10"
  },
  "widgets": {
   "application/vnd.jupyter.widget-state+json": {
    "state": {},
    "version_major": 2,
    "version_minor": 0
   }
  }
 },
 "nbformat": 4,
 "nbformat_minor": 5
}
