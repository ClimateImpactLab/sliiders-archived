{
 "cells": [
  {
   "cell_type": "markdown",
   "id": "735b7444-8a68-4f6e-987c-c045a53b64c6",
   "metadata": {
    "tags": []
   },
   "source": [
    "# Generate set of administrative regions to use in exposure grid\n",
    "- The idea here is to get a globally comprehensive set of administrative boundaries at the `adm1` level or higher if the `adm1` level is not available\n",
    "- Use `adm1` if available and `adm0` if not"
   ]
  },
  {
   "cell_type": "markdown",
   "id": "e97ae6f1-349f-41cd-ba6b-e2f6dd508c84",
   "metadata": {},
   "source": [
    "INPUTS\n",
    "- `sset.PATH_GADM`\n",
    "\n",
    "OUTPUTS\n",
    "- `sset.PATH_GADM_ADM1`"
   ]
  },
  {
   "cell_type": "code",
   "execution_count": 1,
   "id": "f26ced68",
   "metadata": {},
   "outputs": [],
   "source": [
    "from sliiders import settings as sset\n",
    "\n",
    "import pandas as pd\n",
    "import geopandas as gpd\n",
    "\n",
    "import warnings\n",
    "\n",
    "warnings.filterwarnings(\"ignore\", message=\".*initial implementation of Parquet.*\")"
   ]
  },
  {
   "cell_type": "markdown",
   "id": "5ad804d0-523e-4086-a147-926e4a74147a",
   "metadata": {},
   "source": [
    "#### Read full `adm0` and `adm1` sets"
   ]
  },
  {
   "cell_type": "code",
   "execution_count": null,
   "id": "10b69ed5-7c8f-4d87-9151-036c300d673f",
   "metadata": {},
   "outputs": [],
   "source": [
    "adm0 = gpd.read_file(sset.PATH_GADM, layer=\"level0\")\n",
    "adm1 = gpd.read_file(sset.PATH_GADM, layer=\"level1\")\n",
    "\n",
    "# Select columns\n",
    "adm0 = adm0[[\"GID_0\", \"geometry\"]].copy()\n",
    "adm1 = adm1[[\"GID_0\", \"GID_1\", \"geometry\"]].copy()"
   ]
  },
  {
   "cell_type": "markdown",
   "id": "8aa26393-836c-47fd-9b0d-a91ae0ffc839",
   "metadata": {
    "tags": []
   },
   "source": [
    "#### Exclude non-territory ISOs\n",
    "- `ATA`: Antarctica\n",
    "- `XCA`: Caspian Sea"
   ]
  },
  {
   "cell_type": "code",
   "execution_count": 4,
   "id": "ebcc3561-631d-4648-b0c5-eaf6cc583b02",
   "metadata": {},
   "outputs": [
    {
     "data": {
      "text/plain": [
       "['ATA', 'XCA']"
      ]
     },
     "execution_count": 4,
     "metadata": {},
     "output_type": "execute_result"
    }
   ],
   "source": [
    "sset.EXCLUDED_ISOS"
   ]
  },
  {
   "cell_type": "code",
   "execution_count": null,
   "id": "4840ab34-0646-4a2b-95fe-738df65e980f",
   "metadata": {},
   "outputs": [],
   "source": [
    "# Filter out excluded ISOs\n",
    "adm0 = adm0[~adm0[\"GID_0\"].isin(sset.EXCLUDED_ISOS)].copy()\n",
    "adm1 = adm1[~adm1[\"GID_0\"].isin(sset.EXCLUDED_ISOS)].copy()"
   ]
  },
  {
   "cell_type": "markdown",
   "id": "b0354db1-e44f-4619-8fd9-648aa20dc0da",
   "metadata": {},
   "source": [
    "#### Select only countries in `adm0` that do not appear in the `adm1` set, to be included as intermediate `adm1` regions"
   ]
  },
  {
   "cell_type": "code",
   "execution_count": null,
   "id": "43c4eb7a-d569-4096-bda2-915b147a5c04",
   "metadata": {},
   "outputs": [],
   "source": [
    "adm0_as_adm1 = adm0[~adm0[\"GID_0\"].isin(adm1[\"GID_0\"].unique())].copy()"
   ]
  },
  {
   "cell_type": "markdown",
   "id": "36e4a88b-ec4c-43d7-bd77-294b7008c816",
   "metadata": {},
   "source": [
    "#### Concatenate all `adm1` regions"
   ]
  },
  {
   "cell_type": "code",
   "execution_count": null,
   "id": "2b63641a-76ef-4d14-a0e3-55d57b71b83f",
   "metadata": {},
   "outputs": [],
   "source": [
    "full = pd.concat([adm0_as_adm1, adm1], ignore_index=True)"
   ]
  },
  {
   "cell_type": "markdown",
   "id": "4008f34c-0b3e-42d1-b335-5ec0127de09d",
   "metadata": {},
   "source": [
    "#### Assign a comprehensive set of unique IDs\n",
    "- `GID_1` (`adm1`) for actual `adm1` regions\n",
    "- `adm0` ID for `adm0_as_adm1` regions"
   ]
  },
  {
   "cell_type": "code",
   "execution_count": null,
   "id": "b3882622-5be6-4696-a9e3-8e61006ec09f",
   "metadata": {},
   "outputs": [],
   "source": [
    "full[\"UID\"] = full[\"GID_1\"].fillna(full[\"GID_0\"])"
   ]
  },
  {
   "cell_type": "markdown",
   "id": "44634d4f-5efd-4db4-8622-b90ec9b5e81e",
   "metadata": {},
   "source": [
    "### Save to file"
   ]
  },
  {
   "cell_type": "code",
   "execution_count": null,
   "id": "17c7759b-bd56-4cce-b8ad-a19e3ed9ce13",
   "metadata": {},
   "outputs": [],
   "source": [
    "full.to_parquet(sset.PATH_GADM_ADM1, index=False)"
   ]
  }
 ],
 "metadata": {
  "kernelspec": {
   "display_name": "Python 3 (ipykernel)",
   "language": "python",
   "name": "python3"
  },
  "language_info": {
   "codemirror_mode": {
    "name": "ipython",
    "version": 3
   },
   "file_extension": ".py",
   "mimetype": "text/x-python",
   "name": "python",
   "nbconvert_exporter": "python",
   "pygments_lexer": "ipython3",
   "version": "3.8.12"
  },
  "widgets": {
   "application/vnd.jupyter.widget-state+json": {
    "state": {},
    "version_major": 2,
    "version_minor": 0
   }
  }
 },
 "nbformat": 4,
 "nbformat_minor": 5
}
