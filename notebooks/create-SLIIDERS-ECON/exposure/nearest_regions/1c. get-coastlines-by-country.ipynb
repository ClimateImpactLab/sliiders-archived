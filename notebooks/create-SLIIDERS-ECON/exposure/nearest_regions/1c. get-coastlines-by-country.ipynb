{
 "cells": [
  {
   "cell_type": "markdown",
   "id": "8adc89ad-804b-4acb-a263-9a1140c691f6",
   "metadata": {},
   "source": [
    "INPUTS\n",
    "- `sset.PATH_CIAM_COASTLINES`\n",
    "- `sset.PATH_GADM_ADM1_VORONOI`\n",
    "\n",
    "OUTPUTS\n",
    "- `sset.PATH_CIAM_COASTLINES_BY_ISO`"
   ]
  },
  {
   "cell_type": "code",
   "execution_count": null,
   "id": "ee252f92-fdac-4100-944b-b6fde6f433df",
   "metadata": {},
   "outputs": [],
   "source": [
    "from sliiders import settings as sset\n",
    "from sliiders import spatial\n",
    "\n",
    "spatial.filter_spatial_warnings()"
   ]
  },
  {
   "cell_type": "code",
   "execution_count": null,
   "id": "361ed917-4951-4334-9213-0250b3586cee",
   "metadata": {},
   "outputs": [],
   "source": [
    "coastlines = spatial.get_coastlines_by_iso(\n",
    "    sset.PATH_CIAM_COASTLINES, sset.PATH_GADM_ADM1_VORONOI\n",
    ")"
   ]
  },
  {
   "cell_type": "markdown",
   "id": "18bfb90b-121f-4124-9a16-8b24e736c85e",
   "metadata": {},
   "source": [
    "### Save"
   ]
  },
  {
   "cell_type": "code",
   "execution_count": null,
   "id": "bd0088ff-ee74-4be8-8fa5-a69e4a2ac6b9",
   "metadata": {},
   "outputs": [],
   "source": [
    "coastlines.to_parquet(sset.PATH_CIAM_COASTLINES_BY_ISO, index=False)"
   ]
  }
 ],
 "metadata": {
  "kernelspec": {
   "display_name": "Python 3 (ipykernel)",
   "language": "python",
   "name": "python3"
  },
  "language_info": {
   "codemirror_mode": {
    "name": "ipython",
    "version": 3
   },
   "file_extension": ".py",
   "mimetype": "text/x-python",
   "name": "python",
   "nbconvert_exporter": "python",
   "pygments_lexer": "ipython3",
   "version": "3.9.10"
  },
  "widgets": {
   "application/vnd.jupyter.widget-state+json": {
    "state": {},
    "version_major": 2,
    "version_minor": 0
   }
  }
 },
 "nbformat": 4,
 "nbformat_minor": 5
}
