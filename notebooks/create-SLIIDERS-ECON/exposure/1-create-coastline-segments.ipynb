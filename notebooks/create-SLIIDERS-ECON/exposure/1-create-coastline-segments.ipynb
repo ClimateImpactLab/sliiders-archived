{
 "cells": [
  {
   "cell_type": "markdown",
   "id": "0c63fafa-8600-47e7-b1b8-20e476a415a3",
   "metadata": {},
   "source": [
    "# Create Coastline Segments"
   ]
  },
  {
   "cell_type": "markdown",
   "id": "27036a8b-f200-40d5-9308-77506829c0d3",
   "metadata": {},
   "source": [
    "This notebook modifies the CoDEC points to generate a uniform set of coastline segment centroids."
   ]
  },
  {
   "cell_type": "markdown",
   "id": "2b15c558-112e-496a-9797-371c4dd15f7c",
   "metadata": {},
   "source": [
    "**TODO**\n",
    "\n",
    "- [ ] add back in the last section (with filepaths appropriately in settings.py) when we figure out where `ne_coastline_polys_CIAM_exposure_matches.parquet` is generated"
   ]
  },
  {
   "cell_type": "code",
   "execution_count": 1,
   "id": "ebc3268f-bf70-421c-bd04-aa58b19d39f9",
   "metadata": {},
   "outputs": [],
   "source": [
    "%load_ext autoreload\n",
    "%autoreload 2"
   ]
  },
  {
   "cell_type": "code",
   "execution_count": 7,
   "id": "a8910b8e",
   "metadata": {},
   "outputs": [],
   "source": [
    "import geopandas as gpd\n",
    "import numpy as np\n",
    "import pandas as pd\n",
    "import xarray as xr\n",
    "from shapely.geometry import Point\n",
    "\n",
    "from sliiders.settings import DIR_CIAM_SHAPEFILES, PATH_SEG_CENTROIDS, PATH_GTSM_SURGE"
   ]
  },
  {
   "cell_type": "code",
   "execution_count": 4,
   "id": "f685e2db-d168-4ad5-8f42-7beba55370fe",
   "metadata": {},
   "outputs": [],
   "source": [
    "GTSMPTS_EUR = DIR_CIAM_SHAPEFILES / \"gtsm_stations_eur_tothin.shp\""
   ]
  },
  {
   "cell_type": "markdown",
   "id": "d3cc347d",
   "metadata": {},
   "source": [
    "### Import GTSM Station Points & Thin Europe"
   ]
  },
  {
   "cell_type": "code",
   "execution_count": 11,
   "id": "cfa7e3c2",
   "metadata": {},
   "outputs": [],
   "source": [
    "# Import GTSM (CoDEC) stations present in ERA5 GTSM data from Muis et al. 2020\n",
    "gtsm0 = (\n",
    "    xr.open_dataset(PATH_GTSM_SURGE)\n",
    "    .rename(station_y_coordinate=\"lat\", station_x_coordinate=\"lon\")\n",
    "    .station_id.drop(\"station_name\")\n",
    "    .reset_coords()\n",
    ")\n",
    "gtsm0[\"station_id\"] = gtsm0.station_id.astype(str)\n",
    "gtsm0 = gtsm0.to_dataframe()\n",
    "\n",
    "# Import Europe stations to be thinned (came in 5x higher res than rest of world)\n",
    "# Stations to be thinned were manually ID'ed in GIS\n",
    "gtsm_e0 = gpd.read_file(GTSMPTS_EUR)\n",
    "gtsm_e0[\"serial_id\"] = [gtsm_e0.station_id[i][-5:] for i in range(len(gtsm_e0))]\n",
    "gtsm_e0 = gtsm_e0.sort_values(\"serial_id\")\n",
    "\n",
    "# Filter 80% of Europe stations\n",
    "gtsm_e1 = gtsm_e0.iloc[np.arange(0, len(gtsm_e0), 5)]\n",
    "\n",
    "# Update full GTSM layer\n",
    "gtsm1 = gtsm0[\n",
    "    ~gtsm0.station_id.isin(gtsm_e0.station_id)\n",
    "]  # all stations not in the to-be-thinned orig Europe set\n",
    "gtsm1 = pd.concat([gtsm1, gtsm_e1])"
   ]
  },
  {
   "cell_type": "code",
   "execution_count": 12,
   "id": "76754f22",
   "metadata": {},
   "outputs": [],
   "source": [
    "# Add back in Gibraltar and Monaco\n",
    "gib_id = \"id_coast_glob_eur_03452\"\n",
    "mon_id = \"id_coast_glob_eur_03236\"\n",
    "gtsm1 = pd.concat([gtsm1, gtsm0[gtsm0.station_id.isin([gib_id, mon_id])]])"
   ]
  },
  {
   "cell_type": "code",
   "execution_count": 13,
   "id": "730731f6",
   "metadata": {},
   "outputs": [],
   "source": [
    "# Add new manual points for 15 small country coastlines\n",
    "lats = [\n",
    "    18.20427252,  # Anguilla\n",
    "    42.92257646,  # Bosnia & Herzegovina\n",
    "    17.92105954,  # St Barthelemy\n",
    "    -54.45126484,  # Bouvet Island\n",
    "    -12.1888075,  # Cocos (Keeling) Islands\n",
    "    10.28952433,  # Clipperton Island\n",
    "    29.51144515,  # Jordan\n",
    "    16.69068301,  # Montserrat\n",
    "    -29.01453206,  # Norfolk Island\n",
    "    -0.54073669,  # Nauru\n",
    "    -24.38660564,  # Pitcairn Islands\n",
    "    10.73177001,  # Spratly Islands\n",
    "    -9.3415246,  # Tokelau\n",
    "    19.28118539,  # US Minor Outlying Island (Wake Island)\n",
    "    18.03885916,\n",
    "]  # Sint Maarten\n",
    "\n",
    "lons = [\n",
    "    -63.05668448,\n",
    "    17.61671166,\n",
    "    -62.82955182,\n",
    "    3.35020284,\n",
    "    96.83802356,\n",
    "    -109.21026241,\n",
    "    34.97905326,\n",
    "    -62.18841426,\n",
    "    167.97463688,\n",
    "    166.91406099,\n",
    "    -128.32974227,\n",
    "    115.8022823,\n",
    "    -171.19264163,\n",
    "    166.64951319,\n",
    "    -63.01482338,\n",
    "]\n",
    "\n",
    "add_pts = {\n",
    "    \"station_id\": [\"id_coast_glob_990\" + str(i + 1).zfill(2) for i in range(len(lats))],\n",
    "    \"lat\": lats,\n",
    "    \"lon\": lons,\n",
    "    \"geometry\": [Point(lons[i], lats[i]) for i in range(len(lats))],\n",
    "}\n",
    "\n",
    "add_pts = gpd.GeoDataFrame(add_pts, crs=\"EPSG:4326\")\n",
    "\n",
    "gtsm1 = pd.concat([gtsm1, add_pts])"
   ]
  },
  {
   "cell_type": "code",
   "execution_count": 14,
   "id": "abcb4fc8",
   "metadata": {},
   "outputs": [],
   "source": [
    "# Manual deletions of certain points that don't fall nearer to coastlines than other points\n",
    "del_ids = [\n",
    "    \"eur_01019\",\n",
    "    \"eur_01812\",\n",
    "    \"eur_00979\",\n",
    "    \"13536\",\n",
    "    \"14447\",\n",
    "    \"15646\",\n",
    "    \"18265\",\n",
    "    \"18656\",\n",
    "    \"18720\",\n",
    "    \"18724\",\n",
    "]\n",
    "del_ids = [\"id_coast_glob_\" + del_ids[i] for i in range(len(del_ids))]\n",
    "gtsm1 = gtsm1[~gtsm1.station_id.isin(del_ids)]"
   ]
  },
  {
   "cell_type": "code",
   "execution_count": 15,
   "id": "88c6ce74",
   "metadata": {},
   "outputs": [],
   "source": [
    "# Remove buoy and obs points\n",
    "gtsm1 = gtsm1[~gtsm1.station_id.str.contains(\"buoy\")]\n",
    "gtsm1 = gtsm1[~gtsm1.station_id.str.contains(\"obs\")]\n",
    "\n",
    "# Remove duplicates\n",
    "idx_unique = pd.DataFrame(gtsm1.geometry).drop_duplicates().index\n",
    "gtsm1 = gtsm1[gtsm1.index.isin(idx_unique)]\n",
    "\n",
    "# Remove unwanted columns\n",
    "gtsm1 = gtsm1.drop(columns=[\"fid\", \"field_1\", \"serial_id\"])"
   ]
  },
  {
   "cell_type": "code",
   "execution_count": 19,
   "id": "c04a694e",
   "metadata": {},
   "outputs": [],
   "source": [
    "# Export resulting layers\n",
    "gtsm1.to_file(PATH_SEG_CENTROIDS)  # final set of majority GTSM points for CIAM segs"
   ]
  },
  {
   "cell_type": "markdown",
   "id": "b6cb46e3",
   "metadata": {},
   "source": [
    "### [ASIDE] Identify which NaturalEarth land masses have exposure (pop or capital)"
   ]
  },
  {
   "cell_type": "code",
   "execution_count": 12,
   "id": "3d03b678",
   "metadata": {},
   "outputs": [],
   "source": [
    "# land = gpd.read_parquet(TMPDIR + \"ne_coastline_polys_CIAM_exposure_matches.parquet\")\n",
    "# land_exp = land[land.contains_exposure == True]\n",
    "# land_exp.to_file(TMPDIR + \"ne_coastline_polys_CIAM_wexp.shp\")\n",
    "\n",
    "# land_noexp = land[land.contains_exposure == False]\n",
    "# land_noexp.to_file(TMPDIR + \"ne_coastline_polys_CIAM_noexp.shp\")"
   ]
  }
 ],
 "metadata": {
  "kernelspec": {
   "display_name": "Python 3 (ipykernel)",
   "language": "python",
   "name": "python3"
  },
  "language_info": {
   "codemirror_mode": {
    "name": "ipython",
    "version": 3
   },
   "file_extension": ".py",
   "mimetype": "text/x-python",
   "name": "python",
   "nbconvert_exporter": "python",
   "pygments_lexer": "ipython3",
   "version": "3.9.10"
  },
  "widgets": {
   "application/vnd.jupyter.widget-state+json": {
    "state": {},
    "version_major": 2,
    "version_minor": 0
   }
  }
 },
 "nbformat": 4,
 "nbformat_minor": 5
}
