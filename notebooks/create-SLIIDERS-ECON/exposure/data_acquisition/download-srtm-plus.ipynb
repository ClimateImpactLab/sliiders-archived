{
 "cells": [
  {
   "cell_type": "code",
   "execution_count": 1,
   "id": "35bcb142-a372-407c-96bf-865d82e4bebe",
   "metadata": {},
   "outputs": [],
   "source": [
    "from sliiders import settings as sset\n",
    "from urllib import request as urequest\n",
    "import ssl\n",
    "\n",
    "# Workaround for urllib request error\n",
    "ssl._create_default_https_context = ssl._create_unverified_context\n",
    "\n",
    "URL_SRTM15 = \"https://topex.ucsd.edu/pub/srtm15_plus/SRTM15_V2.3.nc\"\n",
    "\n",
    "urequest.urlretrieve(URL_SRTM15, sset.PATH_SRTM15_PLUS)"
   ]
  }
 ],
 "metadata": {
  "kernelspec": {
   "display_name": "Python 3 (ipykernel)",
   "language": "python",
   "name": "python3"
  },
  "language_info": {
   "codemirror_mode": {
    "name": "ipython",
    "version": 3
   },
   "file_extension": ".py",
   "mimetype": "text/x-python",
   "name": "python",
   "nbconvert_exporter": "python",
   "pygments_lexer": "ipython3",
   "version": "3.9.10"
  },
  "widgets": {
   "application/vnd.jupyter.widget-state+json": {
    "state": {},
    "version_major": 2,
    "version_minor": 0
   }
  }
 },
 "nbformat": 4,
 "nbformat_minor": 5
}
