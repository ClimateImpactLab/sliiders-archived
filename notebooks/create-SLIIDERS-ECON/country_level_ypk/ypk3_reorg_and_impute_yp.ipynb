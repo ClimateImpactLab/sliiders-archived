{
 "cells": [
  {
   "cell_type": "markdown",
   "id": "aa52a39b-fa10-4723-ad6b-98412e27a750",
   "metadata": {},
   "source": [
    "## Reorganizing raw data (GDP, GDPpc, and population) in long-panel format, converting to current and constant PPP terms, taking care of missing data\n",
    "\n",
    "Note that we deal with historical data in the **years 2000-2020** in this notebook."
   ]
  },
  {
   "cell_type": "code",
   "execution_count": 1,
   "id": "ecd30f8c-905f-48ef-ba2b-b564cc70a2cf",
   "metadata": {},
   "outputs": [],
   "source": [
    "%load_ext autoreload\n",
    "%autoreload 2"
   ]
  },
  {
   "cell_type": "code",
   "execution_count": 2,
   "id": "94af052a-6ce5-4e9c-a631-c61b2f846363",
   "metadata": {},
   "outputs": [],
   "source": [
    "import os\n",
    "from pathlib import Path\n",
    "\n",
    "import numpy as np\n",
    "import pandas as pd\n",
    "import xarray as xr\n",
    "from tqdm.auto import tqdm\n",
    "\n",
    "from sliiders import country_level_ypk as ypk_fn\n",
    "from sliiders import settings as sset"
   ]
  },
  {
   "cell_type": "markdown",
   "id": "000ec9ad-f840-4114-a0ed-c2cb236e0b35",
   "metadata": {},
   "source": [
    "## Importing all raw data, and creating a merged, long-panel version\n",
    "\n",
    "### PWT 10.0"
   ]
  },
  {
   "cell_type": "code",
   "execution_count": 11,
   "id": "3e79360d-ab7b-4b17-87eb-dd6de6488ae3",
   "metadata": {},
   "outputs": [],
   "source": [
    "sliider_years = list(range(2000, 2021))\n",
    "pwt100 = pd.read_excel(sset.PATH_PWT_RAW)\n",
    "pwt100.rename(columns={\"countrycode\": \"ccode\"}, inplace=True)\n",
    "pwt_gdp_pop = [\"ccode\", \"year\", \"pop\", \"rgdpo\", \"rgdpna\", \"cgdpo\"]\n",
    "gdp_pop_df = pwt100[pwt_gdp_pop].copy().set_index([\"ccode\", \"year\"])\n",
    "gdp_pop_df = gdp_pop_df.loc[\n",
    "    gdp_pop_df.index.get_level_values(\"year\").isin(sliider_years), :\n",
    "]"
   ]
  },
  {
   "cell_type": "markdown",
   "id": "7f3d5e27-6e0e-42bb-8be5-bbb1256530ba",
   "metadata": {},
   "source": [
    "### WB WDI"
   ]
  },
  {
   "cell_type": "code",
   "execution_count": 12,
   "id": "75365d8c-6b5a-4d3c-a361-ac7e70327b13",
   "metadata": {},
   "outputs": [],
   "source": [
    "# WB WDI\n",
    "wdi_rename_dict = {\n",
    "    \"SP.POP.TOTL\": \"wb_pop\",\n",
    "    \"NY.GDP.MKTP.PP.KD\": \"wb_rgdpna\",\n",
    "    \"NY.GDP.PCAP.PP.KD\": \"wb_rgdpna_pc\",\n",
    "    \"NY.GDP.MKTP.KD\": \"wb_gdp_nom\",\n",
    "    \"NY.GDP.PCAP.KD\": \"wb_gdp_nom_pc\",\n",
    "}\n",
    "wb_wdi = pd.read_parquet(sset.DIR_YPK_RAW / \"wdi_pop_iy_gdp.parquet\").rename(\n",
    "    columns=wdi_rename_dict\n",
    ")\n",
    "wb_wdi = wb_wdi.loc[\n",
    "    wb_wdi.index.get_level_values(\"ccode\").isin(sset.ALL_ISOS_EXTENDED)\n",
    "    & wb_wdi.index.get_level_values(\"year\").isin(sliider_years),\n",
    "    :,\n",
    "].reset_index()\n",
    "\n",
    "# Unifying the country code conventions for Kosovo and Channel Islands\n",
    "wb_wdi.loc[wb_wdi.ccode == \"XKX\", \"ccode\"] = \"KO-\"\n",
    "wb_wdi.loc[wb_wdi.ccode == \"CHI\", \"ccode\"] = \"GGY+JEY\"\n",
    "wb_wdi.set_index([\"ccode\", \"year\"], inplace=True)\n",
    "\n",
    "# re-scaling; currently in ones, but to have them in PWT scales\n",
    "wb_wdi[[\"wb_rgdpna\", \"wb_gdp_nom\", \"wb_pop\"]] /= 1000000\n",
    "\n",
    "# merging\n",
    "gdp_pop_df = gdp_pop_df.join(wb_wdi, how=\"outer\")"
   ]
  }
 ],
 "metadata": {
  "kernelspec": {
   "display_name": "Python 3 (ipykernel)",
   "language": "python",
   "name": "python3"
  },
  "language_info": {
   "codemirror_mode": {
    "name": "ipython",
    "version": 3
   },
   "file_extension": ".py",
   "mimetype": "text/x-python",
   "name": "python",
   "nbconvert_exporter": "python",
   "pygments_lexer": "ipython3",
   "version": "3.9.10"
  },
  "widgets": {
   "application/vnd.jupyter.widget-state+json": {
    "state": {},
    "version_major": 2,
    "version_minor": 0
   }
  }
 },
 "nbformat": 4,
 "nbformat_minor": 5
}
