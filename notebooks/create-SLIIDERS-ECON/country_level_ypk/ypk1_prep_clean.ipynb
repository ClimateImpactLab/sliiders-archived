{
 "cells": [
  {
   "cell_type": "markdown",
   "id": "e08e3612",
   "metadata": {},
   "source": [
    "## Preparing and cleaning files necessary for (country-level) capital stock projection workflow\n",
    "\n",
    "## Importing necessary modules and functions"
   ]
  },
  {
   "cell_type": "code",
   "execution_count": null,
   "id": "bf9622a5",
   "metadata": {},
   "outputs": [],
   "source": [
    "%load_ext autoreload\n",
    "%autoreload 2"
   ]
  },
  {
   "cell_type": "code",
   "execution_count": null,
   "id": "9c7606bf",
   "metadata": {},
   "outputs": [],
   "source": [
    "import json\n",
    "import shutil\n",
    "from operator import itemgetter\n",
    "\n",
    "import dask.dataframe as ddf\n",
    "import dask.delayed as delayed\n",
    "import fiona\n",
    "import numpy as np\n",
    "import pandas as pd\n",
    "import pycountry as pyctry\n",
    "from dask_gateway import Gateway\n",
    "from py7zr import unpack_7zarchive\n",
    "from tqdm.auto import tqdm\n",
    "\n",
    "from sliiders.country_level_ypk import ppp_conversion_specific_year\n",
    "from sliiders import settings as sset\n",
    "from sliiders import spatial\n",
    "from sliiders.cia_wfb_clean import (\n",
    "    organize_gather_cia_wfb_2000_2020,\n",
    "    wfb_merge_year_by_year,\n",
    ")\n",
    "\n",
    "# dask gateway setup\n",
    "gateway = Gateway()\n",
    "image_name = sset.DASK_IMAGE"
   ]
  },
  {
   "cell_type": "code",
   "execution_count": null,
   "id": "e8695ee9-d515-4bd2-a8ac-1bb25656cbcc",
   "metadata": {},
   "outputs": [],
   "source": [
    "# creating necessary directory\n",
    "sset.DIR_YPK_INT.mkdir(exist_ok=True, parents=True)\n",
    "sset.PATH_CIA_INT.parent.mkdir(exist_ok=True, parents=True)"
   ]
  },
  {
   "cell_type": "markdown",
   "id": "4d76358a",
   "metadata": {},
   "source": [
    "## Maddison Project: scale change"
   ]
  },
  {
   "cell_type": "code",
   "execution_count": null,
   "id": "0acd5006",
   "metadata": {},
   "outputs": [],
   "source": [
    "# original file format was excel spreadsheet, so we will read this as is\n",
    "madd = pd.read_excel(sset.PATH_MPD_RAW)\n",
    "\n",
    "# population is in 1000s of people; we will save it to be in millions of people\n",
    "madd[\"pop\"] = madd[\"pop\"] / 1000  ## divide by a thousand to get things in millions\n",
    "\n",
    "# GDPpc is currently in ones of USD; we want gdp to be in millions of USD\n",
    "# one USD per million people = 1 million USD per person\n",
    "madd[\"gdp\"] = madd[\"gdppc\"] * madd[\"pop\"]\n",
    "\n",
    "# indexing and exporting\n",
    "madd.rename(columns={\"countrycode\": \"ccode\"}, inplace=True)\n",
    "madd[\"gdppc_unit\"] = \"ones of USD (constant 2011 PPP USD)\"\n",
    "madd[\"gdp_unit\"] = \"millions of USD (constant 2011 PPP USD)\"\n",
    "madd[\"pop_unit\"] = \"millions of people\"\n",
    "madd.set_index([\"ccode\", \"year\"], inplace=True)\n",
    "madd.to_parquet(sset.DIR_YPK_INT / \"maddison_project.parquet\")"
   ]
  },
  {
   "cell_type": "markdown",
   "id": "647b195b",
   "metadata": {},
   "source": [
    "## UN WPP: overall populations data\n",
    "\n",
    "### Assign country (ISO) codes: initial try with obvious cases"
   ]
  },
  {
   "cell_type": "code",
   "execution_count": null,
   "id": "a9ebc1d0",
   "metadata": {},
   "outputs": [],
   "source": [
    "# importing data\n",
    "un_df = pd.read_csv(sset.DIR_UN_WPP_RAW / \"UN_WPP2019_TotalPopulation.csv\")\n",
    "\n",
    "# let's check whether there are any with \"dependencies\" considered together with sov.s\n",
    "for i in set(un_df.Location):\n",
    "    if \"ependenc\" in i:\n",
    "        print(i)"
   ]
  },
  {
   "cell_type": "code",
   "execution_count": null,
   "id": "3dab957b",
   "metadata": {},
   "outputs": [],
   "source": [
    "# very minor clean-up for iso country codes; initial\n",
    "countryname_to_iso = dict([])\n",
    "\n",
    "for i in list(set(un_df.Location)):\n",
    "    name = pyctry.countries.get(name=i)\n",
    "    oname = pyctry.countries.get(official_name=i)\n",
    "\n",
    "    if name is not None or oname is not None:\n",
    "        to_use = name\n",
    "        if name is None:\n",
    "            to_use = oname\n",
    "        countryname_to_iso[i] = to_use.alpha_3\n",
    "    else:\n",
    "        countryname_to_iso[i] = None\n",
    "\n",
    "# some mandotory clean-ups required\n",
    "# Will not print them as there are too many, but can be checked via print command\n",
    "# print(no_isos)\n",
    "no_isos = [k for k, v in countryname_to_iso.items() if v is None]"
   ]
  },
  {
   "cell_type": "code",
   "execution_count": null,
   "id": "f3a6bde1",
   "metadata": {},
   "outputs": [],
   "source": [
    "# after examining the no_isos list, I conduct the following (manual) clean-up\n",
    "to_update = {\n",
    "    \"Micronesia (Fed. States of)\": \"FSM\",\n",
    "    \"State of Palestine\": \"PSE\",\n",
    "    \"China (and dependencies)\": \"CHN+D\",\n",
    "    \"China, Macao SAR\": \"MAC\",\n",
    "    \"China, Hong Kong SAR\": \"HKG\",\n",
    "    \"Bolivia (Plurinational State of)\": \"BOL\",\n",
    "    \"Saint Helena\": \"SHN\",\n",
    "    \"Holy See\": \"VAT\",\n",
    "    \"Venezuela (Bolivarian Republic of)\": \"VEN\",\n",
    "    \"Iran (Islamic Republic of)\": \"IRN\",\n",
    "    \"United Kingdom (and dependencies)\": \"GBR+D\",\n",
    "    \"New Zealand (and dependencies)\": \"NZL+D\",\n",
    "    \"Dem. People's Republic of Korea\": \"PRK\",\n",
    "    \"China, Taiwan Province of China\": \"TWN\",\n",
    "    \"Democratic Republic of the Congo\": \"COD\",\n",
    "    \"Republic of Korea\": \"KOR\",\n",
    "    \"United States Virgin Islands\": \"VIR\",\n",
    "    \"Denmark (and dependencies)\": \"DNK+D\",\n",
    "    \"France (and dependencies)\": \"FRA+D\",\n",
    "    \"United States of America (and dependencies)\": \"USA+D\",\n",
    "    \"Wallis and Futuna Islands\": \"WLF\",\n",
    "    \"Channel Islands\": \"GGY+JEY\",\n",
    "    \"Netherlands (and dependencies)\": \"NLD+D\",\n",
    "}\n",
    "\n",
    "# updating the ISO codes\n",
    "countryname_to_iso.update(to_update)"
   ]
  },
  {
   "cell_type": "markdown",
   "id": "8e8189d5",
   "metadata": {},
   "source": [
    "### Detecting cases spanning multiple regions\n",
    "\n",
    "We do not want to account for cases like \"Europe\" where there are multiple countries / territories / sovereignties associated with it. Therefore, we will assign, to these multiple-region cases, the code `WIDE`."
   ]
  },
  {
   "cell_type": "code",
   "execution_count": null,
   "id": "d2944f67",
   "metadata": {},
   "outputs": [],
   "source": [
    "# re-checking for clean-ups; again, this is too long a list to print\n",
    "no_isos_2 = [k for k, v in countryname_to_iso.items() if v is None]\n",
    "\n",
    "# the whole of no_isos_2 is \"WIDE\"\n",
    "for i, ctry in enumerate(no_isos_2):\n",
    "    countryname_to_iso[ctry] = \"WIDE\"\n",
    "\n",
    "# applying the dictionary to get country codes (ISO)\n",
    "un_df[\"ccode\"] = un_df.Location.map(countryname_to_iso)"
   ]
  },
  {
   "cell_type": "markdown",
   "id": "9644b04b",
   "metadata": {},
   "source": [
    "### Exporting"
   ]
  },
  {
   "cell_type": "code",
   "execution_count": null,
   "id": "9b78d2c7",
   "metadata": {},
   "outputs": [],
   "source": [
    "un_df.rename(columns={\"Time\": \"year\"}, inplace=True)\n",
    "un_df.set_index([\"ccode\", \"year\"], inplace=True)\n",
    "un_df.to_parquet(sset.DIR_YPK_INT / \"un_population.parquet\")"
   ]
  },
  {
   "cell_type": "markdown",
   "id": "5b4a6c04",
   "metadata": {},
   "source": [
    "## UN WPP: population-by-age-group"
   ]
  },
  {
   "cell_type": "code",
   "execution_count": null,
   "id": "22db8719",
   "metadata": {},
   "outputs": [],
   "source": [
    "## attaching country codes; first import un_pop information\n",
    "by_age = pd.read_csv(sset.DIR_UN_WPP_RAW / \"UN_WPP2019_Population_by_Age.csv\")\n",
    "\n",
    "## attaching the country codes\n",
    "un_df_dic = dict(zip(un_df.Location, un_df.index.get_level_values(\"ccode\")))\n",
    "by_age[\"ccode\"] = by_age.Location.map(un_df_dic)\n",
    "\n",
    "## double checking if any are missing country codes\n",
    "print(\"The missing-ccode rows are:\", by_age[pd.isnull(by_age.ccode)].shape[0])\n",
    "\n",
    "## saving the ccodes as indices\n",
    "by_age.set_index([\"ccode\"], inplace=True)\n",
    "\n",
    "## exporting\n",
    "by_age.to_parquet(sset.DIR_YPK_INT / \"un_population_by_age.parquet\")"
   ]
  },
  {
   "cell_type": "markdown",
   "id": "2f3eb43d",
   "metadata": {},
   "source": [
    "## GEG-15"
   ]
  },
  {
   "cell_type": "code",
   "execution_count": null,
   "id": "3e18b799",
   "metadata": {},
   "outputs": [],
   "source": [
    "# cluster setup\n",
    "N_CLUSTER = 20\n",
    "cluster = gateway.new_cluster(worker_image=image_name, profile=\"micro\")\n",
    "client = cluster.get_client()\n",
    "cluster.scale(N_CLUSTER)\n",
    "cluster"
   ]
  },
  {
   "cell_type": "code",
   "execution_count": null,
   "id": "c2b94412",
   "metadata": {},
   "outputs": [],
   "source": [
    "@delayed\n",
    "def clean_chunk(start, num, shp_path):\n",
    "    with fiona.open(shp_path, \"r\") as shp:\n",
    "        chunk = shp[start : (start + num)]\n",
    "    properties = pd.DataFrame((map(itemgetter(\"properties\"), chunk)))\n",
    "    geometries = list(map(itemgetter(\"geometry\"), chunk))\n",
    "    coordinates = pd.DataFrame(\n",
    "        map(itemgetter(\"coordinates\"), geometries), columns=[\"lon\", \"lat\"]\n",
    "    )\n",
    "    df = coordinates.merge(properties, left_index=True, right_index=True)\n",
    "    return df"
   ]
  },
  {
   "cell_type": "code",
   "execution_count": null,
   "id": "b81ef7a2",
   "metadata": {},
   "outputs": [],
   "source": [
    "DIR_GAR = sset.DIR_GEG15_RAW / \"gar-exp\"\n",
    "with fiona.open(DIR_GAR / \"gar_exp.shp\") as shp:\n",
    "    num_geoms = len(shp)\n",
    "\n",
    "data_chunked = []\n",
    "for ii in range(0, num_geoms, 1000):\n",
    "    data_chunked.append(clean_chunk(ii, 1000, str(DIR_GAR / \"gar_exp.shp\")))"
   ]
  },
  {
   "cell_type": "code",
   "execution_count": null,
   "id": "aa4c6a58",
   "metadata": {},
   "outputs": [],
   "source": [
    "df = ddf.from_delayed(data_chunked)"
   ]
  },
  {
   "cell_type": "code",
   "execution_count": null,
   "id": "5fe52819",
   "metadata": {},
   "outputs": [],
   "source": [
    "df = df.repartition(npartitions=16).persist()"
   ]
  },
  {
   "cell_type": "code",
   "execution_count": null,
   "id": "04cbccaf",
   "metadata": {},
   "outputs": [],
   "source": [
    "sset.DIR_GEG15_INT.mkdir(parents=True, exist_ok=True)\n",
    "df.to_parquet(sset.DIR_GEG15_INT / \"gar_exp.parquet\")"
   ]
  },
  {
   "cell_type": "code",
   "execution_count": null,
   "id": "9b56024a",
   "metadata": {},
   "outputs": [],
   "source": [
    "cluster.scale(0)\n",
    "client.close()\n",
    "cluster.close()\n",
    "cluster.shutdown()"
   ]
  },
  {
   "cell_type": "markdown",
   "id": "d8d10ce3-91a6-45d6-89b0-7b13985f200d",
   "metadata": {},
   "source": [
    "## Unzip and process Landscan"
   ]
  },
  {
   "cell_type": "code",
   "execution_count": null,
   "id": "8e1a3d46-ca5a-4ddc-9545-66420177cf53",
   "metadata": {},
   "outputs": [],
   "source": [
    "spatial.process_landscan(\n",
    "    landscan_zip=sset.DIR_LANDSCAN_RAW / f\"{sset.LANDSCAN_VERS}.zip\",\n",
    "    dir_landscan_raw=sset.DIR_LANDSCAN_RAW / sset.LANDSCAN_VERS,\n",
    "    dir_landscan_int=sset.DIR_LANDSCAN_INT,\n",
    "    landscan_year=sset.LANDSCAN_YEAR,\n",
    ")"
   ]
  },
  {
   "cell_type": "markdown",
   "id": "0bd0ad1d-0a6b-4c62-8855-8abdada0d747",
   "metadata": {},
   "source": [
    "## CIA World Factbook organization\n",
    "\n",
    "Here, the following are carried out:\n",
    "1. Clean each yearly version into `pandas.DataFrame` format\n",
    "2. Attach ISO-3166 alpha-3 codes for easier merging\n",
    "3. Merge the different versions into one dataset; update older data with newer data whenever possible\n",
    "4. For GDP and GDP per capita, make sure that they are in constant 2017 PPP USD terms, as the raw dataset has varying PPP USD years\n",
    "\n",
    "### Cleaning the yearly versions and attaching country codes"
   ]
  },
  {
   "cell_type": "code",
   "execution_count": null,
   "id": "00cb5c92-703f-4659-b19c-baec2326c046",
   "metadata": {},
   "outputs": [],
   "source": [
    "# yearly versions, 2000 to 2020\n",
    "cia_wfb_pop, cia_wfb_gdp, cia_wfb_gdppc = organize_gather_cia_wfb_2000_2020()"
   ]
  },
  {
   "cell_type": "markdown",
   "id": "2cee6533-dd88-4a56-87da-b26632cb2c6f",
   "metadata": {},
   "source": [
    "### Merge the yearly datasets, updating the previous version with a newer version"
   ]
  },
  {
   "cell_type": "code",
   "execution_count": null,
   "id": "69f7432a-b605-484a-ac71-5a4b7fcdc7fa",
   "metadata": {},
   "outputs": [],
   "source": [
    "# merging year-by-year, separately for GDP, GDPpc, and population\n",
    "for i, gdp_df in enumerate(cia_wfb_gdp):\n",
    "    pop_df = cia_wfb_pop[i]\n",
    "    gdppc_df = cia_wfb_gdppc[i]\n",
    "    if i == 0:\n",
    "        updated_gdp_df = gdp_df.copy()\n",
    "        updated_gdppc_df = gdppc_df.copy()\n",
    "        updated_pop_df = pop_df.copy()\n",
    "    else:\n",
    "        updated_gdp_df = wfb_merge_year_by_year(updated_gdp_df, gdp_df, \"gdp\")\n",
    "        updated_gdppc_df = wfb_merge_year_by_year(updated_gdppc_df, gdppc_df, \"gdppc\")\n",
    "        updated_pop_df = wfb_merge_year_by_year(updated_pop_df, pop_df, \"pop\")\n",
    "\n",
    "# we will only use positively-valued GDP and GDPpc datasets\n",
    "updated_gdppc_df = updated_gdppc_df.loc[updated_gdppc_df.gdppc > 0, :].reset_index()"
   ]
  },
  {
   "cell_type": "markdown",
   "id": "c9684469-1868-4fda-b989-db794fd4787c",
   "metadata": {},
   "source": [
    "### Turning into constant 2017 PPP USD terms for GDP and GDP per capita"
   ]
  },
  {
   "cell_type": "code",
   "execution_count": null,
   "id": "42f0889b-2e52-45ea-b3d0-c13edcd6c1cf",
   "metadata": {},
   "outputs": [],
   "source": [
    "# fetching the PPP conversion factors\n",
    "ppp_to_17 = ppp_conversion_specific_year(2017, to=True, extrap_sim=True)\n",
    "\n",
    "# We will clean Netherland Antilles (BES+CUW+SXM, as defined in CIA WFB) with\n",
    "# Curacao (CUW) PPP conversion rates; CUW has the largest economy, based on GDP\n",
    "ppp_neth_antil_17 = ppp_to_17.loc[(\"CUW\", slice(None)), :].reset_index()\n",
    "ppp_neth_antil_17[\"ccode\"] = \"BES+CUW+SXM\"\n",
    "ppp_neth_antil_17.set_index([\"ccode\", \"year\"], inplace=True)\n",
    "ppp_neth_antil_17[\"conv_fill\"] = \"copy_from_CUW\"\n",
    "ppp_neth_antil_17[\"pl_gdpo_fill\"] = \"copy_from_CUW\"\n",
    "\n",
    "# We use Montenegro (MNE) PPP conversion rates for SRB+MNE (Serbia and Montenegro)\n",
    "# This is arbitrarily chosen, but for the years 1995-2019 there is not much difference\n",
    "# in the conversion rates\n",
    "ppp_srbmnt_17 = ppp_to_17.loc[(\"MNE\", slice(None)), :].reset_index()\n",
    "ppp_srbmnt_17[\"ccode\"] = \"SRB+MNE\"\n",
    "ppp_srbmnt_17.set_index([\"ccode\", \"year\"], inplace=True)\n",
    "ppp_srbmnt_17[\"conv_fill\"] = \"copy_from_MNE\"\n",
    "ppp_srbmnt_17[\"pl_gdpo_fill\"] = \"copy_from_MNE\"\n",
    "\n",
    "# merging\n",
    "ppp_to_17 = pd.concat(\n",
    "    [ppp_to_17, ppp_neth_antil_17, ppp_srbmnt_17], axis=0\n",
    ").sort_index()\n",
    "\n",
    "# checking the country codes that are not in `ppp_to_17`\n",
    "print()\n",
    "print(\n",
    "    \"Missing from the PPP conversion table:\\n\",\n",
    "    np.setdiff1d(\n",
    "        np.union1d(\n",
    "            updated_gdp_df[\"ccode\"].unique(), updated_gdppc_df[\"ccode\"].unique()\n",
    "        ),\n",
    "        ppp_to_17.index.get_level_values(\"ccode\").unique(),\n",
    "    ),\n",
    ")\n",
    "\n",
    "# changing the 'year' index to be named 'usd_year'\n",
    "ppp_to_17 = (\n",
    "    ppp_to_17.reset_index()\n",
    "    .rename(columns={\"year\": \"usd_year\"})\n",
    "    .set_index([\"ccode\", \"usd_year\"])\n",
    ")"
   ]
  },
  {
   "cell_type": "code",
   "execution_count": null,
   "id": "8ad1af34-c5e0-487b-8635-f82c7d347f37",
   "metadata": {},
   "outputs": [],
   "source": [
    "# fetching the USD GDP deflators\n",
    "defla_to_17 = (\n",
    "    pd.read_excel(sset.PATH_PWT_RAW)\n",
    "    .rename(columns={\"year\": \"usd_year\"})\n",
    "    .set_index([\"countrycode\", \"usd_year\"])\n",
    ")\n",
    "defla_to_17 = (\n",
    "    defla_to_17.loc[([\"USA\"], slice(None)), [\"pl_gdpo\"]]\n",
    "    .reset_index()\n",
    "    .drop([\"countrycode\"], axis=1)\n",
    "    .set_index([\"usd_year\"])\n",
    ")\n",
    "defla_to_17[\"gdp_defla\"] = defla_to_17.loc[2017, \"pl_gdpo\"] / defla_to_17[\"pl_gdpo\"]\n",
    "defla_to_17.drop([\"pl_gdpo\"], axis=1, inplace=True)\n",
    "\n",
    "# merging with the PPP conversion rates\n",
    "ppp_to_17 = ppp_to_17.merge(defla_to_17, left_index=True, right_index=True, how=\"left\")"
   ]
  },
  {
   "cell_type": "code",
   "execution_count": null,
   "id": "f2b3b5b5-0616-49a7-9064-1b08e16d8ed4",
   "metadata": {},
   "outputs": [],
   "source": [
    "# we manually check if USD year terms agree with one another; if they don't, we check\n",
    "# the WFB versions and use the available USD years (some are assumed from their years)\n",
    "check_usd_year = updated_gdppc_df.set_index([\"ccode\", \"year\"]).merge(\n",
    "    updated_gdp_df.set_index([\"ccode\", \"year\"]),\n",
    "    how=\"outer\",\n",
    "    left_index=True,\n",
    "    right_index=True,\n",
    ")\n",
    "check_usd_year = check_usd_year.loc[\n",
    "    (check_usd_year.usd_year_y != check_usd_year.usd_year_x)\n",
    "    & ~pd.isnull(check_usd_year.usd_year_y)\n",
    "    & ~pd.isnull(check_usd_year.usd_year_x)\n",
    "]\n",
    "\n",
    "print(\n",
    "    \"Manually check the following countries:\\n\",\n",
    "    check_usd_year.index.get_level_values(\"ccode\").unique().values,\n",
    ")"
   ]
  },
  {
   "cell_type": "code",
   "execution_count": null,
   "id": "71afec1f-7077-4510-aa67-d284338ad4cd",
   "metadata": {},
   "outputs": [],
   "source": [
    "# manual cleansing for USD years\n",
    "take_usd_year_from_gdp = [\n",
    "    (\"AND\", [2010, 2011, 2013, 2014, 2015]),\n",
    "    (\"ASM\", [2014, 2015]),\n",
    "    (\"GGY\", [2014]),\n",
    "    (\"GNQ\", [2011, 2012]),\n",
    "    (\"GRL\", [2013, 2014]),\n",
    "    (\"JEY\", [2015]),\n",
    "    (\"MAC\", [2006, 2008, 2014, 2016]),\n",
    "    (\"MCO\", [2006, 2009, 2011, 2013, 2014]),\n",
    "    (\"MHL\", [2008]),\n",
    "    (\"MNP\", [2014, 2015, 2016]),\n",
    "    (\"PLW\", [2008]),\n",
    "    (\"PSE\", [2012, 2013]),\n",
    "    (\"SOM\", [2013, 2009, 2008]),\n",
    "    (\"SSD\", [2010]),\n",
    "    (\"TUV\", [2010]),\n",
    "    (\"VIR\", [2011, 2012, 2014, 2015, 2016]),\n",
    "]\n",
    "\n",
    "take_usd_year_from_gdppc = [\n",
    "    ([\"FSM\", \"NRU\", \"PLW\"], 2013),\n",
    "]\n",
    "\n",
    "updated_gdppc_df.set_index([\"ccode\", \"year\"], inplace=True)\n",
    "updated_gdp_df.set_index([\"ccode\", \"year\"], inplace=True)\n",
    "for i in take_usd_year_from_gdp:\n",
    "    updated_gdppc_df.loc[i, \"usd_year\"] = updated_gdp_df.loc[i, \"usd_year\"].values\n",
    "\n",
    "for i in take_usd_year_from_gdppc:\n",
    "    updated_gdp_df.loc[i, \"usd_year\"] = updated_gdppc_df.loc[i, \"usd_year\"].values\n",
    "\n",
    "updated_gdppc_df.reset_index(inplace=True)\n",
    "updated_gdp_df.reset_index(inplace=True)"
   ]
  },
  {
   "cell_type": "code",
   "execution_count": null,
   "id": "a3418fc2-2650-4fc2-878f-2b6bfab7b23a",
   "metadata": {},
   "outputs": [],
   "source": [
    "# GDP per capita; not using index merging due to ccode-usd_year indices not being\n",
    "# unique in CIA WFB datasets\n",
    "ppp_17_gdppc_df = updated_gdppc_df.merge(\n",
    "    ppp_to_17.reset_index(), how=\"left\", on=[\"ccode\", \"usd_year\"]\n",
    ")\n",
    "ppp_17_gdppc_df.loc[\n",
    "    pd.isnull(ppp_17_gdppc_df.conv), [\"conv_fill\", \"pl_gdpo_fill\"]\n",
    "] = \"neutral_assumption\"\n",
    "ppp_17_gdppc_df.loc[pd.isnull(ppp_17_gdppc_df.conv), \"conv\"] = 1\n",
    "\n",
    "# only turning USD values to 2017 USD values, as we aren't too sure about PPP base year\n",
    "ppp_17_gdppc_df[\"gdppc_usd_17\"] = ppp_17_gdppc_df[[\"gdppc\", \"gdp_defla\"]].product(\n",
    "    axis=1\n",
    ")\n",
    "\n",
    "# assuming PPP year = USD year, turning to constant 2017 PPP USD terms\n",
    "ppp_17_gdppc_df[\"rgdpna_pc_17\"] = ppp_17_gdppc_df[[\"conv\", \"gdppc_usd_17\"]].product(\n",
    "    axis=1\n",
    ")\n",
    "\n",
    "# similar process for GDP\n",
    "ppp_17_gdp_df = updated_gdp_df.merge(\n",
    "    ppp_to_17.reset_index(), how=\"left\", on=[\"ccode\", \"usd_year\"]\n",
    ")\n",
    "ppp_17_gdp_df.loc[\n",
    "    pd.isnull(ppp_17_gdp_df.conv), [\"conv_fill\", \"pl_gdpo_fill\"]\n",
    "] = \"neutral_assumption\"\n",
    "ppp_17_gdp_df.loc[pd.isnull(ppp_17_gdp_df.conv), \"conv\"] = 1\n",
    "ppp_17_gdp_df[\"gdp_usd_17\"] = ppp_17_gdp_df[[\"gdp\", \"gdp_defla\"]].product(axis=1)\n",
    "ppp_17_gdp_df[\"rgdpna_17\"] = ppp_17_gdp_df[[\"conv\", \"gdp_usd_17\"]].product(axis=1)"
   ]
  },
  {
   "cell_type": "markdown",
   "id": "6031352d-4d54-479d-9f99-3ae2c73efd7a",
   "metadata": {},
   "source": [
    "### Merging population, GDP, and GDP per capita datasets altogether"
   ]
  },
  {
   "cell_type": "code",
   "execution_count": null,
   "id": "d3157d12-c0a1-4d7e-8278-3e7da0552769",
   "metadata": {},
   "outputs": [],
   "source": [
    "# merging GDP and GDPpc\n",
    "gdp_rename = {\n",
    "    \"usd_year\": \"orig_usd_year_gdp\",\n",
    "    \"wfb_year\": \"wfb_year_gdp\",\n",
    "    \"conv_fill\": \"conv_fill_gdp\",\n",
    "    \"pl_gdpo_fill\": \"pl_gdpo_fill_gdp\",\n",
    "}\n",
    "gdp_merge_ready = ppp_17_gdp_df.rename(columns=gdp_rename).drop(\n",
    "    [\"gdp_defla\", \"conv\", \"gdp\"], axis=1\n",
    ")\n",
    "\n",
    "gdppc_rename = {\n",
    "    \"usd_year\": \"orig_usd_year_gdppc\",\n",
    "    \"wfb_year\": \"wfb_year_gdppc\",\n",
    "    \"conv_fill\": \"conv_fill_gdppc\",\n",
    "    \"pl_gdpo_fill\": \"pl_gdpo_fill_gdppc\",\n",
    "}\n",
    "gdppc_merge_ready = ppp_17_gdppc_df.rename(columns=gdppc_rename).drop(\n",
    "    [\"gdp_defla\", \"conv\", \"gdppc\"], axis=1\n",
    ")\n",
    "\n",
    "gdp_and_gdppc_merge_ready = gdp_merge_ready.set_index([\"ccode\", \"year\"]).merge(\n",
    "    gdppc_merge_ready.set_index([\"ccode\", \"year\"]),\n",
    "    left_index=True,\n",
    "    right_index=True,\n",
    "    how=\"outer\",\n",
    ")\n",
    "\n",
    "# merging GDP + GDPpc with population\n",
    "all_merged = (\n",
    "    updated_pop_df.set_index([\"ccode\", \"year\"])\n",
    "    .rename(columns={\"wfb_year\": \"wfb_year_pop\"})\n",
    "    .merge(gdp_and_gdppc_merge_ready, left_index=True, right_index=True, how=\"outer\")\n",
    ")"
   ]
  },
  {
   "cell_type": "markdown",
   "id": "d919582c-848a-40cd-89b8-8badf243b45e",
   "metadata": {},
   "source": [
    "### Exporting"
   ]
  },
  {
   "cell_type": "code",
   "execution_count": null,
   "id": "32bb2826-a34a-4555-8ee8-61f682cf6f91",
   "metadata": {},
   "outputs": [],
   "source": [
    "# re-ordering and changing data types for cleaner viewing\n",
    "ordering = [\n",
    "    \"pop\",\n",
    "    \"gdp_usd_17\",\n",
    "    \"rgdpna_17\",\n",
    "    \"gdppc_usd_17\",\n",
    "    \"rgdpna_pc_17\",\n",
    "    \"wfb_year_pop\",\n",
    "    \"wfb_year_gdp\",\n",
    "    \"wfb_year_gdppc\",\n",
    "    \"orig_usd_year_gdp\",\n",
    "    \"orig_usd_year_gdppc\",\n",
    "    \"conv_fill_gdp\",\n",
    "    \"conv_fill_gdppc\",\n",
    "    \"pl_gdpo_fill_gdp\",\n",
    "    \"pl_gdpo_fill_gdppc\",\n",
    "]\n",
    "all_merged = all_merged[ordering].reset_index()\n",
    "all_merged[\"year\"] = all_merged[\"year\"].astype(\"int64\")\n",
    "all_merged.set_index([\"ccode\", \"year\"], inplace=True)\n",
    "all_merged.sort_index(inplace=True)\n",
    "\n",
    "# exporting\n",
    "all_merged.to_parquet(sset.PATH_CIA_INT)"
   ]
  }
 ],
 "metadata": {
  "kernelspec": {
   "display_name": "Python 3 (ipykernel)",
   "language": "python",
   "name": "python3"
  },
  "language_info": {
   "codemirror_mode": {
    "name": "ipython",
    "version": 3
   },
   "file_extension": ".py",
   "mimetype": "text/x-python",
   "name": "python",
   "nbconvert_exporter": "python",
   "pygments_lexer": "ipython3",
   "version": "3.9.10"
  },
  "widgets": {
   "application/vnd.jupyter.widget-state+json": {
    "state": {},
    "version_major": 2,
    "version_minor": 0
   }
  }
 },
 "nbformat": 4,
 "nbformat_minor": 5
}
