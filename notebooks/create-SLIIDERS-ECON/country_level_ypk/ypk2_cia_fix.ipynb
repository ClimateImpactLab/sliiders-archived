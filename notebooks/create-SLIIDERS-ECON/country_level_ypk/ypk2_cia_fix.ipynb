{
 "cells": [
  {
   "cell_type": "code",
   "execution_count": 1,
   "id": "2dd66540-73aa-476b-9ad4-98fb278b9895",
   "metadata": {},
   "outputs": [],
   "source": [
    "%load_ext autoreload\n",
    "%autoreload 2"
   ]
  },
  {
   "cell_type": "code",
   "execution_count": null,
   "id": "7af68646-b156-471b-a01d-42bc3c5aa7a2",
   "metadata": {},
   "outputs": [],
   "source": [
    "import json\n",
    "import os\n",
    "import shutil\n",
    "from operator import itemgetter\n",
    "from pathlib import Path\n",
    "\n",
    "import dask.dataframe as ddf\n",
    "import dask.delayed as delayed\n",
    "import fiona\n",
    "import matplotlib.pyplot as plt\n",
    "import numpy as np\n",
    "import pandas as pd\n",
    "import pycountry as pyctry\n",
    "import rioxarray\n",
    "import xarray as xr\n",
    "from dask_gateway import Gateway\n",
    "from py7zr import unpack_7zarchive\n",
    "from tqdm.auto import tqdm\n",
    "import PyPDF2 as pypdf\n",
    "\n",
    "from sliiders import country_level_ypk as ypk_fn\n",
    "from sliiders import settings as sset\n",
    "from sliiders import spatial\n",
    "\n",
    "import requests\n",
    "from zipfile import ZipFile\n",
    "from io import BytesIO\n",
    "\n",
    "from bs4 import BeautifulSoup as BSoup\n",
    "\n",
    "# dask gateway setup\n",
    "gateway = Gateway()\n",
    "image_name = sset.DASK_IMAGE\n",
    "\n",
    "import re"
   ]
  },
  {
   "cell_type": "markdown",
   "id": "8d74eb4a-811b-4239-ade2-15e1bb86c0e6",
   "metadata": {},
   "source": [
    "## Downloading"
   ]
  },
  {
   "cell_type": "code",
   "execution_count": 56,
   "id": "d51b4a1b-1d17-41d3-b235-224afd5f5d84",
   "metadata": {},
   "outputs": [],
   "source": [
    "cia_download_url = \"https://www.cia.gov/the-world-factbook/about/archives/download\"\n",
    "cia_files = [f\"factbook-{x}.zip\" for x in range(2000, 2021)]"
   ]
  },
  {
   "cell_type": "code",
   "execution_count": null,
   "id": "2d2ea51d-69db-4322-a05c-bb831f621442",
   "metadata": {},
   "outputs": [],
   "source": [
    "os.makedirs(sset.DIR_CIA_RAW, exist_ok=True)\n",
    "\n",
    "for i in tqdm(cia_files):\n",
    "    cia_req = requests.get(\"/\".join([cia_download_url, i]))\n",
    "    cia_zip = ZipFile(BytesIO(cia_req.content))\n",
    "    cia_zip.extractall(str(sset.DIR_CIA_RAW))"
   ]
  },
  {
   "cell_type": "markdown",
   "id": "6dfa2535-6b56-4487-b791-af3f0fd88dcd",
   "metadata": {},
   "source": [
    "## CIA World Factbook (WFB)\n",
    "\n",
    "### WFB 2000"
   ]
  },
  {
   "cell_type": "code",
   "execution_count": 14,
   "id": "f658e141-8780-4857-923f-c023bef98156",
   "metadata": {},
   "outputs": [
    {
     "name": "stdout",
     "output_type": "stream",
     "text": [
      "Gathering soups from individual files...\n",
      "Done. Gathering population information...\n",
      "Done. Gathering GDP and GDP per capita information...\n",
      "Done.\n"
     ]
    }
   ],
   "source": [
    "pop_wfb2000, gdp_wfb2000 = ypk_fn.organize_cia_wfb_2000()"
   ]
  },
  {
   "cell_type": "markdown",
   "id": "1c82e00f-5eba-4501-9675-33dafbaecdf9",
   "metadata": {},
   "source": [
    "### WFB 2001"
   ]
  },
  {
   "cell_type": "code",
   "execution_count": null,
   "id": "4c96477f-784e-453f-8a1e-ec1d02958133",
   "metadata": {},
   "outputs": [],
   "source": []
  },
  {
   "cell_type": "markdown",
   "id": "36528012-b122-437b-83a1-4f554a098ae6",
   "metadata": {},
   "source": [
    "### WFB 2019"
   ]
  },
  {
   "cell_type": "code",
   "execution_count": 37,
   "id": "251ed3fc-a926-4e59-b31f-ab3e46f78c78",
   "metadata": {},
   "outputs": [
    {
     "name": "stdout",
     "output_type": "stream",
     "text": [
      "Gathering soups from individual files...\n",
      "Done. Gathering population information...\n",
      "Done. Gathering GDP and GDP per capita information...\n",
      "Done.\n"
     ]
    }
   ],
   "source": [
    "pop_wfb2019, gdp_wfb2019, gdppc_wfb2019 = ypk_fn.organize_cia_wfb_2019_2020(\n",
    "    directory=(sset.DIR_CIA_RAW / \"factbook-2019\"), wfb_year=2019\n",
    ")"
   ]
  },
  {
   "cell_type": "markdown",
   "id": "4bf9ec1b-8100-42af-9b97-e34cb3178753",
   "metadata": {},
   "source": [
    "### WFB 2020"
   ]
  },
  {
   "cell_type": "code",
   "execution_count": 38,
   "id": "c04a4037-d5e0-4b8f-9964-99ecd067f53d",
   "metadata": {},
   "outputs": [
    {
     "name": "stdout",
     "output_type": "stream",
     "text": [
      "Gathering soups from individual files...\n",
      "Done. Gathering population information...\n",
      "Done. Gathering GDP and GDP per capita information...\n",
      "Done.\n"
     ]
    }
   ],
   "source": [
    "pop_wfb2000, gdp_wfb2000, gdppc_wfb2000 = ypk_fn.organize_cia_wfb_2019_2020()"
   ]
  }
 ],
 "metadata": {
  "kernelspec": {
   "display_name": "Python 3 (ipykernel)",
   "language": "python",
   "name": "python3"
  },
  "language_info": {
   "codemirror_mode": {
    "name": "ipython",
    "version": 3
   },
   "file_extension": ".py",
   "mimetype": "text/x-python",
   "name": "python",
   "nbconvert_exporter": "python",
   "pygments_lexer": "ipython3",
   "version": "3.9.10"
  },
  "widgets": {
   "application/vnd.jupyter.widget-state+json": {
    "state": {},
    "version_major": 2,
    "version_minor": 0
   }
  }
 },
 "nbformat": 4,
 "nbformat_minor": 5
}
