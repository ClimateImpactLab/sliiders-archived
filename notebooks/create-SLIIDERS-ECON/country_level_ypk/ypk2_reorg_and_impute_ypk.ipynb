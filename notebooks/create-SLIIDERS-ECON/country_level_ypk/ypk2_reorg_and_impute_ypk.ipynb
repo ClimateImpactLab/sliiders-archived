{
 "cells": [
  {
   "cell_type": "markdown",
   "id": "2bbfaf73-96c1-46d7-bafe-92c30ced3b76",
   "metadata": {},
   "source": [
    "## Reorganizing raw data (GDP, GDPpc, and population) in long-panel format, converting to current and constant PPP terms, taking care of missing data"
   ]
  },
  {
   "cell_type": "code",
   "execution_count": null,
   "id": "a1c69bfd-3b4c-4bb4-8d00-6f8e1bdf7122",
   "metadata": {},
   "outputs": [],
   "source": [
    "%load_ext autoreload\n",
    "%autoreload 2"
   ]
  },
  {
   "cell_type": "code",
   "execution_count": null,
   "id": "85f3f8c1-947b-4170-acc0-366f75565a86",
   "metadata": {},
   "outputs": [],
   "source": [
    "import os\n",
    "from pathlib import Path\n",
    "\n",
    "import numpy as np\n",
    "import pandas as pd\n",
    "import xarray as xr\n",
    "from tqdm.auto import tqdm\n",
    "\n",
    "from sliiders import country_level_ypk as ypk_fn\n",
    "from sliiders import settings as sset"
   ]
  },
  {
   "cell_type": "markdown",
   "id": "7444df03-7e87-43d1-bf13-bf7f7cd9885e",
   "metadata": {
    "tags": []
   },
   "source": [
    "## Importing all raw data, and creating a merged, long-panel version"
   ]
  },
  {
   "cell_type": "markdown",
   "id": "dacf6537-d3e6-48b0-92ef-4f6a71ced27c",
   "metadata": {},
   "source": [
    "### PWT"
   ]
  },
  {
   "cell_type": "code",
   "execution_count": null,
   "id": "996df854-1843-45fb-ad57-74173b99fcf5",
   "metadata": {},
   "outputs": [],
   "source": [
    "pwt100 = pd.read_excel(sset.PATH_PWT_RAW)\n",
    "pwt100.rename(columns={\"countrycode\": \"ccode\"}, inplace=True)\n",
    "pwt_gdp_pop = [\"ccode\", \"year\", \"pop\", \"rgdpo\", \"rgdpna\", \"cgdpo\"]\n",
    "gdp_pop_df = pwt100[pwt_gdp_pop].copy().set_index([\"ccode\", \"year\"])"
   ]
  },
  {
   "cell_type": "markdown",
   "id": "f7c1b3b0-fe61-4825-85db-596c639eff72",
   "metadata": {},
   "source": [
    "### WB WDI"
   ]
  },
  {
   "cell_type": "code",
   "execution_count": null,
   "id": "e45a649d-dc43-41fc-a96d-9dc1bd1adda7",
   "metadata": {},
   "outputs": [],
   "source": [
    "# WB WDI\n",
    "wdi_rename_dict = {\n",
    "    \"SP.POP.TOTL\": \"wb_pop\",\n",
    "    \"NY.GDP.MKTP.PP.KD\": \"wb_rgdpna\",\n",
    "    \"NY.GDP.PCAP.PP.KD\": \"wb_rgdpna_pc\",\n",
    "    \"NY.GDP.MKTP.KD\": \"wb_gdp_nom\",\n",
    "    \"NY.GDP.PCAP.KD\": \"wb_gdp_nom_pc\",\n",
    "}\n",
    "wb_wdi = pd.read_parquet(sset.DIR_WB_WDI_RAW / \"wdi_pop_iy_gdp.parquet\").rename(\n",
    "    columns=wdi_rename_dict\n",
    ")\n",
    "wb_wdi = wb_wdi.loc[\n",
    "    wb_wdi.index.get_level_values(\"ccode\").isin(sset.ALL_ISOS_EXTENDED), :\n",
    "].reset_index()\n",
    "\n",
    "# Unifying the country code conventions for Kosovo and Channel Islands\n",
    "wb_wdi.loc[wb_wdi.ccode == \"XKX\", \"ccode\"] = \"KO-\"\n",
    "wb_wdi.loc[wb_wdi.ccode == \"CHI\", \"ccode\"] = \"GGY+JEY\"\n",
    "wb_wdi.set_index([\"ccode\", \"year\"], inplace=True)\n",
    "\n",
    "# re-scaling; currently in ones, but to have them in PWT scales\n",
    "wb_wdi[[\"wb_rgdpna\", \"wb_gdp_nom\", \"wb_pop\"]] /= 1000000\n",
    "\n",
    "# merging\n",
    "gdp_pop_df = gdp_pop_df.join(wb_wdi, how=\"outer\")"
   ]
  },
  {
   "cell_type": "markdown",
   "id": "b8696d23-122e-4a1a-bfa5-24485a623f20",
   "metadata": {},
   "source": [
    "### IMF"
   ]
  },
  {
   "cell_type": "code",
   "execution_count": null,
   "id": "9cf1d2eb-3fb8-4057-b1ac-7e7e56cd751c",
   "metadata": {},
   "outputs": [],
   "source": [
    "# the code below prevents the \"ArrowInvalid\" error\n",
    "imf = pd.read_excel(sset.PATH_IMF_WEO_RAW, na_values=[\"n/a\", \"--\"]).rename(\n",
    "    columns={\"ISO\": \"ccode\", \"Subject Descriptor\": \"subject\"}\n",
    ")\n",
    "imf = imf.loc[imf.ccode.isin(sset.ALL_ISOS_EXTENDED), :]\n",
    "\n",
    "# renaming the subjects\n",
    "imf_rename = {\n",
    "    \"Gross domestic product per capita, constant prices\": \"imf_rgdpna_pc\",\n",
    "    \"Gross domestic product per capita, current prices\": \"imf_gdppc_nom\",\n",
    "    \"Gross domestic product, current prices\": \"imf_gdp_nom\",\n",
    "    \"Population\": \"imf_pop\",\n",
    "}\n",
    "for key, nam in imf_rename.items():\n",
    "    imf.loc[imf.subject == key, \"subject\"] = nam\n",
    "imf = imf.loc[imf.subject.isin(list(imf_rename.values())), :].copy()\n",
    "v_names = dict(zip(list(range(1980, 2021)), [\"v_\" + str(x) for x in range(1980, 2021)]))\n",
    "imf.rename(columns=v_names, inplace=True)\n",
    "\n",
    "# organizing this in vertical format\n",
    "first = 0\n",
    "for nam in imf_rename.values():\n",
    "    imf_sub = imf.loc[imf.subject == nam, [\"ccode\"] + list(v_names.values())].set_index(\n",
    "        [\"ccode\"]\n",
    "    )\n",
    "    imf_sub = ypk_fn.organize_hor_to_ver(\n",
    "        imf_sub, \"ccode\", None, nam, \"v_\", range(1980, 2021)\n",
    "    )\n",
    "    imf_sub[nam] = imf_sub[nam].astype(\"float64\")\n",
    "    if first == 0:\n",
    "        first += 1\n",
    "        imf_reorg = imf_sub.copy()\n",
    "    else:\n",
    "        imf_reorg = imf_reorg.merge(\n",
    "            imf_sub, how=\"outer\", left_index=True, right_index=True\n",
    "        )\n",
    "\n",
    "gdp_pop_df = gdp_pop_df.merge(imf_reorg, how=\"outer\", left_index=True, right_index=True)"
   ]
  },
  {
   "cell_type": "markdown",
   "id": "a5b448af-0fbc-40ef-a3e6-191c278ca955",
   "metadata": {},
   "source": [
    "### Maddison Project Database (MPD)"
   ]
  },
  {
   "cell_type": "code",
   "execution_count": null,
   "id": "507434c7-071f-40a3-b205-33668913aabd",
   "metadata": {},
   "outputs": [],
   "source": [
    "# MPD\n",
    "mpd = pd.read_parquet(sset.DIR_YPK_INT / \"maddison_project.parquet\")\n",
    "mpd = mpd.loc[\n",
    "    mpd.index.get_level_values(\"ccode\").isin(sset.ALL_ISOS_EXTENDED), [\"gdppc\", \"pop\"]\n",
    "].rename(columns=dict(zip([\"gdppc\", \"pop\"], [\"mpd_rgdpna_pc\", \"mpd_pop\"])))\n",
    "\n",
    "# separating North Korea (PRK) and non-PRK\n",
    "mpd_no_prk = mpd.loc[mpd.index.get_level_values(\"ccode\") != \"PRK\", :].sort_index()\n",
    "mpd_prk = mpd.loc[[\"PRK\"], :].sort_index()\n",
    "\n",
    "# some minor interpolation for the case of North Korea\n",
    "mpd_prk_interped = pd.DataFrame(data={\"ccode\": [\"PRK\"] * 71, \"year\": range(1950, 2021)})\n",
    "mpd_prk_interped.set_index([\"ccode\", \"year\"], inplace=True)\n",
    "for i in [\"mpd_rgdpna_pc\", \"mpd_pop\"]:\n",
    "    i_yrs = (\n",
    "        mpd_prk.loc[~pd.isnull(mpd_prk[i]), :].index.get_level_values(\"year\").unique()\n",
    "    )\n",
    "    vals = mpd_prk.loc[(\"PRK\", i_yrs), i].values\n",
    "    interp_yrs = list(range(1950, i_yrs.max() + 1))\n",
    "    vals_interp = np.exp(np.interp(interp_yrs, i_yrs, np.log(vals)))\n",
    "    mpd_prk_interped[i] = np.nan\n",
    "    mpd_prk_interped.loc[(\"PRK\", interp_yrs), i] = vals_interp\n",
    "\n",
    "# merge\n",
    "mpd = pd.concat([mpd_no_prk, mpd_prk_interped], axis=0)\n",
    "gdp_pop_df = gdp_pop_df.join(mpd, how=\"outer\")"
   ]
  },
  {
   "cell_type": "markdown",
   "id": "8a8f4546-cc1a-467a-9cb4-1b50d631785c",
   "metadata": {},
   "source": [
    "### UN population data (UN WPP)"
   ]
  },
  {
   "cell_type": "code",
   "execution_count": null,
   "id": "0a7da224-0438-419c-b6c3-7a5e60a8db5e",
   "metadata": {},
   "outputs": [],
   "source": [
    "unpop = pd.read_parquet(\n",
    "    sset.DIR_YPK_INT / \"un_population.parquet\",\n",
    "    filters=[\n",
    "        (\"Variant\", \"==\", \"Medium\"),\n",
    "    ],\n",
    ")\n",
    "unpop = unpop.loc[\n",
    "    unpop.index.get_level_values(\"ccode\").isin(sset.ALL_ISOS_EXTENDED)\n",
    "    & (unpop.index.get_level_values(\"year\") <= 2020),\n",
    "    [\"PopTotal\"],\n",
    "].rename(columns={\"PopTotal\": \"un_pop\"})\n",
    "\n",
    "# re-organizing from thousands to millions\n",
    "unpop[\"un_pop\"] /= 1000\n",
    "\n",
    "# merging\n",
    "gdp_pop_df = gdp_pop_df.join(unpop.un_pop, how=\"outer\").sort_index()"
   ]
  },
  {
   "cell_type": "markdown",
   "id": "d5520b05-0d39-42fc-8f53-6194f7bd317b",
   "metadata": {},
   "source": [
    "### OECD regional data\n",
    "\n",
    "Among the relevant countries and regions we want to observe, only the five French overseas departments (Martinique, Mayotte, Guadeloupe, French Guiana, and La Réunion) are available in OECD regional data."
   ]
  },
  {
   "cell_type": "code",
   "execution_count": null,
   "id": "d5f03eb9-c89e-4299-8507-90d15851b5b4",
   "metadata": {},
   "outputs": [],
   "source": [
    "# mapping region names and ISO codes\n",
    "fra_regions = [\"Martinique\", \"Mayotte\", \"Guadeloupe\", \"French Guiana\", \"La Réunion\"]\n",
    "fra_isos = [\"MTQ\", \"MYT\", \"GLP\", \"GUF\", \"REU\"]\n",
    "fra_map = pd.DataFrame(data={\"Region\": fra_regions, \"ccode\": fra_isos})\n",
    "\n",
    "# reading in the OECD data for population and gdp\n",
    "regpop = pd.read_csv(sset.DIR_OECD_REGIONS_RAW / \"REGION_DEMOGR.csv\").rename(\n",
    "    columns={\"Territory Level and Typology\": \"terrtype\", \"TIME\": \"year\"}\n",
    ")\n",
    "regpop = (\n",
    "    regpop.loc[(regpop.terrtype != \"Country\") & ~pd.isnull(regpop.Value), :]\n",
    "    .merge(fra_map, on=[\"Region\"], how=\"left\")\n",
    "    .sort_values([\"ccode\", \"year\"])\n",
    "    .rename(columns={\"Value\": \"oecd_pop\"})\n",
    ")\n",
    "\n",
    "regecon = pd.read_csv(sset.DIR_OECD_REGIONS_RAW / \"REGION_ECONOM.csv\").rename(\n",
    "    columns={\"Territory Level and Typology\": \"terrtype\", \"TIME\": \"year\"}\n",
    ")\n",
    "regecon = (\n",
    "    regecon.loc[(regecon.terrtype != \"Country\") & ~pd.isnull(regecon.Value), :]\n",
    "    .merge(fra_map, on=[\"Region\"], how=\"left\")\n",
    "    .sort_values([\"ccode\", \"year\"])\n",
    "    .rename(columns={\"Value\": \"oecd_rgdpna\"})\n",
    ")"
   ]
  },
  {
   "cell_type": "code",
   "execution_count": null,
   "id": "0f222495-f877-4c98-b5d8-13da2b9aab93",
   "metadata": {},
   "outputs": [],
   "source": [
    "# subsetting for the total population information\n",
    "fra_pop_detect = regpop.loc[\n",
    "    ~pd.isnull(regpop.ccode) & (regpop.VAR == \"T\") & (regpop.Gender == \"Total\"), :\n",
    "].set_index([\"ccode\", \"year\"])\n",
    "fra_pop_detect[\"oecd_pop\"] /= 1000000\n",
    "\n",
    "# subsetting for the total GDP information\n",
    "fra_Y_detect = regecon.loc[\n",
    "    ~pd.isnull(regecon.ccode) & (regecon.MEAS == \"USD_PPP\") & (regecon.year <= 2020), :\n",
    "].set_index([\"ccode\", \"year\"])\n",
    "\n",
    "# merging with the original dataset\n",
    "gdp_pop_df = gdp_pop_df.join(\n",
    "    [fra_pop_detect.oecd_pop, fra_Y_detect.oecd_rgdpna], how=\"outer\"\n",
    ")"
   ]
  },
  {
   "cell_type": "markdown",
   "id": "41c7aa03-2b63-4e5a-ab00-98ebafaf68b3",
   "metadata": {},
   "source": [
    "### CIA World Factbook\n",
    "\n",
    "CIA information has been pre-cleaned to be in 2017 PPP USD, part of which has used extrapolation for PPP conversion rates."
   ]
  },
  {
   "cell_type": "code",
   "execution_count": null,
   "id": "2442891d-5540-40b4-bf69-2d5ddd8a3c79",
   "metadata": {},
   "outputs": [],
   "source": [
    "cia = pd.read_parquet(sset.PATH_CIA_INT)[[\"rgdpna_17\", \"rgdpna_pc_17\"]].rename(\n",
    "    columns={\"rgdpna_17\": \"cia_rgdpna\", \"rgdpna_pc_17\": \"cia_rgdpna_pc\"}\n",
    ")\n",
    "gdp_pop_df = gdp_pop_df.merge(\n",
    "    cia[[\"cia_rgdpna\", \"cia_rgdpna_pc\"]], left_index=True, right_index=True, how=\"outer\"\n",
    ")"
   ]
  },
  {
   "cell_type": "markdown",
   "id": "cfe7cdaf-068b-462c-9941-4dd265630f25",
   "metadata": {},
   "source": [
    "### UN SNA AMA information"
   ]
  },
  {
   "cell_type": "code",
   "execution_count": null,
   "id": "b83a9e04-fe4c-42d5-a8e0-f1d5d348e107",
   "metadata": {},
   "outputs": [],
   "source": [
    "# matching country/region names and country/region codes\n",
    "wb_country_matching = (\n",
    "    wb_wdi[[\"country\"]].reset_index()[[\"country\", \"ccode\"]].drop_duplicates()\n",
    ")\n",
    "\n",
    "un_country_dict_additional = [\n",
    "    [\"Anguilla\", \"AIA\"],\n",
    "    [\"Bolivia (Plurinational State of)\", \"BOL\"],\n",
    "    [\"China, Hong Kong SAR\", \"HKG\"],\n",
    "    [\"China, Macao Special Administrative Region\", \"MAC\"],\n",
    "    [\"China, People's Republic of\", \"CHN\"],\n",
    "    [\"Congo\", \"COG\"],\n",
    "    [\"Cook Islands\", \"COK\"],\n",
    "    [\"Curaçao\", \"CUW\"],\n",
    "    [\"Czechia\", \"CZE\"],\n",
    "    [\"Côte d'Ivoire\", \"CIV\"],\n",
    "    [\"Democratic People's Republic of Korea\", \"PRK\"],\n",
    "    [\"Democratic Republic of the Congo\", \"COD\"],\n",
    "    [\"Egypt\", \"EGY\"],\n",
    "    [\"Gambia\", \"GMB\"],\n",
    "    [\"Iran, Islamic Republic of\", \"IRN\"],\n",
    "    [\"Kingdom of Eswatini\", \"SWZ\"],\n",
    "    [\"Kyrgyzstan\", \"KGZ\"],\n",
    "    [\"Lao People's Democratic Republic\", \"LAO\"],\n",
    "    [\"Micronesia (Federated States of)\", \"FSM\"],\n",
    "    [\"Montserrat\", \"MSR\"],\n",
    "    [\"Republic of Korea\", \"KOR\"],\n",
    "    [\"Republic of Moldova\", \"MDA\"],\n",
    "    [\"Republic of North Macedonia\", \"MKD\"],\n",
    "    [\"Saint Kitts and Nevis\", \"KNA\"],\n",
    "    [\"Saint Lucia\", \"LCA\"],\n",
    "    [\"Saint Vincent and the Grenadines\", \"VCT\"],\n",
    "    [\"Slovakia\", \"SVK\"],\n",
    "    [\"State of Palestine\", \"PSE\"],\n",
    "    [\"Venezuela (Bolivarian Republic of)\", \"VEN\"],\n",
    "    [\"Viet Nam\", \"VNM\"],\n",
    "    [\"Yemen\", \"YEM\"],\n",
    "    [\"United Kingdom of Great Britain and Northern Ireland\", \"GBR\"],\n",
    "]\n",
    "\n",
    "country_matching_additional = pd.concat(\n",
    "    [\n",
    "        wb_country_matching,\n",
    "        pd.DataFrame(un_country_dict_additional, columns=[\"country\", \"ccode\"]),\n",
    "    ],\n",
    "    axis=0,\n",
    ").reset_index(drop=True)"
   ]
  },
  {
   "cell_type": "code",
   "execution_count": null,
   "id": "2f695bc5-e894-4241-9dc0-361c0916be78",
   "metadata": {},
   "outputs": [],
   "source": [
    "UN_NOM_y = pd.read_csv(sset.DIR_UN_AMA_RAW / \"un_snaama_nom_gdppc.csv\").rename(\n",
    "    columns={\n",
    "        \"Country/Area\": \"country\",\n",
    "        \"Year\": \"year\",\n",
    "        \"GDP, Per Capita GDP - US Dollars\": \"un_nom_gdppc\",\n",
    "    }\n",
    ")\n",
    "UN_NOM_y.drop([\"Unit\"], axis=1, inplace=True)\n",
    "UN_NOM_y = UN_NOM_y.merge(wb_country_matching, on=[\"country\"], how=\"left\")\n",
    "UN_NOM_y = UN_NOM_y.loc[~pd.isnull(UN_NOM_y.ccode), :]\n",
    "UN_NOM_y = UN_NOM_y.set_index([\"ccode\", \"year\"]).drop([\"country\"], axis=1).un_nom_gdppc\n",
    "gdp_pop_df = gdp_pop_df.join(UN_NOM_y, how=\"outer\")\n",
    "gdp_pop_df.sort_index(inplace=True)"
   ]
  },
  {
   "cell_type": "markdown",
   "id": "d005a3ed-31cf-48a1-92a8-43cecdb03a16",
   "metadata": {
    "tags": []
   },
   "source": [
    "### Information from various disaggregated sources, for smaller regions, territories and countries\n",
    "\n",
    "This includes national account reports and approximations from organizational reports or academic papers.\n",
    "\n",
    "#### Åland Islands (`ALA`; GDP per capita and population)\n",
    "\n",
    "- GDP per capita: information available from Statistics and Research Åland (link [here](https://www.asub.ax/en/statistics/national-accounts/gross-domestic-product), see the link \"GDP per capita 1995-2018 in current prices, PPS euro\"). Since this is in PPP Euro (or Finnish Purchasing Power Standard exchange rate), we will use the nominal Euro-to-USD converision to clean this assuming that these are current PPP.\n",
    "- Population: information available from Statistics and Research Åland (link [here](https://www.asub.ax/en/statistics/population/size-and-structure-population), see the link \"Åland, the Faroe Islands and Greenland\". This is in ones of people, so we divide by 1 million to keep the population in millions of people."
   ]
  },
  {
   "cell_type": "code",
   "execution_count": null,
   "id": "7359dad2-96f4-4d8a-93f1-38b798b3f7df",
   "metadata": {},
   "outputs": [],
   "source": [
    "# aland islands information, GDP\n",
    "ala_gdp = (\n",
    "    pd.read_excel(sset.DIR_ALAND_STATISTICS_RAW / \"aland_gdp.xlsx\")\n",
    "    .rename(columns={\"Unnamed: 0\": \"country\"})\n",
    "    .set_index([\"country\"])\n",
    ")\n",
    "ala_years = ala_gdp.columns.values\n",
    "ala_95_18_cgdpo_pc = ala_gdp.loc[\"Åland\", :]\n",
    "\n",
    "# exchange rate; EMU only has down to 1999, so for convenience's sake\n",
    "# for 1995-1998, we will use 1999 rates\n",
    "wdi_xrate = (\n",
    "    pd.read_parquet(sset.DIR_WB_WDI_RAW / \"wdi_xr.parquet\")\n",
    "    .loc[(\"EMU\", list(range(1999, ala_years.max() + 1))), \"xrate\"]\n",
    "    .values\n",
    ")\n",
    "ala_xrate = np.hstack([[wdi_xrate[0]] * (1999 - ala_years.min()), wdi_xrate])\n",
    "ala_95_18_cgdpo_pc = ala_95_18_cgdpo_pc * ala_xrate\n",
    "\n",
    "# creating the Aland islands column for cgdpo_pc\n",
    "ala = (\n",
    "    (gdp_pop_df.loc[pd.IndexSlice[\"FIN\", 1950:], \"cgdpo\"].copy() * np.nan)\n",
    "    .rename(\"ala_cgdpo_pc\")\n",
    "    .reset_index()\n",
    ")\n",
    "ala[\"ccode\"] = \"ALA\"\n",
    "ala = ala.set_index([\"ccode\", \"year\"]).ala_cgdpo_pc\n",
    "ala.loc[\"ALA\", list(ala_years)] = ala_95_18_cgdpo_pc.values\n",
    "\n",
    "# aland islands information, population\n",
    "ala_pop_link = (\n",
    "    \"https://www.asub.ax/sites/www.asub.ax/files/attachments/page/alv01_aland_faroe\"\n",
    "    \"_islands_and_greenland_-_an_overview_with_comparable_data.xlsx\"\n",
    ")\n",
    "ala_pop = pd.read_excel(sset.DIR_ALAND_STATISTICS_RAW / \"aland_pop.xlsx\").rename(\n",
    "    columns={\"Unnamed: 0\": \"category\"}\n",
    ")\n",
    "ala_pop_00_20 = ala_pop.iloc[1].values[1:-1]\n",
    "ala_pop = (\n",
    "    (gdp_pop_df.loc[pd.IndexSlice[\"FIN\", 1950:], \"pop\"].copy() * np.nan)\n",
    "    .rename(\"ala_pop\")\n",
    "    .reset_index()\n",
    ")\n",
    "ala_pop[\"ccode\"] = \"ALA\"\n",
    "ala_pop = ala_pop.set_index([\"ccode\", \"year\"]).ala_pop\n",
    "ala_pop.loc[\"ALA\", list(range(2000, 2021))] = ala_pop_00_20 / 1000000\n",
    "\n",
    "# merging all\n",
    "gdp_pop_df = gdp_pop_df.join(ala, how=\"outer\")\n",
    "gdp_pop_df = gdp_pop_df.join(ala_pop, how=\"outer\")\n",
    "gdp_pop_df.sort_index(inplace=True)"
   ]
  },
  {
   "cell_type": "markdown",
   "id": "f7470549-9075-4b17-a110-789c60f88336",
   "metadata": {
    "tags": []
   },
   "source": [
    "#### Norfolk Island (`NFK`)\n",
    "\n",
    "- GDP: GDPpc as a percentage of the Australian level for the years 1951-52 are shown in [Treadgold (Asia Pacific Viewpoint, 1999)](https://doi.org/10.1111/1467-8373.00095) and similar percentage for 1995-96 are shown in [Treadgold (Pacific Economic Bulletin, 1998)](https://openresearch-repository.anu.edu.au/handle/1885/157535).\n",
    "- Population: The Australian Census has information for Norfolk in the years 2001, 2011, and 2016: www.infrastructure.gov.au/territories-regions-cities/territories/norfolk-island"
   ]
  },
  {
   "cell_type": "code",
   "execution_count": null,
   "id": "a142f948-0112-411a-8a0f-fb155117734e",
   "metadata": {},
   "outputs": [],
   "source": [
    "# population\n",
    "nfk = (\n",
    "    (gdp_pop_df.loc[pd.IndexSlice[\"AUS\", 1950:], \"un_pop\"].copy() * np.nan)\n",
    "    .rename(\"aus_census_pop\")\n",
    "    .reset_index()\n",
    ")\n",
    "nfk[\"ccode\"] = \"NFK\"\n",
    "nfk = nfk.set_index([\"ccode\", \"year\"]).aus_census_pop\n",
    "nfk.loc[\"NFK\", [2001, 2011, 2016]] = np.array([2601, 1796, 1748]) / 1000000\n",
    "gdp_pop_df = gdp_pop_df.join(nfk, how=\"outer\")\n",
    "\n",
    "# GDP\n",
    "nfk_gdp = (\n",
    "    (gdp_pop_df.loc[pd.IndexSlice[\"AUS\", 1950:], \"rgdpna\"].copy() * np.nan)\n",
    "    .rename(\"treadgold_rgdpna_pc\")\n",
    "    .reset_index()\n",
    ")\n",
    "nfk_gdp[\"ccode\"] = \"NFK\"\n",
    "nfk_cgdpo = nfk_gdp.copy().rename(columns={\"treadgold_rgdpna_pc\": \"treadgold_cgdpo_pc\"})\n",
    "\n",
    "# getting the Australian GDPpc\n",
    "nfk_yrs = [1951, 1952, 1995, 1996]\n",
    "nfk_ratios = np.array([0.39, 0.39, 1.12, 1.12])\n",
    "nfk_rgdpna_pc = (\n",
    "    gdp_pop_df.loc[pd.IndexSlice[\"AUS\", nfk_yrs], \"rgdpna\"].values\n",
    "    / gdp_pop_df.loc[pd.IndexSlice[\"AUS\", nfk_yrs], \"pop\"].values\n",
    "    * nfk_ratios\n",
    ")\n",
    "nfk_gdp = nfk_gdp.set_index([\"ccode\", \"year\"]).treadgold_rgdpna_pc\n",
    "nfk_gdp.loc[\"NFK\", nfk_yrs] = nfk_rgdpna_pc\n",
    "gdp_pop_df = gdp_pop_df.join(nfk_gdp, how=\"outer\")\n",
    "\n",
    "nfk_cgdpo_pc = (\n",
    "    gdp_pop_df.loc[pd.IndexSlice[\"AUS\", nfk_yrs], \"cgdpo\"].values\n",
    "    / gdp_pop_df.loc[pd.IndexSlice[\"AUS\", nfk_yrs], \"pop\"].values\n",
    "    * nfk_ratios\n",
    ")\n",
    "nfk_cgdpo = nfk_cgdpo.set_index([\"ccode\", \"year\"]).treadgold_cgdpo_pc\n",
    "nfk_cgdpo.loc[\"NFK\", nfk_yrs] = nfk_cgdpo_pc\n",
    "gdp_pop_df = gdp_pop_df.join(nfk_cgdpo, how=\"outer\")"
   ]
  },
  {
   "cell_type": "markdown",
   "id": "d988bec2-a804-4cf8-a84c-8c53df4c39cd",
   "metadata": {
    "tags": []
   },
   "source": [
    "#### Cocos (Keeling) Islands (`CCK`)\n",
    "\n",
    "- GDP: Information available from the House of Representative Committees of Parliament of Australia (link [here](https://www.aph.gov.au/parliamentary_business/committees/House_of_Representatives_Committees?url=ncet/economicenvironment/report/index.htm)). Please see **Chapter 3 The economic environment of the Indian Ocean Territories** page 23; the units are in Australian dollars (nominal), and the value corresponds to 2010's GDP.\n",
    "- Population: from the Australian Bureau of Statistics (ABS); information for [2016](https://quickstats.censusdata.abs.gov.au/census_services/getproduct/census/2016/quickstat/90102), [2011](https://quickstats.censusdata.abs.gov.au/census_services/getproduct/census/2011/quickstat/90102?opendocument), [2006](https://quickstats.censusdata.abs.gov.au/census_services/getproduct/census/2006/quickstat/910053009?opendocument), and [2001](https://quickstats.censusdata.abs.gov.au/census_services/getproduct/census/2001/quickstat/910053009?opendocument) available from the ABS Quickstat pages"
   ]
  },
  {
   "cell_type": "code",
   "execution_count": null,
   "id": "c3eb5aa9-cf97-4dbe-9fec-eb4760f74f32",
   "metadata": {},
   "outputs": [],
   "source": [
    "# GDP\n",
    "cck_gdp = (\n",
    "    (gdp_pop_df.loc[pd.IndexSlice[\"AUS\", 1950:], \"rgdpna\"].copy() * np.nan)\n",
    "    .rename(\"aus_census_nom_gdp\")\n",
    "    .reset_index()\n",
    ")\n",
    "cck_gdp[\"ccode\"] = \"CCK\"\n",
    "cck_gdp = cck_gdp.set_index([\"ccode\", \"year\"]).aus_census_nom_gdp\n",
    "cck_gdp.loc[\"CCK\", [2010]] = (15000000 / 1000000) * pd.read_parquet(\n",
    "    sset.DIR_WB_WDI_RAW / \"wdi_xr.parquet\"\n",
    ").loc[(\"AUS\", [2010]), \"xrate\"].values\n",
    "\n",
    "gdp_pop_df = gdp_pop_df.join(cck_gdp, how=\"outer\")\n",
    "\n",
    "# population\n",
    "gdp_pop_df.loc[(\"CCK\", [2001, 2006, 2011, 2016]), \"aus_census_pop\"] = (\n",
    "    np.array([621, 572, 550, 544]) / 1000000\n",
    ")\n",
    "gdp_pop_df.sort_index(inplace=True)"
   ]
  },
  {
   "cell_type": "markdown",
   "id": "55f78a73-023c-48ce-81df-7510ecf88d98",
   "metadata": {},
   "source": [
    "#### Christmas Island (`CXR`)\n",
    "- GDP: Information available from the House of Representative Committees of Parliament of Australia (link [here](https://www.aph.gov.au/parliamentary_business/committees/House_of_Representatives_Committees?url=ncet/economicenvironment/report/index.htm)). Please see **Chapter 3 The economic environment of the Indian Ocean Territories** page 23; the units are in Australian dollars (nominal), and the value corresponds to 2010's GDP.\n",
    "- Population: from the Australian Bureau of Statistics (ABS); information for [2016](https://quickstats.censusdata.abs.gov.au/census_services/getproduct/census/2016/quickstat/90101?opendocument), [2011](https://quickstats.censusdata.abs.gov.au/census_services/getproduct/census/2011/quickstat/910052009?opendocument), [2006](https://quickstats.censusdata.abs.gov.au/census_services/getproduct/census/2006/quickstat/910052009?opendocument&navpos=220), and [2001](https://quickstats.censusdata.abs.gov.au/census_services/getproduct/census/2001/quickstat/910052009?opendocument&navpos=220) available from the ABS Quickstat pages"
   ]
  },
  {
   "cell_type": "code",
   "execution_count": null,
   "id": "c93edf40-a139-4ccb-9a6d-35d65f77af45",
   "metadata": {},
   "outputs": [],
   "source": [
    "# population\n",
    "cxr_gdp_pop = gdp_pop_df.loc[[\"CCK\"]].reset_index()\n",
    "cxr_gdp_pop[\"ccode\"] = \"CXR\"\n",
    "cxr_gdp_pop.set_index([\"ccode\", \"year\"], inplace=True)\n",
    "cxr_gdp_pop.loc[(\"CXR\", [2001, 2006, 2011, 2016]), \"aus_census_pop\"] = (\n",
    "    np.array([1446, 1349, 2072, 1843]) / 1000000\n",
    ")\n",
    "\n",
    "# GDP\n",
    "xrate_val = (\n",
    "    pd.read_parquet(sset.DIR_WB_WDI_RAW / \"wdi_xr.parquet\")\n",
    "    .loc[(\"AUS\", 2010), \"xrate\"]\n",
    "    .values[0]\n",
    ")\n",
    "cxr_gdp_pop.loc[(\"CXR\", 2010), \"aus_census_nom_gdp\"] = xrate_val * 71000000 / 1000000\n",
    "\n",
    "# merging\n",
    "gdp_pop_df = pd.concat([gdp_pop_df, cxr_gdp_pop], axis=0).sort_index()"
   ]
  },
  {
   "cell_type": "markdown",
   "id": "20aa0c69-7d20-4bd8-aa68-2e31d7ee8234",
   "metadata": {},
   "source": [
    "#### Pitcairn Island (`PCN`)\n",
    "\n",
    "- GDP: estimate of approximately 217,000 New Zealand dollars (from [this link](https://web.archive.org/web/20150705134639/http://www.government.pn/policies/Pitcairn%20Island%20SDP%202012-2016.pdf#page=4) for a WayBackMachine Archive of the Government of Pitcairn's \"Pitcairn Islands Strategic Development Plan\")\n",
    "- Population: from the Pitcairn Island [government website](http://www.immigration.gov.pn/community/the_people/index.html), 233 people in 1937 and 49 people in 2017. Also, according to CIA World Factbook ([link here](https://www.cia.gov/the-world-factbook/countries/pitcairn-islands/#people-and-society)), its population was 50 in 2021 (will interpolate and round up to whole numbers)."
   ]
  },
  {
   "cell_type": "code",
   "execution_count": null,
   "id": "a4948806-11d6-4237-a9f7-e5698707d467",
   "metadata": {},
   "outputs": [],
   "source": [
    "# Pitcairn islands population\n",
    "pcn_50_20 = np.round(\n",
    "    np.exp(\n",
    "        np.interp(list(range(1950, 2021)), [1937, 2017, 2021], np.log([233, 49, 50]))\n",
    "    ),\n",
    "    0,\n",
    ")\n",
    "pcn_gdp = (\n",
    "    (gdp_pop_df.loc[pd.IndexSlice[\"NZL\", 1950:], \"pop\"].copy() * np.nan)\n",
    "    .rename(\"pcn_pop\")\n",
    "    .reset_index()\n",
    ")\n",
    "pcn_gdp[\"ccode\"] = \"PCN\"\n",
    "pcn_pop = pcn_gdp.copy()\n",
    "pcn_pop = pcn_pop.set_index([\"ccode\", \"year\"]).pcn_pop\n",
    "pcn_pop.loc[\"PCN\", list(range(1950, 2021))] = pcn_50_20 / 1000000\n",
    "\n",
    "# Pitcairn GDP\n",
    "pcn_gdp.rename(columns={\"pcn_pop\": \"pcn_nom_gdp\"}, inplace=True)\n",
    "pcn_gdp = pcn_gdp.set_index([\"ccode\", \"year\"]).pcn_nom_gdp\n",
    "wdi_xrate = (\n",
    "    pd.read_parquet(sset.DIR_WB_WDI_RAW / \"wdi_xr.parquet\")\n",
    "    .loc[(\"NZL\", 2006), \"xrate\"]\n",
    "    .values[0]\n",
    ")\n",
    "pcn_gdp.loc[\"PCN\", 2006] = (217000 / 1000000) * wdi_xrate\n",
    "\n",
    "# merging all\n",
    "gdp_pop_df = gdp_pop_df.join(pcn_pop, how=\"outer\")\n",
    "gdp_pop_df = gdp_pop_df.join(pcn_gdp, how=\"outer\")\n",
    "gdp_pop_df.sort_index(inplace=True)"
   ]
  },
  {
   "cell_type": "markdown",
   "id": "03150de2-40b1-4c60-9e97-3129d93a00e7",
   "metadata": {},
   "source": [
    "#### Svalbard and Jan Mayen (`SJM`)\n",
    "\n",
    "Jan Mayen is uninhabited, but Svalbard has population and economic activity.\n",
    "- GDP: Unfortunately, we will have to use the GDP per capita of Norway itself as we do not have a reliable GDP estimate of Svalbard and `SJM` is a part of Norway.\n",
    "- Population: From the Statistikkbanken (Statistics Norway, link [here](https://www.ssb.no/en/statbank/table/07429)), select all half years (2009-2021)."
   ]
  },
  {
   "cell_type": "code",
   "execution_count": null,
   "id": "7d8a7ba3-19ab-48d2-88bd-e3c3d408f837",
   "metadata": {},
   "outputs": [],
   "source": [
    "## svalbard and jan maarten (no population for jan mayen)\n",
    "h1 = [2085, 2052, 2017, 2115, 2158, 2100, 2185, 2152, 2145, 2214, 2258, 2428]\n",
    "h2 = [2140, 2071, 2140, 2195, 2195, 2118, 2189, 2162, 2210, 2310, 2379, 2417]\n",
    "sjm_pop_09_20 = np.round((np.array(h1) + np.array(h2)) / 2, 0) / 1000000\n",
    "sjm_pop = (\n",
    "    (gdp_pop_df.loc[pd.IndexSlice[\"NOR\", 1950:], \"pop\"].copy() * np.nan)\n",
    "    .rename(\"nor_census_pop\")\n",
    "    .reset_index()\n",
    ")\n",
    "sjm_pop[\"ccode\"] = \"SJM\"\n",
    "sjm_pop = sjm_pop.set_index([\"ccode\", \"year\"]).nor_census_pop\n",
    "sjm_pop.loc[\"SJM\", list(range(2009, 2021))] = sjm_pop_09_20\n",
    "\n",
    "# merging all\n",
    "gdp_pop_df = gdp_pop_df.join(sjm_pop, how=\"outer\")\n",
    "gdp_pop_df.sort_index(inplace=True)"
   ]
  },
  {
   "cell_type": "markdown",
   "id": "34144b4b-a40c-450b-b77a-5b4fcfd5817d",
   "metadata": {},
   "source": [
    "#### Saint Helena, Ascension and Tristan da Cunha (`SHN`)\n",
    "\n",
    "We have data from the [St. Helena Government](https://www.sainthelena.gov.sh/wp-content/uploads/2020/07/SEDP-EOY-Progress-Report-Final-160720.pdf) about the estimated GDP per capita (in 2019 prices, non-PPP) of 2018 and 2019. We will combine this later (by comparing ratios with the UK GDP) to get the approximate GDP per capita values in PPP.\n",
    "- Note that this is *not* the average GDPpc of Saint Helena, Ascension and Tristan da Cunha but rather just Saint Helena (so we are using Saint Helena to proxy for the three areas, which are represented by the country-code `SHN`)."
   ]
  },
  {
   "cell_type": "code",
   "execution_count": null,
   "id": "27600ef8-3547-4478-be9e-0fcca7c7538a",
   "metadata": {},
   "outputs": [],
   "source": [
    "wdi_xrate = (\n",
    "    pd.read_parquet(sset.DIR_WB_WDI_RAW / \"wdi_xr.parquet\")\n",
    "    .loc[(\"GBR\", [2018, 2019]), \"xrate\"]\n",
    "    .values\n",
    ")\n",
    "shn = (\n",
    "    (gdp_pop_df.loc[pd.IndexSlice[\"GBR\", 1950:], \"rgdpna\"].copy() * np.nan)\n",
    "    .rename(\"shn_gov_gdppc\")\n",
    "    .reset_index()\n",
    ")\n",
    "shn[\"ccode\"] = \"SHN\"\n",
    "shn = shn.set_index([\"ccode\", \"year\"]).shn_gov_gdppc\n",
    "shn.loc[\"SHN\", [2018, 2019]] = np.array([8490, 8230]) * wdi_xrate\n",
    "\n",
    "# merging all\n",
    "gdp_pop_df = gdp_pop_df.join(shn, how=\"outer\")\n",
    "gdp_pop_df.sort_index(inplace=True)"
   ]
  },
  {
   "cell_type": "markdown",
   "id": "bad0c87a-bd6f-4b79-ae7e-a091125d96a4",
   "metadata": {},
   "source": [
    "#### Saint Barthélemy (`BLM`)\n",
    "\n",
    "Saint Barthélemy's 2010 and 1999 (nominal) GDP per capita shown in the CEROM document: [link here](https://www.cerom-outremer.fr/guadeloupe/publications/etudes-cerom/estimation-du-pib-par-habitant-de-st-barthelemy.html)."
   ]
  },
  {
   "cell_type": "code",
   "execution_count": null,
   "id": "486ae6c9-0db2-4afb-83d0-60c6b2e3064d",
   "metadata": {},
   "outputs": [],
   "source": [
    "blm = (\n",
    "    (gdp_pop_df.loc[pd.IndexSlice[\"GBR\", 1950:], \"rgdpna\"].copy() * np.nan)\n",
    "    .rename(\"cerom_gdppc\")\n",
    "    .reset_index()\n",
    ")\n",
    "blm[\"ccode\"] = \"BLM\"\n",
    "blm = blm.set_index([\"ccode\", \"year\"]).cerom_gdppc\n",
    "wdi_xrate = (\n",
    "    pd.read_parquet(sset.DIR_WB_WDI_RAW / \"wdi_xr.parquet\")\n",
    "    .loc[(\"EMU\", [1999, 2010]), \"xrate\"]\n",
    "    .values\n",
    ")\n",
    "blm.loc[\"BLM\", [1999, 2010]] = np.array([26000, 35700]) * wdi_xrate\n",
    "\n",
    "# merging all\n",
    "gdp_pop_df = gdp_pop_df.join(blm, how=\"outer\")\n",
    "gdp_pop_df.sort_index(inplace=True)"
   ]
  },
  {
   "cell_type": "markdown",
   "id": "b013433d-6321-4c6e-9146-587445eb1baa",
   "metadata": {},
   "source": [
    "#### United States Minor Outlying Islands (`UMI`)\n",
    "\n",
    "- Population: from the U.S. Census ([link here](https://www.census.gov/history/pdf/2000-minoroutlyingislands.pdf)), years 1980, 1990, 2000\n",
    "- GDP: will use GDPpc from `MNP` (Northern Mariana Islands)"
   ]
  },
  {
   "cell_type": "code",
   "execution_count": null,
   "id": "79322cb4-5716-40bc-a2bd-41a8887ede64",
   "metadata": {
    "tags": []
   },
   "outputs": [],
   "source": [
    "# US Minor Outlying Islands\n",
    "umi_gdp = (\n",
    "    (gdp_pop_df.loc[pd.IndexSlice[\"USA\", 1950:], \"pop\"].copy() * np.nan)\n",
    "    .rename(\"us_census_pop\")\n",
    "    .reset_index()\n",
    ")\n",
    "umi_gdp[\"ccode\"] = \"UMI\"\n",
    "umi_gdp = umi_gdp.set_index([\"ccode\", \"year\"]).us_census_pop\n",
    "umi_gdp.loc[\"UMI\", [1980, 1990, 2000]] = np.array([1082, 193, 316]) / 1000000\n",
    "\n",
    "# merging all\n",
    "gdp_pop_df = gdp_pop_df.join(umi_gdp, how=\"outer\")\n",
    "gdp_pop_df.sort_index(inplace=True)"
   ]
  },
  {
   "cell_type": "markdown",
   "id": "d6f8058b-f7f7-4ff8-8ae0-51166566dbce",
   "metadata": {},
   "source": [
    "### Uninhabited areas (no population and no economic activity)\n",
    "\n",
    "These are: the French Southern and Antarctic Lands (`ATF`), Bouvet Island (`BVT`), Clipperton Island (`Cl-`), Heard and McDonald Islands (`HMD`), British Indian Ocean Territory (`IOT`), South Georgia and the South Sandwich Islands (`SGS`).\n",
    "- `ATF`: According to the CIA World Factbook website (link [here](https://www.cia.gov/the-world-factbook/countries/french-southern-and-antarctic-lands/)), `ATF` does not have permanent population and therefore we will record this as having no population and no economic activity.\n",
    "- `BVT`: uninhabited to protect nature reserve\n",
    "- `CL-`: is an atoll with no permanent inhabitants since 1945.\n",
    "- `HMD`: is an Australian external territory near Antarctica.\n",
    "- `IOT`: is mostly composed of U.S.-U.K. military facilities with no permanent population.\n",
    "- `SGS`: is uninhabited"
   ]
  },
  {
   "cell_type": "code",
   "execution_count": null,
   "id": "0c6d7863-b1bb-4a54-bd3d-23f63f21c1c3",
   "metadata": {},
   "outputs": [],
   "source": [
    "# assigning 0 population and 0 GDP\n",
    "atf_pop = (\n",
    "    (gdp_pop_df.loc[pd.IndexSlice[\"FRA\", 1950:], \"pop\"].copy() * np.nan)\n",
    "    .rename(\"noecon_pop\")\n",
    "    .reset_index()\n",
    ")\n",
    "atf_pop[\"ccode\"], atf_pop[\"atf_pop\"] = \"ATF\", 0\n",
    "atf_pop.set_index([\"ccode\", \"year\"], inplace=True)\n",
    "atf_gdp = atf_pop.copy().rename(columns={\"noecon_pop\": \"noecon_rgdpna\"})\n",
    "atf_pop, atf_gdp = atf_pop.noecon_pop, atf_gdp.noecon_rgdpna\n",
    "\n",
    "# merging all\n",
    "gdp_pop_df = gdp_pop_df.join(atf_pop, how=\"outer\")\n",
    "gdp_pop_df = gdp_pop_df.join(atf_gdp, how=\"outer\")"
   ]
  },
  {
   "cell_type": "code",
   "execution_count": null,
   "id": "c01b354f-8ca5-4038-8cad-bd6773beb13a",
   "metadata": {},
   "outputs": [],
   "source": [
    "# Attaching the other uninhabited areas' information\n",
    "for i in np.setdiff1d(sset.UNINHABITED_ISOS, [\"ATF\"]):\n",
    "    i_df = gdp_pop_df.loc[([\"ATF\"], slice(None)), :].reset_index()\n",
    "    i_df[\"ccode\"] = i\n",
    "    i_df.set_index([\"ccode\", \"year\"], inplace=True)\n",
    "    gdp_pop_df = pd.concat([gdp_pop_df, i_df], axis=0)\n",
    "gdp_pop_df.sort_index(inplace=True)"
   ]
  },
  {
   "cell_type": "markdown",
   "id": "6e03a7c0-1784-4e5c-ac8a-2ff044a4080c",
   "metadata": {},
   "source": [
    "### Exporting the intermediate result"
   ]
  },
  {
   "cell_type": "code",
   "execution_count": null,
   "id": "e77e0021-692c-4153-ab55-a3bc436ec854",
   "metadata": {},
   "outputs": [],
   "source": [
    "# NE.GDI.FTOT.ZS: Gross fixed cap. formation rate in WB WDI; will be dealt with later\n",
    "col_to_drop = np.intersect1d(gdp_pop_df.columns, [\"country\", \"NE.GDI.FTOT.ZS\"])\n",
    "if len(col_to_drop) > 0:\n",
    "    gdp_pop_df.drop(col_to_drop, axis=1, inplace=True)\n",
    "\n",
    "gdp_pop_df.to_parquet(sset.DIR_YPK_RAW / \"gdp_gdppc_pop_raw_multiple_sources.parquet\")"
   ]
  },
  {
   "cell_type": "markdown",
   "id": "974df6fe-3f7b-469a-8c99-67e5ce35b9d5",
   "metadata": {},
   "source": [
    "## Historical population (1950-2019), creating a single sequence\n",
    "\n",
    "Before we go on further, note that when we refer to country-level population for those with overseas territories, it excludes the population of such territories (e.g., `USA` population noted below does not include `PRI` [Puerto Rico]). One big exception is that `FRA` (France) from PWT actually includes the following territories or \"overseas region\" into its population value calculation: `GLP`, `MYT`, `MTQ`, `GUF`, and `REU`. So we will actually use the `FRA+OV` designation for PWT variables and clean up along the way so that `FRA` only represents mainland France.\n",
    "\n",
    "### Re-reading in the raw-organized data\n",
    "\n",
    "If worried about memory issues (due to reasons outside of this notebook), restart the kernel, run the first and second cells, and run the following cells."
   ]
  },
  {
   "cell_type": "code",
   "execution_count": null,
   "id": "18ace68c-6493-4b15-8570-ce7b74b5cf0f",
   "metadata": {},
   "outputs": [],
   "source": [
    "gp_df = pd.read_parquet(sset.DIR_YPK_RAW / \"gdp_gdppc_pop_raw_multiple_sources.parquet\")\n",
    "fraov = gp_df.loc[(\"FRA\", slice(None)), [\"pop\", \"cgdpo\", \"rgdpna\", \"rgdpo\"]]\n",
    "fraov.reset_index(inplace=True)\n",
    "fraov[\"ccode\"] = \"FRA+OV\"\n",
    "gp_df = pd.concat([gp_df, fraov.set_index([\"ccode\", \"year\"])], axis=0)\n",
    "\n",
    "# just setting apart the population data\n",
    "popraw_df = gp_df.loc[:, [x for x in gp_df.columns if \"pop\" in x]]"
   ]
  },
  {
   "cell_type": "markdown",
   "id": "43ad56e9-0fea-413e-a48d-34ef9331cf41",
   "metadata": {},
   "source": [
    "### Cleaning for the uninhabited areas"
   ]
  },
  {
   "cell_type": "code",
   "execution_count": null,
   "id": "1250231e-200e-485c-8050-6d3d3bcce349",
   "metadata": {
    "tags": []
   },
   "outputs": [],
   "source": [
    "# `inh` for inhabited\n",
    "pop_uninh = popraw_df.loc[sset.UNINHABITED_ISOS, :].sort_index()\n",
    "pop_uninh[\"pop\"] = 0\n",
    "pop_uninh[\"pop_source\"] = \"uninhabited\"\n",
    "pop_uninh[\"pop_unit\"] = \"millions (of people)\"\n",
    "pop_uninh = pop_uninh[[\"pop_unit\", \"pop_source\", \"pop\"]]\n",
    "pop_inh = popraw_df.loc[\n",
    "    ~popraw_df.index.get_level_values(\"ccode\").isin(sset.UNINHABITED_ISOS), :\n",
    "].sort_index()"
   ]
  },
  {
   "cell_type": "markdown",
   "id": "5f834e8e-eda8-46d4-bb7e-6d4b86ee9498",
   "metadata": {
    "tags": []
   },
   "source": [
    "### Cleaning for Serbia and Kosovo\n",
    "\n",
    "It has been noted that Kosovo's population was included in the Serbian population from UN (for all times) and that from PWT (before 1999). We do have the Kosovan population from World Bank (1960-2020) so we will subtract this from the Serbian population, and for 1950-1959, we will use the mean ratio between Kosovo and Serbia."
   ]
  },
  {
   "cell_type": "code",
   "execution_count": null,
   "id": "9db3eb7b-03f8-4473-884c-ce7f3ce094f4",
   "metadata": {},
   "outputs": [],
   "source": [
    "# 1960-2020\n",
    "kosovo_pop = pop_inh.loc[\"KO-\", \"wb_pop\"]\n",
    "kosovo_yrs = kosovo_pop.index.values\n",
    "pop_inh.loc[(\"SRB\", kosovo_yrs), \"pop\"] = (\n",
    "    pop_inh.loc[(\"SRB\", kosovo_yrs), \"un_pop\"].values - kosovo_pop.values\n",
    ")\n",
    "srb_ko_pop = pop_inh.loc[[\"SRB\"], [\"pop\"]].sort_index()\n",
    "ko_pop = srb_ko_pop.reset_index()\n",
    "ko_pop[\"ccode\"], ko_pop[\"pop\"] = \"KO-\", np.nan\n",
    "srb_ko_pop = pd.concat(\n",
    "    [srb_ko_pop, ko_pop.set_index([\"ccode\", \"year\"])], axis=0\n",
    ").sort_index()\n",
    "srb_ko_pop.loc[(\"KO-\", kosovo_yrs), \"pop\"] = kosovo_pop.values\n",
    "\n",
    "# taking care of the 1950-1959 (mean ratio of KO- to KO- + SRB)\n",
    "ratio = (kosovo_pop.values / pop_inh.loc[(\"SRB\", kosovo_yrs), \"un_pop\"].values).mean()\n",
    "pre_kosovo_yrs = np.sort(\n",
    "    np.setdiff1d(srb_ko_pop.index.get_level_values(\"year\").unique(), kosovo_yrs)\n",
    ")\n",
    "kosovo_pre_pop = pop_inh.loc[(\"SRB\", pre_kosovo_yrs), \"un_pop\"].values * ratio\n",
    "srb_ko_pop.loc[(\"SRB\", pre_kosovo_yrs), \"pop\"] = (\n",
    "    pop_inh.loc[(\"SRB\", pre_kosovo_yrs), \"un_pop\"].values - kosovo_pre_pop\n",
    ")\n",
    "srb_ko_pop.loc[(\"KO-\", pre_kosovo_yrs), \"pop\"] = kosovo_pre_pop\n",
    "srb_ko_pop[\"pop_unit\"] = \"millions (of people)\"\n",
    "srb_ko_pop[\"pop_source\"] = \"UN_SRB_minus_WB_XKX\"\n",
    "srb_ko_pop.loc[(\"KO-\", kosovo_yrs), \"pop_source\"] = \"WB\"\n",
    "srb_ko_pop.loc[(\"SRB\", pre_kosovo_yrs), \"pop_source\"] = \"UN_SRB_ratio_WB_XKX\"\n",
    "srb_ko_pop.loc[(\"KO-\", pre_kosovo_yrs), \"pop_source\"] = \"UN_SRB_ratio_WB_XKX\"\n",
    "\n",
    "## merging with the uninhabited to create the \"clean\" dataset\n",
    "pop_cleaned = pd.concat([pop_uninh, srb_ko_pop], axis=0).sort_index()"
   ]
  },
  {
   "cell_type": "markdown",
   "id": "26e376cf-b78a-4794-9474-81a984c00d1b",
   "metadata": {},
   "source": [
    "### Cleaning for the U.S. and U.S. Territories\n",
    "\n",
    "It seems that there is some arbitrariness when it comes to including territories or excluding them, when calculating for the population (even within the same dataset, it is unclear whether the population for some year includes or excludes the territories). We will take the PWT10.0 population as the U.S. population without territories included, and attach population numbers of the territories appropriately (from relevant, filled data sources). For the missing years we extrapolate using the known ratio between the respective territory and the U.S. mainland."
   ]
  },
  {
   "cell_type": "code",
   "execution_count": null,
   "id": "adc5a2d4-5e3e-4aa0-9fd8-72ed5184218e",
   "metadata": {},
   "outputs": [],
   "source": [
    "# USA; use PWT10.0 as the base\n",
    "# since it's missing 2020, use the growth rate from wb_pop\n",
    "us_gr = pop_inh.loc[(\"USA\", 2020), \"un_pop\"] / pop_inh.loc[(\"USA\", 2019), \"un_pop\"]\n",
    "us_2020 = pop_inh.loc[(\"USA\", 2019), \"pop\"] * us_gr\n",
    "us_df = pop_inh.loc[([\"USA\"], range(1950, 2021)), [\"pop\"]].sort_index()\n",
    "us_df.loc[(\"USA\", 2020), \"pop\"] = us_2020\n",
    "us_df[\"pop_source\"] = \"PWT\"\n",
    "us_df.loc[(\"USA\", 2020), \"pop_source\"] = \"PWT_ratio_UN\""
   ]
  },
  {
   "cell_type": "code",
   "execution_count": null,
   "id": "740eb452-3447-4924-97ba-62c45707c082",
   "metadata": {},
   "outputs": [],
   "source": [
    "# UMI\n",
    "umi_yrs = (\n",
    "    pop_inh.loc[~pd.isnull(pop_inh.us_census_pop), :]\n",
    "    .index.get_level_values(\"year\")\n",
    "    .values\n",
    ")\n",
    "umi_df = pop_inh.loc[(\"USA\", range(1950, 2021)), [\"pop\"]].reset_index()\n",
    "umi_df[\"ccode\"], umi_df[\"pop\"] = \"UMI\", np.nan\n",
    "umi_df.set_index([\"ccode\", \"year\"], inplace=True)\n",
    "umi_vals = pop_inh.loc[(\"UMI\", umi_yrs), \"us_census_pop\"].values\n",
    "umi_df.loc[(\"UMI\", umi_yrs), \"pop\"] = umi_vals\n",
    "umi_ratio = (\n",
    "    umi_df.loc[(\"UMI\", umi_yrs), \"pop\"].values\n",
    "    / pop_inh.loc[(\"USA\", umi_yrs), \"pop\"].values\n",
    ").mean()\n",
    "umi_interp_yrs = list(range(umi_yrs.min(), umi_yrs.max() + 1))\n",
    "umi_df.loc[(\"UMI\", umi_interp_yrs), \"pop\"] = np.exp(\n",
    "    np.interp(umi_interp_yrs, umi_yrs, np.log(umi_vals))\n",
    ")\n",
    "umi_df[\"pop_source\"] = \"interp\"\n",
    "umi_df.loc[(\"UMI\", umi_yrs), \"pop_source\"] = \"US_CENSUS\"\n",
    "\n",
    "# ratio with the US\n",
    "umi_remaining = np.setdiff1d(list(range(1950, 2021)), umi_interp_yrs)\n",
    "umi_df.loc[(\"UMI\", umi_remaining), \"pop\"] = (\n",
    "    us_df.loc[(\"USA\", umi_remaining), \"pop\"].values * umi_ratio\n",
    ")\n",
    "umi_df.loc[(\"UMI\", umi_remaining), \"pop_source\"] = \"US_CENSUS_UMI_ratio_PWT_USA\""
   ]
  },
  {
   "cell_type": "code",
   "execution_count": null,
   "id": "41aabd4c-6749-4568-9297-ba0ef2e03407",
   "metadata": {},
   "outputs": [],
   "source": [
    "# PRI, VIR, GUM, ASM, MNP: use UN population\n",
    "other_us_terr_df = (\n",
    "    pop_inh.loc[([\"PRI\", \"VIR\", \"GUM\", \"ASM\", \"MNP\"], range(1950, 2021)), [\"un_pop\"]]\n",
    "    .sort_index()\n",
    "    .rename(columns={\"un_pop\": \"pop\"})\n",
    ")\n",
    "other_us_terr_df[\"pop_source\"] = \"UN\""
   ]
  },
  {
   "cell_type": "code",
   "execution_count": null,
   "id": "38b82030-f5cf-4cb0-98ea-d61f00883c25",
   "metadata": {},
   "outputs": [],
   "source": [
    "# merging the cleaned information\n",
    "pop_cleaned = pd.concat([pop_cleaned, us_df, umi_df, other_us_terr_df]).sort_index()\n",
    "pop_cleaned[\"pop_unit\"] = \"millions (of people)\""
   ]
  },
  {
   "cell_type": "markdown",
   "id": "29e710f7-6d48-4a7f-9bb7-77c4c2d2e755",
   "metadata": {},
   "source": [
    "### Cleaning for the French territories\n",
    "\n",
    "There are (excluding the no-population ones):\n",
    "- Five overseas departments: `GUF`, `GLP`, `MTQ`, `MYT`, `REU`\n",
    "- Overseas collectivities: `PYF`, `BLM`, `SPM`, `MAF`, `WLF`\n",
    "- Other: `NCL`\n",
    "\n",
    "Including that for France, we will simply use UN population (since its French population doesn't include the departments)."
   ]
  },
  {
   "cell_type": "code",
   "execution_count": null,
   "id": "5171db20-abdd-44ad-8ad6-12948f79b173",
   "metadata": {},
   "outputs": [],
   "source": [
    "# overseas departments\n",
    "french = [\"GUF\", \"GLP\", \"MTQ\", \"MYT\", \"REU\", \"PYF\", \"BLM\", \"SPM\", \"MAF\", \"WLF\"]\n",
    "french += [\"NCL\", \"FRA\"]\n",
    "french_pop = pop_inh.loc[(french, range(1950, 2021)), [\"un_pop\"]].rename(\n",
    "    columns={\"un_pop\": \"pop\"}\n",
    ")\n",
    "french_pop[\"pop_source\"] = \"UN\"\n",
    "french_pop[\"pop_unit\"] = \"millions (of people)\"\n",
    "\n",
    "pop_cleaned = pd.concat([french_pop, pop_cleaned], axis=0).sort_index()"
   ]
  },
  {
   "cell_type": "markdown",
   "id": "2db7eebe-ae62-47e7-bdd3-3a2b43a590fa",
   "metadata": {},
   "source": [
    "### Cleaning for the British territories\n",
    "\n",
    "These are (excluding the no-population ones):\n",
    "- Overseas Territories: `AIA`, `BMU`, `VGB`, `CYM`, `FLK`, `GIB`, `MSR`, `PCN`, `SHN`, `TCA`\n",
    "- Crown dependencies: `GGY`, `JEY`, `IMN`\n",
    "\n",
    "1. For all Overseas Territories *except `PCN`*, we take from UN (and for `PCN`, from interpolated data using CIA WF and `PCN` Government data).\n",
    "\n",
    "2. For `GGY` and `JEY`, their merged information is in `GGY+JEY` (for `un_pop`). Guernsey Annual Electronic Report (link [here](https://gov.gg/CHttpHandler.ashx?id=123156&p=0#:~:text=At%20the%20end%20of%20March%202019%2C%20Guernsey's%20population%20was%2062%2C792.&text=There%20was%20a%20natural%20decrease,of%20459%20people%20(0.7%25).)) shows `GGY` (Guernsey)'s population from 2009 to 2019. Take the average ratio of `GGY` population to `GGY+JEY` between these years, and use this ratio to extrapolate for the missing years (of `GGY` and `JEY`, separately).\n",
    "\n",
    "3. For `GBR`, take from PWT10.0. For `IMN`, take from UN."
   ]
  },
  {
   "cell_type": "code",
   "execution_count": null,
   "id": "ece16155-3257-408d-993c-8fc2de3e3238",
   "metadata": {},
   "outputs": [],
   "source": [
    "# cleaning Pitcairn\n",
    "pcn_pop = pop_inh.loc[[\"PCN\"], [\"pcn_pop\"]].rename(columns={\"pcn_pop\": \"pop\"})\n",
    "pcn_pop[\"pop_source\"] = \"interp\"\n",
    "pcn_pop.loc[(\"PCN\", 2017), \"pop_source\"] = \"PCN_GOV\"\n",
    "pcn_pop.loc[(\"PCN\", 2020), \"pop_source\"] = \"PCN_GOV_interp_CIA\""
   ]
  },
  {
   "cell_type": "code",
   "execution_count": null,
   "id": "ee7957e2-ed5b-4a4d-83fe-39fc817e7948",
   "metadata": {},
   "outputs": [],
   "source": [
    "# Guernsey and Jersey\n",
    "ggy_09_19 = [62274, 62431, 62915, 63085, 62732, 62341, 62234, 62208, 62106]\n",
    "ggy_09_19 += [62333, 62792]\n",
    "ggy_09_19 = np.array(ggy_09_19) / 1000000\n",
    "yr0919 = list(range(2009, 2020))\n",
    "\n",
    "ggy_jey_df = pop_inh.loc[[\"GGY+JEY\"], [\"un_pop\"]].rename(columns={\"un_pop\": \"pop\"})\n",
    "ggy_df = ggy_jey_df.reset_index()\n",
    "ggy_df[\"ccode\"] = \"GGY\"\n",
    "ggy_df[\"pop\"] = np.nan\n",
    "ggy_df.loc[ggy_df.year.isin(yr0919), \"pop\"] = ggy_09_19\n",
    "ggy_df.set_index([\"ccode\", \"year\"], inplace=True)\n",
    "\n",
    "ggy_ratio = (ggy_09_19 / ggy_jey_df.loc[(\"GGY+JEY\", yr0919), \"pop\"].values).mean()\n",
    "not_0919 = np.setdiff1d(list(range(1950, 2021)), yr0919)\n",
    "ggy_df.loc[(\"GGY\", not_0919), \"pop\"] = (\n",
    "    ggy_jey_df.loc[(\"GGY+JEY\", not_0919), \"pop\"].values * ggy_ratio\n",
    ")\n",
    "jey_df = ggy_jey_df.reset_index()\n",
    "jey_df[\"ccode\"], jey_df[\"pop\"] = \"JEY\", ggy_jey_df[\"pop\"].values - ggy_df[\"pop\"].values\n",
    "jey_df.set_index([\"ccode\", \"year\"], inplace=True)\n",
    "\n",
    "# sources\n",
    "ggy_df[\"pop_source\"] = \"GGY_REPORT\"\n",
    "ggy_df.loc[(\"GGY\", not_0919), \"pop_source\"] = \"UN_ratio_GGY_REPORT\"\n",
    "jey_df[\"pop_source\"] = \"UN_ratio_GGY_REPORT\"\n",
    "jey_df.loc[(\"JEY\", yr0919), \"pop_source\"] = \"UN_minus_GGY_REPORT\""
   ]
  },
  {
   "cell_type": "code",
   "execution_count": null,
   "id": "d8e28735-9b45-4dc6-b78b-388df71eeb80",
   "metadata": {},
   "outputs": [],
   "source": [
    "# other GBR territories and GBR\n",
    "gbr_df = pop_inh.loc[([\"GBR\"], range(1950, 2021)), [\"pop\"]]\n",
    "gbr_df.loc[(\"GBR\", 2020), \"pop\"] = (\n",
    "    gbr_df.loc[(\"GBR\", 2019), \"pop\"]\n",
    "    * pop_inh.loc[(\"GBR\", 2020), \"un_pop\"]\n",
    "    / pop_inh.loc[(\"GBR\", 2019), \"un_pop\"]\n",
    ")\n",
    "gbr_df[\"pop_source\"] = \"PWT\"\n",
    "gbr_df.loc[(\"GBR\", 2020), \"pop_source\"] = \"PWT_ratio_UN\"\n",
    "\n",
    "other_gbr_terr_df = pop_inh.loc[\n",
    "    [\"AIA\", \"BMU\", \"VGB\", \"CYM\", \"FLK\", \"GIB\", \"MSR\", \"SHN\", \"TCA\", \"IMN\"], [\"un_pop\"]\n",
    "].rename(columns={\"un_pop\": \"pop\"})\n",
    "other_gbr_terr_df[\"pop_source\"] = \"UN\"\n",
    "\n",
    "# gathering all GBR-related territories\n",
    "gbr_rel_df = pd.concat([pcn_pop, ggy_df, jey_df, gbr_df, other_gbr_terr_df], axis=0)\n",
    "gbr_rel_df[\"pop_unit\"] = \"millions (of people)\"\n",
    "\n",
    "# merging\n",
    "pop_cleaned = pd.concat([gbr_rel_df, pop_cleaned], axis=0).sort_index()"
   ]
  },
  {
   "cell_type": "markdown",
   "id": "286a5bf0-e9b2-4901-af6f-47392fb8b6bf",
   "metadata": {},
   "source": [
    "### Cleaning for the Australian territories\n",
    "\n",
    "These are (excluding the no-population ones):\n",
    "- External Territories: `CXR`, `CCK`, `NFK`"
   ]
  },
  {
   "cell_type": "code",
   "execution_count": null,
   "id": "c9f148b3-96df-4d76-9525-947761d61339",
   "metadata": {},
   "outputs": [],
   "source": [
    "# getting the AUS 2020 value in\n",
    "pop_inh.loc[(\"AUS\", 2020), \"pop\"] = (\n",
    "    pop_inh.loc[(\"AUS\", 2020), \"un_pop\"]\n",
    "    / pop_inh.loc[(\"AUS\", 2019), \"un_pop\"]\n",
    "    * pop_inh.loc[(\"AUS\", 2019), \"pop\"]\n",
    ")"
   ]
  },
  {
   "cell_type": "code",
   "execution_count": null,
   "id": "43cf297a-a494-40a2-b2f5-fea110b7596f",
   "metadata": {},
   "outputs": [],
   "source": [
    "# christmas island\n",
    "cxr_df = pop_inh.loc[[\"CXR\"], [\"aus_census_pop\"]].rename(\n",
    "    columns={\"aus_census_pop\": \"pop\"}\n",
    ")\n",
    "aus_cen_yrs = [2001, 2006, 2011, 2016]\n",
    "cxr_df[\"pop_source\"] = \"interp\"\n",
    "cxr_df.loc[(\"CXR\", aus_cen_yrs), \"pop_source\"] = \"AUS_CENSUS\"\n",
    "cxr_interp_yrs = range(np.min(aus_cen_yrs), np.max(aus_cen_yrs) + 1)\n",
    "cxr_df.loc[(\"CXR\", list(cxr_interp_yrs)), \"pop\"] = np.exp(\n",
    "    np.interp(\n",
    "        cxr_interp_yrs,\n",
    "        aus_cen_yrs,\n",
    "        np.log(cxr_df.loc[(\"CXR\", aus_cen_yrs), \"pop\"].values),\n",
    "    )\n",
    ")\n",
    "\n",
    "# country-territory ratios for extrapolation\n",
    "cxr_ratio = (\n",
    "    cxr_df.loc[(\"CXR\", aus_cen_yrs), \"pop\"].values\n",
    "    / pop_inh.loc[(\"AUS\", aus_cen_yrs), \"pop\"].values\n",
    ").mean()\n",
    "non_cen_yrs = np.setdiff1d(list(range(1950, 2021)), cxr_interp_yrs)\n",
    "cxr_df.loc[(\"CXR\", non_cen_yrs), \"pop\"] = (\n",
    "    cxr_ratio * pop_inh.loc[(\"AUS\", non_cen_yrs), \"pop\"].values\n",
    ")\n",
    "cxr_df.loc[(\"CXR\", non_cen_yrs), \"pop_source\"] = \"PWT_AUS_ratio_AUS_CENSUS_CXR\""
   ]
  },
  {
   "cell_type": "code",
   "execution_count": null,
   "id": "4ac99c46-1989-4f8a-926b-a5f27cc9e56f",
   "metadata": {},
   "outputs": [],
   "source": [
    "# Cocos keeling island\n",
    "cck_df = pop_inh.loc[[\"CCK\"], [\"aus_census_pop\"]].rename(\n",
    "    columns={\"aus_census_pop\": \"pop\"}\n",
    ")\n",
    "cck_df[\"pop_source\"] = \"interp\"\n",
    "cck_df.loc[(\"CCK\", aus_cen_yrs), \"pop_source\"] = \"AUS_CENSUS\"\n",
    "cck_df.loc[(\"CCK\", list(cxr_interp_yrs)), \"pop\"] = np.exp(\n",
    "    np.interp(\n",
    "        cxr_interp_yrs,\n",
    "        aus_cen_yrs,\n",
    "        np.log(cck_df.loc[(\"CCK\", aus_cen_yrs), \"pop\"].values),\n",
    "    )\n",
    ")\n",
    "\n",
    "# country-territory ratios for extrapolation\n",
    "cck_ratio = (\n",
    "    cck_df.loc[(\"CCK\", aus_cen_yrs), \"pop\"].values\n",
    "    / pop_inh.loc[(\"AUS\", aus_cen_yrs), \"pop\"].values\n",
    ").mean()\n",
    "cck_df.loc[(\"CCK\", non_cen_yrs), \"pop\"] = (\n",
    "    cck_ratio * pop_inh.loc[(\"AUS\", non_cen_yrs), \"pop\"].values\n",
    ")\n",
    "cck_df.loc[(\"CCK\", non_cen_yrs), \"pop_source\"] = \"PWT_AUS_ratio_AUS_CENSUS_CCK\""
   ]
  },
  {
   "cell_type": "code",
   "execution_count": null,
   "id": "4f448410-1618-43ac-a14f-41bb208a80e3",
   "metadata": {},
   "outputs": [],
   "source": [
    "## norfolk island\n",
    "nfk_df = pop_inh.loc[[\"NFK\"], [\"aus_census_pop\"]].rename(\n",
    "    columns={\"aus_census_pop\": \"pop\"}\n",
    ")\n",
    "nfk_df[\"pop_source\"] = \"interp\"\n",
    "nfk_df.loc[(\"NFK\", [2001, 2011, 2016]), \"pop_source\"] = \"AUS_CENSUS\"\n",
    "nfk_df.loc[(\"NFK\", list(cxr_interp_yrs)), \"pop\"] = np.exp(\n",
    "    np.interp(\n",
    "        cxr_interp_yrs,\n",
    "        [2001, 2011, 2016],\n",
    "        np.log(nfk_df.loc[(\"NFK\", [2001, 2011, 2016]), \"pop\"].values),\n",
    "    )\n",
    ")\n",
    "\n",
    "# country-territory ratios for extrapolation\n",
    "nfk_ratio = (\n",
    "    nfk_df.loc[(\"NFK\", [2001, 2011, 2016]), \"pop\"].values\n",
    "    / pop_inh.loc[(\"AUS\", [2001, 2011, 2016]), \"pop\"].values\n",
    ").mean()\n",
    "nfk_df.loc[(\"NFK\", non_cen_yrs), \"pop\"] = (\n",
    "    nfk_ratio * pop_inh.loc[(\"AUS\", non_cen_yrs), \"pop\"].values\n",
    ")\n",
    "nfk_df.loc[(\"NFK\", non_cen_yrs), \"pop_source\"] = \"PWT_AUS_ratio_AUS_CENSUS_NFK\""
   ]
  },
  {
   "cell_type": "code",
   "execution_count": null,
   "id": "c3c08cad-fa36-48c2-b2a4-423d37c43fc7",
   "metadata": {},
   "outputs": [],
   "source": [
    "aus_df = pop_inh.loc[([\"AUS\"], range(1950, 2021)), [\"pop\"]].copy()\n",
    "aus_df[\"pop_source\"] = \"PWT\"\n",
    "aus_df.loc[(\"AUS\", 2020), \"pop_source\"] = \"PWT_ratio_UN\"\n",
    "\n",
    "pop_cleaned = pd.concat([aus_df, pop_cleaned, nfk_df, cck_df, cxr_df], axis=0)\n",
    "pop_cleaned.sort_index(inplace=True)\n",
    "pop_cleaned[\"pop_unit\"] = \"millions (of people)\""
   ]
  },
  {
   "cell_type": "markdown",
   "id": "19feeb4a-2896-4dc2-b1d0-9c565ebdc8a2",
   "metadata": {},
   "source": [
    "### Cleaning for the New Zealand territories\n",
    "\n",
    "These are (excluding the no-population ones):\n",
    "- External Territories: `TKL`, `NIU`, `COK`"
   ]
  },
  {
   "cell_type": "code",
   "execution_count": null,
   "id": "34953fdb-94d7-4970-a063-a9b5b053f3bb",
   "metadata": {},
   "outputs": [],
   "source": [
    "# New Zealand\n",
    "nzl_df = pop_inh.loc[(\"NZL\", range(1950, 2021)), [\"pop\"]].sort_index()\n",
    "nzl_df.loc[(\"NZL\", 2020), \"pop\"] = (\n",
    "    nzl_df.loc[(\"NZL\", 2019), \"pop\"]\n",
    "    * pop_inh.loc[(\"NZL\", 2020), \"un_pop\"]\n",
    "    / pop_inh.loc[(\"NZL\", 2019), \"un_pop\"]\n",
    ")\n",
    "nzl_df[\"pop_source\"] = \"PWT\"\n",
    "nzl_df.loc[(\"NZL\", 2020), \"pop_source\"] = \"PWT_ratio_UN\""
   ]
  },
  {
   "cell_type": "code",
   "execution_count": null,
   "id": "97fa25d5-59d0-4d62-b395-5f08cb5ce22b",
   "metadata": {},
   "outputs": [],
   "source": [
    "nzl_terr_df = pop_inh.loc[\n",
    "    ([\"NIU\", \"COK\", \"TKL\"], list(range(1950, 2021))), [\"un_pop\"]\n",
    "].rename(columns={\"un_pop\": \"pop\"})\n",
    "nzl_terr_df[\"pop_source\"] = \"UN\"\n",
    "\n",
    "pop_cleaned = pd.concat([pop_cleaned, nzl_df, nzl_terr_df], axis=0).sort_index()\n",
    "pop_cleaned[\"pop_unit\"] = \"millions (of people)\""
   ]
  },
  {
   "cell_type": "markdown",
   "id": "43d46cce-2446-4cce-9854-1fa6a276825a",
   "metadata": {},
   "source": [
    "### Cleaning for the Danish territories\n",
    "\n",
    "These are (excluding the no-population ones):\n",
    "- `GRL`, `FRO`"
   ]
  },
  {
   "cell_type": "code",
   "execution_count": null,
   "id": "c05b4130-681b-4806-8e35-f2f32b884d63",
   "metadata": {},
   "outputs": [],
   "source": [
    "# Denmark\n",
    "dnk_df = pop_inh.loc[(\"DNK\", range(1950, 2021)), [\"pop\"]].sort_index()\n",
    "dnk_df.loc[(\"DNK\", 2020), \"pop\"] = (\n",
    "    dnk_df.loc[(\"DNK\", 2019), \"pop\"]\n",
    "    * pop_inh.loc[(\"DNK\", 2020), \"un_pop\"]\n",
    "    / pop_inh.loc[(\"DNK\", 2019), \"un_pop\"]\n",
    ")\n",
    "dnk_df[\"pop_source\"] = \"PWT\"\n",
    "dnk_df.loc[(\"DNK\", 2020), \"pop_source\"] = \"PWT_ratio_UN\""
   ]
  },
  {
   "cell_type": "code",
   "execution_count": null,
   "id": "d425dbf9-f612-4ec9-8715-d11f6212ea43",
   "metadata": {},
   "outputs": [],
   "source": [
    "dnk_terr_df = pop_inh.loc[([\"GRL\", \"FRO\"], list(range(1950, 2021))), [\"un_pop\"]].rename(\n",
    "    columns={\"un_pop\": \"pop\"}\n",
    ")\n",
    "dnk_terr_df[\"pop_source\"] = \"UN\"\n",
    "\n",
    "pop_cleaned = pd.concat([pop_cleaned, dnk_df, dnk_terr_df], axis=0).sort_index()\n",
    "pop_cleaned[\"pop_unit\"] = \"millions (of people)\""
   ]
  },
  {
   "cell_type": "markdown",
   "id": "be427ad7-4508-4dd2-b87d-1f52ebfaca90",
   "metadata": {},
   "source": [
    "### Cleaning for the Finnish territories\n",
    "\n",
    "These are (excluding the no-population ones):\n",
    "- `ALA`"
   ]
  },
  {
   "cell_type": "code",
   "execution_count": null,
   "id": "f008b05a-647c-4224-9b1a-0f2272acbfdc",
   "metadata": {},
   "outputs": [],
   "source": [
    "# Finland\n",
    "fin_df = pop_inh.loc[(\"FIN\", range(1950, 2021)), [\"pop\"]].sort_index()\n",
    "fin_df.loc[(\"FIN\", 2020), \"pop\"] = (\n",
    "    fin_df.loc[(\"FIN\", 2019), \"pop\"]\n",
    "    * pop_inh.loc[(\"FIN\", 2020), \"un_pop\"]\n",
    "    / pop_inh.loc[(\"FIN\", 2019), \"un_pop\"]\n",
    ")\n",
    "fin_df[\"pop_source\"] = \"PWT\"\n",
    "fin_df.loc[(\"FIN\", 2020), \"pop_source\"] = \"PWT_ratio_UN\""
   ]
  },
  {
   "cell_type": "code",
   "execution_count": null,
   "id": "de1796cc-280a-445e-a7d6-36417c4e878b",
   "metadata": {},
   "outputs": [],
   "source": [
    "ala_df = pop_inh.loc[([\"ALA\"], range(1950, 2021)), [\"ala_pop\"]].rename(\n",
    "    columns={\"ala_pop\": \"pop\"}\n",
    ")\n",
    "ala_df[\"pop_source\"] = \"ALA_STAT\"\n",
    "ala_yrs = (\n",
    "    ala_df.loc[~pd.isnull(ala_df[\"pop\"]), :].index.get_level_values(\"year\").unique()\n",
    ")\n",
    "ala_noyrs = np.setdiff1d(list(range(1950, 2021)), ala_yrs)\n",
    "ala_ratio = (\n",
    "    ala_df.loc[(\"ALA\", ala_yrs), \"pop\"].values\n",
    "    / fin_df.loc[(\"FIN\", ala_yrs), \"pop\"].values\n",
    ").mean()\n",
    "ala_df.loc[(\"ALA\", ala_noyrs), \"pop\"] = (\n",
    "    ala_ratio * fin_df.loc[(\"FIN\", ala_noyrs), \"pop\"].values\n",
    ")\n",
    "ala_df.loc[(\"ALA\", ala_noyrs), \"pop_source\"] = \"PWT_FIN_ratio_ALA_STAT_ALA\""
   ]
  },
  {
   "cell_type": "code",
   "execution_count": null,
   "id": "41c6cc1f-569b-4d6d-a701-ec8ec993529e",
   "metadata": {},
   "outputs": [],
   "source": [
    "pop_cleaned = pd.concat([pop_cleaned, fin_df, ala_df], axis=0).sort_index()\n",
    "pop_cleaned[\"pop_unit\"] = \"millions (of people)\""
   ]
  },
  {
   "cell_type": "markdown",
   "id": "6f4fbf24-9461-46dc-b151-ca0045e39a17",
   "metadata": {},
   "source": [
    "### Cleaning for the Norwegian territories\n",
    "\n",
    "These are (excluding the no-population ones):\n",
    "- `SJM`"
   ]
  },
  {
   "cell_type": "code",
   "execution_count": null,
   "id": "79358d66-c505-4d37-bcc5-7596a1d4db1f",
   "metadata": {},
   "outputs": [],
   "source": [
    "# Finland\n",
    "nor_df = pop_inh.loc[(\"NOR\", range(1950, 2021)), [\"pop\"]].sort_index()\n",
    "nor_df.loc[(\"NOR\", 2020), \"pop\"] = (\n",
    "    nor_df.loc[(\"NOR\", 2019), \"pop\"]\n",
    "    * pop_inh.loc[(\"NOR\", 2020), \"un_pop\"]\n",
    "    / pop_inh.loc[(\"NOR\", 2019), \"un_pop\"]\n",
    ")\n",
    "nor_df[\"pop_source\"] = \"PWT\"\n",
    "nor_df.loc[(\"NOR\", 2020), \"pop_source\"] = \"PWT_ratio_UN\""
   ]
  },
  {
   "cell_type": "code",
   "execution_count": null,
   "id": "4b922925-09be-4a6b-8c5b-490825e8af78",
   "metadata": {},
   "outputs": [],
   "source": [
    "sjm_df = pop_inh.loc[([\"SJM\"], range(1950, 2021)), [\"nor_census_pop\"]].rename(\n",
    "    columns={\"nor_census_pop\": \"pop\"}\n",
    ")\n",
    "sjm_df[\"pop_source\"] = \"NOR_CENSUS\"\n",
    "sjm_yrs = (\n",
    "    sjm_df.loc[~pd.isnull(sjm_df[\"pop\"]), :].index.get_level_values(\"year\").unique()\n",
    ")\n",
    "sjm_noyrs = np.setdiff1d(list(range(1950, 2021)), sjm_yrs)\n",
    "sjm_ratio = (\n",
    "    sjm_df.loc[(\"SJM\", sjm_yrs), \"pop\"].values\n",
    "    / nor_df.loc[(\"NOR\", sjm_yrs), \"pop\"].values\n",
    ").mean()\n",
    "sjm_df.loc[(\"SJM\", sjm_noyrs), \"pop\"] = (\n",
    "    sjm_ratio * nor_df.loc[(\"NOR\", sjm_noyrs), \"pop\"].values\n",
    ")\n",
    "sjm_df.loc[(\"SJM\", sjm_noyrs), \"pop_source\"] = \"PWT_NOR_ratio_NOR_CENSUS_SJM\""
   ]
  },
  {
   "cell_type": "code",
   "execution_count": null,
   "id": "cc842239-3d64-4e93-97d9-afbeefca9928",
   "metadata": {},
   "outputs": [],
   "source": [
    "pop_cleaned = pd.concat([pop_cleaned, nor_df, sjm_df], axis=0).sort_index()\n",
    "pop_cleaned[\"pop_unit\"] = \"millions (of people)\""
   ]
  },
  {
   "cell_type": "markdown",
   "id": "152dee79-0f69-4b44-aeda-352e2892dffd",
   "metadata": {},
   "source": [
    "### For the rest, filling in missing population info from UN populations data to PWT data"
   ]
  },
  {
   "cell_type": "code",
   "execution_count": null,
   "id": "c71cc0d3-7827-47af-aedc-06ff811f85a0",
   "metadata": {},
   "outputs": [],
   "source": [
    "# creating a xr.Dataset with the rest\n",
    "pop_inh_remain = (\n",
    "    pop_inh.loc[(slice(None), range(1950, 2021)), :]\n",
    "    .index.get_level_values(\"ccode\")\n",
    "    .unique()\n",
    ")\n",
    "pop_inh_remain = np.setdiff1d(\n",
    "    pop_inh_remain, pop_cleaned.index.get_level_values(\"ccode\").unique()\n",
    ")\n",
    "pop_inh_remain = np.setdiff1d(pop_inh_remain, [\"CHI\", \"FRA+OV\", \"XKX\", \"GGY+JEY\"])\n",
    "pop_inh_rem = pop_inh.loc[(pop_inh_remain, range(1950, 2021)), [\"pop\", \"un_pop\"]].copy()\n",
    "pop_inh_rem_ds = xr.Dataset.from_dataframe(pop_inh_rem)\n",
    "\n",
    "# smooth_fill\n",
    "pop_inh_rem_filled = ypk_fn.smooth_fill(\n",
    "    pop_inh_rem_ds[\"pop\"], pop_inh_rem_ds[\"un_pop\"], time_dim=\"year\", other_dim=\"ccode\"\n",
    ").to_dataframe()\n",
    "\n",
    "pop_inh_rem_filled = pop_inh_rem_filled.merge(\n",
    "    pop_inh_rem[[\"pop\"]].rename(columns={\"pop\": \"pop_source\"}),\n",
    "    how=\"left\",\n",
    "    left_index=True,\n",
    "    right_index=True,\n",
    ")\n",
    "pop_inh_rem_filled.loc[~pd.isnull(pop_inh_rem_filled.pop_source), \"pop_source\"] = \"PWT\"\n",
    "pop_inh_rem_filled.loc[pd.isnull(pop_inh_rem_filled.pop_source), \"pop_source\"] = \"UN\""
   ]
  },
  {
   "cell_type": "code",
   "execution_count": null,
   "id": "e7eaa3eb-a03c-4de1-b980-9f4787809d00",
   "metadata": {},
   "outputs": [],
   "source": [
    "# concatenating with the rest\n",
    "pop_cleaned = pd.concat([pop_cleaned, pop_inh_rem_filled], axis=0).sort_index()\n",
    "pop_cleaned[\"pop_unit\"] = \"millions (of people)\""
   ]
  },
  {
   "cell_type": "markdown",
   "id": "3a08fd44-c5a8-4dd5-93d2-c67dd47a6e9c",
   "metadata": {},
   "source": [
    "## Historical GDPpc (1950-2019), constant 2017 PPP USD, creating a single sequence\n",
    "\n",
    "We will first work with the constant 2017 PPP USD (i.e., ones with the `rgdpna` in their names), then create current PPP 2017 USD versions appropriately (in accordance with `cgdpo`). We will work with **per capita** version for extrapolation. But before working on the entire set of countries, I will first set aside France (due to the territory-inclusion problem mentioned above), work with the other countries (including the 5 French overseas territories), and return to the French case to subtract the sum of GDP values from the said territories to acquire the mainland French GDP (and GDPpc).\n",
    "\n",
    "### Setting aside the no-population cases"
   ]
  },
  {
   "cell_type": "code",
   "execution_count": null,
   "id": "a540d28c-89ce-4aae-a0ef-2d724bc04b75",
   "metadata": {},
   "outputs": [],
   "source": [
    "y_uninh = gp_df.loc[(sset.UNINHABITED_ISOS, range(1950, 2021)), [\"rgdpna\"]].rename(\n",
    "    columns={\"rgdpna\": \"rgdpna_pc\"}\n",
    ")\n",
    "y_uninh[\"rgdpna_pc\"] = 0\n",
    "y_uninh[\"gdp_source\"] = \"uninhabited\""
   ]
  },
  {
   "cell_type": "markdown",
   "id": "fc2393b4-f1a9-4dec-b882-5ae8dab6e837",
   "metadata": {},
   "source": [
    "### Using World Bank information to fill in for PWT\n",
    "\n",
    "Both `rgdpna_pc` and `wb_rgdpna_pc` are in ones of constant 2017 PPP USD; we will use the `smooth_fill` function in `ypk_settings.py`."
   ]
  },
  {
   "cell_type": "code",
   "execution_count": null,
   "id": "ffbee04b-e8a8-47d0-8822-8dcb74f5f75b",
   "metadata": {},
   "outputs": [],
   "source": [
    "gp_df[\"rgdpna_pc\"] = gp_df[\"rgdpna\"] / gp_df[\"pop\"]\n",
    "y_xr_pwt_wb = xr.Dataset.from_dataframe(\n",
    "    gp_df.loc[\n",
    "        ~gp_df.index.get_level_values(\"ccode\").isin(sset.UNINHABITED_ISOS),\n",
    "        [\"rgdpna_pc\", \"wb_rgdpna_pc\"],\n",
    "    ]\n",
    ")\n",
    "\n",
    "# filling in rgdpna_pc using wb_rgdpna_pc\n",
    "y_pwt_wb = ypk_fn.smooth_fill(\n",
    "    y_xr_pwt_wb[\"rgdpna_pc\"],\n",
    "    y_xr_pwt_wb[\"wb_rgdpna_pc\"],\n",
    "    time_dim=\"year\",\n",
    "    other_dim=\"ccode\",\n",
    ").to_dataframe()\n",
    "y_pwt_clean = y_pwt_wb.loc[\n",
    "    y_pwt_wb.index.get_level_values(\"year\").isin(range(1950, 2021)), :\n",
    "].copy()\n",
    "\n",
    "# filling in the source information\n",
    "y_pwt_clean = y_pwt_clean.merge(\n",
    "    gp_df[[\"rgdpna_pc\", \"wb_rgdpna_pc\"]].rename(columns={\"rgdpna_pc\": \"gdp_source\"}),\n",
    "    left_index=True,\n",
    "    right_index=True,\n",
    "    how=\"left\",\n",
    ")\n",
    "y_pwt_clean.loc[~pd.isnull(y_pwt_clean.gdp_source), \"gdp_source\"] = \"PWT\"\n",
    "y_pwt_clean.loc[\n",
    "    pd.isnull(y_pwt_clean.gdp_source) & ~pd.isnull(y_pwt_clean.wb_rgdpna_pc),\n",
    "    \"gdp_source\",\n",
    "] = \"WB\"\n",
    "y_pwt_clean.drop([\"wb_rgdpna_pc\"], axis=1, inplace=True)"
   ]
  },
  {
   "cell_type": "markdown",
   "id": "bd2dbdaa-8363-4286-8ba8-616fe9d87038",
   "metadata": {},
   "source": [
    "### Using IMF information to fill in for PWT\n",
    "\n",
    "According to this [link](https://www.imf.org/external/pubs/ft/weo/faq.htm#q4d) talking about the PPP used by IMF, it is said that IMF WEO's PPP rates are calculated based on ICP's 2017 report. Since the variable description says that this is constant PPP, we will interpret `imf_rgdpna_pc` as being in ones of constant 2017 PPP USD."
   ]
  },
  {
   "cell_type": "code",
   "execution_count": null,
   "id": "4ad37852-86d3-4fb6-8423-aba3815dba03",
   "metadata": {},
   "outputs": [],
   "source": [
    "y_pwt_clean = y_pwt_clean.merge(\n",
    "    gp_df[[\"imf_rgdpna_pc\"]], how=\"left\", left_index=True, right_index=True\n",
    ")\n",
    "y_xr_pwt_imf = xr.Dataset.from_dataframe(y_pwt_clean[[\"imf_rgdpna_pc\", \"rgdpna_pc\"]])\n",
    "\n",
    "# smooth_fill\n",
    "y_pwt_imf = ypk_fn.smooth_fill(\n",
    "    y_xr_pwt_imf[\"rgdpna_pc\"],\n",
    "    y_xr_pwt_imf[\"imf_rgdpna_pc\"],\n",
    "    time_dim=\"year\",\n",
    "    other_dim=\"ccode\",\n",
    ").to_dataframe()\n",
    "\n",
    "# merging\n",
    "prev_dict = {\"rgdpna_pc\": \"rgdpna_pc_prev\"}\n",
    "y_pwt_clean = y_pwt_clean.rename(columns=prev_dict).merge(\n",
    "    y_pwt_imf[[\"rgdpna_pc\"]],\n",
    "    left_index=True,\n",
    "    right_index=True,\n",
    "    how=\"left\",\n",
    ")\n",
    "y_pwt_clean.loc[\n",
    "    ~pd.isnull(y_pwt_clean.rgdpna_pc) & pd.isnull(y_pwt_clean.rgdpna_pc_prev),\n",
    "    \"gdp_source\",\n",
    "] = \"IMF\"\n",
    "y_pwt_clean.drop([\"rgdpna_pc_prev\", \"imf_rgdpna_pc\"], inplace=True, axis=1)"
   ]
  },
  {
   "cell_type": "markdown",
   "id": "a6307aa9-f8b2-4c80-b0a3-80ed15468f3b",
   "metadata": {},
   "source": [
    "### Using MPD (Maddison) information to fill in for PWT\n",
    "\n",
    "MPD data in `mpd_rgdpna_pc` are in **constant 2011 PPP USD**, so we will have to use the PPP conversion rates to change them into constant 2017 PPP USD before using the function `smooth_fill`."
   ]
  },
  {
   "cell_type": "code",
   "execution_count": null,
   "id": "7d5ddf07-56b9-49f9-ad95-0bee7dd464f5",
   "metadata": {},
   "outputs": [],
   "source": [
    "# from constant 2011 PPP USD ot constant 2017 PPP USD\n",
    "ppp_to_2017 = ypk_fn.ppp_conversion_specific_year(2017, extrap_sim=True)\n",
    "ppp_11_to_17 = ppp_to_2017.loc[(slice(None), 2011), :].reset_index()\n",
    "ppp_11_to_17.set_index([\"ccode\"], inplace=True)"
   ]
  },
  {
   "cell_type": "markdown",
   "id": "be0bc766-59c2-4401-8b04-230934726056",
   "metadata": {},
   "source": [
    "We will use the \"neutral assumption\" (i.e., using the conversion rate of 1) and not use the WB conversion rates (and **only use PWT conversion rates**) due to there being a big discrepancy between the two measures."
   ]
  },
  {
   "cell_type": "code",
   "execution_count": null,
   "id": "cfe04dd1-d613-4940-8b7d-bb0d3a247d0f",
   "metadata": {},
   "outputs": [],
   "source": [
    "# applying the conversion\n",
    "y_pwt_clean = y_pwt_clean.merge(\n",
    "    gp_df[[\"mpd_rgdpna_pc\"]].merge(\n",
    "        ppp_11_to_17[[\"conv\"]], left_index=True, right_index=True, how=\"left\"\n",
    "    ),\n",
    "    left_index=True,\n",
    "    right_index=True,\n",
    "    how=\"left\",\n",
    ")\n",
    "y_pwt_clean.loc[pd.isnull(y_pwt_clean.conv), \"conv\"] = 1\n",
    "y_pwt_clean[\"mpd_rgdpna_pc\"] *= y_pwt_clean[\"conv\"]"
   ]
  },
  {
   "cell_type": "code",
   "execution_count": null,
   "id": "70b803df-f787-4282-af14-00fa6aa4d936",
   "metadata": {},
   "outputs": [],
   "source": [
    "# smooth_fill\n",
    "y_xr_pwt_mpd = xr.Dataset.from_dataframe(y_pwt_clean[[\"mpd_rgdpna_pc\", \"rgdpna_pc\"]])\n",
    "y_pwt_mpd = ypk_fn.smooth_fill(\n",
    "    y_xr_pwt_mpd[\"rgdpna_pc\"],\n",
    "    y_xr_pwt_mpd[\"mpd_rgdpna_pc\"],\n",
    "    time_dim=\"year\",\n",
    "    other_dim=\"ccode\",\n",
    ").to_dataframe()\n",
    "\n",
    "# merging\n",
    "y_pwt_clean = y_pwt_clean.rename(columns=prev_dict).merge(\n",
    "    y_pwt_mpd[[\"rgdpna_pc\"]],\n",
    "    left_index=True,\n",
    "    right_index=True,\n",
    "    how=\"left\",\n",
    ")\n",
    "y_pwt_clean.loc[\n",
    "    ~pd.isnull(y_pwt_clean.rgdpna_pc) & pd.isnull(y_pwt_clean.rgdpna_pc_prev),\n",
    "    \"gdp_source\",\n",
    "] = \"MPD\"\n",
    "y_pwt_clean.drop([\"rgdpna_pc_prev\", \"mpd_rgdpna_pc\", \"conv\"], inplace=True, axis=1)"
   ]
  },
  {
   "cell_type": "markdown",
   "id": "6ae0dd96-d834-4bcb-be56-76718fd0276c",
   "metadata": {},
   "source": [
    "### Using OECD regional data to fill in for PWT\n",
    "\n",
    "OECD information is in constant 2015 PPP USD, so we will change accordingly before using `smooth_fill`."
   ]
  },
  {
   "cell_type": "code",
   "execution_count": null,
   "id": "fa576943-47cd-4389-ac90-a87a66633331",
   "metadata": {},
   "outputs": [],
   "source": [
    "# from constant 2015 PPP USD to constant 2017 PPP USD\n",
    "ppp_15_to_17 = ppp_to_2017.loc[(slice(None), 2015), :].reset_index()\n",
    "ppp_15_to_17.set_index([\"ccode\"], inplace=True)\n",
    "\n",
    "# applying the conversion\n",
    "y_pwt_clean = y_pwt_clean.merge(\n",
    "    gp_df[[\"oecd_rgdpna\"]].merge(\n",
    "        ppp_15_to_17[[\"conv\"]], left_index=True, right_index=True, how=\"left\"\n",
    "    ),\n",
    "    left_index=True,\n",
    "    right_index=True,\n",
    "    how=\"left\",\n",
    ")\n",
    "y_pwt_clean = y_pwt_clean.merge(\n",
    "    pop_cleaned[[\"pop\"]], left_index=True, right_index=True, how=\"left\"\n",
    ")\n",
    "y_pwt_clean.loc[pd.isnull(y_pwt_clean.conv), \"conv\"] = 1\n",
    "y_pwt_clean[\"oecd_rgdpna_pc\"] = (\n",
    "    y_pwt_clean[\"oecd_rgdpna\"] / y_pwt_clean[\"pop\"] * y_pwt_clean[\"conv\"]\n",
    ")"
   ]
  },
  {
   "cell_type": "code",
   "execution_count": null,
   "id": "a9d4578c-5768-41b9-9c31-ba3ad022904f",
   "metadata": {},
   "outputs": [],
   "source": [
    "# smooth_fill\n",
    "y_xr_pwt_oecd = xr.Dataset.from_dataframe(y_pwt_clean[[\"oecd_rgdpna_pc\", \"rgdpna_pc\"]])\n",
    "y_pwt_oecd = ypk_fn.smooth_fill(\n",
    "    y_xr_pwt_oecd[\"rgdpna_pc\"],\n",
    "    y_xr_pwt_oecd[\"oecd_rgdpna_pc\"],\n",
    "    time_dim=\"year\",\n",
    "    other_dim=\"ccode\",\n",
    ").to_dataframe()\n",
    "\n",
    "# merging\n",
    "y_pwt_clean = y_pwt_clean.rename(columns=prev_dict).merge(\n",
    "    y_pwt_oecd[[\"rgdpna_pc\"]],\n",
    "    left_index=True,\n",
    "    right_index=True,\n",
    "    how=\"left\",\n",
    ")\n",
    "y_pwt_clean.loc[\n",
    "    ~pd.isnull(y_pwt_clean.rgdpna_pc) & pd.isnull(y_pwt_clean.rgdpna_pc_prev),\n",
    "    \"gdp_source\",\n",
    "] = \"OECD\"\n",
    "y_pwt_clean.drop(\n",
    "    [\"rgdpna_pc_prev\", \"oecd_rgdpna_pc\", \"oecd_rgdpna\", \"conv\"], inplace=True, axis=1\n",
    ")"
   ]
  },
  {
   "cell_type": "markdown",
   "id": "e9939f3a-586a-48ae-b314-c6fa54d47f91",
   "metadata": {},
   "source": [
    "### Using CIA information to fill in for PWT\n",
    "\n",
    "CIA information (`cia_rgdpna`) is in constant 2017 PPP USD, so we will use this as is."
   ]
  },
  {
   "cell_type": "code",
   "execution_count": null,
   "id": "cbb4e74b-0e07-4c55-9e74-801215545b04",
   "metadata": {},
   "outputs": [],
   "source": [
    "# CIA rgdpna\n",
    "y_pwt_clean = y_pwt_clean.merge(\n",
    "    gp_df[[\"cia_rgdpna\"]], left_index=True, right_index=True, how=\"left\"\n",
    ")\n",
    "y_pwt_clean[\"cia_rgdpna\"] /= y_pwt_clean[\"pop\"]\n",
    "y_pwt_clean.rename(columns={\"cia_rgdpna\": \"cia_rgdpna_pc\"}, inplace=True)\n",
    "\n",
    "# interpolating\n",
    "cia_y_ccode = (\n",
    "    y_pwt_clean.loc[~pd.isnull(y_pwt_clean.cia_rgdpna_pc), :]\n",
    "    .index.get_level_values(\"ccode\")\n",
    "    .unique()\n",
    ")\n",
    "cc_dfs = []\n",
    "for cc in tqdm(cia_y_ccode):\n",
    "    cc_df = y_pwt_clean.loc[cc, [\"cia_rgdpna_pc\"]]\n",
    "    cc_yrs = (\n",
    "        cc_df.loc[~pd.isnull(cc_df.cia_rgdpna_pc), :]\n",
    "        .index.get_level_values(\"year\")\n",
    "        .unique()\n",
    "    )\n",
    "    cc_filled = range(cc_yrs.min(), cc_yrs.max() + 1)\n",
    "    cc_filled_vals = np.exp(\n",
    "        np.interp(cc_filled, cc_yrs, np.log(cc_df.loc[cc_yrs, \"cia_rgdpna_pc\"].values))\n",
    "    )\n",
    "    cc_dfs.append(\n",
    "        pd.DataFrame(\n",
    "            data={\n",
    "                \"ccode\": [cc] * len(cc_filled),\n",
    "                \"year\": cc_filled,\n",
    "                \"cia_rgdpna_pc_interp\": cc_filled_vals,\n",
    "            }\n",
    "        )\n",
    "    )\n",
    "cc_dfs = pd.concat(cc_dfs, axis=0).set_index([\"ccode\", \"year\"])"
   ]
  },
  {
   "cell_type": "code",
   "execution_count": null,
   "id": "b376750f-faaf-46eb-a28a-0b97862f1574",
   "metadata": {},
   "outputs": [],
   "source": [
    "# smooth_fill\n",
    "y_pwt_clean = y_pwt_clean.merge(cc_dfs, left_index=True, right_index=True, how=\"outer\")\n",
    "y_xr_pwt_cia = xr.Dataset.from_dataframe(\n",
    "    y_pwt_clean[[\"cia_rgdpna_pc_interp\", \"rgdpna_pc\"]]\n",
    ")\n",
    "y_pwt_cia = ypk_fn.smooth_fill(\n",
    "    y_xr_pwt_cia[\"rgdpna_pc\"],\n",
    "    y_xr_pwt_cia[\"cia_rgdpna_pc_interp\"],\n",
    "    time_dim=\"year\",\n",
    "    other_dim=\"ccode\",\n",
    ").to_dataframe()\n",
    "\n",
    "# merging\n",
    "y_pwt_clean = y_pwt_clean.rename(columns=prev_dict).merge(\n",
    "    y_pwt_cia[[\"rgdpna_pc\"]],\n",
    "    left_index=True,\n",
    "    right_index=True,\n",
    "    how=\"left\",\n",
    ")\n",
    "y_pwt_clean.loc[\n",
    "    ~pd.isnull(y_pwt_clean.cia_rgdpna_pc) & pd.isnull(y_pwt_clean.rgdpna_pc_prev),\n",
    "    \"gdp_source\",\n",
    "] = \"CIA\"\n",
    "y_pwt_clean.loc[\n",
    "    ~pd.isnull(y_pwt_clean.cia_rgdpna_pc_interp)\n",
    "    & pd.isnull(y_pwt_clean.rgdpna_pc_prev)\n",
    "    & (y_pwt_clean.gdp_source != \"CIA\"),\n",
    "    \"gdp_source\",\n",
    "] = \"CIA_interp\"\n",
    "\n",
    "y_pwt_clean.drop(\n",
    "    [\"rgdpna_pc_prev\", \"cia_rgdpna_pc\", \"cia_rgdpna_pc_interp\"], inplace=True, axis=1\n",
    ")"
   ]
  },
  {
   "cell_type": "markdown",
   "id": "1ba71df6-0c9c-4940-a2ae-3ad96cbe7671",
   "metadata": {},
   "source": [
    "### Aland Statistics (for `ALA`)\n",
    "\n",
    "We will extrapolate for the missing years as well, by creating ratios with Finland."
   ]
  },
  {
   "cell_type": "code",
   "execution_count": null,
   "id": "b08daef9-ddf3-446d-bb44-37f87e34daa7",
   "metadata": {},
   "outputs": [],
   "source": [
    "ala_cgdpo_pc = gp_df.loc[~pd.isnull(gp_df.ala_cgdpo_pc), [\"ala_cgdpo_pc\"]]\n",
    "ala_yrs = ala_cgdpo_pc.index.get_level_values(\"year\").unique()\n",
    "ala_ppp_val = ppp_to_2017.loc[(\"ALA\", ala_yrs), \"conv\"].values\n",
    "y_pwt_clean.loc[(\"ALA\", ala_yrs), \"rgdpna_pc\"] = (\n",
    "    ala_ppp_val * ala_cgdpo_pc.ala_cgdpo_pc.values\n",
    ")\n",
    "y_pwt_clean.loc[(\"ALA\", ala_yrs), \"gdp_source\"] = \"ALAND_STAT\"\n",
    "\n",
    "# ratio wrt Finland\n",
    "ala_fin_ratio = (\n",
    "    y_pwt_clean.loc[(\"ALA\", ala_yrs), \"rgdpna_pc\"].values\n",
    "    / y_pwt_clean.loc[(\"FIN\", ala_yrs), \"rgdpna_pc\"].values\n",
    ").mean()\n",
    "ala_noyrs = np.setdiff1d(list(range(1950, 2021)), ala_yrs)\n",
    "y_pwt_clean.loc[(\"ALA\", ala_noyrs), \"rgdpna_pc\"] = (\n",
    "    ala_fin_ratio * y_pwt_clean.loc[(\"FIN\", ala_noyrs), \"rgdpna_pc\"].values\n",
    ")\n",
    "y_pwt_clean.loc[(\"ALA\", ala_noyrs), \"gdp_source\"] = \"FIN_extrap\""
   ]
  },
  {
   "cell_type": "markdown",
   "id": "8a88edfa-edb6-4cb7-a3af-1c6fd35c24e0",
   "metadata": {},
   "source": [
    "### Treadgold Reports on Norfolk Island (for `NFK`)\n",
    "\n",
    "We will extrapolate for the missing years as well, by creating ratios with Australia (`AUS`)."
   ]
  },
  {
   "cell_type": "code",
   "execution_count": null,
   "id": "27f97b8b-d7c5-4fa1-bd83-a655d8ab998f",
   "metadata": {},
   "outputs": [],
   "source": [
    "tgold_rgdpna_pc = gp_df.loc[\n",
    "    ~pd.isnull(gp_df.treadgold_rgdpna_pc), [\"treadgold_rgdpna_pc\"]\n",
    "]\n",
    "tgold_yrs = tgold_rgdpna_pc.index.get_level_values(\"year\").unique()\n",
    "tgold_interp_yrs = list(range(tgold_yrs.min(), tgold_yrs.max() + 1))\n",
    "tgold_interp_vals = np.exp(\n",
    "    np.interp(\n",
    "        tgold_interp_yrs, tgold_yrs, np.log(tgold_rgdpna_pc.treadgold_rgdpna_pc.values)\n",
    "    )\n",
    ")\n",
    "y_pwt_clean.loc[(\"NFK\", tgold_interp_yrs), \"rgdpna_pc\"] = tgold_interp_vals\n",
    "y_pwt_clean.loc[(\"NFK\", tgold_interp_yrs), \"gdp_source\"] = \"Treadgold_ratio_PWT\"\n",
    "\n",
    "# calculating the ratios separately\n",
    "nfk_aus_ratio_early = (\n",
    "    y_pwt_clean.loc[(\"NFK\", tgold_interp_yrs[0:2]), \"rgdpna_pc\"].values\n",
    "    / y_pwt_clean.loc[(\"AUS\", tgold_interp_yrs[0:2]), \"rgdpna_pc\"].values\n",
    ").mean()\n",
    "\n",
    "nfk_aus_ratio_later = (\n",
    "    y_pwt_clean.loc[(\"NFK\", tgold_interp_yrs[-2:]), \"rgdpna_pc\"].values\n",
    "    / y_pwt_clean.loc[(\"AUS\", tgold_interp_yrs[-2:]), \"rgdpna_pc\"].values\n",
    ").mean()\n",
    "\n",
    "y_pwt_clean.loc[(\"NFK\", 1950), \"rgdpna_pc\"] = (\n",
    "    nfk_aus_ratio_early * y_pwt_clean.loc[(\"AUS\", 1950), \"rgdpna_pc\"]\n",
    ")\n",
    "nfk_noyrs = np.setdiff1d(list(range(1951, 2021)), tgold_interp_yrs)\n",
    "y_pwt_clean.loc[(\"NFK\", nfk_noyrs), \"rgdpna_pc\"] = (\n",
    "    nfk_aus_ratio_later * y_pwt_clean.loc[(\"AUS\", nfk_noyrs), \"rgdpna_pc\"].values\n",
    ")\n",
    "y_pwt_clean.loc[(\"NFK\", [1950] + list(nfk_noyrs)), \"gdp_source\"] = \"AUS_extrap\""
   ]
  },
  {
   "cell_type": "markdown",
   "id": "24f26479-9598-423a-843f-628f5df94be7",
   "metadata": {},
   "source": [
    "### Statistics Netherlands information on `BES`\n",
    "\n",
    "Nominal GDP for Bonaire, Saba, and Eustatius are shown separately (for the years 2012 and 2017, on this [Statistics Netherlands file](https://www.cbs.nl/en-gb/publication/2020/41/trends-in-the-caribbean-netherlands-2020)). We will add them together, interpolate, and create ratios with the Netherlands information to fill in the missing pieces as well."
   ]
  },
  {
   "cell_type": "code",
   "execution_count": null,
   "id": "ad2eba56-9286-4c3e-8f92-a59ba9a70e7d",
   "metadata": {},
   "outputs": [],
   "source": [
    "# numbers correspond to GDP for Bonaire, Saba, and Eustatius (in mil. of nominal USD)\n",
    "bes_yrs = list(range(2012, 2018))\n",
    "bes_2012, bes_2017 = 372 + 42 + 101, 428 + 47 + 108\n",
    "bes_pc_12_17 = (\n",
    "    np.array([bes_2012, bes_2017])\n",
    "    / pop_cleaned.loc[(\"BES\", [2012, 2017]), \"pop\"].values\n",
    ")\n",
    "\n",
    "bes_ratio = bes_pc_12_17 / gp_df.loc[(\"NLD\", [2012, 2017]), \"wb_gdp_nom_pc\"].values\n",
    "bes_avg_ratio = bes_ratio.mean()\n",
    "bes_ppp_pc_12_17 = (\n",
    "    bes_ratio * y_pwt_clean.loc[(\"NLD\", [2012, 2017]), \"rgdpna_pc\"].values\n",
    ")\n",
    "bes_ppp_pc_12_17_interp = np.exp(\n",
    "    np.interp(bes_yrs, [2012, 2017], np.log(bes_ppp_pc_12_17))\n",
    ")\n",
    "bes_noyrs = np.setdiff1d(list(range(1950, 2021)), bes_yrs)\n",
    "bes_ppp_pc_not12_17 = (\n",
    "    y_pwt_clean.loc[(\"NLD\", bes_noyrs), \"rgdpna_pc\"].values * bes_avg_ratio\n",
    ")\n",
    "y_pwt_clean.loc[(\"BES\", bes_yrs), \"rgdpna_pc\"] = bes_ppp_pc_12_17_interp\n",
    "y_pwt_clean.loc[(\"BES\", bes_yrs), \"gdp_source\"] = \"NLD_STAT\"\n",
    "y_pwt_clean.loc[(\"BES\", bes_noyrs), \"rgdpna_pc\"] = bes_ppp_pc_not12_17\n",
    "y_pwt_clean.loc[(\"BES\", bes_noyrs), \"gdp_source\"] = \"NLD_extrap\""
   ]
  },
  {
   "cell_type": "markdown",
   "id": "609b4e3a-c764-467d-bc33-06004eb8e55f",
   "metadata": {},
   "source": [
    "###  Information from CEROM, Saint Barthelemy (for `BLM`)"
   ]
  },
  {
   "cell_type": "code",
   "execution_count": null,
   "id": "b8ceaa0c-0553-4f36-add2-39338623428d",
   "metadata": {},
   "outputs": [],
   "source": [
    "# getting the nominal values\n",
    "cerom = gp_df.loc[\"BLM\", [\"cerom_gdppc\"]]\n",
    "cerom_yrs = cerom.loc[~pd.isnull(cerom.cerom_gdppc), :].index.values\n",
    "cerom_vals = cerom.loc[~pd.isnull(cerom.cerom_gdppc), \"cerom_gdppc\"].values\n",
    "\n",
    "# ratio with the nominal, french gdppc\n",
    "blm_ratio = cerom_vals / gp_df.loc[(\"FRA\", cerom_yrs), \"wb_gdp_nom_pc\"].values\n",
    "blm_y_vals = blm_ratio * y_pwt_clean.loc[(\"FRA\", cerom_yrs), \"rgdpna_pc\"].values\n",
    "blm_interp_yrs = list(range(cerom_yrs.min(), cerom_yrs.max() + 1))\n",
    "y_pwt_clean.loc[(\"BLM\", blm_interp_yrs), \"rgdpna_pc\"] = np.exp(\n",
    "    np.interp(blm_interp_yrs, cerom_yrs, np.log(blm_y_vals))\n",
    ")\n",
    "\n",
    "# rest of the years\n",
    "blm_noyrs = np.setdiff1d(list(range(1950, 2021)), blm_interp_yrs)\n",
    "y_pwt_clean.loc[(\"BLM\", blm_noyrs), \"rgdpna_pc\"] = (\n",
    "    y_pwt_clean.loc[(\"FRA\", blm_noyrs), \"rgdpna_pc\"].values * blm_ratio.mean()\n",
    ")\n",
    "\n",
    "y_pwt_clean.loc[(\"BLM\", blm_noyrs), \"gdp_source\"] = \"FRA_extrap\"\n",
    "y_pwt_clean.loc[(\"BLM\", blm_interp_yrs), \"gdp_source\"] = \"CEROM\""
   ]
  },
  {
   "cell_type": "markdown",
   "id": "40e83fd6-f861-445d-b68a-7d782d6e46b1",
   "metadata": {},
   "source": [
    "### Australian Census from information (for `CCK` and `CXR`)\n",
    "\n",
    "Again, we only have nominal GDP of these areas in the year 2010 as nominal terms. Therefore, we will again rely on the scale with the relevant sovereignty (being `AUS`)."
   ]
  },
  {
   "cell_type": "code",
   "execution_count": null,
   "id": "0e5dc8b3-87d9-46ff-b0dd-96a45474319a",
   "metadata": {},
   "outputs": [],
   "source": [
    "# ratios in 2010\n",
    "aus_2010 = gp_df.loc[(\"AUS\", 2010), \"wb_gdp_nom_pc\"]\n",
    "cxr_2010 = (\n",
    "    gp_df.loc[(\"CXR\", 2010), \"aus_census_nom_gdp\"]\n",
    "    / pop_cleaned.loc[(\"CXR\", 2010), \"pop\"]\n",
    ")\n",
    "cck_2010 = (\n",
    "    gp_df.loc[(\"CCK\", 2010), \"aus_census_nom_gdp\"]\n",
    "    / pop_cleaned.loc[(\"CCK\", 2010), \"pop\"]\n",
    ")\n",
    "cxr_aus_r, cck_aus_r = cxr_2010 / aus_2010, cck_2010 / aus_2010\n",
    "\n",
    "# apply the ratios\n",
    "cxr_vals = y_pwt_clean.loc[(\"AUS\", range(1950, 2021)), \"rgdpna_pc\"].values * cxr_aus_r\n",
    "cck_vals = y_pwt_clean.loc[(\"AUS\", range(1950, 2021)), \"rgdpna_pc\"].values * cck_aus_r\n",
    "y_pwt_clean.loc[(\"CXR\", list(range(1950, 2021))), \"rgdpna_pc\"] = cxr_vals\n",
    "y_pwt_clean.loc[(\"CCK\", list(range(1950, 2021))), \"rgdpna_pc\"] = cck_vals\n",
    "\n",
    "# sources\n",
    "y_pwt_clean.loc[(\"CXR\", list(range(1950, 2021))), \"gdp_source\"] = \"AUS_extrap\"\n",
    "y_pwt_clean.loc[(\"CCK\", list(range(1950, 2021))), \"gdp_source\"] = \"AUS_extrap\"\n",
    "y_pwt_clean.loc[(\"CCK\", 2010), \"gdp_source\"] = \"AUS_parliament\"\n",
    "y_pwt_clean.loc[(\"CXR\", 2010), \"gdp_source\"] = \"AUS_parliament\""
   ]
  },
  {
   "cell_type": "markdown",
   "id": "b4345fd2-cb31-438d-a818-74fc5bf8ff58",
   "metadata": {},
   "source": [
    "### Svalbard and Jan Mayen (`SJM`)\n",
    "\n",
    "As mentioned above, we do not have reliable metrics for GDPpc or GDP for `SJM`; so we will copy Norway's information."
   ]
  },
  {
   "cell_type": "code",
   "execution_count": null,
   "id": "c5abaecc-9a4d-457e-b422-8616589b3b7f",
   "metadata": {},
   "outputs": [],
   "source": [
    "y_pwt_clean.loc[(\"SJM\", list(range(1950, 2021))), \"rgdpna_pc\"] = y_pwt_clean.loc[\n",
    "    (\"NOR\", list(range(1950, 2021))), \"rgdpna_pc\"\n",
    "].values\n",
    "y_pwt_clean.loc[\"SJM\", \"gdp_source\"] = \"NOR_copy\""
   ]
  },
  {
   "cell_type": "markdown",
   "id": "006668cf-515a-447e-8d44-674e73f50042",
   "metadata": {},
   "source": [
    "### United States Minor Outlying Islands (`UMI`)\n",
    "\n",
    "We will use the most similar U.S. territory, which are the Northern Mariana Islands (`MNP`)."
   ]
  },
  {
   "cell_type": "code",
   "execution_count": null,
   "id": "b225f80a-5f87-4087-a0b4-91dbcacdf812",
   "metadata": {},
   "outputs": [],
   "source": [
    "mnp = y_pwt_clean.loc[\"MNP\", :].copy()\n",
    "mnpyrs = np.unique(mnp.loc[~pd.isnull(mnp.rgdpna_pc), :].index.get_level_values(\"year\"))\n",
    "y_pwt_clean.loc[(\"UMI\", mnpyrs), \"rgdpna_pc\"] = y_pwt_clean.loc[\n",
    "    (\"MNP\", mnpyrs), \"rgdpna_pc\"\n",
    "].values\n",
    "y_pwt_clean.loc[(\"UMI\", mnpyrs), \"gdp_source\"] = \"MNP_copy\""
   ]
  },
  {
   "cell_type": "markdown",
   "id": "611c5d6d-207a-45be-9c67-593ea7dbdbbb",
   "metadata": {},
   "source": [
    "### Pitcairn Island (`PCN`): take the ratio with `GBR`"
   ]
  },
  {
   "cell_type": "code",
   "execution_count": null,
   "id": "b5b0e79a-2632-4c69-b1c3-85d0b14b81be",
   "metadata": {},
   "outputs": [],
   "source": [
    "pcn_ratio = (\n",
    "    gp_df.loc[(\"PCN\", 2006), \"pcn_nom_gdp\"]\n",
    "    / y_pwt_clean.loc[(\"PCN\", 2006), \"pop\"]\n",
    "    / gp_df.loc[(\"GBR\", 2006), \"wb_gdp_nom_pc\"]\n",
    ")\n",
    "pcn_rgdpna_pc = (\n",
    "    pcn_ratio * y_pwt_clean.loc[(\"GBR\", list(range(1950, 2021))), \"rgdpna_pc\"].values\n",
    ")\n",
    "y_pwt_clean.loc[(\"PCN\", list(range(1950, 2021))), \"rgdpna_pc\"] = pcn_rgdpna_pc\n",
    "y_pwt_clean.loc[\"PCN\", \"gdp_source\"] = \"GBR_ratio\""
   ]
  },
  {
   "cell_type": "markdown",
   "id": "d4c6190b-ca86-4b13-b66b-1cf700de4077",
   "metadata": {},
   "source": [
    "### Cleaning up for other territories (current and former)\n",
    "\n",
    "In general, the reason for assigning country-sovereignty ratios instead of that between similar countries is based on the argument in [**Bertram (World Development, 2003)**](https://www.sciencedirect.com/science/article/abs/pii/S0305750X03002134) that territories (or island economies in the paper, to be more specific) seem to converge to trend with their metropolitan patrons more so than similar territory (island) economies. Based on this idea, we will fill in the missing years' GDPpc data with the nearest 5-year average (e.g., if years before 2000 are missing, use the country-sovereignty GDPpc ratio from 2000-2005 [averaged] to extrapolate for the missing years).\n",
    "\n",
    "Following territory-sovereignty relationships are considered (excluding the ones dealt with above, but including *previous* territory-sovereignty relationships mentioned in Bertram (2003)). Note that if they are already all filled (1950-2020), they will not be further extrapolated, and for the former territories, year in parentheses is that of gaining independence:\n",
    "- Current `GBR`: `IMN`, `JEY`, `GGY`, `AIA`, `BMU`, `IOT`, `VGB`, `CYM`, `FLK`, `GIB`, `MSR`, `SHN`, `TCA`\n",
    "- Former `GBR`: `VCT` (1979), `DMA` (1976), `GRD` (1974), `KNA` (1983), `ATG` (1981), `BHS` (1973), `MDV` (1966), `KIR` (1979), `TUV` (1978), `SLB` (1978), `TON` (1970), `FJI` (1970), `VUT` (1980; also managed by `FRA`)\n",
    "- Current `FRA`: `GUF`, `GLP`, `MTQ`, `MYT`, `REU`, `SPM`, `MAF`, `BLM`, `PYF`, `WLF`, `NCL`\n",
    "- Former `FRA`: `COM` (1975)\n",
    "- Current `NLD`: `SXM`, `ABW`, `BES`, `CUW`\n",
    "- Current `DNK`: `GRL`, `FRO`\n",
    "- Current `NZL`: `NIU`, `WSM`, `COK`, `TKL`\n",
    "- Current `USA`: `VIR`, `GUM`, `UMI`, `ASM`\n",
    "- Former `USA` (including Free Association): `MHL`, `FSM`, `PLW`\n",
    "- Former `AUS`: `NRU`"
   ]
  },
  {
   "cell_type": "code",
   "execution_count": null,
   "id": "91aba98b-7426-4eec-8aed-0203af0d9d85",
   "metadata": {},
   "outputs": [],
   "source": [
    "def fill_using_simple_ratio(\n",
    "    terr_code, sov_code, df, col=\"rgdpna_pc\", source_col=\"gdp_source\"\n",
    "):\n",
    "    \"\"\"Fill the missing values of the country denoted by `terr_code` using the average\n",
    "    ratio of nearest known values (at most 5 years) between the countries `terr_code`\n",
    "    and `sov_code`. This is based on the observation in Bertram (World Development,\n",
    "    2003) that GDPpc of (island) territories tend to converge to sovereign GDPpc.\n",
    "\n",
    "    Parameters\n",
    "    ----------\n",
    "    terr_code : str\n",
    "        country code for country/region that belongs to or was associated with the\n",
    "        country/region represented by `sov_code`\n",
    "    sov_code : str\n",
    "        country code for country/region that had or still has legal control over the\n",
    "        country/region represented by `terr_code`\n",
    "    df : pandas.DataFrame\n",
    "        that contains the country/region-level information; should have the columns\n",
    "        `col` and `source_col`, and be multi-indexed by `ccode` and `year` (denoting\n",
    "        country code and year)\n",
    "    col : str\n",
    "        column containing data that needs imputation/extrapolation (by using the ratio\n",
    "        of values from the two countries)\n",
    "    source_col : str\n",
    "        column containing source data, to be filled with basic information about which\n",
    "        country information (`sov_code`) was used to conduct the\n",
    "        imputation/extrapolation\n",
    "\n",
    "    Returns\n",
    "    -------\n",
    "    df : pandas.DataFrame\n",
    "        containing the original information from the pre-modified `df` and the newly\n",
    "        imputed/extrapolated information\n",
    "\n",
    "    \"\"\"\n",
    "    ALL_YRS = list(range(1950, 2021))\n",
    "    msng = (\n",
    "        df.loc[\n",
    "            pd.isnull(df[col]) & (df.index.get_level_values(\"ccode\") == terr_code), :\n",
    "        ]\n",
    "        .index.get_level_values(\"year\")\n",
    "        .unique()\n",
    "    )\n",
    "\n",
    "    if len(msng) == 0:\n",
    "        return df\n",
    "\n",
    "    filled = np.sort(np.setdiff1d(ALL_YRS, msng))\n",
    "\n",
    "    if ALL_YRS[-1] in msng:\n",
    "        # years to create averages from\n",
    "        years = filled[-5:]\n",
    "\n",
    "        # which years to extrapolate?\n",
    "        to_fill = msng[msng > filled[-1]]\n",
    "        avg_ratio = (\n",
    "            df.loc[(terr_code, years), col].values\n",
    "            / df.loc[(sov_code, years), col].values\n",
    "        ).mean()\n",
    "        df.loc[(terr_code, to_fill), col] = (\n",
    "            avg_ratio * df.loc[(sov_code, to_fill), col].values\n",
    "        )\n",
    "\n",
    "    if ALL_YRS[0] in msng:\n",
    "        # years to create averages from\n",
    "        years = filled[0:5]\n",
    "\n",
    "        # which years to extrapolate?\n",
    "        to_fill = msng[msng < filled[0]]\n",
    "        avg_ratio = (\n",
    "            df.loc[(terr_code, years), col].values\n",
    "            / df.loc[(sov_code, years), col].values\n",
    "        ).mean()\n",
    "        df.loc[(terr_code, to_fill), col] = (\n",
    "            avg_ratio * df.loc[(sov_code, to_fill), col].values\n",
    "        )\n",
    "\n",
    "    df.loc[(terr_code, msng), source_col] = \"{}_extrap\".format(sov_code)\n",
    "\n",
    "    return df"
   ]
  },
  {
   "cell_type": "markdown",
   "id": "6f4880f3-6a64-43d9-a243-a9204f048b2a",
   "metadata": {},
   "source": [
    "#### `GBR` Territories (former and current)"
   ]
  },
  {
   "cell_type": "code",
   "execution_count": null,
   "id": "14ee6dc9-5484-40d6-967b-b1edb4428566",
   "metadata": {},
   "outputs": [],
   "source": [
    "current_terr_gbr = [\n",
    "    \"IMN\",\n",
    "    \"JEY\",\n",
    "    \"GGY\",\n",
    "    \"AIA\",\n",
    "    \"BMU\",\n",
    "    \"VGB\",\n",
    "    \"CYM\",\n",
    "    \"FLK\",\n",
    "    \"GIB\",\n",
    "    \"MSR\",\n",
    "    \"SHN\",\n",
    "    \"TCA\",\n",
    "]\n",
    "former_terr_gbr = [\n",
    "    \"VCT\",\n",
    "    \"DMA\",\n",
    "    \"GRD\",\n",
    "    \"KNA\",\n",
    "    \"ATG\",\n",
    "    \"BHS\",\n",
    "    \"MDV\",\n",
    "    \"KIR\",\n",
    "    \"TUV\",\n",
    "    \"SLB\",\n",
    "    \"TON\",\n",
    "    \"FJI\",\n",
    "    \"VUT\",\n",
    "]\n",
    "for i in former_terr_gbr + current_terr_gbr:\n",
    "    y_pwt_clean = fill_using_simple_ratio(i, \"GBR\", y_pwt_clean)"
   ]
  },
  {
   "cell_type": "markdown",
   "id": "333e0acd-f5fd-4b4b-85a7-4e59012d2bae",
   "metadata": {},
   "source": [
    "#### `FRA` Territories (former and current)"
   ]
  },
  {
   "cell_type": "code",
   "execution_count": null,
   "id": "e3e6cdbe-f826-43f6-97ac-5d807ece7f8e",
   "metadata": {},
   "outputs": [],
   "source": [
    "current_terr_fra = [\n",
    "    \"GUF\",\n",
    "    \"GLP\",\n",
    "    \"MTQ\",\n",
    "    \"MYT\",\n",
    "    \"REU\",\n",
    "    \"SPM\",\n",
    "    \"MAF\",\n",
    "    \"BLM\",\n",
    "    \"PYF\",\n",
    "    \"WLF\",\n",
    "    \"NCL\",\n",
    "]\n",
    "former_terr_fra = [\"COM\"]\n",
    "for i in former_terr_fra + current_terr_fra:\n",
    "    y_pwt_clean = fill_using_simple_ratio(i, \"FRA\", y_pwt_clean)"
   ]
  },
  {
   "cell_type": "markdown",
   "id": "2980b4e3-8d34-4a6f-a60a-461076286148",
   "metadata": {},
   "source": [
    "#### `NLD` Territories (current)"
   ]
  },
  {
   "cell_type": "code",
   "execution_count": null,
   "id": "e0ef855c-84f9-4204-86d4-a0aeee03e127",
   "metadata": {},
   "outputs": [],
   "source": [
    "current_terr_nld = [\"SXM\", \"ABW\", \"BES\", \"CUW\"]\n",
    "for i in current_terr_nld:\n",
    "    y_pwt_clean = fill_using_simple_ratio(i, \"NLD\", y_pwt_clean)"
   ]
  },
  {
   "cell_type": "markdown",
   "id": "7176add7-9255-44c8-9368-48eddbabd5b1",
   "metadata": {},
   "source": [
    "#### `DNK` Territories (current)"
   ]
  },
  {
   "cell_type": "code",
   "execution_count": null,
   "id": "bb397fca-3822-49a7-9f48-9a3cab267cf9",
   "metadata": {},
   "outputs": [],
   "source": [
    "former_terr_prt = [\"GRL\", \"FRO\"]\n",
    "for i in former_terr_prt:\n",
    "    y_pwt_clean = fill_using_simple_ratio(i, \"DNK\", y_pwt_clean)"
   ]
  },
  {
   "cell_type": "markdown",
   "id": "ebaf28e0-9208-45d1-bb67-b4e222955a78",
   "metadata": {},
   "source": [
    "#### `NZL` Territories (current)"
   ]
  },
  {
   "cell_type": "code",
   "execution_count": null,
   "id": "ecbcd811-456a-4ede-9016-ec6f03e5f8aa",
   "metadata": {},
   "outputs": [],
   "source": [
    "current_terr_nzl = [\"NIU\", \"WSM\", \"COK\", \"TKL\"]\n",
    "for i in current_terr_nzl:\n",
    "    y_pwt_clean = fill_using_simple_ratio(i, \"NZL\", y_pwt_clean)"
   ]
  },
  {
   "cell_type": "markdown",
   "id": "e9886239-c34c-47cd-9abb-1117cc289d0f",
   "metadata": {},
   "source": [
    "#### `USA` Territories (former and current)"
   ]
  },
  {
   "cell_type": "code",
   "execution_count": null,
   "id": "4cde65fe-66fd-4a4e-85fc-20cb104f7e42",
   "metadata": {},
   "outputs": [],
   "source": [
    "current_terr_usa = [\"VIR\", \"GUM\", \"UMI\", \"ASM\"]\n",
    "former_terr_usa = [\"MHL\", \"FSM\", \"PLW\"]\n",
    "for i in former_terr_usa + current_terr_usa:\n",
    "    y_pwt_clean = fill_using_simple_ratio(i, \"USA\", y_pwt_clean)"
   ]
  },
  {
   "cell_type": "markdown",
   "id": "c6299b5d-f060-4e1d-acb5-1a4ad27eb0a2",
   "metadata": {},
   "source": [
    "#### `AUS` Territories (former)"
   ]
  },
  {
   "cell_type": "code",
   "execution_count": null,
   "id": "21238a76-dbc0-4f4a-ade7-644b6d2539c8",
   "metadata": {},
   "outputs": [],
   "source": [
    "y_pwt_clean = fill_using_simple_ratio(\"NRU\", \"AUS\", y_pwt_clean)"
   ]
  },
  {
   "cell_type": "markdown",
   "id": "190387db-c884-458a-9871-fe91185b388b",
   "metadata": {},
   "source": [
    "### City-states, city-territories, or microstates\n",
    "\n",
    "Will use a similar tactic as above. We match it as follows:\n",
    "- `AND`: `FRA`\n",
    "- `MCO`: `FRA`\n",
    "- `MAC`: `HKG`\n",
    "- `VAT`: `ITA`"
   ]
  },
  {
   "cell_type": "code",
   "execution_count": null,
   "id": "40fb5aca-b224-434b-b3f3-0e49e39acc03",
   "metadata": {},
   "outputs": [],
   "source": [
    "micro_to_extrap = [\"AND\", \"MCO\", \"MAC\", \"VAT\"]\n",
    "micro_from_extrap = [\"FRA\", \"FRA\", \"HKG\", \"ITA\"]\n",
    "for j, i in enumerate(micro_to_extrap):\n",
    "    y_pwt_clean = fill_using_simple_ratio(i, micro_from_extrap[j], y_pwt_clean)"
   ]
  },
  {
   "cell_type": "markdown",
   "id": "cfbf35cf-fe66-4110-8047-50f1bd4554e5",
   "metadata": {},
   "source": [
    "### Extrapolating based on similar trends\n",
    "\n",
    "For the remaining countries, we will detect similar-trending countries and use their average trends to fill in the missing pieces. Note that I will not be using trends from those countries whose information have already been extrapolated using others' trends (e.g., using territory-sovereignty relationship)."
   ]
  },
  {
   "cell_type": "code",
   "execution_count": null,
   "id": "29a3b92b-47a3-4d2e-9998-baef9409722f",
   "metadata": {},
   "outputs": [],
   "source": [
    "## detecting which to extrapolate and which not to\n",
    "to_extrap = []\n",
    "from_extrap = []\n",
    "for i in y_pwt_clean.index.get_level_values(\"ccode\").unique():\n",
    "    i_sum = pd.isnull(y_pwt_clean.loc[i, \"rgdpna_pc\"].values).sum()\n",
    "    if i_sum > 0:\n",
    "        if i not in [\"GGY+JEY\", \"CHI\", \"FRA+OV\"]:\n",
    "            to_extrap.append(i)\n",
    "        continue\n",
    "\n",
    "    i_source = np.unique(y_pwt_clean.loc[i, \"gdp_source\"].values)\n",
    "    i_no_extraped = True\n",
    "    for sour in i_source:\n",
    "        if (sour == \"GBR_ratio\") or (\"extrap\" in sour) or (\"copy\" in sour):\n",
    "            i_no_extraped = False\n",
    "            break\n",
    "\n",
    "    if i_no_extraped:\n",
    "        from_extrap.append(i)\n",
    "\n",
    "exclude_extrap = np.setdiff1d(\n",
    "    y_pwt_clean.index.get_level_values(\"ccode\").unique(), to_extrap + from_extrap\n",
    ")"
   ]
  },
  {
   "cell_type": "code",
   "execution_count": null,
   "id": "c7826af8-dd49-4188-900d-1a5a30f12714",
   "metadata": {},
   "outputs": [],
   "source": [
    "## extrapolation process\n",
    "gdppc_extrap = ypk_fn.extrap_using_closest(\n",
    "    to_extrap,\n",
    "    ypk_fn.organize_ver_to_hor(\n",
    "        y_pwt_clean.copy(),\n",
    "        \"rgdpna_pc\",\n",
    "        \"year\",\n",
    "        \"ccode\",\n",
    "        range(1950, 2021),\n",
    "    ),\n",
    "    begin_end=[1950, 2020],\n",
    "    exclude_these=list(exclude_extrap) + [\"GGY+JEY\", \"CHI\", \"FRA+OV\"],\n",
    ")\n",
    "gdppc_extrap = ypk_fn.organize_hor_to_ver(\n",
    "    gdppc_extrap,\n",
    "    \"ccode\",\n",
    "    None,\n",
    "    \"rgdpna_pc_extrap\",\n",
    "    yrs=range(1950, 2021),\n",
    ")"
   ]
  },
  {
   "cell_type": "code",
   "execution_count": null,
   "id": "f015af1c-8e0b-4e75-9366-0a4f15a1baf5",
   "metadata": {},
   "outputs": [],
   "source": [
    "## merging this back to the original dataframe\n",
    "y_pwt_clean = y_pwt_clean.merge(\n",
    "    gdppc_extrap, how=\"left\", left_index=True, right_index=True\n",
    ")\n",
    "y_pwt_clean.loc[pd.isnull(y_pwt_clean.gdp_source), \"gdp_source\"] = y_pwt_clean.loc[\n",
    "    pd.isnull(y_pwt_clean.gdp_source), \"msng_fill\"\n",
    "].values\n",
    "y_pwt_clean.loc[pd.isnull(y_pwt_clean.rgdpna_pc), \"rgdpna_pc\"] = y_pwt_clean.loc[\n",
    "    pd.isnull(y_pwt_clean.rgdpna_pc), \"rgdpna_pc_extrap\"\n",
    "].values"
   ]
  },
  {
   "cell_type": "code",
   "execution_count": null,
   "id": "34186be3-64ec-4d26-bf0b-10e9ce2d0a26",
   "metadata": {},
   "outputs": [],
   "source": [
    "## finalizing the rgdpna_pc series\n",
    "y_clean = (\n",
    "    y_pwt_clean.loc[\n",
    "        ~y_pwt_clean.index.get_level_values(\"ccode\").isin([\"FRA+OV\", \"GGY+JEY\", \"CHI\"]),\n",
    "        :,\n",
    "    ]\n",
    "    .sort_index()\n",
    "    .drop([\"rgdpna_pc_extrap\", \"msng_fill\"], axis=1)\n",
    ")\n",
    "y_clean = pd.concat([y_clean, y_uninh])[[\"rgdpna_pc\", \"gdp_source\"]].sort_index()"
   ]
  },
  {
   "cell_type": "markdown",
   "id": "8fd1def3-6e60-4875-9586-004e57e28621",
   "metadata": {},
   "source": [
    "### Cleaning up for Mainland France\n",
    "\n",
    "Currently, the values that have been recorded in `rgdpna_pc` for `FRA` are in terms of overall French population (including the 5 overseas departments). Therefore, in order to keep things consistent, we will 1) multiply the overall French population and the overseas departments' populations to get `rgdpna` values, 2) subtract the five overseas departments' `rgdpna` values from overall French `rgdpna`, and 3) divide by the mainland French population to get the mainland-specific `rgdpna_pc` values."
   ]
  },
  {
   "cell_type": "code",
   "execution_count": null,
   "id": "4f472b53-b065-428f-b0c0-47afc44a5b10",
   "metadata": {},
   "outputs": [],
   "source": [
    "fra_terr = [\"GUF\", \"GLP\", \"MTQ\", \"MYT\", \"REU\"]\n",
    "fra_terr_dfs = y_clean.loc[[\"FRA\"] + fra_terr, :].copy()\n",
    "fra_terr_dfs = fra_terr_dfs.merge(\n",
    "    gp_df.loc[[\"FRA\"], [\"pop\"]], left_index=True, right_index=True, how=\"left\"\n",
    ")\n",
    "fra_terr_dfs.loc[(\"FRA\", 2020), \"pop\"] = (\n",
    "    fra_terr_dfs.loc[(\"FRA\", 2019), \"pop\"]\n",
    "    * pop_cleaned.loc[(\"FRA\", 2020), \"pop\"]\n",
    "    / pop_cleaned.loc[(\"FRA\", 2019), \"pop\"]\n",
    ")"
   ]
  },
  {
   "cell_type": "code",
   "execution_count": null,
   "id": "d1346a4e-4eb0-4bd6-ab68-463799a5b412",
   "metadata": {},
   "outputs": [],
   "source": [
    "fra_terr_dfs"
   ]
  },
  {
   "cell_type": "code",
   "execution_count": null,
   "id": "63ef82ee-53ea-4264-a324-dccd6d7133ec",
   "metadata": {},
   "outputs": [],
   "source": [
    "fra_terr = [\"GUF\", \"GLP\", \"MTQ\", \"MYT\", \"REU\"]\n",
    "fra_terr_dfs = y_clean.loc[[\"FRA\"] + fra_terr, :].copy()\n",
    "fra_terr_dfs = fra_terr_dfs.merge(\n",
    "    gp_df.loc[[\"FRA\"], [\"pop\"]], left_index=True, right_index=True, how=\"left\"\n",
    ")"
   ]
  },
  {
   "cell_type": "code",
   "execution_count": null,
   "id": "749082fa-c1e7-4ff7-b962-d36c74d3a752",
   "metadata": {},
   "outputs": [],
   "source": [
    "# cleaning up the mainland france\n",
    "fra_terr = [\"GUF\", \"GLP\", \"MTQ\", \"MYT\", \"REU\"]\n",
    "fra_terr_dfs = y_clean.loc[[\"FRA\"] + fra_terr, :].copy()\n",
    "fra_terr_dfs = fra_terr_dfs.merge(\n",
    "    gp_df.loc[[\"FRA\"], [\"pop\"]], left_index=True, right_index=True, how=\"left\"\n",
    ")\n",
    "fra_terr_dfs.loc[(\"FRA\", 2020), \"pop\"] = (\n",
    "    fra_terr_dfs.loc[(\"FRA\", 2019), \"pop\"]\n",
    "    * pop_cleaned.loc[(\"FRA\", 2020), \"pop\"]\n",
    "    / pop_cleaned.loc[(\"FRA\", 2019), \"pop\"]\n",
    ")\n",
    "yrs_tgt = list(range(1950, 2021))\n",
    "for i in fra_terr:\n",
    "    fra_terr_dfs.loc[(i, yrs_tgt), \"pop\"] = pop_cleaned.loc[(i, yrs_tgt), \"pop\"].values\n",
    "\n",
    "fra_terr_dfs[\"rgdpna\"] = fra_terr_dfs[\"rgdpna_pc\"] * fra_terr_dfs[\"pop\"]\n",
    "fra_terr_dfs.loc[(\"FRA\", yrs_tgt), \"rgdpna\"] = fra_terr_dfs.loc[\n",
    "    (\"FRA\", yrs_tgt), \"rgdpna\"\n",
    "].values - (\n",
    "    fra_terr_dfs.loc[fra_terr, [\"rgdpna\"]]\n",
    "    .reset_index()\n",
    "    .groupby([\"year\"])\n",
    "    .sum()\n",
    "    .rgdpna.values\n",
    ")\n",
    "\n",
    "fra_terr_dfs.loc[(\"FRA\", yrs_tgt), \"pop\"] = pop_cleaned.loc[\n",
    "    (\"FRA\", yrs_tgt), \"pop\"\n",
    "].values\n",
    "fra_terr_dfs.loc[(\"FRA\", yrs_tgt), \"rgdpna_pc\"] = (\n",
    "    fra_terr_dfs.loc[(\"FRA\", yrs_tgt), \"rgdpna\"].values\n",
    "    / fra_terr_dfs.loc[(\"FRA\", yrs_tgt), \"pop\"].values\n",
    ")\n",
    "\n",
    "# re-attaching with the cleaned GDPpc dataset\n",
    "y_clean.loc[(\"FRA\", yrs_tgt), \"rgdpna_pc\"] = fra_terr_dfs.loc[\n",
    "    (\"FRA\", yrs_tgt), \"rgdpna_pc\"\n",
    "].values"
   ]
  },
  {
   "cell_type": "markdown",
   "id": "d35137a1-1291-49da-bafe-50b2e357fe8f",
   "metadata": {},
   "source": [
    "### Creating GDP (`rgdpna`) values\n",
    "\n",
    "This will be simpler to execute, by appending the cleaned population dataset."
   ]
  },
  {
   "cell_type": "code",
   "execution_count": null,
   "id": "935e1f94-d84b-4d49-998a-406411bbbee0",
   "metadata": {},
   "outputs": [],
   "source": [
    "y_clean = y_clean.merge(pop_cleaned, left_index=True, right_index=True, how=\"left\")\n",
    "y_clean[\"gdp_unit\"] = \"millions (PPP USD)\"\n",
    "y_clean[\"gdppc_unit\"] = \"ones (PPP USD)\"\n",
    "y_clean[\"rgdpna\"] = y_clean[\"rgdpna_pc\"] * y_clean[\"pop\"]"
   ]
  },
  {
   "cell_type": "markdown",
   "id": "6bf4e643-5b3d-4689-910e-347675415cca",
   "metadata": {},
   "source": [
    "## Filling in the missing values for the `cgdpo` (current PPP 2017 USD) series\n",
    "\n",
    "### Transforming the `rgdpna_pc` series to `cgdpo_pc` equivalents"
   ]
  },
  {
   "cell_type": "code",
   "execution_count": null,
   "id": "faeb6e83-bede-4409-ac23-442d90c5e3cd",
   "metadata": {},
   "outputs": [],
   "source": [
    "y_clean = y_clean.merge(\n",
    "    ppp_to_2017[[\"conv\"]],\n",
    "    how=\"left\",\n",
    "    left_index=True,\n",
    "    right_index=True,\n",
    ")\n",
    "## neutral assumption\n",
    "y_clean.loc[pd.isnull(y_clean.conv), \"conv\"] = 1\n",
    "\n",
    "## copying the 2019 conversion to 2020 conversion\n",
    "y_clean.loc[(slice(None), 2020), \"conv\"] = y_clean.loc[\n",
    "    (slice(None), 2019), \"conv\"\n",
    "].values\n",
    "y_clean[\"cgdpo_pc_equiv\"] = y_clean[\"rgdpna_pc\"] / y_clean[\"conv\"]"
   ]
  },
  {
   "cell_type": "markdown",
   "id": "ea9c6aa3-adf5-40d3-91a5-141de81210e9",
   "metadata": {},
   "source": [
    "### Attaching the actual `cgdpo` values from PWT, and creating `cgdpo_pc`\n",
    "\n",
    "In doing so, we will again try to clean up for the issue with French mainland."
   ]
  },
  {
   "cell_type": "code",
   "execution_count": null,
   "id": "f45d4321-855d-474b-8073-dab668ebb4a3",
   "metadata": {},
   "outputs": [],
   "source": [
    "col_dict = {\"cgdpo\": \"cgdpo_pwt\", \"pop\": \"pop_pwt\"}\n",
    "y_clean = y_clean.merge(\n",
    "    gp_df[[\"cgdpo\", \"pop\"]].rename(columns=col_dict),\n",
    "    left_index=True,\n",
    "    right_index=True,\n",
    "    how=\"left\",\n",
    ")"
   ]
  },
  {
   "cell_type": "markdown",
   "id": "42d48930-c4dc-4ae2-a4e3-27307a45d6c6",
   "metadata": {},
   "source": [
    "Briefly separating out the French territories, and dealing with their numbers first"
   ]
  },
  {
   "cell_type": "code",
   "execution_count": null,
   "id": "d2f5312e-15c0-41e8-8e67-f5caed7c94d5",
   "metadata": {},
   "outputs": [],
   "source": [
    "## gathering the French overseas department values\n",
    "y_clean_fra_terr = y_clean.loc[fra_terr, :].copy()\n",
    "y_clean_fra_terr[\"cgdpo\"] = y_clean_fra_terr[\"cgdpo_pc_equiv\"]\n",
    "fra_terr_cgdpo = y_clean_fra_terr.reset_index().groupby([\"year\"]).sum()[\"cgdpo\"].values\n",
    "\n",
    "## subtracting this from the `cgdpo_pwt` values in `y_claen` (for FRA)\n",
    "y_clean.loc[(\"FRA\", yrs_tgt), \"cgdpo_pwt\"] = (\n",
    "    y_clean.loc[(\"FRA\", yrs_tgt), \"cgdpo_pwt\"].values - fra_terr_cgdpo\n",
    ")"
   ]
  },
  {
   "cell_type": "markdown",
   "id": "65c6cf84-4961-4a68-8be6-674f50c474d9",
   "metadata": {},
   "source": [
    "Creating `cgdpo_pc` in PWT version (`cgdpo_pc_pwt`) but with the cleaned population"
   ]
  },
  {
   "cell_type": "code",
   "execution_count": null,
   "id": "2ade1d37-0f09-45b3-b7ce-fca82f7942a9",
   "metadata": {},
   "outputs": [],
   "source": [
    "y_clean[\"cgdpo_pc_pwt\"] = y_clean[\"cgdpo_pwt\"] / y_clean[\"pop\"]"
   ]
  },
  {
   "cell_type": "markdown",
   "id": "052671a9-6278-4b40-ab52-dd8ed1b4c5fd",
   "metadata": {},
   "source": [
    "### Smooth-filling the missing values"
   ]
  },
  {
   "cell_type": "code",
   "execution_count": null,
   "id": "290003a7-164e-4375-a7d1-c0d20b96184b",
   "metadata": {},
   "outputs": [],
   "source": [
    "## creating a xr.Dataset with the cgdpo_pc variables\n",
    "cgdpo_clean_up = xr.Dataset.from_dataframe(y_clean[[\"cgdpo_pc_pwt\", \"cgdpo_pc_equiv\"]])\n",
    "\n",
    "## smooth_fill\n",
    "cgdpo_clean_up = ypk_fn.smooth_fill(\n",
    "    cgdpo_clean_up[\"cgdpo_pc_pwt\"],\n",
    "    cgdpo_clean_up[\"cgdpo_pc_equiv\"],\n",
    "    time_dim=\"year\",\n",
    "    other_dim=\"ccode\",\n",
    ").to_dataframe()\n",
    "\n",
    "y_clean = y_clean.merge(\n",
    "    cgdpo_clean_up.rename(columns={\"cgdpo_pc_pwt\": \"cgdpo_pc\"}),\n",
    "    left_index=True,\n",
    "    right_index=True,\n",
    "    how=\"left\",\n",
    ")\n",
    "\n",
    "## creating cgdpo values\n",
    "y_clean[\"cgdpo\"] = y_clean[\"cgdpo_pc\"] * y_clean[\"pop\"]"
   ]
  },
  {
   "cell_type": "markdown",
   "id": "e9c66764-75f7-4cfe-a869-0e9c954add61",
   "metadata": {},
   "source": [
    "## Creating the current PPP-2019 USD `cgdpo` and constant PPP-2019 USD `rgdpna`"
   ]
  },
  {
   "cell_type": "code",
   "execution_count": null,
   "id": "27a3f1a9-bccc-4c1d-8344-9ccab6c6ed8e",
   "metadata": {},
   "outputs": [],
   "source": [
    "## some minor clean-up of names\n",
    "y_clean.drop(\n",
    "    [\"cgdpo_pwt\", \"cgdpo_pc_pwt\", \"pop_pwt\", \"cgdpo_pc_equiv\", \"conv\"],\n",
    "    axis=1,\n",
    "    inplace=True,\n",
    ")\n",
    "ren_names = [\"cgdpo_pc\", \"cgdpo\", \"rgdpna_pc\", \"rgdpna\"]\n",
    "y_clean.rename(\n",
    "    columns=dict(zip(ren_names, [x + \"_17\" for x in ren_names])), inplace=True\n",
    ")"
   ]
  },
  {
   "cell_type": "markdown",
   "id": "6320a549-32cd-48d0-aaad-a15291e4f7b8",
   "metadata": {},
   "source": [
    "Creating `cgdpo_19` and `cgdpo_pc_19`"
   ]
  },
  {
   "cell_type": "code",
   "execution_count": null,
   "id": "c33d1fd3-310a-427f-b826-8d4970faf3fd",
   "metadata": {},
   "outputs": [],
   "source": [
    "pwt100 = pd.read_excel(sset.PATH_PWT_RAW)\n",
    "pwt100.rename(columns={\"countrycode\": \"ccode\"}, inplace=True)\n",
    "pwt100.set_index([\"ccode\", \"year\"], inplace=True)\n",
    "infla_1719 = pwt100.loc[(\"USA\", 2019), \"pl_gdpo\"] / pwt100.loc[(\"USA\", 2017), \"pl_gdpo\"]\n",
    "\n",
    "y_clean[\"cgdpo_19\"] = y_clean[\"cgdpo_17\"] * infla_1719\n",
    "y_clean[\"cgdpo_pc_19\"] = y_clean[\"cgdpo_19\"] / y_clean[\"pop\"]"
   ]
  },
  {
   "cell_type": "markdown",
   "id": "1a4ed720-b223-4590-af99-a7a9a7c50b3b",
   "metadata": {},
   "source": [
    "Creating `rgdpna_19` and `rgdpna_pc_19`"
   ]
  },
  {
   "cell_type": "code",
   "execution_count": null,
   "id": "19b73abb-831d-4a7d-b17a-adec12f5dffb",
   "metadata": {},
   "outputs": [],
   "source": [
    "ccodes = y_clean.index.get_level_values(\"ccode\").unique()\n",
    "y_clean[\"rgdpna_19\"] = 0\n",
    "for cc in tqdm(ccodes):\n",
    "    cc_17 = y_clean.loc[(cc, 2019), \"rgdpna_17\"]\n",
    "    if cc_17 == 0:\n",
    "        continue\n",
    "    cc_vals = (\n",
    "        y_clean.loc[(cc, yrs_tgt), \"rgdpna_17\"].values\n",
    "        / cc_17\n",
    "        * y_clean.loc[(cc, 2019), \"cgdpo_19\"]\n",
    "    )\n",
    "    y_clean.loc[(cc, yrs_tgt), \"rgdpna_19\"] = cc_vals\n",
    "\n",
    "y_clean[\"rgdpna_pc_19\"] = y_clean[\"rgdpna_19\"] / y_clean[\"pop\"]"
   ]
  },
  {
   "cell_type": "markdown",
   "id": "30ded9f9-f1a9-430f-8fdb-181d5b8718c7",
   "metadata": {},
   "source": [
    "Filling the `nan`s in with zeros (which are from zero population)"
   ]
  },
  {
   "cell_type": "code",
   "execution_count": null,
   "id": "1de94649-6243-413c-b048-56a95e35cca7",
   "metadata": {},
   "outputs": [],
   "source": [
    "y_clean.loc[pd.isnull(y_clean.rgdpna_pc_19), \"rgdpna_pc_19\"] = 0\n",
    "y_clean.loc[pd.isnull(y_clean.cgdpo_pc_19), \"cgdpo_pc_19\"] = 0"
   ]
  },
  {
   "cell_type": "markdown",
   "id": "6a574c24-0f2f-4f58-86da-3f0ddc4300ab",
   "metadata": {
    "tags": []
   },
   "source": [
    "## I-Y (investment to GDP) ratios and `delta` (depreciation rate) cleanup\n",
    "\n",
    "We do not extrapolate for all the missingness of I-Y ratio here since that will be done by notebooks to follow."
   ]
  },
  {
   "cell_type": "code",
   "execution_count": null,
   "id": "50c78400-f3d3-464e-8a44-e46fbdd385cc",
   "metadata": {},
   "outputs": [],
   "source": [
    "## from PWT\n",
    "y_clean = y_clean.merge(\n",
    "    pwt100[[\"csh_i\", \"delta\"]].rename(columns={\"csh_i\": \"iy_ratio\"}),\n",
    "    how=\"left\",\n",
    "    left_index=True,\n",
    "    right_index=True,\n",
    ")\n",
    "\n",
    "## from WB WDI\n",
    "wb_wdi = pd.read_parquet(sset.DIR_WB_WDI_RAW / \"wdi_pop_iy_gdp.parquet\")\n",
    "y_clean = y_clean.merge(\n",
    "    wb_wdi[[\"NE.GDI.FTOT.ZS\"]].rename(columns={\"NE.GDI.FTOT.ZS\": \"wb_iy_ratio\"}),\n",
    "    how=\"left\",\n",
    "    left_index=True,\n",
    "    right_index=True,\n",
    ")\n",
    "\n",
    "## these values are in percentages, so change accordingly\n",
    "y_clean[\"wb_iy_ratio\"] = y_clean[\"wb_iy_ratio\"] / 100"
   ]
  },
  {
   "cell_type": "code",
   "execution_count": null,
   "id": "03abfee9-28fd-4ed9-9697-92a72148fe9e",
   "metadata": {},
   "outputs": [],
   "source": [
    "# adding in the IMF iy ratios, while trying to avoid the ArrowInvalid error\n",
    "imf = pd.read_excel(sset.PATH_IMF_WEO_RAW, na_values=[\"n/a\", \"--\"]).rename(\n",
    "    columns={\"ISO\": \"ccode\", \"Subject Descriptor\": \"subject\"}\n",
    ")\n",
    "imf = imf.loc[imf.ccode.isin(sset.ALL_ISOS_EXTENDED), :]\n",
    "\n",
    "# renaming and organizing in vertical format\n",
    "imf.loc[imf.subject == \"Total investment\", \"subject\"] = \"imf_iy_ratio\"\n",
    "v_names = dict(zip(list(range(1980, 2021)), [\"v_\" + str(x) for x in range(1980, 2021)]))\n",
    "imf.rename(columns=v_names, inplace=True)\n",
    "\n",
    "imf_reorg = imf.loc[\n",
    "    imf.subject == \"imf_iy_ratio\", [\"ccode\"] + list(v_names.values())\n",
    "].set_index([\"ccode\"])\n",
    "imf_reorg = ypk_fn.organize_hor_to_ver(\n",
    "    imf_reorg, \"ccode\", None, \"imf_iy_ratio\", \"v_\", range(1980, 2021)\n",
    ")\n",
    "imf_reorg[\"imf_iy_ratio\"] /= 100\n",
    "\n",
    "# merging\n",
    "y_clean = y_clean.merge(imf_reorg, how=\"outer\", left_index=True, right_index=True)"
   ]
  },
  {
   "cell_type": "code",
   "execution_count": null,
   "id": "72c906f4-2f46-4fa6-8a65-f7c25ea1582f",
   "metadata": {},
   "outputs": [],
   "source": [
    "## IY ratio fill-in, not smoothly; PWT -> WB -> IMF\n",
    "y_clean[\"iy_ratio_source\"] = np.nan\n",
    "y_clean.loc[\n",
    "    pd.isnull(y_clean.iy_ratio) & ~pd.isnull(y_clean.wb_iy_ratio), \"iy_ratio_source\"\n",
    "] = \"WB\"\n",
    "y_clean.loc[\n",
    "    pd.isnull(y_clean.iy_ratio)\n",
    "    & pd.isnull(y_clean.wb_iy_ratio)\n",
    "    & ~pd.isnull(y_clean.imf_iy_ratio),\n",
    "    \"iy_ratio_source\",\n",
    "] = \"IMF\"\n",
    "y_clean.loc[~pd.isnull(y_clean.iy_ratio), \"iy_ratio_source\"] = \"PWT\"\n",
    "\n",
    "## filling in with WB values\n",
    "y_clean.loc[pd.isnull(y_clean.iy_ratio), \"iy_ratio\"] = y_clean.loc[\n",
    "    pd.isnull(y_clean.iy_ratio), \"wb_iy_ratio\"\n",
    "].values\n",
    "y_clean.drop([\"wb_iy_ratio\"], inplace=True, axis=1)\n",
    "\n",
    "## filling in with IMF values\n",
    "y_clean.loc[pd.isnull(y_clean.iy_ratio), \"iy_ratio\"] = y_clean.loc[\n",
    "    pd.isnull(y_clean.iy_ratio), \"imf_iy_ratio\"\n",
    "].values\n",
    "y_clean.drop([\"imf_iy_ratio\"], inplace=True, axis=1)\n",
    "\n",
    "## final source fill-in\n",
    "y_clean.loc[pd.isnull(y_clean.iy_ratio_source), \"iy_ratio_source\"] = \"-\""
   ]
  },
  {
   "cell_type": "code",
   "execution_count": null,
   "id": "540c6776-47cf-4d58-a935-f8b1ed949923",
   "metadata": {},
   "outputs": [],
   "source": [
    "## filling in the delta information\n",
    "y_clean[\"delta_source\"] = \"-\"\n",
    "y_clean.loc[~pd.isnull(y_clean.delta), \"delta_source\"] = \"PWT\"\n",
    "\n",
    "### 2020 information is missing entirely, so just use 2019's values\n",
    "y_clean.loc[(slice(None), 2020), \"delta\"] = y_clean.loc[\n",
    "    (slice(None), 2019), \"delta\"\n",
    "].values\n",
    "y_clean.loc[\n",
    "    (~pd.isnull(y_clean.delta)) & (y_clean.index.get_level_values(\"year\") == 2020),\n",
    "    \"delta_source\",\n",
    "] = \"PWT_copy_2019\"\n",
    "\n",
    "### using annual global averages when values are missing;\n",
    "gp_yrly_delta = y_clean.reset_index().groupby(\"year\").mean()[[\"delta\"]]\n",
    "y_clean = y_clean.merge(\n",
    "    gp_yrly_delta.rename(columns={\"delta\": \"delta_yr_avg\"}),\n",
    "    left_index=True,\n",
    "    right_index=True,\n",
    "    how=\"left\",\n",
    ")\n",
    "y_clean.loc[pd.isnull(y_clean.delta), \"delta\"] = y_clean.loc[\n",
    "    pd.isnull(y_clean.delta), \"delta_yr_avg\"\n",
    "].values\n",
    "y_clean.loc[y_clean.delta_source == \"-\", \"delta_source\"] = \"yearly_global_avg\""
   ]
  },
  {
   "cell_type": "markdown",
   "id": "ad7d1d64-c44a-4c6a-accb-b16a2e0a0d9c",
   "metadata": {},
   "source": [
    "## Capital ratio by category\n",
    "\n",
    "In the case of missing data, we will again use yearly global average and mark those as so."
   ]
  },
  {
   "cell_type": "code",
   "execution_count": null,
   "id": "ed4d8b24-9fe6-4972-9f16-d8a6771746db",
   "metadata": {},
   "outputs": [],
   "source": [
    "## captial information\n",
    "PWT_RAW_DIR = Path(os.path.dirname(sset.PATH_PWT_RAW))\n",
    "pwt_capital = pd.read_excel(PWT_RAW_DIR / \"pwt_K_detail_100.xlsx\").rename(\n",
    "    columns={\"countrycode\": \"ccode\"}\n",
    ")\n",
    "capital_vals = [\"Nc_Struc\", \"Nc_Mach\", \"Nc_TraEq\", \"Nc_Other\"]\n",
    "pwt_capital = pwt_capital.set_index([\"ccode\", \"year\"])[capital_vals]\n",
    "for i in capital_vals:\n",
    "    pwt_capital[i] = pwt_capital[i].astype(\"float64\")\n",
    "\n",
    "## ratio of capital in each category to total capital\n",
    "pwt_capital[\"total_cap\"] = pwt_capital[capital_vals].sum(axis=1)\n",
    "newnames = []\n",
    "for i in capital_vals:\n",
    "    newname = i.split(\"_\")[-1].lower() + \"_ratio_prep\"\n",
    "    newnames.append(newname)\n",
    "    pwt_capital[newname] = pwt_capital[i] / pwt_capital[\"total_cap\"]\n",
    "\n",
    "y_clean = y_clean.merge(\n",
    "    pwt_capital[newnames], left_index=True, right_index=True, how=\"left\"\n",
    ")\n",
    "\n",
    "y_clean[\"k_ratio_source\"] = \"-\"\n",
    "y_clean.loc[~pd.isnull(y_clean[newnames[0]]), \"k_ratio_source\"] = \"PWT\"\n",
    "\n",
    "## copying 2019 value into 2020 ones\n",
    "for i in newnames:\n",
    "    y_clean.loc[(slice(None), 2020), i] = y_clean.loc[(slice(None), 2019), i].values\n",
    "y_clean.loc[\n",
    "    (~pd.isnull(y_clean[i])) & (y_clean.index.get_level_values(\"year\") == 2020),\n",
    "    \"k_ratio_source\",\n",
    "] = \"PWT_copy_2019\"\n",
    "\n",
    "k_ratio_names = []\n",
    "for i in newnames:\n",
    "    yr_avg = i[0:-5] + \"_yr_avg\"\n",
    "    y_clean = y_clean.merge(\n",
    "        y_clean.reset_index().groupby(\"year\").mean()[[i]].rename(columns={i: yr_avg}),\n",
    "        how=\"left\",\n",
    "        left_index=True,\n",
    "        right_index=True,\n",
    "    )\n",
    "    name = \"k_\" + i[0:-5]\n",
    "    k_ratio_names.append(name)\n",
    "    y_clean[name] = y_clean[i]\n",
    "    y_clean.loc[pd.isnull(y_clean[i]), name] = y_clean.loc[\n",
    "        pd.isnull(y_clean[i]), yr_avg\n",
    "    ]\n",
    "    if i == newnames[0]:\n",
    "        y_clean.loc[pd.isnull(y_clean[i]), \"k_ratio_source\"] = \"yearly_global_avg\""
   ]
  },
  {
   "cell_type": "markdown",
   "id": "f1567d69-fc76-4133-af74-1471cebc8f2c",
   "metadata": {},
   "source": [
    "We also add the \"movable capital ratio\" (`k_movable_ratio`), which is the sum of `k_mach_ratio`, `k_traeq_ratio`, and `k_other_ratio`."
   ]
  },
  {
   "cell_type": "code",
   "execution_count": null,
   "id": "2c1c1cb7-8092-42b5-bb3d-cd1be647f922",
   "metadata": {
    "tags": []
   },
   "outputs": [],
   "source": [
    "y_clean[\"k_movable_ratio\"] = (\n",
    "    y_clean[\"k_mach_ratio\"] + y_clean[\"k_traeq_ratio\"] + y_clean[\"k_other_ratio\"]\n",
    ")"
   ]
  },
  {
   "cell_type": "markdown",
   "id": "e78308d8-249b-457c-9a77-70472c8b7563",
   "metadata": {},
   "source": [
    "## Exporting\n",
    "\n",
    "Let us also clarify the current PPP, USD 2017 and constant 2017 PPP USD variables' names (by marking them with `_17`) to signal what units they are in."
   ]
  },
  {
   "cell_type": "code",
   "execution_count": null,
   "id": "9754405a-04f2-4c1f-abe9-5bf1f8ab1688",
   "metadata": {},
   "outputs": [],
   "source": [
    "y_clean_cop = y_clean.copy()  ## due to pandas error, I will make a copy\n",
    "y_clean_cop[\"pop_unit\"] = \"millions (of people)\"\n",
    "y_clean_cop[\"gdp_unit\"] = \"millions (of USD)\"\n",
    "y_clean_cop[\"gdppc_unit\"] = \"ones (of USD)\"\n",
    "\n",
    "## reorganizing the columns\n",
    "gp_columns = [\n",
    "    \"pop_unit\",\n",
    "    \"gdppc_unit\",\n",
    "    \"gdp_unit\",\n",
    "    \"pop_source\",\n",
    "    \"gdp_source\",\n",
    "    \"iy_ratio_source\",\n",
    "    \"k_ratio_source\",\n",
    "    \"delta_source\",\n",
    "    \"pop\",\n",
    "    \"rgdpna_pc_17\",\n",
    "    \"rgdpna_17\",\n",
    "    \"rgdpna_pc_19\",\n",
    "    \"rgdpna_19\",\n",
    "    \"cgdpo_pc_17\",\n",
    "    \"cgdpo_17\",\n",
    "    \"cgdpo_pc_19\",\n",
    "    \"cgdpo_19\",\n",
    "    \"iy_ratio\",\n",
    "]\n",
    "gp_columns += k_ratio_names + [\"k_movable_ratio\", \"delta\"]\n",
    "y_clean_cop = y_clean_cop[gp_columns].copy()\n",
    "\n",
    "## Exporting\n",
    "y_clean_cop.to_parquet(\n",
    "    sset.DIR_YPK_INT / \"gdp_gdppc_pop_capital_1950_2020_post_ypk3.parquet\"\n",
    ")"
   ]
  }
 ],
 "metadata": {
  "kernelspec": {
   "display_name": "Python 3 (ipykernel)",
   "language": "python",
   "name": "python3"
  },
  "language_info": {
   "codemirror_mode": {
    "name": "ipython",
    "version": 3
   },
   "file_extension": ".py",
   "mimetype": "text/x-python",
   "name": "python",
   "nbconvert_exporter": "python",
   "pygments_lexer": "ipython3",
   "version": "3.9.10"
  },
  "widgets": {
   "application/vnd.jupyter.widget-state+json": {
    "state": {},
    "version_major": 2,
    "version_minor": 0
   }
  }
 },
 "nbformat": 4,
 "nbformat_minor": 5
}
