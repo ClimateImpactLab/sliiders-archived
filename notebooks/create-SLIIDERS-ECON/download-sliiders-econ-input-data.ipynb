{
 "cells": [
  {
   "cell_type": "markdown",
   "id": "9c487926-08b8-49b2-928d-c95730c36d44",
   "metadata": {},
   "source": [
    "## Notebook for downloading additional inputs to create SLIIDERS-ECON\n",
    "\n",
    "This notebook contains directions for downloading various input datasets to create the final product for this directory, the **SLIIDERS-ECON** dataset."
   ]
  },
  {
   "cell_type": "code",
   "execution_count": 19,
   "id": "517784ca-badd-41fe-a88c-7b4370260e5c",
   "metadata": {},
   "outputs": [],
   "source": [
    "import pandas as pd\n",
    "from pandas_datareader import wb as dr_wb\n",
    "from sliiders.settings import PATH_EXPOSURE_LINCKE, PATH_EXPOSURE_WB_ICP"
   ]
  },
  {
   "cell_type": "markdown",
   "id": "96bd9ff7-2b4f-4082-9d4c-0042c2b3ee9f",
   "metadata": {},
   "source": [
    "## Fetching raw data from various sources\n",
    "\n",
    "### Country-level Construction Cost Index from [Lincke and Hinkel (2021, *Earth's Future*)](https://agupubs.onlinelibrary.wiley.com/doi/full/10.1029/2020EF001965?campaign=woletoc)\n",
    "\n",
    "The accompanying GitHub repository to Lincke and Hinkel (2021) is at [this link](https://github.com/daniellincke/DIVA_paper_migration)."
   ]
  },
  {
   "cell_type": "code",
   "execution_count": 13,
   "id": "9cb05b93-c8cc-4f9e-9e99-ce5b7d511d16",
   "metadata": {},
   "outputs": [],
   "source": [
    "# raw data file from the GitHub repo\n",
    "lincke_hinkel_cci_url = (\n",
    "    \"https://raw.githubusercontent.com/daniellincke/\"\n",
    "    \"DIVA_paper_migration/master/data/csv/country_input.csv\"\n",
    ")\n",
    "\n",
    "# data read-in\n",
    "lincke_hinkel_df = pd.read_csv(lincke_hinkel_cci_url)\n",
    "\n",
    "# saving at PATH_EXPOSURE_LINCKE\n",
    "lincke_hinkel_df.to_parquet(PATH_EXPOSURE_LINCKE)"
   ]
  },
  {
   "cell_type": "markdown",
   "id": "d5efcb44-1f60-4377-9d01-e970b918ca5e",
   "metadata": {},
   "source": [
    "### World Bank Intercomparison Project 2017 (WB ICP 2017): Construction Cost Index\n",
    "\n",
    "While most World Bank data can be downloaded by using `pandas_datareader.wb`, it seems that variables in WB ICP 2017 - including `1501200:CONSTRUCTION`, which is necessary for SLIIDERS-ECON - cannot be downloaded using the said module (despite being searchable in the module using `pandas_datareader.wb.search`). Therefore, we follow the below manual process for downloading the WB ICP 2017 dataset.\n",
    "1. Use [this link](https://databank.worldbank.org/embed/ICP-2017-Cycle/id/4add74e?inf=n) to access WB ICP 2017 in table format.\n",
    "2. Upon entering the webpage, look to the upper right corner and click on the icon with downward arrow with an underline. This should prompt the download.\n",
    "3. When the download finishes, there should be a `.zip` file called `ICP 2017 Cycle.zip`. Access the `.csv` file whose name ends in `_Data.csv` (there should be two files in the `.zip` file, the other being a file whose name ends in `_Series - Metadata.csv`).\n",
    "4. Save the said `.csv` file as `PATH_EXPOSURE_WB_ICP`."
   ]
  }
 ],
 "metadata": {
  "kernelspec": {
   "display_name": "Python 3 (ipykernel)",
   "language": "python",
   "name": "python3"
  },
  "language_info": {
   "codemirror_mode": {
    "name": "ipython",
    "version": 3
   },
   "file_extension": ".py",
   "mimetype": "text/x-python",
   "name": "python",
   "nbconvert_exporter": "python",
   "pygments_lexer": "ipython3",
   "version": "3.9.10"
  },
  "widgets": {
   "application/vnd.jupyter.widget-state+json": {
    "state": {},
    "version_major": 2,
    "version_minor": 0
   }
  }
 },
 "nbformat": 4,
 "nbformat_minor": 5
}
